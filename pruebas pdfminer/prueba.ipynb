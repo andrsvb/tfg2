{
 "cells": [
  {
   "cell_type": "code",
   "execution_count": 43,
   "metadata": {
    "collapsed": true
   },
   "outputs": [
    {
     "name": "stdout",
     "output_type": "stream",
     "text": [
      "Requirement already satisfied: pdfminer.six in /home/andres/anaconda3/lib/python3.9/site-packages (20221105)\r\n",
      "Requirement already satisfied: charset-normalizer>=2.0.0 in /home/andres/anaconda3/lib/python3.9/site-packages (from pdfminer.six) (2.0.4)\r\n",
      "Requirement already satisfied: cryptography>=36.0.0 in /home/andres/anaconda3/lib/python3.9/site-packages (from pdfminer.six) (38.0.3)\r\n",
      "Requirement already satisfied: cffi>=1.12 in /home/andres/anaconda3/lib/python3.9/site-packages (from cryptography>=36.0.0->pdfminer.six) (1.15.0)\r\n",
      "Requirement already satisfied: pycparser in /home/andres/anaconda3/lib/python3.9/site-packages (from cffi>=1.12->cryptography>=36.0.0->pdfminer.six) (2.21)\r\n"
     ]
    }
   ],
   "source": [
    "import numpy as np\n",
    "!pip install pdfminer.six"
   ]
  },
  {
   "cell_type": "code",
   "execution_count": 44,
   "metadata": {
    "collapsed": false
   },
   "outputs": [
    {
     "name": "stdout",
     "output_type": "stream",
     "text": [
      "<LTTextBoxHorizontal(0) 268.162,788.783,327.113,798.746 'Correction\\n'>\n",
      "<LTTextBoxHorizontal(1) 172.569,707.410,197.470,719.365 'Test\\n'>\n",
      "<LTTextBoxHorizontal(2) 280.089,722.919,354.559,732.882 'Nom et pr´enom :\\n'>\n",
      "<LTTextBoxHorizontal(3) 281.990,696.791,490.790,706.754 '. . . . . . . . . . . . . . . . . . . . . . . . . . . . . . . . . . . . . . . . . . . . . . . .\\n'>\n",
      "<LTTextBoxHorizontal(4) 85.039,660.457,492.939,682.655 'Illustration of amc2moodle capabilities. All these questions can be converted automatically to\\nmoodle with the same layout.\\n'>\n",
      "<LTTextBoxHorizontal(5) 119.754,636.767,475.528,651.113 'Multiple choice tests using AMC Latex Format\\n'>\n",
      "<LTTextBoxHorizontal(6) 85.039,605.001,149.851,626.919 'Question 1\\nWhat is 8 + 2?\\n'>\n",
      "<LTTextBoxHorizontal(7) 102.583,581.909,107.564,591.872 '0\\n'>\n",
      "<LTTextBoxHorizontal(8) 102.583,565.664,107.564,575.627 '0\\n'>\n",
      "<LTTextBoxHorizontal(9) 124.262,581.909,129.243,591.872 '1\\n'>\n",
      "<LTTextBoxHorizontal(10) 124.262,565.664,129.243,575.627 '1\\n'>\n",
      "<LTTextBoxHorizontal(11) 145.950,581.909,150.931,591.872 '2\\n'>\n",
      "<LTTextBoxHorizontal(12) 145.950,565.664,150.931,575.627 '2\\n'>\n",
      "<LTTextBoxHorizontal(13) 167.629,581.909,172.610,591.872 '3\\n'>\n",
      "<LTTextBoxHorizontal(14) 167.629,565.664,172.610,575.627 '3\\n'>\n",
      "<LTTextBoxHorizontal(15) 189.317,581.909,194.299,591.872 '4\\n'>\n",
      "<LTTextBoxHorizontal(16) 189.317,565.664,194.299,575.627 '4\\n'>\n",
      "<LTTextBoxHorizontal(17) 210.996,581.909,215.977,591.872 '5\\n'>\n",
      "<LTTextBoxHorizontal(18) 210.996,565.664,215.977,575.627 '5\\n'>\n",
      "<LTTextBoxHorizontal(19) 232.675,581.909,237.656,591.872 '6\\n'>\n",
      "<LTTextBoxHorizontal(20) 232.675,565.664,237.656,575.627 '6\\n'>\n",
      "<LTTextBoxHorizontal(21) 254.363,581.909,259.345,591.872 '7\\n'>\n",
      "<LTTextBoxHorizontal(22) 254.363,565.664,259.345,575.627 '7\\n'>\n",
      "<LTTextBoxHorizontal(23) 276.042,581.909,281.023,591.872 '8\\n'>\n",
      "<LTTextBoxHorizontal(24) 276.042,565.664,281.023,575.627 '8\\n'>\n",
      "<LTTextBoxHorizontal(25) 297.730,581.909,302.712,591.872 '9\\n'>\n",
      "<LTTextBoxHorizontal(26) 297.730,565.664,302.712,575.627 '9\\n'>\n",
      "<LTTextBoxHorizontal(27) 85.039,518.953,274.018,540.871 'Question 2\\nWhat is the first derivative of f = sin (8x)?\\n'>\n",
      "<LTTextBoxHorizontal(28) 109.946,499.028,167.165,508.991 '8 cos (8x) + 8\\n'>\n",
      "<LTTextBoxHorizontal(29) 109.946,483.087,154.992,493.050 '64 cos (8x)\\n'>\n",
      "<LTTextBoxHorizontal(30) 109.946,467.147,143.369,477.110 'cos (8x)\\n'>\n",
      "<LTTextBoxHorizontal(31) 109.946,451.207,150.011,461.170 '8 cos (8x)\\n'>\n",
      "<LTTextBoxHorizontal(32) 85.039,431.282,463.503,441.245 'Explication : Use the chain rule: f (x) = g(h(x)), where h(x) = 8x and g(y) = sin(y).\\n'>\n",
      "<LTLine 273.380,734.959,499.395,734.959>\n",
      "<LTLine 273.580,692.701,273.580,734.959>\n",
      "<LTLine 499.196,692.701,499.196,734.959>\n",
      "<LTLine 273.380,692.701,499.395,692.701>\n",
      "<LTRect 87.874,562.893,305.696,595.839>\n",
      "<LTRect 85.039,595.839,308.531,598.674>\n",
      "<LTRect 85.039,561.476,87.874,597.256>\n",
      "<LTRect 305.696,561.476,308.531,597.256>\n",
      "<LTRect 85.039,560.058,308.531,562.893>\n"
     ]
    }
   ],
   "source": [
    "from pdfminer.high_level import extract_pages\n",
    "for page_layout in extract_pages(\"en/solution/solution_12345.pdf\"):\n",
    "    for element in page_layout:\n",
    "        print(element)"
   ]
  },
  {
   "cell_type": "code",
   "execution_count": 45,
   "metadata": {
    "collapsed": false
   },
   "outputs": [
    {
     "name": "stdout",
     "output_type": "stream",
     "text": [
      "Requirement already satisfied: PyPDF2 in /home/andres/anaconda3/lib/python3.9/site-packages (2.11.2)\r\n",
      "Requirement already satisfied: typing_extensions>=3.10.0.0 in /home/andres/anaconda3/lib/python3.9/site-packages (from PyPDF2) (4.1.1)\r\n",
      "Requirement already satisfied: pudb in /home/andres/anaconda3/lib/python3.9/site-packages (2022.1.3)\r\n",
      "Requirement already satisfied: pygments>=2.7.4 in /home/andres/anaconda3/lib/python3.9/site-packages (from pudb) (2.11.2)\r\n",
      "Requirement already satisfied: urwid>=1.1.1 in /home/andres/anaconda3/lib/python3.9/site-packages (from pudb) (2.1.2)\r\n",
      "Requirement already satisfied: jedi<1,>=0.18 in /home/andres/anaconda3/lib/python3.9/site-packages (from pudb) (0.18.1)\r\n",
      "Requirement already satisfied: packaging>=20.0 in /home/andres/anaconda3/lib/python3.9/site-packages (from pudb) (21.3)\r\n",
      "Requirement already satisfied: urwid-readline in /home/andres/anaconda3/lib/python3.9/site-packages (from pudb) (0.13)\r\n",
      "Requirement already satisfied: parso<0.9.0,>=0.8.0 in /home/andres/anaconda3/lib/python3.9/site-packages (from jedi<1,>=0.18->pudb) (0.8.3)\r\n",
      "Requirement already satisfied: pyparsing!=3.0.5,>=2.0.2 in /home/andres/anaconda3/lib/python3.9/site-packages (from packaging>=20.0->pudb) (3.0.4)\r\n"
     ]
    }
   ],
   "source": [
    "!pip install PyPDF2\n",
    "!pip install pudb #al final utilizo el debugger de DataSpell"
   ]
  },
  {
   "cell_type": "code",
   "execution_count": 46,
   "metadata": {
    "collapsed": false
   },
   "outputs": [],
   "source": [
    "from PyPDF2 import PdfReader\n",
    "import pandas as pd\n",
    "\n",
    "reader = PdfReader(\"en/solution/solution_12345.pdf\")\n",
    "page = reader.pages[0]\n",
    "a = [[],[],[]]\n",
    "\n",
    "def visitor_body(text, cm, tm, fontDict, fontSize):\n",
    "    a.append([text, tm[4], tm[5]])\n",
    "\n",
    "page.extract_text(visitor_text=visitor_body)\n",
    "pd.DataFrame(a).to_csv('export.csv')"
   ]
  },
  {
   "cell_type": "code",
   "execution_count": 47,
   "metadata": {
    "collapsed": false
   },
   "outputs": [
    {
     "name": "stdout",
     "output_type": "stream",
     "text": [
      "{'subtype': '/Widget', 'location': [89.867, 581.13, 102.583, 593.846]}\n",
      "{'subtype': '/Widget', 'location': [111.549, 581.13, 124.265, 593.846]}\n",
      "{'subtype': '/Widget', 'location': [133.232, 581.13, 145.948, 593.846]}\n",
      "{'subtype': '/Widget', 'location': [154.914, 581.13, 167.631, 593.846]}\n",
      "{'subtype': '/Widget', 'location': [176.597, 581.13, 189.313, 593.846]}\n",
      "{'subtype': '/Widget', 'location': [198.28, 581.13, 210.996, 593.846]}\n",
      "{'subtype': '/Widget', 'location': [219.962, 581.13, 232.678, 593.846]}\n",
      "{'subtype': '/Widget', 'location': [241.645, 581.13, 254.361, 593.846]}\n",
      "{'subtype': '/Widget', 'location': [263.327, 581.13, 276.044, 593.846]}\n",
      "{'subtype': '/Widget', 'location': [285.01, 581.13, 297.726, 593.846]}\n",
      "{'subtype': '/Widget', 'location': [89.867, 564.885, 102.583, 577.602]}\n",
      "{'subtype': '/Widget', 'location': [111.549, 564.885, 124.265, 577.602]}\n",
      "{'subtype': '/Widget', 'location': [133.232, 564.885, 145.948, 577.602]}\n",
      "{'subtype': '/Widget', 'location': [154.914, 564.885, 167.631, 577.602]}\n",
      "{'subtype': '/Widget', 'location': [176.597, 564.885, 189.313, 577.602]}\n",
      "{'subtype': '/Widget', 'location': [198.28, 564.885, 210.996, 577.602]}\n",
      "{'subtype': '/Widget', 'location': [219.962, 564.885, 232.678, 577.602]}\n",
      "{'subtype': '/Widget', 'location': [241.645, 564.885, 254.361, 577.602]}\n",
      "{'subtype': '/Widget', 'location': [263.327, 564.885, 276.044, 577.602]}\n",
      "{'subtype': '/Widget', 'location': [285.01, 564.885, 297.726, 577.602]}\n",
      "{'subtype': '/Widget', 'location': [93.245, 498.248, 105.961, 510.965]}\n",
      "{'subtype': '/Widget', 'location': [93.245, 482.308, 105.961, 495.024]}\n",
      "{'subtype': '/Widget', 'location': [93.245, 466.368, 105.961, 479.084]}\n",
      "{'subtype': '/Widget', 'location': [93.245, 450.428, 105.961, 463.144]}\n"
     ]
    }
   ],
   "source": [
    "from PyPDF2 import PdfReader\n",
    "\n",
    "reader = PdfReader(\"en/solution/solution_12345.pdf\")\n",
    "\n",
    "for page in reader.pages:\n",
    "    if \"/Annots\" in page:\n",
    "        for annot in page[\"/Annots\"]:\n",
    "            obj = annot.get_object()\n",
    "            annotation = {\"subtype\": obj[\"/Subtype\"], \"location\": obj[\"/Rect\"]}\n",
    "            print(annotation)"
   ]
  },
  {
   "cell_type": "code",
   "execution_count": 48,
   "metadata": {
    "collapsed": false
   },
   "outputs": [
    {
     "name": "stdout",
     "output_type": "stream",
     "text": [
      "Requirement already satisfied: svgwrite in /home/andres/anaconda3/lib/python3.9/site-packages (1.4.3)\r\n"
     ]
    }
   ],
   "source": [
    "!pip install svgwrite"
   ]
  },
  {
   "cell_type": "code",
   "execution_count": 49,
   "metadata": {
    "collapsed": false
   },
   "outputs": [],
   "source": [
    "from PyPDF2 import PdfReader\n",
    "import svgwrite\n",
    "\n",
    "reader = PdfReader(\"en/solution/solution_12345.pdf\")\n",
    "page = reader.pages[0]\n",
    "\n",
    "dwg = svgwrite.Drawing(\"Extract_text_rect.svg\", profile=\"tiny\")\n",
    "\n",
    "\n",
    "def visitor_svg_rect(op, args, cm, tm):\n",
    "    if op == b\"re\":\n",
    "        (x, y, w, h) = (args[i].as_numeric() for i in range(4))\n",
    "        dwg.add(dwg.rect((x, y), (w, h), stroke=\"red\", fill_opacity=0.05))\n",
    "\n",
    "\n",
    "def visitor_svg_text(text, cm, tm, fontDict, fontSize):\n",
    "    (x, y) = (tm[4], tm[5])\n",
    "    dwg.add(dwg.text(text, insert=(x, y), fill=\"blue\"))\n",
    "\n",
    "\n",
    "page.extract_text(\n",
    "    visitor_operand_before=visitor_svg_rect, visitor_text=visitor_svg_text\n",
    ")\n",
    "dwg.save()"
   ]
  },
  {
   "cell_type": "code",
   "execution_count": 50,
   "metadata": {
    "collapsed": false
   },
   "outputs": [
    {
     "name": "stdout",
     "output_type": "stream",
     "text": [
      "Requirement already satisfied: boxdetect in /home/andres/anaconda3/lib/python3.9/site-packages (1.0.0)\r\n",
      "Requirement already satisfied: opencv-python in /home/andres/anaconda3/lib/python3.9/site-packages (from boxdetect) (4.6.0.66)\r\n",
      "Requirement already satisfied: sklearn in /home/andres/anaconda3/lib/python3.9/site-packages (from boxdetect) (0.0.post1)\r\n",
      "Requirement already satisfied: pyyaml in /home/andres/anaconda3/lib/python3.9/site-packages (from boxdetect) (6.0)\r\n",
      "Requirement already satisfied: imutils in /home/andres/anaconda3/lib/python3.9/site-packages (from boxdetect) (0.5.4)\r\n",
      "Requirement already satisfied: numpy in /home/andres/anaconda3/lib/python3.9/site-packages (from boxdetect) (1.21.5)\r\n"
     ]
    }
   ],
   "source": [
    "!pip install boxdetect"
   ]
  },
  {
   "cell_type": "markdown",
   "metadata": {
    "collapsed": false
   },
   "source": [
    "boxdetect te pide png de entrada, convertido el pdf a png en terminal con:\n",
    "pdftoppm -png solution_12345.pdf out-im"
   ]
  },
  {
   "cell_type": "code",
   "execution_count": 51,
   "metadata": {
    "collapsed": false
   },
   "outputs": [],
   "source": [
    "from boxdetect import config\n",
    "\n",
    "#tiene que ser un png\n",
    "file_name = 'en/solution/sol_pdftoppm-1.png'\n",
    "\n",
    "cfg = config.PipelinesConfig()\n",
    "\n",
    "#Esto sirve para identificar grupos de casillas, que no considera checkboxes si no character boxes\n",
    "cfg.horizontal_max_distance = [10]\n",
    "\n",
    "# important to adjust these values to match the size of boxes on your image\n",
    "cfg.width_range = (15,30)\n",
    "cfg.height_range = (15,30)\n",
    "\n",
    "# the more scaling factors the more accurate the results but also it takes more time to processing\n",
    "# too small scaling factor may cause false positives\n",
    "# too big scaling factor will take a lot of processing time\n",
    "cfg.scaling_factors = [1.0]\n",
    "\n",
    "# w/h ratio range for boxes/rectangles filtering\n",
    "cfg.wh_ratio_range = (0.8, 1.2)\n",
    "\n",
    "# group_size_range starting from 2 will skip all the groups\n",
    "# with a single box detected inside (like checkboxes)\n",
    "cfg.group_size_range = (1, 1)\n",
    "\n",
    "# num of iterations when running dilation tranformation (to engance the image)\n",
    "cfg.dilation_iterations = 0"
   ]
  },
  {
   "cell_type": "code",
   "execution_count": 52,
   "metadata": {
    "collapsed": false
   },
   "outputs": [
    {
     "name": "stdout",
     "output_type": "stream",
     "text": [
      "Processing file:  en/solution/sol_pdftoppm-1.png\n",
      "[(188, 518, 27, 27), (232, 518, 27, 27), (278, 518, 27, 27), (324, 518, 27, 27), (368, 518, 27, 27), (414, 518, 27, 27), (458, 518, 27, 27), (504, 518, 27, 27), (550, 518, 27, 27), (594, 518, 27, 27), (188, 552, 27, 27), (232, 552, 27, 27), (278, 552, 27, 27), (324, 552, 27, 27), (368, 552, 27, 27), (414, 552, 27, 27), (458, 552, 27, 27), (504, 552, 27, 27), (550, 552, 27, 27), (594, 552, 27, 27), (194, 690, 27, 27), (194, 724, 27, 27), (194, 756, 27, 27), (194, 789, 29, 29)]\n"
     ]
    }
   ],
   "source": [
    "from boxdetect.pipelines import get_boxes\n",
    "\n",
    "rects, grouping_rects, image, output_image = get_boxes(\n",
    "    file_name, cfg=cfg, plot=False)\n",
    "\n",
    "print(grouping_rects)"
   ]
  },
  {
   "cell_type": "code",
   "execution_count": 53,
   "metadata": {
    "collapsed": false
   },
   "outputs": [
    {
     "name": "stdout",
     "output_type": "stream",
     "text": [
      "Processing file:  en/solution/sol_pdftoppm-1.png\n"
     ]
    },
    {
     "data": {
      "image/png": "[encoded data removed]",
      "text/plain": [
       "<Figure size 1440x1440 with 1 Axes>"
      ]
     },
     "metadata": {
      "needs_background": "light"
     },
     "output_type": "display_data"
    }
   ],
   "source": [
    "from boxdetect.img_proc import draw_rects, get_image\n",
    "import matplotlib.pyplot as plt\n",
    "%matplotlib inline\n",
    "\n",
    "out_img = draw_rects(get_image(file_name), rects, thickness=3)\n",
    "\n",
    "plt.figure(figsize=(20,20))\n",
    "plt.imshow(output_image)\n",
    "plt.show()"
   ]
  },
  {
   "cell_type": "markdown",
   "metadata": {
    "collapsed": false
   },
   "source": [
    "no reconoce las casillas del ejercicio 1 como casillas ya que estan demasiado cerca, ¿configuracion?"
   ]
  },
  {
   "cell_type": "code",
   "execution_count": 54,
   "metadata": {
    "collapsed": false
   },
   "outputs": [
    {
     "data": {
      "text/plain": [
       "array([[194, 789,  28,  28],\n",
       "       [194, 756,  26,  26],\n",
       "       [194, 724,  26,  26],\n",
       "       [194, 690,  26,  26],\n",
       "       [594, 552,  26,  26],\n",
       "       [550, 552,  26,  26],\n",
       "       [504, 552,  26,  26],\n",
       "       [458, 552,  26,  26],\n",
       "       [414, 552,  26,  26],\n",
       "       [368, 552,  26,  26],\n",
       "       [324, 552,  26,  26],\n",
       "       [278, 552,  26,  26],\n",
       "       [232, 552,  26,  26],\n",
       "       [188, 552,  26,  26],\n",
       "       [594, 518,  26,  26],\n",
       "       [550, 518,  26,  26],\n",
       "       [504, 518,  26,  26],\n",
       "       [458, 518,  26,  26],\n",
       "       [414, 518,  26,  26],\n",
       "       [368, 518,  26,  26],\n",
       "       [324, 518,  26,  26],\n",
       "       [278, 518,  26,  26],\n",
       "       [232, 518,  26,  26],\n",
       "       [188, 518,  26,  26]], dtype=int32)"
      ]
     },
     "execution_count": 54,
     "metadata": {},
     "output_type": "execute_result"
    }
   ],
   "source": [
    "rects"
   ]
  },
  {
   "cell_type": "code",
   "execution_count": 55,
   "metadata": {
    "collapsed": false
   },
   "outputs": [
    {
     "data": {
      "text/plain": [
       "[(188, 518, 27, 27),\n",
       " (232, 518, 27, 27),\n",
       " (278, 518, 27, 27),\n",
       " (324, 518, 27, 27),\n",
       " (368, 518, 27, 27),\n",
       " (414, 518, 27, 27),\n",
       " (458, 518, 27, 27),\n",
       " (504, 518, 27, 27),\n",
       " (550, 518, 27, 27),\n",
       " (594, 518, 27, 27),\n",
       " (188, 552, 27, 27),\n",
       " (232, 552, 27, 27),\n",
       " (278, 552, 27, 27),\n",
       " (324, 552, 27, 27),\n",
       " (368, 552, 27, 27),\n",
       " (414, 552, 27, 27),\n",
       " (458, 552, 27, 27),\n",
       " (504, 552, 27, 27),\n",
       " (550, 552, 27, 27),\n",
       " (594, 552, 27, 27),\n",
       " (194, 690, 27, 27),\n",
       " (194, 724, 27, 27),\n",
       " (194, 756, 27, 27),\n",
       " (194, 789, 29, 29)]"
      ]
     },
     "execution_count": 55,
     "metadata": {},
     "output_type": "execute_result"
    }
   ],
   "source": [
    "grouping_rects"
   ]
  },
  {
   "cell_type": "code",
   "execution_count": 56,
   "metadata": {
    "collapsed": false
   },
   "outputs": [
    {
     "name": "stdout",
     "output_type": "stream",
     "text": [
      "Processing file:  en/solution/sol_pdftoppm-1.png\n",
      "----------------------------------\n",
      "nonzero_px_count:  0\n",
      "all_px_count:  361\n",
      "nonzero_px_count / all_px_count =  0.0\n",
      "----------------------------------\n",
      "----------------------------------\n",
      "nonzero_px_count:  225\n",
      "all_px_count:  361\n",
      "nonzero_px_count / all_px_count =  0.6232686980609419\n",
      "----------------------------------\n",
      "----------------------------------\n",
      "nonzero_px_count:  0\n",
      "all_px_count:  361\n",
      "nonzero_px_count / all_px_count =  0.0\n",
      "----------------------------------\n",
      "----------------------------------\n",
      "nonzero_px_count:  0\n",
      "all_px_count:  361\n",
      "nonzero_px_count / all_px_count =  0.0\n",
      "----------------------------------\n",
      "----------------------------------\n",
      "nonzero_px_count:  0\n",
      "all_px_count:  361\n",
      "nonzero_px_count / all_px_count =  0.0\n",
      "----------------------------------\n",
      "----------------------------------\n",
      "nonzero_px_count:  0\n",
      "all_px_count:  361\n",
      "nonzero_px_count / all_px_count =  0.0\n",
      "----------------------------------\n",
      "----------------------------------\n",
      "nonzero_px_count:  0\n",
      "all_px_count:  361\n",
      "nonzero_px_count / all_px_count =  0.0\n",
      "----------------------------------\n",
      "----------------------------------\n",
      "nonzero_px_count:  0\n",
      "all_px_count:  361\n",
      "nonzero_px_count / all_px_count =  0.0\n",
      "----------------------------------\n",
      "----------------------------------\n",
      "nonzero_px_count:  0\n",
      "all_px_count:  361\n",
      "nonzero_px_count / all_px_count =  0.0\n",
      "----------------------------------\n",
      "----------------------------------\n",
      "nonzero_px_count:  0\n",
      "all_px_count:  361\n",
      "nonzero_px_count / all_px_count =  0.0\n",
      "----------------------------------\n",
      "----------------------------------\n",
      "nonzero_px_count:  0\n",
      "all_px_count:  361\n",
      "nonzero_px_count / all_px_count =  0.0\n",
      "----------------------------------\n",
      "----------------------------------\n",
      "nonzero_px_count:  0\n",
      "all_px_count:  361\n",
      "nonzero_px_count / all_px_count =  0.0\n",
      "----------------------------------\n",
      "----------------------------------\n",
      "nonzero_px_count:  0\n",
      "all_px_count:  361\n",
      "nonzero_px_count / all_px_count =  0.0\n",
      "----------------------------------\n",
      "----------------------------------\n",
      "nonzero_px_count:  240\n",
      "all_px_count:  361\n",
      "nonzero_px_count / all_px_count =  0.6648199445983379\n",
      "----------------------------------\n",
      "----------------------------------\n",
      "nonzero_px_count:  0\n",
      "all_px_count:  361\n",
      "nonzero_px_count / all_px_count =  0.0\n",
      "----------------------------------\n",
      "----------------------------------\n",
      "nonzero_px_count:  0\n",
      "all_px_count:  361\n",
      "nonzero_px_count / all_px_count =  0.0\n",
      "----------------------------------\n",
      "----------------------------------\n",
      "nonzero_px_count:  0\n",
      "all_px_count:  361\n",
      "nonzero_px_count / all_px_count =  0.0\n",
      "----------------------------------\n",
      "----------------------------------\n",
      "nonzero_px_count:  0\n",
      "all_px_count:  361\n",
      "nonzero_px_count / all_px_count =  0.0\n",
      "----------------------------------\n",
      "----------------------------------\n",
      "nonzero_px_count:  0\n",
      "all_px_count:  361\n",
      "nonzero_px_count / all_px_count =  0.0\n",
      "----------------------------------\n",
      "----------------------------------\n",
      "nonzero_px_count:  0\n",
      "all_px_count:  361\n",
      "nonzero_px_count / all_px_count =  0.0\n",
      "----------------------------------\n",
      "----------------------------------\n",
      "nonzero_px_count:  0\n",
      "all_px_count:  361\n",
      "nonzero_px_count / all_px_count =  0.0\n",
      "----------------------------------\n",
      "----------------------------------\n",
      "nonzero_px_count:  0\n",
      "all_px_count:  361\n",
      "nonzero_px_count / all_px_count =  0.0\n",
      "----------------------------------\n",
      "----------------------------------\n",
      "nonzero_px_count:  0\n",
      "all_px_count:  361\n",
      "nonzero_px_count / all_px_count =  0.0\n",
      "----------------------------------\n",
      "----------------------------------\n",
      "nonzero_px_count:  246\n",
      "all_px_count:  441\n",
      "nonzero_px_count / all_px_count =  0.5578231292517006\n",
      "----------------------------------\n"
     ]
    },
    {
     "name": "stderr",
     "output_type": "stream",
     "text": [
      "/home/andres/anaconda3/lib/python3.9/site-packages/boxdetect/pipelines.py:93: VisibleDeprecationWarning: Creating an ndarray from ragged nested sequences (which is a list-or-tuple of lists-or-tuples-or ndarrays with different lengths or shapes) is deprecated. If you meant to do this, you must specify 'dtype=object' when creating the ndarray.\n",
      "  return np.asarray([\n"
     ]
    },
    {
     "data": {
      "text/plain": [
       "array([[(188, 518, 27, 27), False,\n",
       "        array([[0, 0, 0, 0, 0, 0, 0, 0, 0, 0, 0, 0, 0, 0, 0, 0, 0, 0, 0],\n",
       "               [0, 0, 0, 0, 0, 0, 0, 0, 0, 0, 0, 0, 0, 0, 0, 0, 0, 0, 0],\n",
       "               [0, 0, 0, 0, 0, 0, 0, 0, 0, 0, 0, 0, 0, 0, 0, 0, 0, 0, 0],\n",
       "               [0, 0, 0, 0, 0, 0, 0, 0, 0, 0, 0, 0, 0, 0, 0, 0, 0, 0, 0],\n",
       "               [0, 0, 0, 0, 0, 0, 0, 0, 0, 0, 0, 0, 0, 0, 0, 0, 0, 0, 0],\n",
       "               [0, 0, 0, 0, 0, 0, 0, 0, 0, 0, 0, 0, 0, 0, 0, 0, 0, 0, 0],\n",
       "               [0, 0, 0, 0, 0, 0, 0, 0, 0, 0, 0, 0, 0, 0, 0, 0, 0, 0, 0],\n",
       "               [0, 0, 0, 0, 0, 0, 0, 0, 0, 0, 0, 0, 0, 0, 0, 0, 0, 0, 0],\n",
       "               [0, 0, 0, 0, 0, 0, 0, 0, 0, 0, 0, 0, 0, 0, 0, 0, 0, 0, 0],\n",
       "               [0, 0, 0, 0, 0, 0, 0, 0, 0, 0, 0, 0, 0, 0, 0, 0, 0, 0, 0],\n",
       "               [0, 0, 0, 0, 0, 0, 0, 0, 0, 0, 0, 0, 0, 0, 0, 0, 0, 0, 0],\n",
       "               [0, 0, 0, 0, 0, 0, 0, 0, 0, 0, 0, 0, 0, 0, 0, 0, 0, 0, 0],\n",
       "               [0, 0, 0, 0, 0, 0, 0, 0, 0, 0, 0, 0, 0, 0, 0, 0, 0, 0, 0],\n",
       "               [0, 0, 0, 0, 0, 0, 0, 0, 0, 0, 0, 0, 0, 0, 0, 0, 0, 0, 0],\n",
       "               [0, 0, 0, 0, 0, 0, 0, 0, 0, 0, 0, 0, 0, 0, 0, 0, 0, 0, 0],\n",
       "               [0, 0, 0, 0, 0, 0, 0, 0, 0, 0, 0, 0, 0, 0, 0, 0, 0, 0, 0],\n",
       "               [0, 0, 0, 0, 0, 0, 0, 0, 0, 0, 0, 0, 0, 0, 0, 0, 0, 0, 0],\n",
       "               [0, 0, 0, 0, 0, 0, 0, 0, 0, 0, 0, 0, 0, 0, 0, 0, 0, 0, 0],\n",
       "               [0, 0, 0, 0, 0, 0, 0, 0, 0, 0, 0, 0, 0, 0, 0, 0, 0, 0, 0]],\n",
       "              dtype=uint8)                                                ],\n",
       "       [(232, 518, 27, 27), True,\n",
       "        array([[  0,   0,   0,   0,   0,   0,   0,   0,   0,   0,   0,   0,   0,\n",
       "                  0,   0,   0,   0,   0,   0],\n",
       "               [  0,   0, 255, 255, 255, 255, 255, 255, 255, 255, 255, 255, 255,\n",
       "                255, 255, 255, 255,   0,   0],\n",
       "               [  0,   0, 254, 254, 254, 254, 254, 254, 254, 254, 254, 254, 254,\n",
       "                254, 254, 254, 254,   0,   0],\n",
       "               [  0,   0, 254, 254, 254, 254, 254, 254, 254, 254, 254, 254, 254,\n",
       "                254, 254, 254, 254,   0,   0],\n",
       "               [  0,   0, 254, 254, 254, 254, 254, 254, 254, 254, 254, 254, 254,\n",
       "                254, 254, 254, 254,   0,   0],\n",
       "               [  0,   0, 254, 254, 254, 254, 254, 254, 254, 254, 254, 254, 254,\n",
       "                254, 254, 254, 254,   0,   0],\n",
       "               [  0,   0, 254, 254, 254, 254, 254, 254, 254, 254, 254, 254, 254,\n",
       "                254, 254, 254, 254,   0,   0],\n",
       "               [  0,   0, 254, 254, 254, 254, 254, 254, 254, 254, 254, 254, 254,\n",
       "                254, 254, 254, 254,   0,   0],\n",
       "               [  0,   0, 254, 254, 254, 254, 254, 254, 254, 254, 254, 254, 254,\n",
       "                254, 254, 254, 254,   0,   0],\n",
       "               [  0,   0, 254, 254, 254, 254, 254, 254, 254, 254, 254, 254, 254,\n",
       "                254, 254, 254, 254,   0,   0],\n",
       "               [  0,   0, 254, 254, 254, 254, 254, 254, 254, 254, 254, 254, 254,\n",
       "                254, 254, 254, 254,   0,   0],\n",
       "               [  0,   0, 254, 254, 254, 254, 254, 254, 254, 254, 254, 254, 254,\n",
       "                254, 254, 254, 254,   0,   0],\n",
       "               [  0,   0, 254, 254, 254, 254, 254, 254, 254, 254, 254, 254, 254,\n",
       "                254, 254, 254, 254,   0,   0],\n",
       "               [  0,   0, 254, 254, 254, 254, 254, 254, 254, 254, 254, 254, 254,\n",
       "                254, 254, 254, 254,   0,   0],\n",
       "               [  0,   0, 254, 254, 254, 254, 254, 254, 254, 254, 254, 254, 254,\n",
       "                254, 254, 254, 254,   0,   0],\n",
       "               [  0,   0, 254, 254, 254, 254, 254, 254, 254, 254, 254, 254, 254,\n",
       "                254, 254, 254, 254,   0,   0],\n",
       "               [  0,   0,   0,   0,   0,   0,   0,   0,   0,   0,   0,   0,   0,\n",
       "                  0,   0,   0,   0,   0,   0],\n",
       "               [  0,   0,   0,   0,   0,   0,   0,   0,   0,   0,   0,   0,   0,\n",
       "                  0,   0,   0,   0,   0,   0],\n",
       "               [  0,   0,   0,   0,   0,   0,   0,   0,   0,   0,   0,   0,   0,\n",
       "                  0,   0,   0,   0,   0,   0]], dtype=uint8)                    ],\n",
       "       [(278, 518, 27, 27), False,\n",
       "        array([[0, 0, 0, 0, 0, 0, 0, 0, 0, 0, 0, 0, 0, 0, 0, 0, 0, 0, 0],\n",
       "               [0, 0, 0, 0, 0, 0, 0, 0, 0, 0, 0, 0, 0, 0, 0, 0, 0, 0, 0],\n",
       "               [0, 0, 0, 0, 0, 0, 0, 0, 0, 0, 0, 0, 0, 0, 0, 0, 0, 0, 0],\n",
       "               [0, 0, 0, 0, 0, 0, 0, 0, 0, 0, 0, 0, 0, 0, 0, 0, 0, 0, 0],\n",
       "               [0, 0, 0, 0, 0, 0, 0, 0, 0, 0, 0, 0, 0, 0, 0, 0, 0, 0, 0],\n",
       "               [0, 0, 0, 0, 0, 0, 0, 0, 0, 0, 0, 0, 0, 0, 0, 0, 0, 0, 0],\n",
       "               [0, 0, 0, 0, 0, 0, 0, 0, 0, 0, 0, 0, 0, 0, 0, 0, 0, 0, 0],\n",
       "               [0, 0, 0, 0, 0, 0, 0, 0, 0, 0, 0, 0, 0, 0, 0, 0, 0, 0, 0],\n",
       "               [0, 0, 0, 0, 0, 0, 0, 0, 0, 0, 0, 0, 0, 0, 0, 0, 0, 0, 0],\n",
       "               [0, 0, 0, 0, 0, 0, 0, 0, 0, 0, 0, 0, 0, 0, 0, 0, 0, 0, 0],\n",
       "               [0, 0, 0, 0, 0, 0, 0, 0, 0, 0, 0, 0, 0, 0, 0, 0, 0, 0, 0],\n",
       "               [0, 0, 0, 0, 0, 0, 0, 0, 0, 0, 0, 0, 0, 0, 0, 0, 0, 0, 0],\n",
       "               [0, 0, 0, 0, 0, 0, 0, 0, 0, 0, 0, 0, 0, 0, 0, 0, 0, 0, 0],\n",
       "               [0, 0, 0, 0, 0, 0, 0, 0, 0, 0, 0, 0, 0, 0, 0, 0, 0, 0, 0],\n",
       "               [0, 0, 0, 0, 0, 0, 0, 0, 0, 0, 0, 0, 0, 0, 0, 0, 0, 0, 0],\n",
       "               [0, 0, 0, 0, 0, 0, 0, 0, 0, 0, 0, 0, 0, 0, 0, 0, 0, 0, 0],\n",
       "               [0, 0, 0, 0, 0, 0, 0, 0, 0, 0, 0, 0, 0, 0, 0, 0, 0, 0, 0],\n",
       "               [0, 0, 0, 0, 0, 0, 0, 0, 0, 0, 0, 0, 0, 0, 0, 0, 0, 0, 0],\n",
       "               [0, 0, 0, 0, 0, 0, 0, 0, 0, 0, 0, 0, 0, 0, 0, 0, 0, 0, 0]],\n",
       "              dtype=uint8)                                                ],\n",
       "       [(324, 518, 27, 27), False,\n",
       "        array([[0, 0, 0, 0, 0, 0, 0, 0, 0, 0, 0, 0, 0, 0, 0, 0, 0, 0, 0],\n",
       "               [0, 0, 0, 0, 0, 0, 0, 0, 0, 0, 0, 0, 0, 0, 0, 0, 0, 0, 0],\n",
       "               [0, 0, 0, 0, 0, 0, 0, 0, 0, 0, 0, 0, 0, 0, 0, 0, 0, 0, 0],\n",
       "               [0, 0, 0, 0, 0, 0, 0, 0, 0, 0, 0, 0, 0, 0, 0, 0, 0, 0, 0],\n",
       "               [0, 0, 0, 0, 0, 0, 0, 0, 0, 0, 0, 0, 0, 0, 0, 0, 0, 0, 0],\n",
       "               [0, 0, 0, 0, 0, 0, 0, 0, 0, 0, 0, 0, 0, 0, 0, 0, 0, 0, 0],\n",
       "               [0, 0, 0, 0, 0, 0, 0, 0, 0, 0, 0, 0, 0, 0, 0, 0, 0, 0, 0],\n",
       "               [0, 0, 0, 0, 0, 0, 0, 0, 0, 0, 0, 0, 0, 0, 0, 0, 0, 0, 0],\n",
       "               [0, 0, 0, 0, 0, 0, 0, 0, 0, 0, 0, 0, 0, 0, 0, 0, 0, 0, 0],\n",
       "               [0, 0, 0, 0, 0, 0, 0, 0, 0, 0, 0, 0, 0, 0, 0, 0, 0, 0, 0],\n",
       "               [0, 0, 0, 0, 0, 0, 0, 0, 0, 0, 0, 0, 0, 0, 0, 0, 0, 0, 0],\n",
       "               [0, 0, 0, 0, 0, 0, 0, 0, 0, 0, 0, 0, 0, 0, 0, 0, 0, 0, 0],\n",
       "               [0, 0, 0, 0, 0, 0, 0, 0, 0, 0, 0, 0, 0, 0, 0, 0, 0, 0, 0],\n",
       "               [0, 0, 0, 0, 0, 0, 0, 0, 0, 0, 0, 0, 0, 0, 0, 0, 0, 0, 0],\n",
       "               [0, 0, 0, 0, 0, 0, 0, 0, 0, 0, 0, 0, 0, 0, 0, 0, 0, 0, 0],\n",
       "               [0, 0, 0, 0, 0, 0, 0, 0, 0, 0, 0, 0, 0, 0, 0, 0, 0, 0, 0],\n",
       "               [0, 0, 0, 0, 0, 0, 0, 0, 0, 0, 0, 0, 0, 0, 0, 0, 0, 0, 0],\n",
       "               [0, 0, 0, 0, 0, 0, 0, 0, 0, 0, 0, 0, 0, 0, 0, 0, 0, 0, 0],\n",
       "               [0, 0, 0, 0, 0, 0, 0, 0, 0, 0, 0, 0, 0, 0, 0, 0, 0, 0, 0]],\n",
       "              dtype=uint8)                                                ],\n",
       "       [(368, 518, 27, 27), False,\n",
       "        array([[0, 0, 0, 0, 0, 0, 0, 0, 0, 0, 0, 0, 0, 0, 0, 0, 0, 0, 0],\n",
       "               [0, 0, 0, 0, 0, 0, 0, 0, 0, 0, 0, 0, 0, 0, 0, 0, 0, 0, 0],\n",
       "               [0, 0, 0, 0, 0, 0, 0, 0, 0, 0, 0, 0, 0, 0, 0, 0, 0, 0, 0],\n",
       "               [0, 0, 0, 0, 0, 0, 0, 0, 0, 0, 0, 0, 0, 0, 0, 0, 0, 0, 0],\n",
       "               [0, 0, 0, 0, 0, 0, 0, 0, 0, 0, 0, 0, 0, 0, 0, 0, 0, 0, 0],\n",
       "               [0, 0, 0, 0, 0, 0, 0, 0, 0, 0, 0, 0, 0, 0, 0, 0, 0, 0, 0],\n",
       "               [0, 0, 0, 0, 0, 0, 0, 0, 0, 0, 0, 0, 0, 0, 0, 0, 0, 0, 0],\n",
       "               [0, 0, 0, 0, 0, 0, 0, 0, 0, 0, 0, 0, 0, 0, 0, 0, 0, 0, 0],\n",
       "               [0, 0, 0, 0, 0, 0, 0, 0, 0, 0, 0, 0, 0, 0, 0, 0, 0, 0, 0],\n",
       "               [0, 0, 0, 0, 0, 0, 0, 0, 0, 0, 0, 0, 0, 0, 0, 0, 0, 0, 0],\n",
       "               [0, 0, 0, 0, 0, 0, 0, 0, 0, 0, 0, 0, 0, 0, 0, 0, 0, 0, 0],\n",
       "               [0, 0, 0, 0, 0, 0, 0, 0, 0, 0, 0, 0, 0, 0, 0, 0, 0, 0, 0],\n",
       "               [0, 0, 0, 0, 0, 0, 0, 0, 0, 0, 0, 0, 0, 0, 0, 0, 0, 0, 0],\n",
       "               [0, 0, 0, 0, 0, 0, 0, 0, 0, 0, 0, 0, 0, 0, 0, 0, 0, 0, 0],\n",
       "               [0, 0, 0, 0, 0, 0, 0, 0, 0, 0, 0, 0, 0, 0, 0, 0, 0, 0, 0],\n",
       "               [0, 0, 0, 0, 0, 0, 0, 0, 0, 0, 0, 0, 0, 0, 0, 0, 0, 0, 0],\n",
       "               [0, 0, 0, 0, 0, 0, 0, 0, 0, 0, 0, 0, 0, 0, 0, 0, 0, 0, 0],\n",
       "               [0, 0, 0, 0, 0, 0, 0, 0, 0, 0, 0, 0, 0, 0, 0, 0, 0, 0, 0],\n",
       "               [0, 0, 0, 0, 0, 0, 0, 0, 0, 0, 0, 0, 0, 0, 0, 0, 0, 0, 0]],\n",
       "              dtype=uint8)                                                ],\n",
       "       [(414, 518, 27, 27), False,\n",
       "        array([[0, 0, 0, 0, 0, 0, 0, 0, 0, 0, 0, 0, 0, 0, 0, 0, 0, 0, 0],\n",
       "               [0, 0, 0, 0, 0, 0, 0, 0, 0, 0, 0, 0, 0, 0, 0, 0, 0, 0, 0],\n",
       "               [0, 0, 0, 0, 0, 0, 0, 0, 0, 0, 0, 0, 0, 0, 0, 0, 0, 0, 0],\n",
       "               [0, 0, 0, 0, 0, 0, 0, 0, 0, 0, 0, 0, 0, 0, 0, 0, 0, 0, 0],\n",
       "               [0, 0, 0, 0, 0, 0, 0, 0, 0, 0, 0, 0, 0, 0, 0, 0, 0, 0, 0],\n",
       "               [0, 0, 0, 0, 0, 0, 0, 0, 0, 0, 0, 0, 0, 0, 0, 0, 0, 0, 0],\n",
       "               [0, 0, 0, 0, 0, 0, 0, 0, 0, 0, 0, 0, 0, 0, 0, 0, 0, 0, 0],\n",
       "               [0, 0, 0, 0, 0, 0, 0, 0, 0, 0, 0, 0, 0, 0, 0, 0, 0, 0, 0],\n",
       "               [0, 0, 0, 0, 0, 0, 0, 0, 0, 0, 0, 0, 0, 0, 0, 0, 0, 0, 0],\n",
       "               [0, 0, 0, 0, 0, 0, 0, 0, 0, 0, 0, 0, 0, 0, 0, 0, 0, 0, 0],\n",
       "               [0, 0, 0, 0, 0, 0, 0, 0, 0, 0, 0, 0, 0, 0, 0, 0, 0, 0, 0],\n",
       "               [0, 0, 0, 0, 0, 0, 0, 0, 0, 0, 0, 0, 0, 0, 0, 0, 0, 0, 0],\n",
       "               [0, 0, 0, 0, 0, 0, 0, 0, 0, 0, 0, 0, 0, 0, 0, 0, 0, 0, 0],\n",
       "               [0, 0, 0, 0, 0, 0, 0, 0, 0, 0, 0, 0, 0, 0, 0, 0, 0, 0, 0],\n",
       "               [0, 0, 0, 0, 0, 0, 0, 0, 0, 0, 0, 0, 0, 0, 0, 0, 0, 0, 0],\n",
       "               [0, 0, 0, 0, 0, 0, 0, 0, 0, 0, 0, 0, 0, 0, 0, 0, 0, 0, 0],\n",
       "               [0, 0, 0, 0, 0, 0, 0, 0, 0, 0, 0, 0, 0, 0, 0, 0, 0, 0, 0],\n",
       "               [0, 0, 0, 0, 0, 0, 0, 0, 0, 0, 0, 0, 0, 0, 0, 0, 0, 0, 0],\n",
       "               [0, 0, 0, 0, 0, 0, 0, 0, 0, 0, 0, 0, 0, 0, 0, 0, 0, 0, 0]],\n",
       "              dtype=uint8)                                                ],\n",
       "       [(458, 518, 27, 27), False,\n",
       "        array([[0, 0, 0, 0, 0, 0, 0, 0, 0, 0, 0, 0, 0, 0, 0, 0, 0, 0, 0],\n",
       "               [0, 0, 0, 0, 0, 0, 0, 0, 0, 0, 0, 0, 0, 0, 0, 0, 0, 0, 0],\n",
       "               [0, 0, 0, 0, 0, 0, 0, 0, 0, 0, 0, 0, 0, 0, 0, 0, 0, 0, 0],\n",
       "               [0, 0, 0, 0, 0, 0, 0, 0, 0, 0, 0, 0, 0, 0, 0, 0, 0, 0, 0],\n",
       "               [0, 0, 0, 0, 0, 0, 0, 0, 0, 0, 0, 0, 0, 0, 0, 0, 0, 0, 0],\n",
       "               [0, 0, 0, 0, 0, 0, 0, 0, 0, 0, 0, 0, 0, 0, 0, 0, 0, 0, 0],\n",
       "               [0, 0, 0, 0, 0, 0, 0, 0, 0, 0, 0, 0, 0, 0, 0, 0, 0, 0, 0],\n",
       "               [0, 0, 0, 0, 0, 0, 0, 0, 0, 0, 0, 0, 0, 0, 0, 0, 0, 0, 0],\n",
       "               [0, 0, 0, 0, 0, 0, 0, 0, 0, 0, 0, 0, 0, 0, 0, 0, 0, 0, 0],\n",
       "               [0, 0, 0, 0, 0, 0, 0, 0, 0, 0, 0, 0, 0, 0, 0, 0, 0, 0, 0],\n",
       "               [0, 0, 0, 0, 0, 0, 0, 0, 0, 0, 0, 0, 0, 0, 0, 0, 0, 0, 0],\n",
       "               [0, 0, 0, 0, 0, 0, 0, 0, 0, 0, 0, 0, 0, 0, 0, 0, 0, 0, 0],\n",
       "               [0, 0, 0, 0, 0, 0, 0, 0, 0, 0, 0, 0, 0, 0, 0, 0, 0, 0, 0],\n",
       "               [0, 0, 0, 0, 0, 0, 0, 0, 0, 0, 0, 0, 0, 0, 0, 0, 0, 0, 0],\n",
       "               [0, 0, 0, 0, 0, 0, 0, 0, 0, 0, 0, 0, 0, 0, 0, 0, 0, 0, 0],\n",
       "               [0, 0, 0, 0, 0, 0, 0, 0, 0, 0, 0, 0, 0, 0, 0, 0, 0, 0, 0],\n",
       "               [0, 0, 0, 0, 0, 0, 0, 0, 0, 0, 0, 0, 0, 0, 0, 0, 0, 0, 0],\n",
       "               [0, 0, 0, 0, 0, 0, 0, 0, 0, 0, 0, 0, 0, 0, 0, 0, 0, 0, 0],\n",
       "               [0, 0, 0, 0, 0, 0, 0, 0, 0, 0, 0, 0, 0, 0, 0, 0, 0, 0, 0]],\n",
       "              dtype=uint8)                                                ],\n",
       "       [(504, 518, 27, 27), False,\n",
       "        array([[0, 0, 0, 0, 0, 0, 0, 0, 0, 0, 0, 0, 0, 0, 0, 0, 0, 0, 0],\n",
       "               [0, 0, 0, 0, 0, 0, 0, 0, 0, 0, 0, 0, 0, 0, 0, 0, 0, 0, 0],\n",
       "               [0, 0, 0, 0, 0, 0, 0, 0, 0, 0, 0, 0, 0, 0, 0, 0, 0, 0, 0],\n",
       "               [0, 0, 0, 0, 0, 0, 0, 0, 0, 0, 0, 0, 0, 0, 0, 0, 0, 0, 0],\n",
       "               [0, 0, 0, 0, 0, 0, 0, 0, 0, 0, 0, 0, 0, 0, 0, 0, 0, 0, 0],\n",
       "               [0, 0, 0, 0, 0, 0, 0, 0, 0, 0, 0, 0, 0, 0, 0, 0, 0, 0, 0],\n",
       "               [0, 0, 0, 0, 0, 0, 0, 0, 0, 0, 0, 0, 0, 0, 0, 0, 0, 0, 0],\n",
       "               [0, 0, 0, 0, 0, 0, 0, 0, 0, 0, 0, 0, 0, 0, 0, 0, 0, 0, 0],\n",
       "               [0, 0, 0, 0, 0, 0, 0, 0, 0, 0, 0, 0, 0, 0, 0, 0, 0, 0, 0],\n",
       "               [0, 0, 0, 0, 0, 0, 0, 0, 0, 0, 0, 0, 0, 0, 0, 0, 0, 0, 0],\n",
       "               [0, 0, 0, 0, 0, 0, 0, 0, 0, 0, 0, 0, 0, 0, 0, 0, 0, 0, 0],\n",
       "               [0, 0, 0, 0, 0, 0, 0, 0, 0, 0, 0, 0, 0, 0, 0, 0, 0, 0, 0],\n",
       "               [0, 0, 0, 0, 0, 0, 0, 0, 0, 0, 0, 0, 0, 0, 0, 0, 0, 0, 0],\n",
       "               [0, 0, 0, 0, 0, 0, 0, 0, 0, 0, 0, 0, 0, 0, 0, 0, 0, 0, 0],\n",
       "               [0, 0, 0, 0, 0, 0, 0, 0, 0, 0, 0, 0, 0, 0, 0, 0, 0, 0, 0],\n",
       "               [0, 0, 0, 0, 0, 0, 0, 0, 0, 0, 0, 0, 0, 0, 0, 0, 0, 0, 0],\n",
       "               [0, 0, 0, 0, 0, 0, 0, 0, 0, 0, 0, 0, 0, 0, 0, 0, 0, 0, 0],\n",
       "               [0, 0, 0, 0, 0, 0, 0, 0, 0, 0, 0, 0, 0, 0, 0, 0, 0, 0, 0],\n",
       "               [0, 0, 0, 0, 0, 0, 0, 0, 0, 0, 0, 0, 0, 0, 0, 0, 0, 0, 0]],\n",
       "              dtype=uint8)                                                ],\n",
       "       [(550, 518, 27, 27), False,\n",
       "        array([[0, 0, 0, 0, 0, 0, 0, 0, 0, 0, 0, 0, 0, 0, 0, 0, 0, 0, 0],\n",
       "               [0, 0, 0, 0, 0, 0, 0, 0, 0, 0, 0, 0, 0, 0, 0, 0, 0, 0, 0],\n",
       "               [0, 0, 0, 0, 0, 0, 0, 0, 0, 0, 0, 0, 0, 0, 0, 0, 0, 0, 0],\n",
       "               [0, 0, 0, 0, 0, 0, 0, 0, 0, 0, 0, 0, 0, 0, 0, 0, 0, 0, 0],\n",
       "               [0, 0, 0, 0, 0, 0, 0, 0, 0, 0, 0, 0, 0, 0, 0, 0, 0, 0, 0],\n",
       "               [0, 0, 0, 0, 0, 0, 0, 0, 0, 0, 0, 0, 0, 0, 0, 0, 0, 0, 0],\n",
       "               [0, 0, 0, 0, 0, 0, 0, 0, 0, 0, 0, 0, 0, 0, 0, 0, 0, 0, 0],\n",
       "               [0, 0, 0, 0, 0, 0, 0, 0, 0, 0, 0, 0, 0, 0, 0, 0, 0, 0, 0],\n",
       "               [0, 0, 0, 0, 0, 0, 0, 0, 0, 0, 0, 0, 0, 0, 0, 0, 0, 0, 0],\n",
       "               [0, 0, 0, 0, 0, 0, 0, 0, 0, 0, 0, 0, 0, 0, 0, 0, 0, 0, 0],\n",
       "               [0, 0, 0, 0, 0, 0, 0, 0, 0, 0, 0, 0, 0, 0, 0, 0, 0, 0, 0],\n",
       "               [0, 0, 0, 0, 0, 0, 0, 0, 0, 0, 0, 0, 0, 0, 0, 0, 0, 0, 0],\n",
       "               [0, 0, 0, 0, 0, 0, 0, 0, 0, 0, 0, 0, 0, 0, 0, 0, 0, 0, 0],\n",
       "               [0, 0, 0, 0, 0, 0, 0, 0, 0, 0, 0, 0, 0, 0, 0, 0, 0, 0, 0],\n",
       "               [0, 0, 0, 0, 0, 0, 0, 0, 0, 0, 0, 0, 0, 0, 0, 0, 0, 0, 0],\n",
       "               [0, 0, 0, 0, 0, 0, 0, 0, 0, 0, 0, 0, 0, 0, 0, 0, 0, 0, 0],\n",
       "               [0, 0, 0, 0, 0, 0, 0, 0, 0, 0, 0, 0, 0, 0, 0, 0, 0, 0, 0],\n",
       "               [0, 0, 0, 0, 0, 0, 0, 0, 0, 0, 0, 0, 0, 0, 0, 0, 0, 0, 0],\n",
       "               [0, 0, 0, 0, 0, 0, 0, 0, 0, 0, 0, 0, 0, 0, 0, 0, 0, 0, 0]],\n",
       "              dtype=uint8)                                                ],\n",
       "       [(594, 518, 27, 27), False,\n",
       "        array([[0, 0, 0, 0, 0, 0, 0, 0, 0, 0, 0, 0, 0, 0, 0, 0, 0, 0, 0],\n",
       "               [0, 0, 0, 0, 0, 0, 0, 0, 0, 0, 0, 0, 0, 0, 0, 0, 0, 0, 0],\n",
       "               [0, 0, 0, 0, 0, 0, 0, 0, 0, 0, 0, 0, 0, 0, 0, 0, 0, 0, 0],\n",
       "               [0, 0, 0, 0, 0, 0, 0, 0, 0, 0, 0, 0, 0, 0, 0, 0, 0, 0, 0],\n",
       "               [0, 0, 0, 0, 0, 0, 0, 0, 0, 0, 0, 0, 0, 0, 0, 0, 0, 0, 0],\n",
       "               [0, 0, 0, 0, 0, 0, 0, 0, 0, 0, 0, 0, 0, 0, 0, 0, 0, 0, 0],\n",
       "               [0, 0, 0, 0, 0, 0, 0, 0, 0, 0, 0, 0, 0, 0, 0, 0, 0, 0, 0],\n",
       "               [0, 0, 0, 0, 0, 0, 0, 0, 0, 0, 0, 0, 0, 0, 0, 0, 0, 0, 0],\n",
       "               [0, 0, 0, 0, 0, 0, 0, 0, 0, 0, 0, 0, 0, 0, 0, 0, 0, 0, 0],\n",
       "               [0, 0, 0, 0, 0, 0, 0, 0, 0, 0, 0, 0, 0, 0, 0, 0, 0, 0, 0],\n",
       "               [0, 0, 0, 0, 0, 0, 0, 0, 0, 0, 0, 0, 0, 0, 0, 0, 0, 0, 0],\n",
       "               [0, 0, 0, 0, 0, 0, 0, 0, 0, 0, 0, 0, 0, 0, 0, 0, 0, 0, 0],\n",
       "               [0, 0, 0, 0, 0, 0, 0, 0, 0, 0, 0, 0, 0, 0, 0, 0, 0, 0, 0],\n",
       "               [0, 0, 0, 0, 0, 0, 0, 0, 0, 0, 0, 0, 0, 0, 0, 0, 0, 0, 0],\n",
       "               [0, 0, 0, 0, 0, 0, 0, 0, 0, 0, 0, 0, 0, 0, 0, 0, 0, 0, 0],\n",
       "               [0, 0, 0, 0, 0, 0, 0, 0, 0, 0, 0, 0, 0, 0, 0, 0, 0, 0, 0],\n",
       "               [0, 0, 0, 0, 0, 0, 0, 0, 0, 0, 0, 0, 0, 0, 0, 0, 0, 0, 0],\n",
       "               [0, 0, 0, 0, 0, 0, 0, 0, 0, 0, 0, 0, 0, 0, 0, 0, 0, 0, 0],\n",
       "               [0, 0, 0, 0, 0, 0, 0, 0, 0, 0, 0, 0, 0, 0, 0, 0, 0, 0, 0]],\n",
       "              dtype=uint8)                                                ],\n",
       "       [(188, 552, 27, 27), False,\n",
       "        array([[0, 0, 0, 0, 0, 0, 0, 0, 0, 0, 0, 0, 0, 0, 0, 0, 0, 0, 0],\n",
       "               [0, 0, 0, 0, 0, 0, 0, 0, 0, 0, 0, 0, 0, 0, 0, 0, 0, 0, 0],\n",
       "               [0, 0, 0, 0, 0, 0, 0, 0, 0, 0, 0, 0, 0, 0, 0, 0, 0, 0, 0],\n",
       "               [0, 0, 0, 0, 0, 0, 0, 0, 0, 0, 0, 0, 0, 0, 0, 0, 0, 0, 0],\n",
       "               [0, 0, 0, 0, 0, 0, 0, 0, 0, 0, 0, 0, 0, 0, 0, 0, 0, 0, 0],\n",
       "               [0, 0, 0, 0, 0, 0, 0, 0, 0, 0, 0, 0, 0, 0, 0, 0, 0, 0, 0],\n",
       "               [0, 0, 0, 0, 0, 0, 0, 0, 0, 0, 0, 0, 0, 0, 0, 0, 0, 0, 0],\n",
       "               [0, 0, 0, 0, 0, 0, 0, 0, 0, 0, 0, 0, 0, 0, 0, 0, 0, 0, 0],\n",
       "               [0, 0, 0, 0, 0, 0, 0, 0, 0, 0, 0, 0, 0, 0, 0, 0, 0, 0, 0],\n",
       "               [0, 0, 0, 0, 0, 0, 0, 0, 0, 0, 0, 0, 0, 0, 0, 0, 0, 0, 0],\n",
       "               [0, 0, 0, 0, 0, 0, 0, 0, 0, 0, 0, 0, 0, 0, 0, 0, 0, 0, 0],\n",
       "               [0, 0, 0, 0, 0, 0, 0, 0, 0, 0, 0, 0, 0, 0, 0, 0, 0, 0, 0],\n",
       "               [0, 0, 0, 0, 0, 0, 0, 0, 0, 0, 0, 0, 0, 0, 0, 0, 0, 0, 0],\n",
       "               [0, 0, 0, 0, 0, 0, 0, 0, 0, 0, 0, 0, 0, 0, 0, 0, 0, 0, 0],\n",
       "               [0, 0, 0, 0, 0, 0, 0, 0, 0, 0, 0, 0, 0, 0, 0, 0, 0, 0, 0],\n",
       "               [0, 0, 0, 0, 0, 0, 0, 0, 0, 0, 0, 0, 0, 0, 0, 0, 0, 0, 0],\n",
       "               [0, 0, 0, 0, 0, 0, 0, 0, 0, 0, 0, 0, 0, 0, 0, 0, 0, 0, 0],\n",
       "               [0, 0, 0, 0, 0, 0, 0, 0, 0, 0, 0, 0, 0, 0, 0, 0, 0, 0, 0],\n",
       "               [0, 0, 0, 0, 0, 0, 0, 0, 0, 0, 0, 0, 0, 0, 0, 0, 0, 0, 0]],\n",
       "              dtype=uint8)                                                ],\n",
       "       [(232, 552, 27, 27), False,\n",
       "        array([[0, 0, 0, 0, 0, 0, 0, 0, 0, 0, 0, 0, 0, 0, 0, 0, 0, 0, 0],\n",
       "               [0, 0, 0, 0, 0, 0, 0, 0, 0, 0, 0, 0, 0, 0, 0, 0, 0, 0, 0],\n",
       "               [0, 0, 0, 0, 0, 0, 0, 0, 0, 0, 0, 0, 0, 0, 0, 0, 0, 0, 0],\n",
       "               [0, 0, 0, 0, 0, 0, 0, 0, 0, 0, 0, 0, 0, 0, 0, 0, 0, 0, 0],\n",
       "               [0, 0, 0, 0, 0, 0, 0, 0, 0, 0, 0, 0, 0, 0, 0, 0, 0, 0, 0],\n",
       "               [0, 0, 0, 0, 0, 0, 0, 0, 0, 0, 0, 0, 0, 0, 0, 0, 0, 0, 0],\n",
       "               [0, 0, 0, 0, 0, 0, 0, 0, 0, 0, 0, 0, 0, 0, 0, 0, 0, 0, 0],\n",
       "               [0, 0, 0, 0, 0, 0, 0, 0, 0, 0, 0, 0, 0, 0, 0, 0, 0, 0, 0],\n",
       "               [0, 0, 0, 0, 0, 0, 0, 0, 0, 0, 0, 0, 0, 0, 0, 0, 0, 0, 0],\n",
       "               [0, 0, 0, 0, 0, 0, 0, 0, 0, 0, 0, 0, 0, 0, 0, 0, 0, 0, 0],\n",
       "               [0, 0, 0, 0, 0, 0, 0, 0, 0, 0, 0, 0, 0, 0, 0, 0, 0, 0, 0],\n",
       "               [0, 0, 0, 0, 0, 0, 0, 0, 0, 0, 0, 0, 0, 0, 0, 0, 0, 0, 0],\n",
       "               [0, 0, 0, 0, 0, 0, 0, 0, 0, 0, 0, 0, 0, 0, 0, 0, 0, 0, 0],\n",
       "               [0, 0, 0, 0, 0, 0, 0, 0, 0, 0, 0, 0, 0, 0, 0, 0, 0, 0, 0],\n",
       "               [0, 0, 0, 0, 0, 0, 0, 0, 0, 0, 0, 0, 0, 0, 0, 0, 0, 0, 0],\n",
       "               [0, 0, 0, 0, 0, 0, 0, 0, 0, 0, 0, 0, 0, 0, 0, 0, 0, 0, 0],\n",
       "               [0, 0, 0, 0, 0, 0, 0, 0, 0, 0, 0, 0, 0, 0, 0, 0, 0, 0, 0],\n",
       "               [0, 0, 0, 0, 0, 0, 0, 0, 0, 0, 0, 0, 0, 0, 0, 0, 0, 0, 0],\n",
       "               [0, 0, 0, 0, 0, 0, 0, 0, 0, 0, 0, 0, 0, 0, 0, 0, 0, 0, 0]],\n",
       "              dtype=uint8)                                                ],\n",
       "       [(278, 552, 27, 27), False,\n",
       "        array([[0, 0, 0, 0, 0, 0, 0, 0, 0, 0, 0, 0, 0, 0, 0, 0, 0, 0, 0],\n",
       "               [0, 0, 0, 0, 0, 0, 0, 0, 0, 0, 0, 0, 0, 0, 0, 0, 0, 0, 0],\n",
       "               [0, 0, 0, 0, 0, 0, 0, 0, 0, 0, 0, 0, 0, 0, 0, 0, 0, 0, 0],\n",
       "               [0, 0, 0, 0, 0, 0, 0, 0, 0, 0, 0, 0, 0, 0, 0, 0, 0, 0, 0],\n",
       "               [0, 0, 0, 0, 0, 0, 0, 0, 0, 0, 0, 0, 0, 0, 0, 0, 0, 0, 0],\n",
       "               [0, 0, 0, 0, 0, 0, 0, 0, 0, 0, 0, 0, 0, 0, 0, 0, 0, 0, 0],\n",
       "               [0, 0, 0, 0, 0, 0, 0, 0, 0, 0, 0, 0, 0, 0, 0, 0, 0, 0, 0],\n",
       "               [0, 0, 0, 0, 0, 0, 0, 0, 0, 0, 0, 0, 0, 0, 0, 0, 0, 0, 0],\n",
       "               [0, 0, 0, 0, 0, 0, 0, 0, 0, 0, 0, 0, 0, 0, 0, 0, 0, 0, 0],\n",
       "               [0, 0, 0, 0, 0, 0, 0, 0, 0, 0, 0, 0, 0, 0, 0, 0, 0, 0, 0],\n",
       "               [0, 0, 0, 0, 0, 0, 0, 0, 0, 0, 0, 0, 0, 0, 0, 0, 0, 0, 0],\n",
       "               [0, 0, 0, 0, 0, 0, 0, 0, 0, 0, 0, 0, 0, 0, 0, 0, 0, 0, 0],\n",
       "               [0, 0, 0, 0, 0, 0, 0, 0, 0, 0, 0, 0, 0, 0, 0, 0, 0, 0, 0],\n",
       "               [0, 0, 0, 0, 0, 0, 0, 0, 0, 0, 0, 0, 0, 0, 0, 0, 0, 0, 0],\n",
       "               [0, 0, 0, 0, 0, 0, 0, 0, 0, 0, 0, 0, 0, 0, 0, 0, 0, 0, 0],\n",
       "               [0, 0, 0, 0, 0, 0, 0, 0, 0, 0, 0, 0, 0, 0, 0, 0, 0, 0, 0],\n",
       "               [0, 0, 0, 0, 0, 0, 0, 0, 0, 0, 0, 0, 0, 0, 0, 0, 0, 0, 0],\n",
       "               [0, 0, 0, 0, 0, 0, 0, 0, 0, 0, 0, 0, 0, 0, 0, 0, 0, 0, 0],\n",
       "               [0, 0, 0, 0, 0, 0, 0, 0, 0, 0, 0, 0, 0, 0, 0, 0, 0, 0, 0]],\n",
       "              dtype=uint8)                                                ],\n",
       "       [(324, 552, 27, 27), True,\n",
       "        array([[  0,   0,   0,   0,   0,   0,   0,   0,   0,   0,   0,   0,   0,\n",
       "                  0,   0,   0,   0,   0,   0],\n",
       "               [255, 255, 255, 255, 255, 255, 255, 255, 255, 255, 255, 255, 255,\n",
       "                255, 255, 255,   0,   0,   0],\n",
       "               [255, 254, 254, 254, 254, 254, 254, 254, 254, 254, 254, 254, 254,\n",
       "                254, 254, 255,   0,   0,   0],\n",
       "               [255, 254, 254, 254, 254, 254, 254, 254, 254, 254, 254, 254, 254,\n",
       "                254, 254, 255,   0,   0,   0],\n",
       "               [255, 254, 254, 254, 254, 254, 254, 254, 254, 254, 254, 254, 254,\n",
       "                254, 254, 255,   0,   0,   0],\n",
       "               [255, 254, 254, 254, 254, 254, 254, 254, 254, 254, 254, 254, 254,\n",
       "                254, 254, 255,   0,   0,   0],\n",
       "               [255, 254, 254, 254, 254, 254, 254, 254, 254, 254, 254, 254, 254,\n",
       "                254, 254, 255,   0,   0,   0],\n",
       "               [255, 254, 254, 254, 254, 254, 254, 254, 254, 254, 254, 254, 254,\n",
       "                254, 254, 255,   0,   0,   0],\n",
       "               [255, 254, 254, 254, 254, 254, 254, 254, 254, 254, 254, 254, 254,\n",
       "                254, 254, 255,   0,   0,   0],\n",
       "               [255, 254, 254, 254, 254, 254, 254, 254, 254, 254, 254, 254, 254,\n",
       "                254, 254, 255,   0,   0,   0],\n",
       "               [255, 254, 254, 254, 254, 254, 254, 254, 254, 254, 254, 254, 254,\n",
       "                254, 254, 255,   0,   0,   0],\n",
       "               [255, 254, 254, 254, 254, 254, 254, 254, 254, 254, 254, 254, 254,\n",
       "                254, 254, 255,   0,   0,   0],\n",
       "               [255, 254, 254, 254, 254, 254, 254, 254, 254, 254, 254, 254, 254,\n",
       "                254, 254, 255,   0,   0,   0],\n",
       "               [255, 254, 254, 254, 254, 254, 254, 254, 254, 254, 254, 254, 254,\n",
       "                254, 254, 255,   0,   0,   0],\n",
       "               [255, 254, 254, 254, 254, 254, 254, 254, 254, 254, 254, 254, 254,\n",
       "                254, 254, 255,   0,   0,   0],\n",
       "               [255, 254, 254, 254, 254, 254, 254, 254, 254, 254, 254, 254, 254,\n",
       "                254, 254, 255,   0,   0,   0],\n",
       "               [  0,   0,   0,   0,   0,   0,   0,   0,   0,   0,   0,   0,   0,\n",
       "                  0,   0,   0,   0,   0,   0],\n",
       "               [  0,   0,   0,   0,   0,   0,   0,   0,   0,   0,   0,   0,   0,\n",
       "                  0,   0,   0,   0,   0,   0],\n",
       "               [  0,   0,   0,   0,   0,   0,   0,   0,   0,   0,   0,   0,   0,\n",
       "                  0,   0,   0,   0,   0,   0]], dtype=uint8)                    ],\n",
       "       [(368, 552, 27, 27), False,\n",
       "        array([[0, 0, 0, 0, 0, 0, 0, 0, 0, 0, 0, 0, 0, 0, 0, 0, 0, 0, 0],\n",
       "               [0, 0, 0, 0, 0, 0, 0, 0, 0, 0, 0, 0, 0, 0, 0, 0, 0, 0, 0],\n",
       "               [0, 0, 0, 0, 0, 0, 0, 0, 0, 0, 0, 0, 0, 0, 0, 0, 0, 0, 0],\n",
       "               [0, 0, 0, 0, 0, 0, 0, 0, 0, 0, 0, 0, 0, 0, 0, 0, 0, 0, 0],\n",
       "               [0, 0, 0, 0, 0, 0, 0, 0, 0, 0, 0, 0, 0, 0, 0, 0, 0, 0, 0],\n",
       "               [0, 0, 0, 0, 0, 0, 0, 0, 0, 0, 0, 0, 0, 0, 0, 0, 0, 0, 0],\n",
       "               [0, 0, 0, 0, 0, 0, 0, 0, 0, 0, 0, 0, 0, 0, 0, 0, 0, 0, 0],\n",
       "               [0, 0, 0, 0, 0, 0, 0, 0, 0, 0, 0, 0, 0, 0, 0, 0, 0, 0, 0],\n",
       "               [0, 0, 0, 0, 0, 0, 0, 0, 0, 0, 0, 0, 0, 0, 0, 0, 0, 0, 0],\n",
       "               [0, 0, 0, 0, 0, 0, 0, 0, 0, 0, 0, 0, 0, 0, 0, 0, 0, 0, 0],\n",
       "               [0, 0, 0, 0, 0, 0, 0, 0, 0, 0, 0, 0, 0, 0, 0, 0, 0, 0, 0],\n",
       "               [0, 0, 0, 0, 0, 0, 0, 0, 0, 0, 0, 0, 0, 0, 0, 0, 0, 0, 0],\n",
       "               [0, 0, 0, 0, 0, 0, 0, 0, 0, 0, 0, 0, 0, 0, 0, 0, 0, 0, 0],\n",
       "               [0, 0, 0, 0, 0, 0, 0, 0, 0, 0, 0, 0, 0, 0, 0, 0, 0, 0, 0],\n",
       "               [0, 0, 0, 0, 0, 0, 0, 0, 0, 0, 0, 0, 0, 0, 0, 0, 0, 0, 0],\n",
       "               [0, 0, 0, 0, 0, 0, 0, 0, 0, 0, 0, 0, 0, 0, 0, 0, 0, 0, 0],\n",
       "               [0, 0, 0, 0, 0, 0, 0, 0, 0, 0, 0, 0, 0, 0, 0, 0, 0, 0, 0],\n",
       "               [0, 0, 0, 0, 0, 0, 0, 0, 0, 0, 0, 0, 0, 0, 0, 0, 0, 0, 0],\n",
       "               [0, 0, 0, 0, 0, 0, 0, 0, 0, 0, 0, 0, 0, 0, 0, 0, 0, 0, 0]],\n",
       "              dtype=uint8)                                                ],\n",
       "       [(414, 552, 27, 27), False,\n",
       "        array([[0, 0, 0, 0, 0, 0, 0, 0, 0, 0, 0, 0, 0, 0, 0, 0, 0, 0, 0],\n",
       "               [0, 0, 0, 0, 0, 0, 0, 0, 0, 0, 0, 0, 0, 0, 0, 0, 0, 0, 0],\n",
       "               [0, 0, 0, 0, 0, 0, 0, 0, 0, 0, 0, 0, 0, 0, 0, 0, 0, 0, 0],\n",
       "               [0, 0, 0, 0, 0, 0, 0, 0, 0, 0, 0, 0, 0, 0, 0, 0, 0, 0, 0],\n",
       "               [0, 0, 0, 0, 0, 0, 0, 0, 0, 0, 0, 0, 0, 0, 0, 0, 0, 0, 0],\n",
       "               [0, 0, 0, 0, 0, 0, 0, 0, 0, 0, 0, 0, 0, 0, 0, 0, 0, 0, 0],\n",
       "               [0, 0, 0, 0, 0, 0, 0, 0, 0, 0, 0, 0, 0, 0, 0, 0, 0, 0, 0],\n",
       "               [0, 0, 0, 0, 0, 0, 0, 0, 0, 0, 0, 0, 0, 0, 0, 0, 0, 0, 0],\n",
       "               [0, 0, 0, 0, 0, 0, 0, 0, 0, 0, 0, 0, 0, 0, 0, 0, 0, 0, 0],\n",
       "               [0, 0, 0, 0, 0, 0, 0, 0, 0, 0, 0, 0, 0, 0, 0, 0, 0, 0, 0],\n",
       "               [0, 0, 0, 0, 0, 0, 0, 0, 0, 0, 0, 0, 0, 0, 0, 0, 0, 0, 0],\n",
       "               [0, 0, 0, 0, 0, 0, 0, 0, 0, 0, 0, 0, 0, 0, 0, 0, 0, 0, 0],\n",
       "               [0, 0, 0, 0, 0, 0, 0, 0, 0, 0, 0, 0, 0, 0, 0, 0, 0, 0, 0],\n",
       "               [0, 0, 0, 0, 0, 0, 0, 0, 0, 0, 0, 0, 0, 0, 0, 0, 0, 0, 0],\n",
       "               [0, 0, 0, 0, 0, 0, 0, 0, 0, 0, 0, 0, 0, 0, 0, 0, 0, 0, 0],\n",
       "               [0, 0, 0, 0, 0, 0, 0, 0, 0, 0, 0, 0, 0, 0, 0, 0, 0, 0, 0],\n",
       "               [0, 0, 0, 0, 0, 0, 0, 0, 0, 0, 0, 0, 0, 0, 0, 0, 0, 0, 0],\n",
       "               [0, 0, 0, 0, 0, 0, 0, 0, 0, 0, 0, 0, 0, 0, 0, 0, 0, 0, 0],\n",
       "               [0, 0, 0, 0, 0, 0, 0, 0, 0, 0, 0, 0, 0, 0, 0, 0, 0, 0, 0]],\n",
       "              dtype=uint8)                                                ],\n",
       "       [(458, 552, 27, 27), False,\n",
       "        array([[0, 0, 0, 0, 0, 0, 0, 0, 0, 0, 0, 0, 0, 0, 0, 0, 0, 0, 0],\n",
       "               [0, 0, 0, 0, 0, 0, 0, 0, 0, 0, 0, 0, 0, 0, 0, 0, 0, 0, 0],\n",
       "               [0, 0, 0, 0, 0, 0, 0, 0, 0, 0, 0, 0, 0, 0, 0, 0, 0, 0, 0],\n",
       "               [0, 0, 0, 0, 0, 0, 0, 0, 0, 0, 0, 0, 0, 0, 0, 0, 0, 0, 0],\n",
       "               [0, 0, 0, 0, 0, 0, 0, 0, 0, 0, 0, 0, 0, 0, 0, 0, 0, 0, 0],\n",
       "               [0, 0, 0, 0, 0, 0, 0, 0, 0, 0, 0, 0, 0, 0, 0, 0, 0, 0, 0],\n",
       "               [0, 0, 0, 0, 0, 0, 0, 0, 0, 0, 0, 0, 0, 0, 0, 0, 0, 0, 0],\n",
       "               [0, 0, 0, 0, 0, 0, 0, 0, 0, 0, 0, 0, 0, 0, 0, 0, 0, 0, 0],\n",
       "               [0, 0, 0, 0, 0, 0, 0, 0, 0, 0, 0, 0, 0, 0, 0, 0, 0, 0, 0],\n",
       "               [0, 0, 0, 0, 0, 0, 0, 0, 0, 0, 0, 0, 0, 0, 0, 0, 0, 0, 0],\n",
       "               [0, 0, 0, 0, 0, 0, 0, 0, 0, 0, 0, 0, 0, 0, 0, 0, 0, 0, 0],\n",
       "               [0, 0, 0, 0, 0, 0, 0, 0, 0, 0, 0, 0, 0, 0, 0, 0, 0, 0, 0],\n",
       "               [0, 0, 0, 0, 0, 0, 0, 0, 0, 0, 0, 0, 0, 0, 0, 0, 0, 0, 0],\n",
       "               [0, 0, 0, 0, 0, 0, 0, 0, 0, 0, 0, 0, 0, 0, 0, 0, 0, 0, 0],\n",
       "               [0, 0, 0, 0, 0, 0, 0, 0, 0, 0, 0, 0, 0, 0, 0, 0, 0, 0, 0],\n",
       "               [0, 0, 0, 0, 0, 0, 0, 0, 0, 0, 0, 0, 0, 0, 0, 0, 0, 0, 0],\n",
       "               [0, 0, 0, 0, 0, 0, 0, 0, 0, 0, 0, 0, 0, 0, 0, 0, 0, 0, 0],\n",
       "               [0, 0, 0, 0, 0, 0, 0, 0, 0, 0, 0, 0, 0, 0, 0, 0, 0, 0, 0],\n",
       "               [0, 0, 0, 0, 0, 0, 0, 0, 0, 0, 0, 0, 0, 0, 0, 0, 0, 0, 0]],\n",
       "              dtype=uint8)                                                ],\n",
       "       [(504, 552, 27, 27), False,\n",
       "        array([[0, 0, 0, 0, 0, 0, 0, 0, 0, 0, 0, 0, 0, 0, 0, 0, 0, 0, 0],\n",
       "               [0, 0, 0, 0, 0, 0, 0, 0, 0, 0, 0, 0, 0, 0, 0, 0, 0, 0, 0],\n",
       "               [0, 0, 0, 0, 0, 0, 0, 0, 0, 0, 0, 0, 0, 0, 0, 0, 0, 0, 0],\n",
       "               [0, 0, 0, 0, 0, 0, 0, 0, 0, 0, 0, 0, 0, 0, 0, 0, 0, 0, 0],\n",
       "               [0, 0, 0, 0, 0, 0, 0, 0, 0, 0, 0, 0, 0, 0, 0, 0, 0, 0, 0],\n",
       "               [0, 0, 0, 0, 0, 0, 0, 0, 0, 0, 0, 0, 0, 0, 0, 0, 0, 0, 0],\n",
       "               [0, 0, 0, 0, 0, 0, 0, 0, 0, 0, 0, 0, 0, 0, 0, 0, 0, 0, 0],\n",
       "               [0, 0, 0, 0, 0, 0, 0, 0, 0, 0, 0, 0, 0, 0, 0, 0, 0, 0, 0],\n",
       "               [0, 0, 0, 0, 0, 0, 0, 0, 0, 0, 0, 0, 0, 0, 0, 0, 0, 0, 0],\n",
       "               [0, 0, 0, 0, 0, 0, 0, 0, 0, 0, 0, 0, 0, 0, 0, 0, 0, 0, 0],\n",
       "               [0, 0, 0, 0, 0, 0, 0, 0, 0, 0, 0, 0, 0, 0, 0, 0, 0, 0, 0],\n",
       "               [0, 0, 0, 0, 0, 0, 0, 0, 0, 0, 0, 0, 0, 0, 0, 0, 0, 0, 0],\n",
       "               [0, 0, 0, 0, 0, 0, 0, 0, 0, 0, 0, 0, 0, 0, 0, 0, 0, 0, 0],\n",
       "               [0, 0, 0, 0, 0, 0, 0, 0, 0, 0, 0, 0, 0, 0, 0, 0, 0, 0, 0],\n",
       "               [0, 0, 0, 0, 0, 0, 0, 0, 0, 0, 0, 0, 0, 0, 0, 0, 0, 0, 0],\n",
       "               [0, 0, 0, 0, 0, 0, 0, 0, 0, 0, 0, 0, 0, 0, 0, 0, 0, 0, 0],\n",
       "               [0, 0, 0, 0, 0, 0, 0, 0, 0, 0, 0, 0, 0, 0, 0, 0, 0, 0, 0],\n",
       "               [0, 0, 0, 0, 0, 0, 0, 0, 0, 0, 0, 0, 0, 0, 0, 0, 0, 0, 0],\n",
       "               [0, 0, 0, 0, 0, 0, 0, 0, 0, 0, 0, 0, 0, 0, 0, 0, 0, 0, 0]],\n",
       "              dtype=uint8)                                                ],\n",
       "       [(550, 552, 27, 27), False,\n",
       "        array([[0, 0, 0, 0, 0, 0, 0, 0, 0, 0, 0, 0, 0, 0, 0, 0, 0, 0, 0],\n",
       "               [0, 0, 0, 0, 0, 0, 0, 0, 0, 0, 0, 0, 0, 0, 0, 0, 0, 0, 0],\n",
       "               [0, 0, 0, 0, 0, 0, 0, 0, 0, 0, 0, 0, 0, 0, 0, 0, 0, 0, 0],\n",
       "               [0, 0, 0, 0, 0, 0, 0, 0, 0, 0, 0, 0, 0, 0, 0, 0, 0, 0, 0],\n",
       "               [0, 0, 0, 0, 0, 0, 0, 0, 0, 0, 0, 0, 0, 0, 0, 0, 0, 0, 0],\n",
       "               [0, 0, 0, 0, 0, 0, 0, 0, 0, 0, 0, 0, 0, 0, 0, 0, 0, 0, 0],\n",
       "               [0, 0, 0, 0, 0, 0, 0, 0, 0, 0, 0, 0, 0, 0, 0, 0, 0, 0, 0],\n",
       "               [0, 0, 0, 0, 0, 0, 0, 0, 0, 0, 0, 0, 0, 0, 0, 0, 0, 0, 0],\n",
       "               [0, 0, 0, 0, 0, 0, 0, 0, 0, 0, 0, 0, 0, 0, 0, 0, 0, 0, 0],\n",
       "               [0, 0, 0, 0, 0, 0, 0, 0, 0, 0, 0, 0, 0, 0, 0, 0, 0, 0, 0],\n",
       "               [0, 0, 0, 0, 0, 0, 0, 0, 0, 0, 0, 0, 0, 0, 0, 0, 0, 0, 0],\n",
       "               [0, 0, 0, 0, 0, 0, 0, 0, 0, 0, 0, 0, 0, 0, 0, 0, 0, 0, 0],\n",
       "               [0, 0, 0, 0, 0, 0, 0, 0, 0, 0, 0, 0, 0, 0, 0, 0, 0, 0, 0],\n",
       "               [0, 0, 0, 0, 0, 0, 0, 0, 0, 0, 0, 0, 0, 0, 0, 0, 0, 0, 0],\n",
       "               [0, 0, 0, 0, 0, 0, 0, 0, 0, 0, 0, 0, 0, 0, 0, 0, 0, 0, 0],\n",
       "               [0, 0, 0, 0, 0, 0, 0, 0, 0, 0, 0, 0, 0, 0, 0, 0, 0, 0, 0],\n",
       "               [0, 0, 0, 0, 0, 0, 0, 0, 0, 0, 0, 0, 0, 0, 0, 0, 0, 0, 0],\n",
       "               [0, 0, 0, 0, 0, 0, 0, 0, 0, 0, 0, 0, 0, 0, 0, 0, 0, 0, 0],\n",
       "               [0, 0, 0, 0, 0, 0, 0, 0, 0, 0, 0, 0, 0, 0, 0, 0, 0, 0, 0]],\n",
       "              dtype=uint8)                                                ],\n",
       "       [(594, 552, 27, 27), False,\n",
       "        array([[0, 0, 0, 0, 0, 0, 0, 0, 0, 0, 0, 0, 0, 0, 0, 0, 0, 0, 0],\n",
       "               [0, 0, 0, 0, 0, 0, 0, 0, 0, 0, 0, 0, 0, 0, 0, 0, 0, 0, 0],\n",
       "               [0, 0, 0, 0, 0, 0, 0, 0, 0, 0, 0, 0, 0, 0, 0, 0, 0, 0, 0],\n",
       "               [0, 0, 0, 0, 0, 0, 0, 0, 0, 0, 0, 0, 0, 0, 0, 0, 0, 0, 0],\n",
       "               [0, 0, 0, 0, 0, 0, 0, 0, 0, 0, 0, 0, 0, 0, 0, 0, 0, 0, 0],\n",
       "               [0, 0, 0, 0, 0, 0, 0, 0, 0, 0, 0, 0, 0, 0, 0, 0, 0, 0, 0],\n",
       "               [0, 0, 0, 0, 0, 0, 0, 0, 0, 0, 0, 0, 0, 0, 0, 0, 0, 0, 0],\n",
       "               [0, 0, 0, 0, 0, 0, 0, 0, 0, 0, 0, 0, 0, 0, 0, 0, 0, 0, 0],\n",
       "               [0, 0, 0, 0, 0, 0, 0, 0, 0, 0, 0, 0, 0, 0, 0, 0, 0, 0, 0],\n",
       "               [0, 0, 0, 0, 0, 0, 0, 0, 0, 0, 0, 0, 0, 0, 0, 0, 0, 0, 0],\n",
       "               [0, 0, 0, 0, 0, 0, 0, 0, 0, 0, 0, 0, 0, 0, 0, 0, 0, 0, 0],\n",
       "               [0, 0, 0, 0, 0, 0, 0, 0, 0, 0, 0, 0, 0, 0, 0, 0, 0, 0, 0],\n",
       "               [0, 0, 0, 0, 0, 0, 0, 0, 0, 0, 0, 0, 0, 0, 0, 0, 0, 0, 0],\n",
       "               [0, 0, 0, 0, 0, 0, 0, 0, 0, 0, 0, 0, 0, 0, 0, 0, 0, 0, 0],\n",
       "               [0, 0, 0, 0, 0, 0, 0, 0, 0, 0, 0, 0, 0, 0, 0, 0, 0, 0, 0],\n",
       "               [0, 0, 0, 0, 0, 0, 0, 0, 0, 0, 0, 0, 0, 0, 0, 0, 0, 0, 0],\n",
       "               [0, 0, 0, 0, 0, 0, 0, 0, 0, 0, 0, 0, 0, 0, 0, 0, 0, 0, 0],\n",
       "               [0, 0, 0, 0, 0, 0, 0, 0, 0, 0, 0, 0, 0, 0, 0, 0, 0, 0, 0],\n",
       "               [0, 0, 0, 0, 0, 0, 0, 0, 0, 0, 0, 0, 0, 0, 0, 0, 0, 0, 0]],\n",
       "              dtype=uint8)                                                ],\n",
       "       [(194, 690, 27, 27), False,\n",
       "        array([[0, 0, 0, 0, 0, 0, 0, 0, 0, 0, 0, 0, 0, 0, 0, 0, 0, 0, 0],\n",
       "               [0, 0, 0, 0, 0, 0, 0, 0, 0, 0, 0, 0, 0, 0, 0, 0, 0, 0, 0],\n",
       "               [0, 0, 0, 0, 0, 0, 0, 0, 0, 0, 0, 0, 0, 0, 0, 0, 0, 0, 0],\n",
       "               [0, 0, 0, 0, 0, 0, 0, 0, 0, 0, 0, 0, 0, 0, 0, 0, 0, 0, 0],\n",
       "               [0, 0, 0, 0, 0, 0, 0, 0, 0, 0, 0, 0, 0, 0, 0, 0, 0, 0, 0],\n",
       "               [0, 0, 0, 0, 0, 0, 0, 0, 0, 0, 0, 0, 0, 0, 0, 0, 0, 0, 0],\n",
       "               [0, 0, 0, 0, 0, 0, 0, 0, 0, 0, 0, 0, 0, 0, 0, 0, 0, 0, 0],\n",
       "               [0, 0, 0, 0, 0, 0, 0, 0, 0, 0, 0, 0, 0, 0, 0, 0, 0, 0, 0],\n",
       "               [0, 0, 0, 0, 0, 0, 0, 0, 0, 0, 0, 0, 0, 0, 0, 0, 0, 0, 0],\n",
       "               [0, 0, 0, 0, 0, 0, 0, 0, 0, 0, 0, 0, 0, 0, 0, 0, 0, 0, 0],\n",
       "               [0, 0, 0, 0, 0, 0, 0, 0, 0, 0, 0, 0, 0, 0, 0, 0, 0, 0, 0],\n",
       "               [0, 0, 0, 0, 0, 0, 0, 0, 0, 0, 0, 0, 0, 0, 0, 0, 0, 0, 0],\n",
       "               [0, 0, 0, 0, 0, 0, 0, 0, 0, 0, 0, 0, 0, 0, 0, 0, 0, 0, 0],\n",
       "               [0, 0, 0, 0, 0, 0, 0, 0, 0, 0, 0, 0, 0, 0, 0, 0, 0, 0, 0],\n",
       "               [0, 0, 0, 0, 0, 0, 0, 0, 0, 0, 0, 0, 0, 0, 0, 0, 0, 0, 0],\n",
       "               [0, 0, 0, 0, 0, 0, 0, 0, 0, 0, 0, 0, 0, 0, 0, 0, 0, 0, 0],\n",
       "               [0, 0, 0, 0, 0, 0, 0, 0, 0, 0, 0, 0, 0, 0, 0, 0, 0, 0, 0],\n",
       "               [0, 0, 0, 0, 0, 0, 0, 0, 0, 0, 0, 0, 0, 0, 0, 0, 0, 0, 0],\n",
       "               [0, 0, 0, 0, 0, 0, 0, 0, 0, 0, 0, 0, 0, 0, 0, 0, 0, 0, 0]],\n",
       "              dtype=uint8)                                                ],\n",
       "       [(194, 724, 27, 27), False,\n",
       "        array([[0, 0, 0, 0, 0, 0, 0, 0, 0, 0, 0, 0, 0, 0, 0, 0, 0, 0, 0],\n",
       "               [0, 0, 0, 0, 0, 0, 0, 0, 0, 0, 0, 0, 0, 0, 0, 0, 0, 0, 0],\n",
       "               [0, 0, 0, 0, 0, 0, 0, 0, 0, 0, 0, 0, 0, 0, 0, 0, 0, 0, 0],\n",
       "               [0, 0, 0, 0, 0, 0, 0, 0, 0, 0, 0, 0, 0, 0, 0, 0, 0, 0, 0],\n",
       "               [0, 0, 0, 0, 0, 0, 0, 0, 0, 0, 0, 0, 0, 0, 0, 0, 0, 0, 0],\n",
       "               [0, 0, 0, 0, 0, 0, 0, 0, 0, 0, 0, 0, 0, 0, 0, 0, 0, 0, 0],\n",
       "               [0, 0, 0, 0, 0, 0, 0, 0, 0, 0, 0, 0, 0, 0, 0, 0, 0, 0, 0],\n",
       "               [0, 0, 0, 0, 0, 0, 0, 0, 0, 0, 0, 0, 0, 0, 0, 0, 0, 0, 0],\n",
       "               [0, 0, 0, 0, 0, 0, 0, 0, 0, 0, 0, 0, 0, 0, 0, 0, 0, 0, 0],\n",
       "               [0, 0, 0, 0, 0, 0, 0, 0, 0, 0, 0, 0, 0, 0, 0, 0, 0, 0, 0],\n",
       "               [0, 0, 0, 0, 0, 0, 0, 0, 0, 0, 0, 0, 0, 0, 0, 0, 0, 0, 0],\n",
       "               [0, 0, 0, 0, 0, 0, 0, 0, 0, 0, 0, 0, 0, 0, 0, 0, 0, 0, 0],\n",
       "               [0, 0, 0, 0, 0, 0, 0, 0, 0, 0, 0, 0, 0, 0, 0, 0, 0, 0, 0],\n",
       "               [0, 0, 0, 0, 0, 0, 0, 0, 0, 0, 0, 0, 0, 0, 0, 0, 0, 0, 0],\n",
       "               [0, 0, 0, 0, 0, 0, 0, 0, 0, 0, 0, 0, 0, 0, 0, 0, 0, 0, 0],\n",
       "               [0, 0, 0, 0, 0, 0, 0, 0, 0, 0, 0, 0, 0, 0, 0, 0, 0, 0, 0],\n",
       "               [0, 0, 0, 0, 0, 0, 0, 0, 0, 0, 0, 0, 0, 0, 0, 0, 0, 0, 0],\n",
       "               [0, 0, 0, 0, 0, 0, 0, 0, 0, 0, 0, 0, 0, 0, 0, 0, 0, 0, 0],\n",
       "               [0, 0, 0, 0, 0, 0, 0, 0, 0, 0, 0, 0, 0, 0, 0, 0, 0, 0, 0]],\n",
       "              dtype=uint8)                                                ],\n",
       "       [(194, 756, 27, 27), False,\n",
       "        array([[0, 0, 0, 0, 0, 0, 0, 0, 0, 0, 0, 0, 0, 0, 0, 0, 0, 0, 0],\n",
       "               [0, 0, 0, 0, 0, 0, 0, 0, 0, 0, 0, 0, 0, 0, 0, 0, 0, 0, 0],\n",
       "               [0, 0, 0, 0, 0, 0, 0, 0, 0, 0, 0, 0, 0, 0, 0, 0, 0, 0, 0],\n",
       "               [0, 0, 0, 0, 0, 0, 0, 0, 0, 0, 0, 0, 0, 0, 0, 0, 0, 0, 0],\n",
       "               [0, 0, 0, 0, 0, 0, 0, 0, 0, 0, 0, 0, 0, 0, 0, 0, 0, 0, 0],\n",
       "               [0, 0, 0, 0, 0, 0, 0, 0, 0, 0, 0, 0, 0, 0, 0, 0, 0, 0, 0],\n",
       "               [0, 0, 0, 0, 0, 0, 0, 0, 0, 0, 0, 0, 0, 0, 0, 0, 0, 0, 0],\n",
       "               [0, 0, 0, 0, 0, 0, 0, 0, 0, 0, 0, 0, 0, 0, 0, 0, 0, 0, 0],\n",
       "               [0, 0, 0, 0, 0, 0, 0, 0, 0, 0, 0, 0, 0, 0, 0, 0, 0, 0, 0],\n",
       "               [0, 0, 0, 0, 0, 0, 0, 0, 0, 0, 0, 0, 0, 0, 0, 0, 0, 0, 0],\n",
       "               [0, 0, 0, 0, 0, 0, 0, 0, 0, 0, 0, 0, 0, 0, 0, 0, 0, 0, 0],\n",
       "               [0, 0, 0, 0, 0, 0, 0, 0, 0, 0, 0, 0, 0, 0, 0, 0, 0, 0, 0],\n",
       "               [0, 0, 0, 0, 0, 0, 0, 0, 0, 0, 0, 0, 0, 0, 0, 0, 0, 0, 0],\n",
       "               [0, 0, 0, 0, 0, 0, 0, 0, 0, 0, 0, 0, 0, 0, 0, 0, 0, 0, 0],\n",
       "               [0, 0, 0, 0, 0, 0, 0, 0, 0, 0, 0, 0, 0, 0, 0, 0, 0, 0, 0],\n",
       "               [0, 0, 0, 0, 0, 0, 0, 0, 0, 0, 0, 0, 0, 0, 0, 0, 0, 0, 0],\n",
       "               [0, 0, 0, 0, 0, 0, 0, 0, 0, 0, 0, 0, 0, 0, 0, 0, 0, 0, 0],\n",
       "               [0, 0, 0, 0, 0, 0, 0, 0, 0, 0, 0, 0, 0, 0, 0, 0, 0, 0, 0],\n",
       "               [0, 0, 0, 0, 0, 0, 0, 0, 0, 0, 0, 0, 0, 0, 0, 0, 0, 0, 0]],\n",
       "              dtype=uint8)                                                ],\n",
       "       [(194, 789, 29, 29), True,\n",
       "        array([[  0,   0,   0,   0,   0,   0,   0,   0,   0,   0,   0,   0,   0,\n",
       "                  0,   0,   0,   0,   0,   0,   0,   0],\n",
       "               [  0,   0,   0,   0,   0,   0,   0,   0,   0,   0,   0,   0,   0,\n",
       "                  0,   0,   0,   0,   0,   0,   0,   0],\n",
       "               [  0,   0, 255, 255, 255, 255, 255, 255, 255, 255, 255, 255, 255,\n",
       "                255, 255, 255, 255,   0,   0,   0,   0],\n",
       "               [  0,   0, 254, 254, 254, 254, 254, 254, 254, 254, 254, 254, 254,\n",
       "                254, 254, 254, 254,   0,   0,   0,   0],\n",
       "               [  0,   0, 254, 254, 254, 254, 254, 254, 254, 254, 254, 254, 254,\n",
       "                254, 254, 254, 254,   0,   0,   0,   0],\n",
       "               [  0,   0, 254, 254, 254, 254, 254, 254, 254, 254, 254, 254, 254,\n",
       "                254, 254, 254, 254,   0,   0,   0,   0],\n",
       "               [  0,   0, 254, 254, 254, 254, 254, 254, 254, 254, 254, 254, 254,\n",
       "                254, 254, 254, 254,   0,   0,   0,   0],\n",
       "               [  0,   0, 254, 254, 254, 254, 254, 254, 254, 254, 254, 254, 254,\n",
       "                254, 254, 254, 254,   0,   0,   0,   0],\n",
       "               [  0,   0, 254, 254, 254, 254, 254, 254, 254, 254, 254, 254, 254,\n",
       "                254, 254, 254, 254,   0,   0,   0,   0],\n",
       "               [  0,   0, 254, 254, 254, 254, 254, 254, 254, 254, 254, 254, 254,\n",
       "                254, 254, 254, 254,   0,   0,   0,   0],\n",
       "               [  0,   0, 254, 254, 254, 254, 254, 254, 254, 254, 254, 254, 254,\n",
       "                254, 254, 254, 254,   0,   0,   0,   0],\n",
       "               [  0,   0, 254, 254, 254, 254, 254, 254, 254, 254, 254, 254, 254,\n",
       "                254, 254, 254, 254,   0,   0,   0,   0],\n",
       "               [  0,   0, 254, 254, 254, 254, 254, 254, 254, 254, 254, 254, 254,\n",
       "                254, 254, 254, 254,   0,   0,   0,   0],\n",
       "               [  0,   0, 254, 254, 254, 254, 254, 254, 254, 254, 254, 254, 254,\n",
       "                254, 254, 254, 254,   0,   0,   0,   0],\n",
       "               [  0,   0, 254, 254, 254, 254, 254, 254, 254, 254, 254, 254, 254,\n",
       "                254, 254, 254, 254,   0,   0,   0,   0],\n",
       "               [  0,   0, 254, 254, 254, 254, 254, 254, 254, 254, 254, 254, 254,\n",
       "                254, 254, 254, 254,   0,   0,   0,   0],\n",
       "               [  0,   0, 254, 254, 254, 254, 254, 254, 254, 254, 254, 254, 254,\n",
       "                254, 254, 254, 254,   0,   0,   0,   0],\n",
       "               [  0,   0,   0,   0,   0,   0,   0,   0,   0,   0,   0,   0,   0,\n",
       "                  0,   0,   0,   0,   0,   0,   0,   0],\n",
       "               [  0,   0,   0,   0,   0,   0,   0,   0,   0,   0,   0,   0,   0,\n",
       "                  0,   0,   0,   0,   0,   0,   0,   0],\n",
       "               [  0,   0,   0,   0,   0,   0,   0,   0,   0,   0,   0,   0,   0,\n",
       "                  0,   0,   0,   0,   0,   0,   0,   0],\n",
       "               [254, 254, 254, 254, 254, 254, 254, 254, 254, 254, 254, 254, 254,\n",
       "                254, 254, 254, 254, 254, 254, 254, 254]], dtype=uint8)          ]],\n",
       "      dtype=object)"
      ]
     },
     "execution_count": 56,
     "metadata": {},
     "output_type": "execute_result"
    }
   ],
   "source": [
    "from boxdetect.pipelines import get_checkboxes\n",
    "\n",
    "checkboxes = get_checkboxes(\n",
    "    file_name, cfg=cfg, px_threshold=0.1, plot=False, verbose=True)\n",
    "checkboxes"
   ]
  },
  {
   "cell_type": "code",
   "execution_count": 57,
   "metadata": {
    "collapsed": false
   },
   "outputs": [
    {
     "name": "stdout",
     "output_type": "stream",
     "text": [
      "Output object type:  <class 'numpy.ndarray'>\n",
      "Checkbox bounding rectangle (x,y,width,height):  (188, 518, 27, 27)\n",
      "Result of `contains_pixels` for the checkbox:  False\n",
      "Display the cropout of checkbox:\n"
     ]
    },
    {
     "data": {
      "image/png": "[encoded data removed]",
      "text/plain": [
       "<Figure size 72x72 with 1 Axes>"
      ]
     },
     "metadata": {
      "needs_background": "light"
     },
     "output_type": "display_data"
    },
    {
     "name": "stdout",
     "output_type": "stream",
     "text": [
      "Checkbox bounding rectangle (x,y,width,height):  (232, 518, 27, 27)\n",
      "Result of `contains_pixels` for the checkbox:  True\n",
      "Display the cropout of checkbox:\n"
     ]
    },
    {
     "data": {
      "image/png": "[encoded data removed]",
      "text/plain": [
       "<Figure size 72x72 with 1 Axes>"
      ]
     },
     "metadata": {
      "needs_background": "light"
     },
     "output_type": "display_data"
    },
    {
     "name": "stdout",
     "output_type": "stream",
     "text": [
      "Checkbox bounding rectangle (x,y,width,height):  (278, 518, 27, 27)\n",
      "Result of `contains_pixels` for the checkbox:  False\n",
      "Display the cropout of checkbox:\n"
     ]
    },
    {
     "data": {
      "image/png": "[encoded data removed]",
      "text/plain": [
       "<Figure size 72x72 with 1 Axes>"
      ]
     },
     "metadata": {
      "needs_background": "light"
     },
     "output_type": "display_data"
    },
    {
     "name": "stdout",
     "output_type": "stream",
     "text": [
      "Checkbox bounding rectangle (x,y,width,height):  (324, 518, 27, 27)\n",
      "Result of `contains_pixels` for the checkbox:  False\n",
      "Display the cropout of checkbox:\n"
     ]
    },
    {
     "data": {
      "image/png": "[encoded data removed]",
      "text/plain": [
       "<Figure size 72x72 with 1 Axes>"
      ]
     },
     "metadata": {
      "needs_background": "light"
     },
     "output_type": "display_data"
    },
    {
     "name": "stdout",
     "output_type": "stream",
     "text": [
      "Checkbox bounding rectangle (x,y,width,height):  (368, 518, 27, 27)\n",
      "Result of `contains_pixels` for the checkbox:  False\n",
      "Display the cropout of checkbox:\n"
     ]
    },
    {
     "data": {
      "image/png": "[encoded data removed]",
      "text/plain": [
       "<Figure size 72x72 with 1 Axes>"
      ]
     },
     "metadata": {
      "needs_background": "light"
     },
     "output_type": "display_data"
    },
    {
     "name": "stdout",
     "output_type": "stream",
     "text": [
      "Checkbox bounding rectangle (x,y,width,height):  (414, 518, 27, 27)\n",
      "Result of `contains_pixels` for the checkbox:  False\n",
      "Display the cropout of checkbox:\n"
     ]
    },
    {
     "data": {
      "image/png": "[encoded data removed]",
      "text/plain": [
       "<Figure size 72x72 with 1 Axes>"
      ]
     },
     "metadata": {
      "needs_background": "light"
     },
     "output_type": "display_data"
    },
    {
     "name": "stdout",
     "output_type": "stream",
     "text": [
      "Checkbox bounding rectangle (x,y,width,height):  (458, 518, 27, 27)\n",
      "Result of `contains_pixels` for the checkbox:  False\n",
      "Display the cropout of checkbox:\n"
     ]
    },
    {
     "data": {
      "image/png": "[encoded data removed]",
      "text/plain": [
       "<Figure size 72x72 with 1 Axes>"
      ]
     },
     "metadata": {
      "needs_background": "light"
     },
     "output_type": "display_data"
    },
    {
     "name": "stdout",
     "output_type": "stream",
     "text": [
      "Checkbox bounding rectangle (x,y,width,height):  (504, 518, 27, 27)\n",
      "Result of `contains_pixels` for the checkbox:  False\n",
      "Display the cropout of checkbox:\n"
     ]
    },
    {
     "data": {
      "image/png": "[encoded data removed]",
      "text/plain": [
       "<Figure size 72x72 with 1 Axes>"
      ]
     },
     "metadata": {
      "needs_background": "light"
     },
     "output_type": "display_data"
    },
    {
     "name": "stdout",
     "output_type": "stream",
     "text": [
      "Checkbox bounding rectangle (x,y,width,height):  (550, 518, 27, 27)\n",
      "Result of `contains_pixels` for the checkbox:  False\n",
      "Display the cropout of checkbox:\n"
     ]
    },
    {
     "data": {
      "image/png": "[encoded data removed]",
      "text/plain": [
       "<Figure size 72x72 with 1 Axes>"
      ]
     },
     "metadata": {
      "needs_background": "light"
     },
     "output_type": "display_data"
    },
    {
     "name": "stdout",
     "output_type": "stream",
     "text": [
      "Checkbox bounding rectangle (x,y,width,height):  (594, 518, 27, 27)\n",
      "Result of `contains_pixels` for the checkbox:  False\n",
      "Display the cropout of checkbox:\n"
     ]
    },
    {
     "data": {
      "image/png": "[encoded data removed]",
      "text/plain": [
       "<Figure size 72x72 with 1 Axes>"
      ]
     },
     "metadata": {
      "needs_background": "light"
     },
     "output_type": "display_data"
    },
    {
     "name": "stdout",
     "output_type": "stream",
     "text": [
      "Checkbox bounding rectangle (x,y,width,height):  (188, 552, 27, 27)\n",
      "Result of `contains_pixels` for the checkbox:  False\n",
      "Display the cropout of checkbox:\n"
     ]
    },
    {
     "data": {
      "image/png": "[encoded data removed]",
      "text/plain": [
       "<Figure size 72x72 with 1 Axes>"
      ]
     },
     "metadata": {
      "needs_background": "light"
     },
     "output_type": "display_data"
    },
    {
     "name": "stdout",
     "output_type": "stream",
     "text": [
      "Checkbox bounding rectangle (x,y,width,height):  (232, 552, 27, 27)\n",
      "Result of `contains_pixels` for the checkbox:  False\n",
      "Display the cropout of checkbox:\n"
     ]
    },
    {
     "data": {
      "image/png": "[encoded data removed]",
      "text/plain": [
       "<Figure size 72x72 with 1 Axes>"
      ]
     },
     "metadata": {
      "needs_background": "light"
     },
     "output_type": "display_data"
    },
    {
     "name": "stdout",
     "output_type": "stream",
     "text": [
      "Checkbox bounding rectangle (x,y,width,height):  (278, 552, 27, 27)\n",
      "Result of `contains_pixels` for the checkbox:  False\n",
      "Display the cropout of checkbox:\n"
     ]
    },
    {
     "data": {
      "image/png": "[encoded data removed]",
      "text/plain": [
       "<Figure size 72x72 with 1 Axes>"
      ]
     },
     "metadata": {
      "needs_background": "light"
     },
     "output_type": "display_data"
    },
    {
     "name": "stdout",
     "output_type": "stream",
     "text": [
      "Checkbox bounding rectangle (x,y,width,height):  (324, 552, 27, 27)\n",
      "Result of `contains_pixels` for the checkbox:  True\n",
      "Display the cropout of checkbox:\n"
     ]
    },
    {
     "data": {
      "image/png": "[encoded data removed]",
      "text/plain": [
       "<Figure size 72x72 with 1 Axes>"
      ]
     },
     "metadata": {
      "needs_background": "light"
     },
     "output_type": "display_data"
    },
    {
     "name": "stdout",
     "output_type": "stream",
     "text": [
      "Checkbox bounding rectangle (x,y,width,height):  (368, 552, 27, 27)\n",
      "Result of `contains_pixels` for the checkbox:  False\n",
      "Display the cropout of checkbox:\n"
     ]
    },
    {
     "data": {
      "image/png": "[encoded data removed]",
      "text/plain": [
       "<Figure size 72x72 with 1 Axes>"
      ]
     },
     "metadata": {
      "needs_background": "light"
     },
     "output_type": "display_data"
    },
    {
     "name": "stdout",
     "output_type": "stream",
     "text": [
      "Checkbox bounding rectangle (x,y,width,height):  (414, 552, 27, 27)\n",
      "Result of `contains_pixels` for the checkbox:  False\n",
      "Display the cropout of checkbox:\n"
     ]
    },
    {
     "data": {
      "image/png": "[encoded data removed]",
      "text/plain": [
       "<Figure size 72x72 with 1 Axes>"
      ]
     },
     "metadata": {
      "needs_background": "light"
     },
     "output_type": "display_data"
    },
    {
     "name": "stdout",
     "output_type": "stream",
     "text": [
      "Checkbox bounding rectangle (x,y,width,height):  (458, 552, 27, 27)\n",
      "Result of `contains_pixels` for the checkbox:  False\n",
      "Display the cropout of checkbox:\n"
     ]
    },
    {
     "data": {
      "image/png": "[encoded data removed]",
      "text/plain": [
       "<Figure size 72x72 with 1 Axes>"
      ]
     },
     "metadata": {
      "needs_background": "light"
     },
     "output_type": "display_data"
    },
    {
     "name": "stdout",
     "output_type": "stream",
     "text": [
      "Checkbox bounding rectangle (x,y,width,height):  (504, 552, 27, 27)\n",
      "Result of `contains_pixels` for the checkbox:  False\n",
      "Display the cropout of checkbox:\n"
     ]
    },
    {
     "data": {
      "image/png": "[encoded data removed]",
      "text/plain": [
       "<Figure size 72x72 with 1 Axes>"
      ]
     },
     "metadata": {
      "needs_background": "light"
     },
     "output_type": "display_data"
    },
    {
     "name": "stdout",
     "output_type": "stream",
     "text": [
      "Checkbox bounding rectangle (x,y,width,height):  (550, 552, 27, 27)\n",
      "Result of `contains_pixels` for the checkbox:  False\n",
      "Display the cropout of checkbox:\n"
     ]
    },
    {
     "data": {
      "image/png": "[encoded data removed]",
      "text/plain": [
       "<Figure size 72x72 with 1 Axes>"
      ]
     },
     "metadata": {
      "needs_background": "light"
     },
     "output_type": "display_data"
    },
    {
     "name": "stdout",
     "output_type": "stream",
     "text": [
      "Checkbox bounding rectangle (x,y,width,height):  (594, 552, 27, 27)\n",
      "Result of `contains_pixels` for the checkbox:  False\n",
      "Display the cropout of checkbox:\n"
     ]
    },
    {
     "data": {
      "image/png": "[encoded data removed]",
      "text/plain": [
       "<Figure size 72x72 with 1 Axes>"
      ]
     },
     "metadata": {
      "needs_background": "light"
     },
     "output_type": "display_data"
    },
    {
     "name": "stdout",
     "output_type": "stream",
     "text": [
      "Checkbox bounding rectangle (x,y,width,height):  (194, 690, 27, 27)\n",
      "Result of `contains_pixels` for the checkbox:  False\n",
      "Display the cropout of checkbox:\n"
     ]
    },
    {
     "data": {
      "image/png": "[encoded data removed]",
      "text/plain": [
       "<Figure size 72x72 with 1 Axes>"
      ]
     },
     "metadata": {
      "needs_background": "light"
     },
     "output_type": "display_data"
    },
    {
     "name": "stdout",
     "output_type": "stream",
     "text": [
      "Checkbox bounding rectangle (x,y,width,height):  (194, 724, 27, 27)\n",
      "Result of `contains_pixels` for the checkbox:  False\n",
      "Display the cropout of checkbox:\n"
     ]
    },
    {
     "data": {
      "image/png": "[encoded data removed]",
      "text/plain": [
       "<Figure size 72x72 with 1 Axes>"
      ]
     },
     "metadata": {
      "needs_background": "light"
     },
     "output_type": "display_data"
    },
    {
     "name": "stdout",
     "output_type": "stream",
     "text": [
      "Checkbox bounding rectangle (x,y,width,height):  (194, 756, 27, 27)\n",
      "Result of `contains_pixels` for the checkbox:  False\n",
      "Display the cropout of checkbox:\n"
     ]
    },
    {
     "data": {
      "image/png": "[encoded data removed]",
      "text/plain": [
       "<Figure size 72x72 with 1 Axes>"
      ]
     },
     "metadata": {
      "needs_background": "light"
     },
     "output_type": "display_data"
    },
    {
     "name": "stdout",
     "output_type": "stream",
     "text": [
      "Checkbox bounding rectangle (x,y,width,height):  (194, 789, 29, 29)\n",
      "Result of `contains_pixels` for the checkbox:  True\n",
      "Display the cropout of checkbox:\n"
     ]
    },
    {
     "data": {
      "image/png": "[encoded data removed]",
      "text/plain": [
       "<Figure size 72x72 with 1 Axes>"
      ]
     },
     "metadata": {
      "needs_background": "light"
     },
     "output_type": "display_data"
    }
   ],
   "source": [
    "print(\"Output object type: \", type(checkboxes))\n",
    "for checkbox in checkboxes:\n",
    "    print(\"Checkbox bounding rectangle (x,y,width,height): \", checkbox[0])\n",
    "    print(\"Result of `contains_pixels` for the checkbox: \", checkbox[1])\n",
    "    print(\"Display the cropout of checkbox:\")\n",
    "    plt.figure(figsize=(1,1))\n",
    "    plt.imshow(checkbox[2])\n",
    "    plt.show()"
   ]
  },
  {
   "cell_type": "code",
   "execution_count": 58,
   "metadata": {
    "collapsed": false
   },
   "outputs": [],
   "source": [
    "import PyPDF2 as pypdf\n",
    "\n",
    "pdfobject=open('en/solution/solution_12345.pdf','rb')\n",
    "pdf = pypdf.PdfFileReader(pdfobject).__dict__"
   ]
  },
  {
   "cell_type": "code",
   "execution_count": 59,
   "metadata": {
    "collapsed": false
   },
   "outputs": [
    {
     "name": "stdout",
     "output_type": "stream",
     "text": [
      "{'1:case:basic-adittion:1,1': {'/T': '1:case:basic-adittion:1,1', '/FT': '/Btn', '/V': '/Off', '/Rect': [89.867, 581.13, 102.583, 593.846]}, '1:case:basic-adittion:1,2': {'/T': '1:case:basic-adittion:1,2', '/FT': '/Btn', '/V': '/Yes', '/Rect': [111.549, 581.13, 124.265, 593.846]}, '1:case:basic-adittion:1,3': {'/T': '1:case:basic-adittion:1,3', '/FT': '/Btn', '/V': '/Off', '/Rect': [133.232, 581.13, 145.948, 593.846]}, '1:case:basic-adittion:1,4': {'/T': '1:case:basic-adittion:1,4', '/FT': '/Btn', '/V': '/Off', '/Rect': [154.914, 581.13, 167.631, 593.846]}, '1:case:basic-adittion:1,5': {'/T': '1:case:basic-adittion:1,5', '/FT': '/Btn', '/V': '/Off', '/Rect': [176.597, 581.13, 189.313, 593.846]}, '1:case:basic-adittion:1,6': {'/T': '1:case:basic-adittion:1,6', '/FT': '/Btn', '/V': '/Off', '/Rect': [198.28, 581.13, 210.996, 593.846]}, '1:case:basic-adittion:1,7': {'/T': '1:case:basic-adittion:1,7', '/FT': '/Btn', '/V': '/Off', '/Rect': [219.962, 581.13, 232.678, 593.846]}, '1:case:basic-adittion:1,8': {'/T': '1:case:basic-adittion:1,8', '/FT': '/Btn', '/V': '/Off', '/Rect': [241.645, 581.13, 254.361, 593.846]}, '1:case:basic-adittion:1,9': {'/T': '1:case:basic-adittion:1,9', '/FT': '/Btn', '/V': '/Off', '/Rect': [263.327, 581.13, 276.044, 593.846]}, '1:case:basic-adittion:1,10': {'/T': '1:case:basic-adittion:1,10', '/FT': '/Btn', '/V': '/Off', '/Rect': [285.01, 581.13, 297.726, 593.846]}, '1:case:basic-adittion:1,11': {'/T': '1:case:basic-adittion:1,11', '/FT': '/Btn', '/V': '/Yes', '/Rect': [89.867, 564.885, 102.583, 577.602]}, '1:case:basic-adittion:1,12': {'/T': '1:case:basic-adittion:1,12', '/FT': '/Btn', '/V': '/Off', '/Rect': [111.549, 564.885, 124.265, 577.602]}, '1:case:basic-adittion:1,13': {'/T': '1:case:basic-adittion:1,13', '/FT': '/Btn', '/V': '/Off', '/Rect': [133.232, 564.885, 145.948, 577.602]}, '1:case:basic-adittion:1,14': {'/T': '1:case:basic-adittion:1,14', '/FT': '/Btn', '/V': '/Off', '/Rect': [154.914, 564.885, 167.631, 577.602]}, '1:case:basic-adittion:1,15': {'/T': '1:case:basic-adittion:1,15', '/FT': '/Btn', '/V': '/Off', '/Rect': [176.597, 564.885, 189.313, 577.602]}, '1:case:basic-adittion:1,16': {'/T': '1:case:basic-adittion:1,16', '/FT': '/Btn', '/V': '/Off', '/Rect': [198.28, 564.885, 210.996, 577.602]}, '1:case:basic-adittion:1,17': {'/T': '1:case:basic-adittion:1,17', '/FT': '/Btn', '/V': '/Off', '/Rect': [219.962, 564.885, 232.678, 577.602]}, '1:case:basic-adittion:1,18': {'/T': '1:case:basic-adittion:1,18', '/FT': '/Btn', '/V': '/Off', '/Rect': [241.645, 564.885, 254.361, 577.602]}, '1:case:basic-adittion:1,19': {'/T': '1:case:basic-adittion:1,19', '/FT': '/Btn', '/V': '/Off', '/Rect': [263.327, 564.885, 276.044, 577.602]}, '1:case:basic-adittion:1,20': {'/T': '1:case:basic-adittion:1,20', '/FT': '/Btn', '/V': '/Off', '/Rect': [285.01, 564.885, 297.726, 577.602]}, '1:case:derivativesin:2,4': {'/T': '1:case:derivativesin:2,4', '/FT': '/Btn', '/V': '/Off', '/Rect': [93.245, 498.248, 105.961, 510.965]}, '1:case:derivativesin:2,2': {'/T': '1:case:derivativesin:2,2', '/FT': '/Btn', '/V': '/Off', '/Rect': [93.245, 482.308, 105.961, 495.024]}, '1:case:derivativesin:2,3': {'/T': '1:case:derivativesin:2,3', '/FT': '/Btn', '/V': '/Off', '/Rect': [93.245, 466.368, 105.961, 479.084]}, '1:case:derivativesin:2,1': {'/T': '1:case:derivativesin:2,1', '/FT': '/Btn', '/V': '/Yes', '/Rect': [93.245, 450.428, 105.961, 463.144]}}\n"
     ]
    }
   ],
   "source": [
    "import PyPDF2 as pypdf\n",
    "\n",
    "pdfobject=open('en/solution/solution_12345.pdf','rb')\n",
    "pdf = pypdf.PdfFileReader(pdfobject)\n",
    "var = pdf.getFields()\n",
    "print(var)"
   ]
  },
  {
   "cell_type": "code",
   "execution_count": 60,
   "metadata": {
    "collapsed": false
   },
   "outputs": [
    {
     "data": {
      "text/plain": [
       "[{'/T': '1:case:basic-adittion:1,1',\n",
       "  '/FT': '/Btn',\n",
       "  '/V': '/Off',\n",
       "  '/Rect': [89.867, 581.13, 102.583, 593.846]},\n",
       " {'/T': '1:case:basic-adittion:1,2',\n",
       "  '/FT': '/Btn',\n",
       "  '/V': '/Yes',\n",
       "  '/Rect': [111.549, 581.13, 124.265, 593.846]},\n",
       " {'/T': '1:case:basic-adittion:1,3',\n",
       "  '/FT': '/Btn',\n",
       "  '/V': '/Off',\n",
       "  '/Rect': [133.232, 581.13, 145.948, 593.846]},\n",
       " {'/T': '1:case:basic-adittion:1,4',\n",
       "  '/FT': '/Btn',\n",
       "  '/V': '/Off',\n",
       "  '/Rect': [154.914, 581.13, 167.631, 593.846]},\n",
       " {'/T': '1:case:basic-adittion:1,5',\n",
       "  '/FT': '/Btn',\n",
       "  '/V': '/Off',\n",
       "  '/Rect': [176.597, 581.13, 189.313, 593.846]},\n",
       " {'/T': '1:case:basic-adittion:1,6',\n",
       "  '/FT': '/Btn',\n",
       "  '/V': '/Off',\n",
       "  '/Rect': [198.28, 581.13, 210.996, 593.846]},\n",
       " {'/T': '1:case:basic-adittion:1,7',\n",
       "  '/FT': '/Btn',\n",
       "  '/V': '/Off',\n",
       "  '/Rect': [219.962, 581.13, 232.678, 593.846]},\n",
       " {'/T': '1:case:basic-adittion:1,8',\n",
       "  '/FT': '/Btn',\n",
       "  '/V': '/Off',\n",
       "  '/Rect': [241.645, 581.13, 254.361, 593.846]},\n",
       " {'/T': '1:case:basic-adittion:1,9',\n",
       "  '/FT': '/Btn',\n",
       "  '/V': '/Off',\n",
       "  '/Rect': [263.327, 581.13, 276.044, 593.846]},\n",
       " {'/T': '1:case:basic-adittion:1,10',\n",
       "  '/FT': '/Btn',\n",
       "  '/V': '/Off',\n",
       "  '/Rect': [285.01, 581.13, 297.726, 593.846]},\n",
       " {'/T': '1:case:basic-adittion:1,11',\n",
       "  '/FT': '/Btn',\n",
       "  '/V': '/Yes',\n",
       "  '/Rect': [89.867, 564.885, 102.583, 577.602]},\n",
       " {'/T': '1:case:basic-adittion:1,12',\n",
       "  '/FT': '/Btn',\n",
       "  '/V': '/Off',\n",
       "  '/Rect': [111.549, 564.885, 124.265, 577.602]},\n",
       " {'/T': '1:case:basic-adittion:1,13',\n",
       "  '/FT': '/Btn',\n",
       "  '/V': '/Off',\n",
       "  '/Rect': [133.232, 564.885, 145.948, 577.602]},\n",
       " {'/T': '1:case:basic-adittion:1,14',\n",
       "  '/FT': '/Btn',\n",
       "  '/V': '/Off',\n",
       "  '/Rect': [154.914, 564.885, 167.631, 577.602]},\n",
       " {'/T': '1:case:basic-adittion:1,15',\n",
       "  '/FT': '/Btn',\n",
       "  '/V': '/Off',\n",
       "  '/Rect': [176.597, 564.885, 189.313, 577.602]},\n",
       " {'/T': '1:case:basic-adittion:1,16',\n",
       "  '/FT': '/Btn',\n",
       "  '/V': '/Off',\n",
       "  '/Rect': [198.28, 564.885, 210.996, 577.602]},\n",
       " {'/T': '1:case:basic-adittion:1,17',\n",
       "  '/FT': '/Btn',\n",
       "  '/V': '/Off',\n",
       "  '/Rect': [219.962, 564.885, 232.678, 577.602]},\n",
       " {'/T': '1:case:basic-adittion:1,18',\n",
       "  '/FT': '/Btn',\n",
       "  '/V': '/Off',\n",
       "  '/Rect': [241.645, 564.885, 254.361, 577.602]},\n",
       " {'/T': '1:case:basic-adittion:1,19',\n",
       "  '/FT': '/Btn',\n",
       "  '/V': '/Off',\n",
       "  '/Rect': [263.327, 564.885, 276.044, 577.602]},\n",
       " {'/T': '1:case:basic-adittion:1,20',\n",
       "  '/FT': '/Btn',\n",
       "  '/V': '/Off',\n",
       "  '/Rect': [285.01, 564.885, 297.726, 577.602]},\n",
       " {'/T': '1:case:derivativesin:2,4',\n",
       "  '/FT': '/Btn',\n",
       "  '/V': '/Off',\n",
       "  '/Rect': [93.245, 498.248, 105.961, 510.965]},\n",
       " {'/T': '1:case:derivativesin:2,2',\n",
       "  '/FT': '/Btn',\n",
       "  '/V': '/Off',\n",
       "  '/Rect': [93.245, 482.308, 105.961, 495.024]},\n",
       " {'/T': '1:case:derivativesin:2,3',\n",
       "  '/FT': '/Btn',\n",
       "  '/V': '/Off',\n",
       "  '/Rect': [93.245, 466.368, 105.961, 479.084]},\n",
       " {'/T': '1:case:derivativesin:2,1',\n",
       "  '/FT': '/Btn',\n",
       "  '/V': '/Yes',\n",
       "  '/Rect': [93.245, 450.428, 105.961, 463.144]}]"
      ]
     },
     "execution_count": 60,
     "metadata": {},
     "output_type": "execute_result"
    }
   ],
   "source": [
    "temp = []\n",
    "for key, value in var.items():\n",
    "    temp.append(value)\n",
    "temp"
   ]
  },
  {
   "cell_type": "code",
   "execution_count": 61,
   "metadata": {
    "collapsed": false
   },
   "outputs": [
    {
     "data": {
      "text/plain": [
       "'/Off'"
      ]
     },
     "execution_count": 61,
     "metadata": {},
     "output_type": "execute_result"
    }
   ],
   "source": [
    "temp[3]['/V']"
   ]
  },
  {
   "cell_type": "code",
   "execution_count": 80,
   "metadata": {
    "collapsed": false
   },
   "outputs": [
    {
     "data": {
      "text/plain": [
       "array([(188, 518, 27, 27), (232, 518, 27, 27), (278, 518, 27, 27),\n",
       "       (324, 518, 27, 27), (368, 518, 27, 27), (414, 518, 27, 27),\n",
       "       (458, 518, 27, 27), (504, 518, 27, 27), (550, 518, 27, 27),\n",
       "       (594, 518, 27, 27), (188, 552, 27, 27), (232, 552, 27, 27),\n",
       "       (278, 552, 27, 27), (324, 552, 27, 27), (368, 552, 27, 27),\n",
       "       (414, 552, 27, 27), (458, 552, 27, 27), (504, 552, 27, 27),\n",
       "       (550, 552, 27, 27), (594, 552, 27, 27), (194, 690, 27, 27),\n",
       "       (194, 724, 27, 27), (194, 756, 27, 27), (194, 789, 29, 29)],\n",
       "      dtype=object)"
      ]
     },
     "execution_count": 80,
     "metadata": {},
     "output_type": "execute_result"
    }
   ],
   "source": [
    "cord_scan = checkboxes.transpose()[0]\n",
    "cord_scan"
   ]
  },
  {
   "cell_type": "code",
   "execution_count": 79,
   "metadata": {
    "collapsed": false
   },
   "outputs": [
    {
     "data": {
      "text/plain": [
       "[[89.867, 581.13, 102.583, 593.846],\n",
       " [111.549, 581.13, 124.265, 593.846],\n",
       " [133.232, 581.13, 145.948, 593.846],\n",
       " [154.914, 581.13, 167.631, 593.846],\n",
       " [176.597, 581.13, 189.313, 593.846],\n",
       " [198.28, 581.13, 210.996, 593.846],\n",
       " [219.962, 581.13, 232.678, 593.846],\n",
       " [241.645, 581.13, 254.361, 593.846],\n",
       " [263.327, 581.13, 276.044, 593.846],\n",
       " [285.01, 581.13, 297.726, 593.846],\n",
       " [89.867, 564.885, 102.583, 577.602],\n",
       " [111.549, 564.885, 124.265, 577.602],\n",
       " [133.232, 564.885, 145.948, 577.602],\n",
       " [154.914, 564.885, 167.631, 577.602],\n",
       " [176.597, 564.885, 189.313, 577.602],\n",
       " [198.28, 564.885, 210.996, 577.602],\n",
       " [219.962, 564.885, 232.678, 577.602],\n",
       " [241.645, 564.885, 254.361, 577.602],\n",
       " [263.327, 564.885, 276.044, 577.602],\n",
       " [285.01, 564.885, 297.726, 577.602],\n",
       " [93.245, 498.248, 105.961, 510.965],\n",
       " [93.245, 482.308, 105.961, 495.024],\n",
       " [93.245, 466.368, 105.961, 479.084],\n",
       " [93.245, 450.428, 105.961, 463.144]]"
      ]
     },
     "execution_count": 79,
     "metadata": {},
     "output_type": "execute_result"
    }
   ],
   "source": [
    "lcord_sol = []\n",
    "for i in temp:\n",
    "    lcord_sol.append(i['/Rect'])\n",
    "lcord_sol"
   ]
  },
  {
   "cell_type": "code",
   "execution_count": 83,
   "metadata": {
    "collapsed": false
   },
   "outputs": [
    {
     "data": {
      "text/plain": [
       "array([[89.867, 581.13, 102.583, 593.846],\n",
       "       [111.549, 581.13, 124.265, 593.846],\n",
       "       [133.232, 581.13, 145.948, 593.846],\n",
       "       [154.914, 581.13, 167.631, 593.846],\n",
       "       [176.597, 581.13, 189.313, 593.846],\n",
       "       [198.28, 581.13, 210.996, 593.846],\n",
       "       [219.962, 581.13, 232.678, 593.846],\n",
       "       [241.645, 581.13, 254.361, 593.846],\n",
       "       [263.327, 581.13, 276.044, 593.846],\n",
       "       [285.01, 581.13, 297.726, 593.846],\n",
       "       [89.867, 564.885, 102.583, 577.602],\n",
       "       [111.549, 564.885, 124.265, 577.602],\n",
       "       [133.232, 564.885, 145.948, 577.602],\n",
       "       [154.914, 564.885, 167.631, 577.602],\n",
       "       [176.597, 564.885, 189.313, 577.602],\n",
       "       [198.28, 564.885, 210.996, 577.602],\n",
       "       [219.962, 564.885, 232.678, 577.602],\n",
       "       [241.645, 564.885, 254.361, 577.602],\n",
       "       [263.327, 564.885, 276.044, 577.602],\n",
       "       [285.01, 564.885, 297.726, 577.602],\n",
       "       [93.245, 498.248, 105.961, 510.965],\n",
       "       [93.245, 482.308, 105.961, 495.024],\n",
       "       [93.245, 466.368, 105.961, 479.084],\n",
       "       [93.245, 450.428, 105.961, 463.144]], dtype=object)"
      ]
     },
     "execution_count": 83,
     "metadata": {},
     "output_type": "execute_result"
    }
   ],
   "source": [
    "import numpy as np\n",
    "\n",
    "cord_sol = np.array(lcord_sol)\n",
    "cord_sol"
   ]
  },
  {
   "cell_type": "code",
   "execution_count": 87,
   "metadata": {
    "collapsed": false
   },
   "outputs": [
    {
     "data": {
      "text/plain": [
       "array([188, 518,  27,  27])"
      ]
     },
     "execution_count": 87,
     "metadata": {},
     "output_type": "execute_result"
    }
   ],
   "source": [
    "np.asarray(cord_scan[0])"
   ]
  },
  {
   "cell_type": "code",
   "execution_count": 128,
   "metadata": {
    "collapsed": false
   },
   "outputs": [
    {
     "data": {
      "text/plain": [
       "array([[188, 518,  27,  27],\n",
       "       [232, 518,  27,  27],\n",
       "       [278, 518,  27,  27],\n",
       "       [324, 518,  27,  27],\n",
       "       [368, 518,  27,  27],\n",
       "       [414, 518,  27,  27],\n",
       "       [458, 518,  27,  27],\n",
       "       [504, 518,  27,  27],\n",
       "       [550, 518,  27,  27],\n",
       "       [594, 518,  27,  27],\n",
       "       [188, 552,  27,  27],\n",
       "       [232, 552,  27,  27],\n",
       "       [278, 552,  27,  27],\n",
       "       [324, 552,  27,  27],\n",
       "       [368, 552,  27,  27],\n",
       "       [414, 552,  27,  27],\n",
       "       [458, 552,  27,  27],\n",
       "       [504, 552,  27,  27],\n",
       "       [550, 552,  27,  27],\n",
       "       [594, 552,  27,  27],\n",
       "       [194, 690,  27,  27],\n",
       "       [194, 724,  27,  27],\n",
       "       [194, 756,  27,  27],\n",
       "       [194, 789,  29,  29]])"
      ]
     },
     "execution_count": 128,
     "metadata": {},
     "output_type": "execute_result"
    }
   ],
   "source": [
    "arr = [0]*4\n",
    "a_scan = []\n",
    "for i, val in enumerate(cord_scan):\n",
    "    a_scan.append(val)\n",
    "\n",
    "acord_scan = np.array(a_scan)\n",
    "acord_scan"
   ]
  },
  {
   "cell_type": "code",
   "execution_count": 164,
   "metadata": {
    "collapsed": false
   },
   "outputs": [
    {
     "data": {
      "text/plain": [
       "array([[ 89.5],\n",
       "       [111.5],\n",
       "       [134.5],\n",
       "       [157.5],\n",
       "       [179.5],\n",
       "       [202.5],\n",
       "       [224.5],\n",
       "       [247.5],\n",
       "       [270.5],\n",
       "       [292.5],\n",
       "       [ 89.5],\n",
       "       [111.5],\n",
       "       [134.5],\n",
       "       [157.5],\n",
       "       [179.5],\n",
       "       [202.5],\n",
       "       [224.5],\n",
       "       [247.5],\n",
       "       [270.5],\n",
       "       [292.5],\n",
       "       [ 92.5],\n",
       "       [ 92.5],\n",
       "       [ 92.5],\n",
       "       [ 92.5]])"
      ]
     },
     "execution_count": 164,
     "metadata": {},
     "output_type": "execute_result"
    }
   ],
   "source": [
    "np.array([acord_scan[:,0]]).T/2-4.5"
   ]
  },
  {
   "cell_type": "code",
   "execution_count": 275,
   "metadata": {
    "collapsed": false
   },
   "outputs": [
    {
     "data": {
      "text/plain": [
       "array([[89.867, 188, 94.0],\n",
       "       [111.549, 232, 116.0],\n",
       "       [133.232, 278, 139.0],\n",
       "       [154.914, 324, 162.0],\n",
       "       [176.597, 368, 184.0],\n",
       "       [198.28, 414, 207.0],\n",
       "       [219.962, 458, 229.0],\n",
       "       [241.645, 504, 252.0],\n",
       "       [263.327, 550, 275.0],\n",
       "       [285.01, 594, 297.0],\n",
       "       [89.867, 188, 94.0],\n",
       "       [111.549, 232, 116.0],\n",
       "       [133.232, 278, 139.0],\n",
       "       [154.914, 324, 162.0],\n",
       "       [176.597, 368, 184.0],\n",
       "       [198.28, 414, 207.0],\n",
       "       [219.962, 458, 229.0],\n",
       "       [241.645, 504, 252.0],\n",
       "       [263.327, 550, 275.0],\n",
       "       [285.01, 594, 297.0],\n",
       "       [93.245, 194, 97.0],\n",
       "       [93.245, 194, 97.0],\n",
       "       [93.245, 194, 97.0],\n",
       "       [93.245, 194, 97.0]], dtype=object)"
      ]
     },
     "execution_count": 275,
     "metadata": {},
     "output_type": "execute_result"
    }
   ],
   "source": [
    "x_cord = np.concatenate((np.array([cord_sol[:,0]]).T, np.array([acord_scan[:,0]]).T, np.array([acord_scan[:,0]]).T/2), axis=1)\n",
    "x_cord"
   ]
  },
  {
   "cell_type": "code",
   "execution_count": 290,
   "metadata": {
    "collapsed": false
   },
   "outputs": [
    {
     "data": {
      "text/plain": [
       "(0.0, 600.0)"
      ]
     },
     "execution_count": 290,
     "metadata": {},
     "output_type": "execute_result"
    },
    {
     "data": {
      "image/png": "[encoded data removed]",
      "text/plain": [
       "<Figure size 1152x864 with 1 Axes>"
      ]
     },
     "metadata": {
      "needs_background": "light"
     },
     "output_type": "display_data"
    }
   ],
   "source": [
    "import matplotlib.pyplot as plt\n",
    "\n",
    "fig, ax = plt.subplots()\n",
    "dfx = pd.DataFrame(x_cord)\n",
    "dfx[0] = dfx[0].astype(float)\n",
    "dfx[1] = dfx[1].astype(float)\n",
    "dfx.plot(figsize=(16,12), ax=ax)\n",
    "ax.legend([\"x_PyPDF2\", \"x_boxdetect\", \"x_bd/2\"])\n",
    "ax.set_ylim(0,600)"
   ]
  },
  {
   "cell_type": "code",
   "execution_count": 288,
   "metadata": {
    "collapsed": false
   },
   "outputs": [
    {
     "data": {
      "text/plain": [
       "array([[581.13, 518, 581.0],\n",
       "       [581.13, 518, 581.0],\n",
       "       [581.13, 518, 581.0],\n",
       "       [581.13, 518, 581.0],\n",
       "       [581.13, 518, 581.0],\n",
       "       [581.13, 518, 581.0],\n",
       "       [581.13, 518, 581.0],\n",
       "       [581.13, 518, 581.0],\n",
       "       [581.13, 518, 581.0],\n",
       "       [581.13, 518, 581.0],\n",
       "       [564.885, 552, 564.0],\n",
       "       [564.885, 552, 564.0],\n",
       "       [564.885, 552, 564.0],\n",
       "       [564.885, 552, 564.0],\n",
       "       [564.885, 552, 564.0],\n",
       "       [564.885, 552, 564.0],\n",
       "       [564.885, 552, 564.0],\n",
       "       [564.885, 552, 564.0],\n",
       "       [564.885, 552, 564.0],\n",
       "       [564.885, 552, 564.0],\n",
       "       [498.248, 690, 495.0],\n",
       "       [482.308, 724, 478.0],\n",
       "       [466.368, 756, 462.0],\n",
       "       [450.428, 789, 445.5]], dtype=object)"
      ]
     },
     "execution_count": 288,
     "metadata": {},
     "output_type": "execute_result"
    }
   ],
   "source": [
    "y_cord = np.concatenate((np.array([cord_sol[:,1]]).T, np.array([acord_scan[:,1]]).T, 840-np.array([acord_scan[:,1]]).T/2), axis=1)\n",
    "y_cord"
   ]
  },
  {
   "cell_type": "code",
   "execution_count": 293,
   "metadata": {
    "collapsed": false
   },
   "outputs": [
    {
     "data": {
      "text/plain": [
       "(0.0, 800.0)"
      ]
     },
     "execution_count": 293,
     "metadata": {},
     "output_type": "execute_result"
    },
    {
     "data": {
      "image/png": "[encoded data removed]",
      "text/plain": [
       "<Figure size 1152x864 with 1 Axes>"
      ]
     },
     "metadata": {
      "needs_background": "light"
     },
     "output_type": "display_data"
    }
   ],
   "source": [
    "x_cord\n",
    "import matplotlib.pyplot as plt\n",
    "\n",
    "fig, ax = plt.subplots()\n",
    "dfy = pd.DataFrame(y_cord)\n",
    "dfy[0] = dfy[0].astype(float)\n",
    "dfy[1] = dfy[1].astype(float)\n",
    "dfy.plot(figsize=(16,12), ax=ax)\n",
    "ax.legend([\"y_PyPDF2\", \"y_boxdetect\", \"840-y_bd/2\"])\n",
    "ax.set_ylim(0,800)"
   ]
  },
  {
   "cell_type": "code",
   "execution_count": 210,
   "metadata": {
    "collapsed": false
   },
   "outputs": [
    {
     "data": {
      "text/plain": [
       "(array([[89.867],\n",
       "        [111.549],\n",
       "        [133.232],\n",
       "        [154.914],\n",
       "        [176.597],\n",
       "        [198.28],\n",
       "        [219.962],\n",
       "        [241.645],\n",
       "        [263.327],\n",
       "        [285.01],\n",
       "        [89.867],\n",
       "        [111.549],\n",
       "        [133.232],\n",
       "        [154.914],\n",
       "        [176.597],\n",
       "        [198.28],\n",
       "        [219.962],\n",
       "        [241.645],\n",
       "        [263.327],\n",
       "        [285.01],\n",
       "        [93.245],\n",
       "        [93.245],\n",
       "        [93.245],\n",
       "        [93.245]], dtype=object),\n",
       " array([[188],\n",
       "        [232],\n",
       "        [278],\n",
       "        [324],\n",
       "        [368],\n",
       "        [414],\n",
       "        [458],\n",
       "        [504],\n",
       "        [550],\n",
       "        [594],\n",
       "        [188],\n",
       "        [232],\n",
       "        [278],\n",
       "        [324],\n",
       "        [368],\n",
       "        [414],\n",
       "        [458],\n",
       "        [504],\n",
       "        [550],\n",
       "        [594],\n",
       "        [194],\n",
       "        [194],\n",
       "        [194],\n",
       "        [194]]))"
      ]
     },
     "execution_count": 210,
     "metadata": {},
     "output_type": "execute_result"
    }
   ],
   "source": [
    "cx = (np.array([cord_sol[:,0]]).T, np.array([acord_scan[:,0]]).T)\n",
    "cx"
   ]
  },
  {
   "cell_type": "code",
   "execution_count": 257,
   "metadata": {
    "collapsed": false
   },
   "outputs": [
    {
     "data": {
      "text/plain": [
       "[[array([Decimal('2.029333087353565169264827968')], dtype=object),\n",
       "  Decimal('5.6299234387971589336777050')],\n",
       " [array([Decimal('2.121477655306000092238158926')], dtype=object),\n",
       "  Decimal('-4.6487109717290042890743900')],\n",
       " [array([Decimal('2.121575500415090858776865603')], dtype=object),\n",
       "  Decimal('-4.6617470713033852965593580')],\n",
       " [array([Decimal('2.029239496379652262140847669')], dtype=object),\n",
       "  Decimal('9.6423926578425494627127242')],\n",
       " [array([Decimal('2.121477655306000092238158926')], dtype=object),\n",
       "  Decimal('-6.6465894940736982889821518')],\n",
       " [array([Decimal('2.029333087353565169264827968')], dtype=object),\n",
       "  Decimal('11.6238354395350982381699105')],\n",
       " [array([Decimal('2.121477655306000092238158926')], dtype=object),\n",
       "  Decimal('-8.6444680164183922888899137')],\n",
       " [array([Decimal('2.121575500415090858776865603')], dtype=object),\n",
       "  Decimal('-8.6681117978046305691356886')],\n",
       " [array([Decimal('2.029239496379652262140847669')], dtype=object),\n",
       "  Decimal('15.6464511368353087672370059')],\n",
       " [array([Decimal('2.080525563304858488390564868')], dtype=object),\n",
       "  Decimal('1.0294092024822822238051070')],\n",
       " [array([Decimal('2.029333087353565169264827968')], dtype=object),\n",
       "  Decimal('5.6299234387971589336777050')],\n",
       " [array([Decimal('2.121477655306000092238158926')], dtype=object),\n",
       "  Decimal('-4.6487109717290042890743900')],\n",
       " [array([Decimal('2.121575500415090858776865603')], dtype=object),\n",
       "  Decimal('-4.6617470713033852965593580')],\n",
       " [array([Decimal('2.029239496379652262140847669')], dtype=object),\n",
       "  Decimal('9.6423926578425494627127242')],\n",
       " [array([Decimal('2.121477655306000092238158926')], dtype=object),\n",
       "  Decimal('-6.6465894940736982889821518')],\n",
       " [array([Decimal('2.029333087353565169264827968')], dtype=object),\n",
       "  Decimal('11.6238354395350982381699105')],\n",
       " [array([Decimal('2.121477655306000092238158926')], dtype=object),\n",
       "  Decimal('-8.6444680164183922888899137')],\n",
       " [array([Decimal('2.121575500415090858776865603')], dtype=object),\n",
       "  Decimal('-8.6681117978046305691356886')],\n",
       " [array([Decimal('2.029239496379652262140847669')], dtype=object),\n",
       "  Decimal('15.6464511368353087672370059')],\n",
       " [array([Decimal('2.085886371339921257789481918')], dtype=object),\n",
       "  Decimal('-0.4984746955909576825802414')],\n",
       " [2, Decimal('7.510')],\n",
       " [2, Decimal('7.510')],\n",
       " [2, Decimal('7.510')]]"
      ]
     },
     "execution_count": 257,
     "metadata": {},
     "output_type": "execute_result"
    }
   ],
   "source": [
    "aux = []\n",
    "for i in range(1,24):\n",
    "    m1 = (cx[1][i] - cx[1][i-1])\n",
    "    m2 = (cx[0][i] - cx[0][i-1])\n",
    "    if m2 == 0:\n",
    "        m = 2\n",
    "    else:\n",
    "        m = m1/m2\n",
    "    n = cx[1][i] - m * cx[0][i]\n",
    "    aux.append([m,n[0]])\n",
    "aux"
   ]
  },
  {
   "cell_type": "code",
   "execution_count": 258,
   "metadata": {
    "collapsed": false
   },
   "outputs": [
    {
     "data": {
      "text/plain": [
       "(array([[581.13],\n",
       "        [581.13],\n",
       "        [581.13],\n",
       "        [581.13],\n",
       "        [581.13],\n",
       "        [581.13],\n",
       "        [581.13],\n",
       "        [581.13],\n",
       "        [581.13],\n",
       "        [581.13],\n",
       "        [564.885],\n",
       "        [564.885],\n",
       "        [564.885],\n",
       "        [564.885],\n",
       "        [564.885],\n",
       "        [564.885],\n",
       "        [564.885],\n",
       "        [564.885],\n",
       "        [564.885],\n",
       "        [564.885],\n",
       "        [498.248],\n",
       "        [482.308],\n",
       "        [466.368],\n",
       "        [450.428]], dtype=object),\n",
       " array([[518],\n",
       "        [518],\n",
       "        [518],\n",
       "        [518],\n",
       "        [518],\n",
       "        [518],\n",
       "        [518],\n",
       "        [518],\n",
       "        [518],\n",
       "        [518],\n",
       "        [552],\n",
       "        [552],\n",
       "        [552],\n",
       "        [552],\n",
       "        [552],\n",
       "        [552],\n",
       "        [552],\n",
       "        [552],\n",
       "        [552],\n",
       "        [552],\n",
       "        [690],\n",
       "        [724],\n",
       "        [756],\n",
       "        [789]]))"
      ]
     },
     "execution_count": 258,
     "metadata": {},
     "output_type": "execute_result"
    }
   ],
   "source": [
    "cy = (np.array([cord_sol[:,1]]).T, np.array([acord_scan[:,1]]).T)\n",
    "cy"
   ]
  },
  {
   "cell_type": "code",
   "execution_count": 260,
   "metadata": {
    "collapsed": false
   },
   "outputs": [
    {
     "data": {
      "text/plain": [
       "[[-2, Decimal('1680.26')],\n",
       " [-2, Decimal('1680.26')],\n",
       " [-2, Decimal('1680.26')],\n",
       " [-2, Decimal('1680.26')],\n",
       " [-2, Decimal('1680.26')],\n",
       " [-2, Decimal('1680.26')],\n",
       " [-2, Decimal('1680.26')],\n",
       " [-2, Decimal('1680.26')],\n",
       " [-2, Decimal('1680.26')],\n",
       " [array([Decimal('-2.092951677439212065250846414')], dtype=object),\n",
       "  Decimal('1734.277008310249307479224377')],\n",
       " [-2, Decimal('1681.770')],\n",
       " [-2, Decimal('1681.770')],\n",
       " [-2, Decimal('1681.770')],\n",
       " [-2, Decimal('1681.770')],\n",
       " [-2, Decimal('1681.770')],\n",
       " [-2, Decimal('1681.770')],\n",
       " [-2, Decimal('1681.770')],\n",
       " [-2, Decimal('1681.770')],\n",
       " [-2, Decimal('1681.770')],\n",
       " [array([Decimal('-2.070921560094241937662259706')], dtype=object),\n",
       "  Decimal('1721.832525473835856956345574')],\n",
       " [array([Decimal('-2.132998745294855708908406524')], dtype=object),\n",
       "  Decimal('1752.762358845671267252195734')],\n",
       " [array([Decimal('-2.007528230865746549560853199')], dtype=object),\n",
       "  Decimal('1692.246925972396486825595985')],\n",
       " [array([Decimal('-2.070263488080301129234629862')], dtype=object),\n",
       "  Decimal('1721.504642409033877038895860')]]"
      ]
     },
     "execution_count": 260,
     "metadata": {},
     "output_type": "execute_result"
    }
   ],
   "source": [
    "auy = []\n",
    "for i in range(1,24):\n",
    "    m1 = (cy[1][i] - cy[1][i-1])\n",
    "    m2 = (cy[0][i] - cy[0][i-1])\n",
    "    if m2 == 0:\n",
    "        m = -2\n",
    "    else:\n",
    "        m = m1/m2\n",
    "    n = cy[1][i] - m * cy[0][i]\n",
    "    auy.append([m,n[0]])\n",
    "auy"
   ]
  },
  {
   "cell_type": "code",
   "execution_count": null,
   "metadata": {
    "collapsed": false
   },
   "outputs": [],
   "source": []
  }
 ],
 "metadata": {
  "kernelspec": {
   "display_name": "Python 3",
   "language": "python",
   "name": "python3"
  },
  "language_info": {
   "codemirror_mode": {
    "name": "ipython",
    "version": 2
   },
   "file_extension": ".py",
   "mimetype": "text/x-python",
   "name": "python",
   "nbconvert_exporter": "python",
   "pygments_lexer": "ipython2",
   "version": "3.9.13"
  }
 },
 "nbformat": 4,
 "nbformat_minor": 0
}
