{
 "cells": [
  {
   "cell_type": "markdown",
   "source": [
    "primero lo intento con boxdetect pero no funciona, no detecta todas las casillas"
   ],
   "metadata": {
    "collapsed": false
   }
  },
  {
   "cell_type": "markdown",
   "source": [
    "cfg = config.PipelinesConfig()\n",
    "\n",
    "#Esto sirve para identificar grupos de casillas, que no considera checkboxes si no character boxes\n",
    "cfg.horizontal_max_distance = [10]\n",
    "\n",
    "# important to adjust these values to match the size of boxes on your image\n",
    "cfg.width_range = (30,50)\n",
    "cfg.height_range = (30,50)\n",
    "\n",
    "# the more scaling factors the more accurate the results but also it takes more time to processing\n",
    "# too small scaling factor may cause false positives\n",
    "# too big scaling factor will take a lot of processing time\n",
    "cfg.scaling_factors = [2.0]\n",
    "\n",
    "# w/h ratio range for boxes/rectangles filtering\n",
    "cfg.wh_ratio_range = (0.8, 1.2)\n",
    "\n",
    "# group_size_range starting from 2 will skip all the groups\n",
    "# with a single box detected inside (like checkboxes)\n",
    "cfg.group_size_range = (1, 1)\n",
    "\n",
    "# num of iterations when running dilation tranformation (to engance the image)\n",
    "cfg.dilation_iterations = 0"
   ],
   "metadata": {
    "collapsed": false
   }
  },
  {
   "cell_type": "markdown",
   "source": [
    "images = convert_from_path('scanned.pdf', 250)\n",
    "for i, image in enumerate(images):\n",
    "    im_file = 'page_' + str(i) + '.png'\n",
    "    image.save(im_file)\n",
    "    #cboxes = get_checkboxes(im_file, cfg=cfg, px_threshold=0.1, plot=True)\n",
    "\n",
    "\n",
    "    from boxdetect.pipelines import get_boxes\n",
    "\n",
    "    rects, grouping_rects, image, output_image = get_boxes(\n",
    "        im_file, cfg=cfg, plot=False)\n",
    "\n",
    "    from boxdetect.img_proc import draw_rects, get_image\n",
    "    import matplotlib.pyplot as plt\n",
    "    %matplotlib inline\n",
    "\n",
    "    out_img = draw_rects(get_image(im_file), rects, thickness=3)\n",
    "\n",
    "    plt.figure(figsize=(20,20))\n",
    "    plt.imshow(output_image)\n",
    "    #plt.show()\n",
    "    plt.savefig('box_' + str(i) + '.png')"
   ],
   "metadata": {
    "collapsed": false
   }
  }
 ],
 "metadata": {
  "kernelspec": {
   "display_name": "Python 3",
   "language": "python",
   "name": "python3"
  },
  "language_info": {
   "codemirror_mode": {
    "name": "ipython",
    "version": 2
   },
   "file_extension": ".py",
   "mimetype": "text/x-python",
   "name": "python",
   "nbconvert_exporter": "python",
   "pygments_lexer": "ipython2",
   "version": "2.7.6"
  }
 },
 "nbformat": 4,
 "nbformat_minor": 0
}
