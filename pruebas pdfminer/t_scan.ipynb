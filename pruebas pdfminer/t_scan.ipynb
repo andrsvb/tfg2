{
 "cells": [
  {
   "cell_type": "markdown",
   "source": [
    "libraries used"
   ],
   "metadata": {
    "collapsed": false
   }
  },
  {
   "cell_type": "code",
   "execution_count": 22,
   "metadata": {
    "collapsed": true
   },
   "outputs": [],
   "source": [
    "import csv\n",
    "import PyPDF2 as pypdf\n",
    "import json\n",
    "import os\n",
    "from pdf2image import convert_from_path\n",
    "import checkboxes\n",
    "\n",
    "\n",
    "import matplotlib.pyplot as plt"
   ]
  },
  {
   "cell_type": "markdown",
   "source": [
    "'detect' getting the data for the solutions"
   ],
   "metadata": {
    "collapsed": false
   }
  },
  {
   "cell_type": "code",
   "execution_count": 29,
   "outputs": [
    {
     "name": "stdout",
     "output_type": "stream",
     "text": [
      "{'1:case:basic-adittion:1,1': {'/T': '1:case:basic-adittion:1,1', '/FT': '/Btn', '/V': '/Off', '/Rect': [89.867, 581.13, 102.583, 593.846]}, '1:case:basic-adittion:1,2': {'/T': '1:case:basic-adittion:1,2', '/FT': '/Btn', '/V': '/Yes', '/Rect': [111.549, 581.13, 124.265, 593.846]}, '1:case:basic-adittion:1,3': {'/T': '1:case:basic-adittion:1,3', '/FT': '/Btn', '/V': '/Off', '/Rect': [133.232, 581.13, 145.948, 593.846]}, '1:case:basic-adittion:1,4': {'/T': '1:case:basic-adittion:1,4', '/FT': '/Btn', '/V': '/Off', '/Rect': [154.914, 581.13, 167.631, 593.846]}, '1:case:basic-adittion:1,5': {'/T': '1:case:basic-adittion:1,5', '/FT': '/Btn', '/V': '/Off', '/Rect': [176.597, 581.13, 189.313, 593.846]}, '1:case:basic-adittion:1,6': {'/T': '1:case:basic-adittion:1,6', '/FT': '/Btn', '/V': '/Off', '/Rect': [198.28, 581.13, 210.996, 593.846]}, '1:case:basic-adittion:1,7': {'/T': '1:case:basic-adittion:1,7', '/FT': '/Btn', '/V': '/Off', '/Rect': [219.962, 581.13, 232.678, 593.846]}, '1:case:basic-adittion:1,8': {'/T': '1:case:basic-adittion:1,8', '/FT': '/Btn', '/V': '/Off', '/Rect': [241.645, 581.13, 254.361, 593.846]}, '1:case:basic-adittion:1,9': {'/T': '1:case:basic-adittion:1,9', '/FT': '/Btn', '/V': '/Off', '/Rect': [263.327, 581.13, 276.044, 593.846]}, '1:case:basic-adittion:1,10': {'/T': '1:case:basic-adittion:1,10', '/FT': '/Btn', '/V': '/Off', '/Rect': [285.01, 581.13, 297.726, 593.846]}, '1:case:basic-adittion:1,11': {'/T': '1:case:basic-adittion:1,11', '/FT': '/Btn', '/V': '/Yes', '/Rect': [89.867, 564.885, 102.583, 577.602]}, '1:case:basic-adittion:1,12': {'/T': '1:case:basic-adittion:1,12', '/FT': '/Btn', '/V': '/Off', '/Rect': [111.549, 564.885, 124.265, 577.602]}, '1:case:basic-adittion:1,13': {'/T': '1:case:basic-adittion:1,13', '/FT': '/Btn', '/V': '/Off', '/Rect': [133.232, 564.885, 145.948, 577.602]}, '1:case:basic-adittion:1,14': {'/T': '1:case:basic-adittion:1,14', '/FT': '/Btn', '/V': '/Off', '/Rect': [154.914, 564.885, 167.631, 577.602]}, '1:case:basic-adittion:1,15': {'/T': '1:case:basic-adittion:1,15', '/FT': '/Btn', '/V': '/Off', '/Rect': [176.597, 564.885, 189.313, 577.602]}, '1:case:basic-adittion:1,16': {'/T': '1:case:basic-adittion:1,16', '/FT': '/Btn', '/V': '/Off', '/Rect': [198.28, 564.885, 210.996, 577.602]}, '1:case:basic-adittion:1,17': {'/T': '1:case:basic-adittion:1,17', '/FT': '/Btn', '/V': '/Off', '/Rect': [219.962, 564.885, 232.678, 577.602]}, '1:case:basic-adittion:1,18': {'/T': '1:case:basic-adittion:1,18', '/FT': '/Btn', '/V': '/Off', '/Rect': [241.645, 564.885, 254.361, 577.602]}, '1:case:basic-adittion:1,19': {'/T': '1:case:basic-adittion:1,19', '/FT': '/Btn', '/V': '/Off', '/Rect': [263.327, 564.885, 276.044, 577.602]}, '1:case:basic-adittion:1,20': {'/T': '1:case:basic-adittion:1,20', '/FT': '/Btn', '/V': '/Off', '/Rect': [285.01, 564.885, 297.726, 577.602]}, '1:case:derivativesin:2,4': {'/T': '1:case:derivativesin:2,4', '/FT': '/Btn', '/V': '/Off', '/Rect': [93.245, 498.248, 105.961, 510.965]}, '1:case:derivativesin:2,2': {'/T': '1:case:derivativesin:2,2', '/FT': '/Btn', '/V': '/Off', '/Rect': [93.245, 482.308, 105.961, 495.024]}, '1:case:derivativesin:2,3': {'/T': '1:case:derivativesin:2,3', '/FT': '/Btn', '/V': '/Off', '/Rect': [93.245, 466.368, 105.961, 479.084]}, '1:case:derivativesin:2,1': {'/T': '1:case:derivativesin:2,1', '/FT': '/Btn', '/V': '/Yes', '/Rect': [93.245, 450.428, 105.961, 463.144]}}\n",
      "{'1:case:basic-adittion:1,1': {'/T': '1:case:basic-adittion:1,1', '/FT': '/Btn', '/V': '/Off', '/Rect': [89.867, 581.13, 102.583, 593.846]}, '1:case:basic-adittion:1,2': {'/T': '1:case:basic-adittion:1,2', '/FT': '/Btn', '/V': '/Yes', '/Rect': [111.549, 581.13, 124.265, 593.846]}, '1:case:basic-adittion:1,3': {'/T': '1:case:basic-adittion:1,3', '/FT': '/Btn', '/V': '/Off', '/Rect': [133.232, 581.13, 145.948, 593.846]}, '1:case:basic-adittion:1,4': {'/T': '1:case:basic-adittion:1,4', '/FT': '/Btn', '/V': '/Off', '/Rect': [154.914, 581.13, 167.631, 593.846]}, '1:case:basic-adittion:1,5': {'/T': '1:case:basic-adittion:1,5', '/FT': '/Btn', '/V': '/Off', '/Rect': [176.597, 581.13, 189.313, 593.846]}, '1:case:basic-adittion:1,6': {'/T': '1:case:basic-adittion:1,6', '/FT': '/Btn', '/V': '/Off', '/Rect': [198.28, 581.13, 210.996, 593.846]}, '1:case:basic-adittion:1,7': {'/T': '1:case:basic-adittion:1,7', '/FT': '/Btn', '/V': '/Off', '/Rect': [219.962, 581.13, 232.678, 593.846]}, '1:case:basic-adittion:1,8': {'/T': '1:case:basic-adittion:1,8', '/FT': '/Btn', '/V': '/Off', '/Rect': [241.645, 581.13, 254.361, 593.846]}, '1:case:basic-adittion:1,9': {'/T': '1:case:basic-adittion:1,9', '/FT': '/Btn', '/V': '/Off', '/Rect': [263.327, 581.13, 276.044, 593.846]}, '1:case:basic-adittion:1,10': {'/T': '1:case:basic-adittion:1,10', '/FT': '/Btn', '/V': '/Off', '/Rect': [285.01, 581.13, 297.726, 593.846]}, '1:case:basic-adittion:1,11': {'/T': '1:case:basic-adittion:1,11', '/FT': '/Btn', '/V': '/Off', '/Rect': [89.867, 564.885, 102.583, 577.602]}, '1:case:basic-adittion:1,12': {'/T': '1:case:basic-adittion:1,12', '/FT': '/Btn', '/V': '/Yes', '/Rect': [111.549, 564.885, 124.265, 577.602]}, '1:case:basic-adittion:1,13': {'/T': '1:case:basic-adittion:1,13', '/FT': '/Btn', '/V': '/Off', '/Rect': [133.232, 564.885, 145.948, 577.602]}, '1:case:basic-adittion:1,14': {'/T': '1:case:basic-adittion:1,14', '/FT': '/Btn', '/V': '/Off', '/Rect': [154.914, 564.885, 167.631, 577.602]}, '1:case:basic-adittion:1,15': {'/T': '1:case:basic-adittion:1,15', '/FT': '/Btn', '/V': '/Off', '/Rect': [176.597, 564.885, 189.313, 577.602]}, '1:case:basic-adittion:1,16': {'/T': '1:case:basic-adittion:1,16', '/FT': '/Btn', '/V': '/Off', '/Rect': [198.28, 564.885, 210.996, 577.602]}, '1:case:basic-adittion:1,17': {'/T': '1:case:basic-adittion:1,17', '/FT': '/Btn', '/V': '/Off', '/Rect': [219.962, 564.885, 232.678, 577.602]}, '1:case:basic-adittion:1,18': {'/T': '1:case:basic-adittion:1,18', '/FT': '/Btn', '/V': '/Off', '/Rect': [241.645, 564.885, 254.361, 577.602]}, '1:case:basic-adittion:1,19': {'/T': '1:case:basic-adittion:1,19', '/FT': '/Btn', '/V': '/Off', '/Rect': [263.327, 564.885, 276.044, 577.602]}, '1:case:basic-adittion:1,20': {'/T': '1:case:basic-adittion:1,20', '/FT': '/Btn', '/V': '/Off', '/Rect': [285.01, 564.885, 297.726, 577.602]}, '1:case:derivativesin:2,4': {'/T': '1:case:derivativesin:2,4', '/FT': '/Btn', '/V': '/Off', '/Rect': [93.245, 498.248, 105.961, 510.965]}, '1:case:derivativesin:2,2': {'/T': '1:case:derivativesin:2,2', '/FT': '/Btn', '/V': '/Off', '/Rect': [93.245, 482.308, 105.961, 495.024]}, '1:case:derivativesin:2,3': {'/T': '1:case:derivativesin:2,3', '/FT': '/Btn', '/V': '/Off', '/Rect': [93.245, 466.368, 105.961, 479.084]}, '1:case:derivativesin:2,1': {'/T': '1:case:derivativesin:2,1', '/FT': '/Btn', '/V': '/Yes', '/Rect': [93.245, 450.428, 105.961, 463.144]}}\n",
      "{'1:case:basic-adittion:1,1': {'/T': '1:case:basic-adittion:1,1', '/FT': '/Btn', '/V': '/Off', '/Rect': [89.867, 581.13, 102.583, 593.846]}, '1:case:basic-adittion:1,2': {'/T': '1:case:basic-adittion:1,2', '/FT': '/Btn', '/V': '/Yes', '/Rect': [111.549, 581.13, 124.265, 593.846]}, '1:case:basic-adittion:1,3': {'/T': '1:case:basic-adittion:1,3', '/FT': '/Btn', '/V': '/Off', '/Rect': [133.232, 581.13, 145.948, 593.846]}, '1:case:basic-adittion:1,4': {'/T': '1:case:basic-adittion:1,4', '/FT': '/Btn', '/V': '/Off', '/Rect': [154.914, 581.13, 167.631, 593.846]}, '1:case:basic-adittion:1,5': {'/T': '1:case:basic-adittion:1,5', '/FT': '/Btn', '/V': '/Off', '/Rect': [176.597, 581.13, 189.313, 593.846]}, '1:case:basic-adittion:1,6': {'/T': '1:case:basic-adittion:1,6', '/FT': '/Btn', '/V': '/Off', '/Rect': [198.28, 581.13, 210.996, 593.846]}, '1:case:basic-adittion:1,7': {'/T': '1:case:basic-adittion:1,7', '/FT': '/Btn', '/V': '/Off', '/Rect': [219.962, 581.13, 232.678, 593.846]}, '1:case:basic-adittion:1,8': {'/T': '1:case:basic-adittion:1,8', '/FT': '/Btn', '/V': '/Off', '/Rect': [241.645, 581.13, 254.361, 593.846]}, '1:case:basic-adittion:1,9': {'/T': '1:case:basic-adittion:1,9', '/FT': '/Btn', '/V': '/Off', '/Rect': [263.327, 581.13, 276.044, 593.846]}, '1:case:basic-adittion:1,10': {'/T': '1:case:basic-adittion:1,10', '/FT': '/Btn', '/V': '/Off', '/Rect': [285.01, 581.13, 297.726, 593.846]}, '1:case:basic-adittion:1,11': {'/T': '1:case:basic-adittion:1,11', '/FT': '/Btn', '/V': '/Off', '/Rect': [89.867, 564.885, 102.583, 577.602]}, '1:case:basic-adittion:1,12': {'/T': '1:case:basic-adittion:1,12', '/FT': '/Btn', '/V': '/Off', '/Rect': [111.549, 564.885, 124.265, 577.602]}, '1:case:basic-adittion:1,13': {'/T': '1:case:basic-adittion:1,13', '/FT': '/Btn', '/V': '/Yes', '/Rect': [133.232, 564.885, 145.948, 577.602]}, '1:case:basic-adittion:1,14': {'/T': '1:case:basic-adittion:1,14', '/FT': '/Btn', '/V': '/Off', '/Rect': [154.914, 564.885, 167.631, 577.602]}, '1:case:basic-adittion:1,15': {'/T': '1:case:basic-adittion:1,15', '/FT': '/Btn', '/V': '/Off', '/Rect': [176.597, 564.885, 189.313, 577.602]}, '1:case:basic-adittion:1,16': {'/T': '1:case:basic-adittion:1,16', '/FT': '/Btn', '/V': '/Off', '/Rect': [198.28, 564.885, 210.996, 577.602]}, '1:case:basic-adittion:1,17': {'/T': '1:case:basic-adittion:1,17', '/FT': '/Btn', '/V': '/Off', '/Rect': [219.962, 564.885, 232.678, 577.602]}, '1:case:basic-adittion:1,18': {'/T': '1:case:basic-adittion:1,18', '/FT': '/Btn', '/V': '/Off', '/Rect': [241.645, 564.885, 254.361, 577.602]}, '1:case:basic-adittion:1,19': {'/T': '1:case:basic-adittion:1,19', '/FT': '/Btn', '/V': '/Off', '/Rect': [263.327, 564.885, 276.044, 577.602]}, '1:case:basic-adittion:1,20': {'/T': '1:case:basic-adittion:1,20', '/FT': '/Btn', '/V': '/Off', '/Rect': [285.01, 564.885, 297.726, 577.602]}, '1:case:derivativesin:2,4': {'/T': '1:case:derivativesin:2,4', '/FT': '/Btn', '/V': '/Off', '/Rect': [93.245, 498.248, 105.961, 510.965]}, '1:case:derivativesin:2,2': {'/T': '1:case:derivativesin:2,2', '/FT': '/Btn', '/V': '/Off', '/Rect': [93.245, 482.308, 105.961, 495.024]}, '1:case:derivativesin:2,3': {'/T': '1:case:derivativesin:2,3', '/FT': '/Btn', '/V': '/Off', '/Rect': [93.245, 466.368, 105.961, 479.084]}, '1:case:derivativesin:2,1': {'/T': '1:case:derivativesin:2,1', '/FT': '/Btn', '/V': '/Yes', '/Rect': [93.245, 450.428, 105.961, 463.144]}}\n",
      "{'1:case:basic-adittion:1,1': {'/T': '1:case:basic-adittion:1,1', '/FT': '/Btn', '/V': '/Off', '/Rect': [89.867, 581.13, 102.583, 593.846]}, '1:case:basic-adittion:1,2': {'/T': '1:case:basic-adittion:1,2', '/FT': '/Btn', '/V': '/Yes', '/Rect': [111.549, 581.13, 124.265, 593.846]}, '1:case:basic-adittion:1,3': {'/T': '1:case:basic-adittion:1,3', '/FT': '/Btn', '/V': '/Off', '/Rect': [133.232, 581.13, 145.948, 593.846]}, '1:case:basic-adittion:1,4': {'/T': '1:case:basic-adittion:1,4', '/FT': '/Btn', '/V': '/Off', '/Rect': [154.914, 581.13, 167.631, 593.846]}, '1:case:basic-adittion:1,5': {'/T': '1:case:basic-adittion:1,5', '/FT': '/Btn', '/V': '/Off', '/Rect': [176.597, 581.13, 189.313, 593.846]}, '1:case:basic-adittion:1,6': {'/T': '1:case:basic-adittion:1,6', '/FT': '/Btn', '/V': '/Off', '/Rect': [198.28, 581.13, 210.996, 593.846]}, '1:case:basic-adittion:1,7': {'/T': '1:case:basic-adittion:1,7', '/FT': '/Btn', '/V': '/Off', '/Rect': [219.962, 581.13, 232.678, 593.846]}, '1:case:basic-adittion:1,8': {'/T': '1:case:basic-adittion:1,8', '/FT': '/Btn', '/V': '/Off', '/Rect': [241.645, 581.13, 254.361, 593.846]}, '1:case:basic-adittion:1,9': {'/T': '1:case:basic-adittion:1,9', '/FT': '/Btn', '/V': '/Off', '/Rect': [263.327, 581.13, 276.044, 593.846]}, '1:case:basic-adittion:1,10': {'/T': '1:case:basic-adittion:1,10', '/FT': '/Btn', '/V': '/Off', '/Rect': [285.01, 581.13, 297.726, 593.846]}, '1:case:basic-adittion:1,11': {'/T': '1:case:basic-adittion:1,11', '/FT': '/Btn', '/V': '/Off', '/Rect': [89.867, 564.885, 102.583, 577.602]}, '1:case:basic-adittion:1,12': {'/T': '1:case:basic-adittion:1,12', '/FT': '/Btn', '/V': '/Off', '/Rect': [111.549, 564.885, 124.265, 577.602]}, '1:case:basic-adittion:1,13': {'/T': '1:case:basic-adittion:1,13', '/FT': '/Btn', '/V': '/Off', '/Rect': [133.232, 564.885, 145.948, 577.602]}, '1:case:basic-adittion:1,14': {'/T': '1:case:basic-adittion:1,14', '/FT': '/Btn', '/V': '/Yes', '/Rect': [154.914, 564.885, 167.631, 577.602]}, '1:case:basic-adittion:1,15': {'/T': '1:case:basic-adittion:1,15', '/FT': '/Btn', '/V': '/Off', '/Rect': [176.597, 564.885, 189.313, 577.602]}, '1:case:basic-adittion:1,16': {'/T': '1:case:basic-adittion:1,16', '/FT': '/Btn', '/V': '/Off', '/Rect': [198.28, 564.885, 210.996, 577.602]}, '1:case:basic-adittion:1,17': {'/T': '1:case:basic-adittion:1,17', '/FT': '/Btn', '/V': '/Off', '/Rect': [219.962, 564.885, 232.678, 577.602]}, '1:case:basic-adittion:1,18': {'/T': '1:case:basic-adittion:1,18', '/FT': '/Btn', '/V': '/Off', '/Rect': [241.645, 564.885, 254.361, 577.602]}, '1:case:basic-adittion:1,19': {'/T': '1:case:basic-adittion:1,19', '/FT': '/Btn', '/V': '/Off', '/Rect': [263.327, 564.885, 276.044, 577.602]}, '1:case:basic-adittion:1,20': {'/T': '1:case:basic-adittion:1,20', '/FT': '/Btn', '/V': '/Off', '/Rect': [285.01, 564.885, 297.726, 577.602]}, '1:case:derivativesin:2,4': {'/T': '1:case:derivativesin:2,4', '/FT': '/Btn', '/V': '/Off', '/Rect': [93.245, 498.248, 105.961, 510.965]}, '1:case:derivativesin:2,2': {'/T': '1:case:derivativesin:2,2', '/FT': '/Btn', '/V': '/Off', '/Rect': [93.245, 482.308, 105.961, 495.024]}, '1:case:derivativesin:2,3': {'/T': '1:case:derivativesin:2,3', '/FT': '/Btn', '/V': '/Off', '/Rect': [93.245, 466.368, 105.961, 479.084]}, '1:case:derivativesin:2,1': {'/T': '1:case:derivativesin:2,1', '/FT': '/Btn', '/V': '/Yes', '/Rect': [93.245, 450.428, 105.961, 463.144]}}\n",
      "{'1:case:basic-adittion:1,1': {'/T': '1:case:basic-adittion:1,1', '/FT': '/Btn', '/V': '/Off', '/Rect': [89.867, 581.13, 102.583, 593.846]}, '1:case:basic-adittion:1,2': {'/T': '1:case:basic-adittion:1,2', '/FT': '/Btn', '/V': '/Yes', '/Rect': [111.549, 581.13, 124.265, 593.846]}, '1:case:basic-adittion:1,3': {'/T': '1:case:basic-adittion:1,3', '/FT': '/Btn', '/V': '/Off', '/Rect': [133.232, 581.13, 145.948, 593.846]}, '1:case:basic-adittion:1,4': {'/T': '1:case:basic-adittion:1,4', '/FT': '/Btn', '/V': '/Off', '/Rect': [154.914, 581.13, 167.631, 593.846]}, '1:case:basic-adittion:1,5': {'/T': '1:case:basic-adittion:1,5', '/FT': '/Btn', '/V': '/Off', '/Rect': [176.597, 581.13, 189.313, 593.846]}, '1:case:basic-adittion:1,6': {'/T': '1:case:basic-adittion:1,6', '/FT': '/Btn', '/V': '/Off', '/Rect': [198.28, 581.13, 210.996, 593.846]}, '1:case:basic-adittion:1,7': {'/T': '1:case:basic-adittion:1,7', '/FT': '/Btn', '/V': '/Off', '/Rect': [219.962, 581.13, 232.678, 593.846]}, '1:case:basic-adittion:1,8': {'/T': '1:case:basic-adittion:1,8', '/FT': '/Btn', '/V': '/Off', '/Rect': [241.645, 581.13, 254.361, 593.846]}, '1:case:basic-adittion:1,9': {'/T': '1:case:basic-adittion:1,9', '/FT': '/Btn', '/V': '/Off', '/Rect': [263.327, 581.13, 276.044, 593.846]}, '1:case:basic-adittion:1,10': {'/T': '1:case:basic-adittion:1,10', '/FT': '/Btn', '/V': '/Off', '/Rect': [285.01, 581.13, 297.726, 593.846]}, '1:case:basic-adittion:1,11': {'/T': '1:case:basic-adittion:1,11', '/FT': '/Btn', '/V': '/Off', '/Rect': [89.867, 564.885, 102.583, 577.602]}, '1:case:basic-adittion:1,12': {'/T': '1:case:basic-adittion:1,12', '/FT': '/Btn', '/V': '/Off', '/Rect': [111.549, 564.885, 124.265, 577.602]}, '1:case:basic-adittion:1,13': {'/T': '1:case:basic-adittion:1,13', '/FT': '/Btn', '/V': '/Off', '/Rect': [133.232, 564.885, 145.948, 577.602]}, '1:case:basic-adittion:1,14': {'/T': '1:case:basic-adittion:1,14', '/FT': '/Btn', '/V': '/Off', '/Rect': [154.914, 564.885, 167.631, 577.602]}, '1:case:basic-adittion:1,15': {'/T': '1:case:basic-adittion:1,15', '/FT': '/Btn', '/V': '/Yes', '/Rect': [176.597, 564.885, 189.313, 577.602]}, '1:case:basic-adittion:1,16': {'/T': '1:case:basic-adittion:1,16', '/FT': '/Btn', '/V': '/Off', '/Rect': [198.28, 564.885, 210.996, 577.602]}, '1:case:basic-adittion:1,17': {'/T': '1:case:basic-adittion:1,17', '/FT': '/Btn', '/V': '/Off', '/Rect': [219.962, 564.885, 232.678, 577.602]}, '1:case:basic-adittion:1,18': {'/T': '1:case:basic-adittion:1,18', '/FT': '/Btn', '/V': '/Off', '/Rect': [241.645, 564.885, 254.361, 577.602]}, '1:case:basic-adittion:1,19': {'/T': '1:case:basic-adittion:1,19', '/FT': '/Btn', '/V': '/Off', '/Rect': [263.327, 564.885, 276.044, 577.602]}, '1:case:basic-adittion:1,20': {'/T': '1:case:basic-adittion:1,20', '/FT': '/Btn', '/V': '/Off', '/Rect': [285.01, 564.885, 297.726, 577.602]}, '1:case:derivativesin:2,4': {'/T': '1:case:derivativesin:2,4', '/FT': '/Btn', '/V': '/Off', '/Rect': [93.245, 498.248, 105.961, 510.965]}, '1:case:derivativesin:2,2': {'/T': '1:case:derivativesin:2,2', '/FT': '/Btn', '/V': '/Off', '/Rect': [93.245, 482.308, 105.961, 495.024]}, '1:case:derivativesin:2,3': {'/T': '1:case:derivativesin:2,3', '/FT': '/Btn', '/V': '/Off', '/Rect': [93.245, 466.368, 105.961, 479.084]}, '1:case:derivativesin:2,1': {'/T': '1:case:derivativesin:2,1', '/FT': '/Btn', '/V': '/Yes', '/Rect': [93.245, 450.428, 105.961, 463.144]}}\n",
      "{'1:case:basic-adittion:1,1': {'/T': '1:case:basic-adittion:1,1', '/FT': '/Btn', '/V': '/Off', '/Rect': [89.867, 581.13, 102.583, 593.846]}, '1:case:basic-adittion:1,2': {'/T': '1:case:basic-adittion:1,2', '/FT': '/Btn', '/V': '/Yes', '/Rect': [111.549, 581.13, 124.265, 593.846]}, '1:case:basic-adittion:1,3': {'/T': '1:case:basic-adittion:1,3', '/FT': '/Btn', '/V': '/Off', '/Rect': [133.232, 581.13, 145.948, 593.846]}, '1:case:basic-adittion:1,4': {'/T': '1:case:basic-adittion:1,4', '/FT': '/Btn', '/V': '/Off', '/Rect': [154.914, 581.13, 167.631, 593.846]}, '1:case:basic-adittion:1,5': {'/T': '1:case:basic-adittion:1,5', '/FT': '/Btn', '/V': '/Off', '/Rect': [176.597, 581.13, 189.313, 593.846]}, '1:case:basic-adittion:1,6': {'/T': '1:case:basic-adittion:1,6', '/FT': '/Btn', '/V': '/Off', '/Rect': [198.28, 581.13, 210.996, 593.846]}, '1:case:basic-adittion:1,7': {'/T': '1:case:basic-adittion:1,7', '/FT': '/Btn', '/V': '/Off', '/Rect': [219.962, 581.13, 232.678, 593.846]}, '1:case:basic-adittion:1,8': {'/T': '1:case:basic-adittion:1,8', '/FT': '/Btn', '/V': '/Off', '/Rect': [241.645, 581.13, 254.361, 593.846]}, '1:case:basic-adittion:1,9': {'/T': '1:case:basic-adittion:1,9', '/FT': '/Btn', '/V': '/Off', '/Rect': [263.327, 581.13, 276.044, 593.846]}, '1:case:basic-adittion:1,10': {'/T': '1:case:basic-adittion:1,10', '/FT': '/Btn', '/V': '/Off', '/Rect': [285.01, 581.13, 297.726, 593.846]}, '1:case:basic-adittion:1,11': {'/T': '1:case:basic-adittion:1,11', '/FT': '/Btn', '/V': '/Off', '/Rect': [89.867, 564.885, 102.583, 577.602]}, '1:case:basic-adittion:1,12': {'/T': '1:case:basic-adittion:1,12', '/FT': '/Btn', '/V': '/Off', '/Rect': [111.549, 564.885, 124.265, 577.602]}, '1:case:basic-adittion:1,13': {'/T': '1:case:basic-adittion:1,13', '/FT': '/Btn', '/V': '/Off', '/Rect': [133.232, 564.885, 145.948, 577.602]}, '1:case:basic-adittion:1,14': {'/T': '1:case:basic-adittion:1,14', '/FT': '/Btn', '/V': '/Off', '/Rect': [154.914, 564.885, 167.631, 577.602]}, '1:case:basic-adittion:1,15': {'/T': '1:case:basic-adittion:1,15', '/FT': '/Btn', '/V': '/Off', '/Rect': [176.597, 564.885, 189.313, 577.602]}, '1:case:basic-adittion:1,16': {'/T': '1:case:basic-adittion:1,16', '/FT': '/Btn', '/V': '/Yes', '/Rect': [198.28, 564.885, 210.996, 577.602]}, '1:case:basic-adittion:1,17': {'/T': '1:case:basic-adittion:1,17', '/FT': '/Btn', '/V': '/Off', '/Rect': [219.962, 564.885, 232.678, 577.602]}, '1:case:basic-adittion:1,18': {'/T': '1:case:basic-adittion:1,18', '/FT': '/Btn', '/V': '/Off', '/Rect': [241.645, 564.885, 254.361, 577.602]}, '1:case:basic-adittion:1,19': {'/T': '1:case:basic-adittion:1,19', '/FT': '/Btn', '/V': '/Off', '/Rect': [263.327, 564.885, 276.044, 577.602]}, '1:case:basic-adittion:1,20': {'/T': '1:case:basic-adittion:1,20', '/FT': '/Btn', '/V': '/Off', '/Rect': [285.01, 564.885, 297.726, 577.602]}, '1:case:derivativesin:2,4': {'/T': '1:case:derivativesin:2,4', '/FT': '/Btn', '/V': '/Off', '/Rect': [93.245, 498.248, 105.961, 510.965]}, '1:case:derivativesin:2,2': {'/T': '1:case:derivativesin:2,2', '/FT': '/Btn', '/V': '/Off', '/Rect': [93.245, 482.308, 105.961, 495.024]}, '1:case:derivativesin:2,3': {'/T': '1:case:derivativesin:2,3', '/FT': '/Btn', '/V': '/Off', '/Rect': [93.245, 466.368, 105.961, 479.084]}, '1:case:derivativesin:2,1': {'/T': '1:case:derivativesin:2,1', '/FT': '/Btn', '/V': '/Yes', '/Rect': [93.245, 450.428, 105.961, 463.144]}}\n",
      "{'1:case:basic-adittion:1,1': {'/T': '1:case:basic-adittion:1,1', '/FT': '/Btn', '/V': '/Off', '/Rect': [89.867, 581.13, 102.583, 593.846]}, '1:case:basic-adittion:1,2': {'/T': '1:case:basic-adittion:1,2', '/FT': '/Btn', '/V': '/Yes', '/Rect': [111.549, 581.13, 124.265, 593.846]}, '1:case:basic-adittion:1,3': {'/T': '1:case:basic-adittion:1,3', '/FT': '/Btn', '/V': '/Off', '/Rect': [133.232, 581.13, 145.948, 593.846]}, '1:case:basic-adittion:1,4': {'/T': '1:case:basic-adittion:1,4', '/FT': '/Btn', '/V': '/Off', '/Rect': [154.914, 581.13, 167.631, 593.846]}, '1:case:basic-adittion:1,5': {'/T': '1:case:basic-adittion:1,5', '/FT': '/Btn', '/V': '/Off', '/Rect': [176.597, 581.13, 189.313, 593.846]}, '1:case:basic-adittion:1,6': {'/T': '1:case:basic-adittion:1,6', '/FT': '/Btn', '/V': '/Off', '/Rect': [198.28, 581.13, 210.996, 593.846]}, '1:case:basic-adittion:1,7': {'/T': '1:case:basic-adittion:1,7', '/FT': '/Btn', '/V': '/Off', '/Rect': [219.962, 581.13, 232.678, 593.846]}, '1:case:basic-adittion:1,8': {'/T': '1:case:basic-adittion:1,8', '/FT': '/Btn', '/V': '/Off', '/Rect': [241.645, 581.13, 254.361, 593.846]}, '1:case:basic-adittion:1,9': {'/T': '1:case:basic-adittion:1,9', '/FT': '/Btn', '/V': '/Off', '/Rect': [263.327, 581.13, 276.044, 593.846]}, '1:case:basic-adittion:1,10': {'/T': '1:case:basic-adittion:1,10', '/FT': '/Btn', '/V': '/Off', '/Rect': [285.01, 581.13, 297.726, 593.846]}, '1:case:basic-adittion:1,11': {'/T': '1:case:basic-adittion:1,11', '/FT': '/Btn', '/V': '/Off', '/Rect': [89.867, 564.885, 102.583, 577.602]}, '1:case:basic-adittion:1,12': {'/T': '1:case:basic-adittion:1,12', '/FT': '/Btn', '/V': '/Off', '/Rect': [111.549, 564.885, 124.265, 577.602]}, '1:case:basic-adittion:1,13': {'/T': '1:case:basic-adittion:1,13', '/FT': '/Btn', '/V': '/Off', '/Rect': [133.232, 564.885, 145.948, 577.602]}, '1:case:basic-adittion:1,14': {'/T': '1:case:basic-adittion:1,14', '/FT': '/Btn', '/V': '/Off', '/Rect': [154.914, 564.885, 167.631, 577.602]}, '1:case:basic-adittion:1,15': {'/T': '1:case:basic-adittion:1,15', '/FT': '/Btn', '/V': '/Off', '/Rect': [176.597, 564.885, 189.313, 577.602]}, '1:case:basic-adittion:1,16': {'/T': '1:case:basic-adittion:1,16', '/FT': '/Btn', '/V': '/Off', '/Rect': [198.28, 564.885, 210.996, 577.602]}, '1:case:basic-adittion:1,17': {'/T': '1:case:basic-adittion:1,17', '/FT': '/Btn', '/V': '/Yes', '/Rect': [219.962, 564.885, 232.678, 577.602]}, '1:case:basic-adittion:1,18': {'/T': '1:case:basic-adittion:1,18', '/FT': '/Btn', '/V': '/Off', '/Rect': [241.645, 564.885, 254.361, 577.602]}, '1:case:basic-adittion:1,19': {'/T': '1:case:basic-adittion:1,19', '/FT': '/Btn', '/V': '/Off', '/Rect': [263.327, 564.885, 276.044, 577.602]}, '1:case:basic-adittion:1,20': {'/T': '1:case:basic-adittion:1,20', '/FT': '/Btn', '/V': '/Off', '/Rect': [285.01, 564.885, 297.726, 577.602]}, '1:case:derivativesin:2,4': {'/T': '1:case:derivativesin:2,4', '/FT': '/Btn', '/V': '/Off', '/Rect': [93.245, 498.248, 105.961, 510.965]}, '1:case:derivativesin:2,2': {'/T': '1:case:derivativesin:2,2', '/FT': '/Btn', '/V': '/Off', '/Rect': [93.245, 482.308, 105.961, 495.024]}, '1:case:derivativesin:2,3': {'/T': '1:case:derivativesin:2,3', '/FT': '/Btn', '/V': '/Off', '/Rect': [93.245, 466.368, 105.961, 479.084]}, '1:case:derivativesin:2,1': {'/T': '1:case:derivativesin:2,1', '/FT': '/Btn', '/V': '/Yes', '/Rect': [93.245, 450.428, 105.961, 463.144]}}\n",
      "{'1:case:basic-adittion:1,1': {'/T': '1:case:basic-adittion:1,1', '/FT': '/Btn', '/V': '/Off', '/Rect': [89.867, 581.13, 102.583, 593.846]}, '1:case:basic-adittion:1,2': {'/T': '1:case:basic-adittion:1,2', '/FT': '/Btn', '/V': '/Yes', '/Rect': [111.549, 581.13, 124.265, 593.846]}, '1:case:basic-adittion:1,3': {'/T': '1:case:basic-adittion:1,3', '/FT': '/Btn', '/V': '/Off', '/Rect': [133.232, 581.13, 145.948, 593.846]}, '1:case:basic-adittion:1,4': {'/T': '1:case:basic-adittion:1,4', '/FT': '/Btn', '/V': '/Off', '/Rect': [154.914, 581.13, 167.631, 593.846]}, '1:case:basic-adittion:1,5': {'/T': '1:case:basic-adittion:1,5', '/FT': '/Btn', '/V': '/Off', '/Rect': [176.597, 581.13, 189.313, 593.846]}, '1:case:basic-adittion:1,6': {'/T': '1:case:basic-adittion:1,6', '/FT': '/Btn', '/V': '/Off', '/Rect': [198.28, 581.13, 210.996, 593.846]}, '1:case:basic-adittion:1,7': {'/T': '1:case:basic-adittion:1,7', '/FT': '/Btn', '/V': '/Off', '/Rect': [219.962, 581.13, 232.678, 593.846]}, '1:case:basic-adittion:1,8': {'/T': '1:case:basic-adittion:1,8', '/FT': '/Btn', '/V': '/Off', '/Rect': [241.645, 581.13, 254.361, 593.846]}, '1:case:basic-adittion:1,9': {'/T': '1:case:basic-adittion:1,9', '/FT': '/Btn', '/V': '/Off', '/Rect': [263.327, 581.13, 276.044, 593.846]}, '1:case:basic-adittion:1,10': {'/T': '1:case:basic-adittion:1,10', '/FT': '/Btn', '/V': '/Off', '/Rect': [285.01, 581.13, 297.726, 593.846]}, '1:case:basic-adittion:1,11': {'/T': '1:case:basic-adittion:1,11', '/FT': '/Btn', '/V': '/Off', '/Rect': [89.867, 564.885, 102.583, 577.602]}, '1:case:basic-adittion:1,12': {'/T': '1:case:basic-adittion:1,12', '/FT': '/Btn', '/V': '/Off', '/Rect': [111.549, 564.885, 124.265, 577.602]}, '1:case:basic-adittion:1,13': {'/T': '1:case:basic-adittion:1,13', '/FT': '/Btn', '/V': '/Off', '/Rect': [133.232, 564.885, 145.948, 577.602]}, '1:case:basic-adittion:1,14': {'/T': '1:case:basic-adittion:1,14', '/FT': '/Btn', '/V': '/Off', '/Rect': [154.914, 564.885, 167.631, 577.602]}, '1:case:basic-adittion:1,15': {'/T': '1:case:basic-adittion:1,15', '/FT': '/Btn', '/V': '/Off', '/Rect': [176.597, 564.885, 189.313, 577.602]}, '1:case:basic-adittion:1,16': {'/T': '1:case:basic-adittion:1,16', '/FT': '/Btn', '/V': '/Off', '/Rect': [198.28, 564.885, 210.996, 577.602]}, '1:case:basic-adittion:1,17': {'/T': '1:case:basic-adittion:1,17', '/FT': '/Btn', '/V': '/Off', '/Rect': [219.962, 564.885, 232.678, 577.602]}, '1:case:basic-adittion:1,18': {'/T': '1:case:basic-adittion:1,18', '/FT': '/Btn', '/V': '/Yes', '/Rect': [241.645, 564.885, 254.361, 577.602]}, '1:case:basic-adittion:1,19': {'/T': '1:case:basic-adittion:1,19', '/FT': '/Btn', '/V': '/Off', '/Rect': [263.327, 564.885, 276.044, 577.602]}, '1:case:basic-adittion:1,20': {'/T': '1:case:basic-adittion:1,20', '/FT': '/Btn', '/V': '/Off', '/Rect': [285.01, 564.885, 297.726, 577.602]}, '1:case:derivativesin:2,4': {'/T': '1:case:derivativesin:2,4', '/FT': '/Btn', '/V': '/Off', '/Rect': [93.245, 498.248, 105.961, 510.965]}, '1:case:derivativesin:2,2': {'/T': '1:case:derivativesin:2,2', '/FT': '/Btn', '/V': '/Off', '/Rect': [93.245, 482.308, 105.961, 495.024]}, '1:case:derivativesin:2,3': {'/T': '1:case:derivativesin:2,3', '/FT': '/Btn', '/V': '/Off', '/Rect': [93.245, 466.368, 105.961, 479.084]}, '1:case:derivativesin:2,1': {'/T': '1:case:derivativesin:2,1', '/FT': '/Btn', '/V': '/Yes', '/Rect': [93.245, 450.428, 105.961, 463.144]}}\n",
      "{'1:case:basic-adittion:1,1': {'/T': '1:case:basic-adittion:1,1', '/FT': '/Btn', '/V': '/Off', '/Rect': [89.867, 581.13, 102.583, 593.846]}, '1:case:basic-adittion:1,2': {'/T': '1:case:basic-adittion:1,2', '/FT': '/Btn', '/V': '/Yes', '/Rect': [111.549, 581.13, 124.265, 593.846]}, '1:case:basic-adittion:1,3': {'/T': '1:case:basic-adittion:1,3', '/FT': '/Btn', '/V': '/Off', '/Rect': [133.232, 581.13, 145.948, 593.846]}, '1:case:basic-adittion:1,4': {'/T': '1:case:basic-adittion:1,4', '/FT': '/Btn', '/V': '/Off', '/Rect': [154.914, 581.13, 167.631, 593.846]}, '1:case:basic-adittion:1,5': {'/T': '1:case:basic-adittion:1,5', '/FT': '/Btn', '/V': '/Off', '/Rect': [176.597, 581.13, 189.313, 593.846]}, '1:case:basic-adittion:1,6': {'/T': '1:case:basic-adittion:1,6', '/FT': '/Btn', '/V': '/Off', '/Rect': [198.28, 581.13, 210.996, 593.846]}, '1:case:basic-adittion:1,7': {'/T': '1:case:basic-adittion:1,7', '/FT': '/Btn', '/V': '/Off', '/Rect': [219.962, 581.13, 232.678, 593.846]}, '1:case:basic-adittion:1,8': {'/T': '1:case:basic-adittion:1,8', '/FT': '/Btn', '/V': '/Off', '/Rect': [241.645, 581.13, 254.361, 593.846]}, '1:case:basic-adittion:1,9': {'/T': '1:case:basic-adittion:1,9', '/FT': '/Btn', '/V': '/Off', '/Rect': [263.327, 581.13, 276.044, 593.846]}, '1:case:basic-adittion:1,10': {'/T': '1:case:basic-adittion:1,10', '/FT': '/Btn', '/V': '/Off', '/Rect': [285.01, 581.13, 297.726, 593.846]}, '1:case:basic-adittion:1,11': {'/T': '1:case:basic-adittion:1,11', '/FT': '/Btn', '/V': '/Off', '/Rect': [89.867, 564.885, 102.583, 577.602]}, '1:case:basic-adittion:1,12': {'/T': '1:case:basic-adittion:1,12', '/FT': '/Btn', '/V': '/Off', '/Rect': [111.549, 564.885, 124.265, 577.602]}, '1:case:basic-adittion:1,13': {'/T': '1:case:basic-adittion:1,13', '/FT': '/Btn', '/V': '/Off', '/Rect': [133.232, 564.885, 145.948, 577.602]}, '1:case:basic-adittion:1,14': {'/T': '1:case:basic-adittion:1,14', '/FT': '/Btn', '/V': '/Off', '/Rect': [154.914, 564.885, 167.631, 577.602]}, '1:case:basic-adittion:1,15': {'/T': '1:case:basic-adittion:1,15', '/FT': '/Btn', '/V': '/Off', '/Rect': [176.597, 564.885, 189.313, 577.602]}, '1:case:basic-adittion:1,16': {'/T': '1:case:basic-adittion:1,16', '/FT': '/Btn', '/V': '/Off', '/Rect': [198.28, 564.885, 210.996, 577.602]}, '1:case:basic-adittion:1,17': {'/T': '1:case:basic-adittion:1,17', '/FT': '/Btn', '/V': '/Off', '/Rect': [219.962, 564.885, 232.678, 577.602]}, '1:case:basic-adittion:1,18': {'/T': '1:case:basic-adittion:1,18', '/FT': '/Btn', '/V': '/Off', '/Rect': [241.645, 564.885, 254.361, 577.602]}, '1:case:basic-adittion:1,19': {'/T': '1:case:basic-adittion:1,19', '/FT': '/Btn', '/V': '/Yes', '/Rect': [263.327, 564.885, 276.044, 577.602]}, '1:case:basic-adittion:1,20': {'/T': '1:case:basic-adittion:1,20', '/FT': '/Btn', '/V': '/Off', '/Rect': [285.01, 564.885, 297.726, 577.602]}, '1:case:derivativesin:2,4': {'/T': '1:case:derivativesin:2,4', '/FT': '/Btn', '/V': '/Off', '/Rect': [93.245, 498.248, 105.961, 510.965]}, '1:case:derivativesin:2,2': {'/T': '1:case:derivativesin:2,2', '/FT': '/Btn', '/V': '/Off', '/Rect': [93.245, 482.308, 105.961, 495.024]}, '1:case:derivativesin:2,3': {'/T': '1:case:derivativesin:2,3', '/FT': '/Btn', '/V': '/Off', '/Rect': [93.245, 466.368, 105.961, 479.084]}, '1:case:derivativesin:2,1': {'/T': '1:case:derivativesin:2,1', '/FT': '/Btn', '/V': '/Yes', '/Rect': [93.245, 450.428, 105.961, 463.144]}}\n"
     ]
    }
   ],
   "source": [
    "#set up the csv reader to get the id of each student\n",
    "file = open(\"en/students.csv\")\n",
    "reader = csv.reader(file)\n",
    "header = next(reader)\n",
    "students = []\n",
    "\n",
    "for row in reader:\n",
    "    #open the pdf with the solutions and process the checkboxes\n",
    "    students.append(row[2])\n",
    "    sol_file = \"en/solution/solution_\" + row[2] + \".pdf\"\n",
    "    pdfobject=open(sol_file,'rb')\n",
    "    var = pypdf.PdfFileReader(pdfobject).getFields()\n",
    "    print(var)\n",
    "\n",
    "    #process and store the checkbox information on the json files\n",
    "    data = {'checkboxes' : []}\n",
    "    for box in var:\n",
    "        data['checkboxes'].append(\n",
    "            {\n",
    "                'checkbox' : box.split(sep=':')[2] + ' ' +  box.split(sep=':')[3],      # ejemplo de contenido de box: 1:case:basic-adittion:1,1\n",
    "                'state' : var[box]['/V'],\n",
    "                'cords' : [ float(var[box]['/Rect'][0]) , float(var[box]['/Rect'][1]) ]\n",
    "            }\n",
    "        )\n",
    "    jf_name = 'json/sol_' + row[2] + '.json'\n",
    "    os.makedirs(os.path.dirname(jf_name), exist_ok=True)\n",
    "    with open(jf_name, 'w') as outfile:\n",
    "        json.dump(data, outfile, indent=4)"
   ],
   "metadata": {
    "collapsed": false
   }
  },
  {
   "cell_type": "markdown",
   "source": [
    "IMPORTANTE: la lista de estudiantes esta desordenada\n",
    "Como la utilizo para identificar las paginas de scanned, q si estan ordenadas, tengo q ordenarla"
   ],
   "metadata": {
    "collapsed": false
   }
  },
  {
   "cell_type": "code",
   "execution_count": 24,
   "outputs": [
    {
     "name": "stdout",
     "output_type": "stream",
     "text": [
      "['12345', '31416', '271828', '11111', '22222', '33333', '44444', '55555', '666666']\n",
      "['11111', '12345', '22222', '31416', '33333', '44444', '55555', '271828', '666666']\n"
     ]
    }
   ],
   "source": [
    "print(students)\n",
    "students = [int(i) for i in students]\n",
    "students.sort()\n",
    "students = [str(i) for i in students]\n",
    "print(students)"
   ],
   "metadata": {
    "collapsed": false
   }
  },
  {
   "cell_type": "markdown",
   "source": [
    "'analyse': getting the data from the scanned exams\n",
    "primero lo intento con boxdetect pero no funciona, no detecta todas las casillas (t_scan_boxdetect.ipynb)"
   ],
   "metadata": {
    "collapsed": false
   }
  },
  {
   "cell_type": "code",
   "execution_count": 25,
   "outputs": [],
   "source": [
    "#export the pdf's pages to png with 250 dots per inch (dpi)\n",
    "images = convert_from_path('scanned.pdf', 250)\n",
    "\n",
    "for i, image in enumerate(images):\n",
    "    #save each page in a png file\n",
    "    if not os.path.exists('pngs'):\n",
    "        os.mkdir('pngs')\n",
    "    im_file = 'pngs/page_' + str(i) + '.png'\n",
    "    image.save(im_file)\n",
    "\n",
    "    #check the checkboxes and wether they're marked\n",
    "    boxes = checkboxes.find_checkboxes(im_file)\n",
    "    is_checked = checkboxes.check_marked(im_file, boxes)\n",
    "    #print(json.dumps(is_checked, indent=4))\n",
    "\n",
    "    #export to json\n",
    "    #since it doesnt check which student did which page, assume the scanned file is ordered like the student list\n",
    "    jf_name = 'json/scan_' + students[i] + '.json'\n",
    "    os.makedirs(os.path.dirname(jf_name), exist_ok=True)\n",
    "    with open(jf_name, 'w') as outfile:\n",
    "        json.dump(is_checked, outfile, indent=4)"
   ],
   "metadata": {
    "collapsed": false
   }
  },
  {
   "cell_type": "markdown",
   "source": [
    "'match': read the json files and check whether the marked checkboxes are the same"
   ],
   "metadata": {
    "collapsed": false
   }
  },
  {
   "cell_type": "code",
   "execution_count": 26,
   "outputs": [],
   "source": [
    "for student in students:\n",
    "    #open the json files (solution and scanned) for each student\n",
    "    sol_file = 'json/sol_' + student + '.json'\n",
    "    scan_file = 'json/scan_' + student + '.json'\n",
    "    with open(sol_file) as json_file:\n",
    "        data_sol = json.load(json_file)\n",
    "    with open(scan_file) as json_file:\n",
    "        data_scan = json.load(json_file)\n",
    "\n",
    "    #check if the number of checkboxes is the same\n",
    "    if data_sol['checkboxes'].__len__() == data_scan['checkboxes'].__len__():\n",
    "        comparacion = checkboxes.match(data_sol,data_scan)\n",
    "        jf_name = 'json/match_' + student + '.json'\n",
    "        os.makedirs(os.path.dirname(jf_name), exist_ok=True)\n",
    "        with open(jf_name, 'w') as outfile:\n",
    "            json.dump(comparacion, outfile, indent=4)\n",
    "    else:\n",
    "        print('Error: number of checkboxes not equal')"
   ],
   "metadata": {
    "collapsed": false
   }
  }
 ],
 "metadata": {
  "kernelspec": {
   "display_name": "Python 3",
   "language": "python",
   "name": "python3"
  },
  "language_info": {
   "codemirror_mode": {
    "name": "ipython",
    "version": 2
   },
   "file_extension": ".py",
   "mimetype": "text/x-python",
   "name": "python",
   "nbconvert_exporter": "python",
   "pygments_lexer": "ipython2",
   "version": "2.7.6"
  }
 },
 "nbformat": 4,
 "nbformat_minor": 0
}
