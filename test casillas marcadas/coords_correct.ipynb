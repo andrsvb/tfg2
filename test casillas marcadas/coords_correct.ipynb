{
 "cells": [
  {
   "cell_type": "code",
   "execution_count": 1,
   "outputs": [],
   "source": [
    "import math\n",
    "import numpy as np\n",
    "import scipy as sc\n",
    "import scipy.optimize\n",
    "import PyPDF2 as pypdf\n",
    "import json\n",
    "import os\n",
    "from pdf2image import convert_from_path\n",
    "import cv2\n",
    "from functools import reduce\n",
    "import sys"
   ],
   "metadata": {
    "collapsed": false,
    "ExecuteTime": {
     "end_time": "2023-05-07T11:32:19.752402221Z",
     "start_time": "2023-05-07T11:32:18.832963511Z"
    }
   }
  },
  {
   "cell_type": "markdown",
   "source": [
    "Function find QRs from pyexams.scan"
   ],
   "metadata": {
    "collapsed": false
   }
  },
  {
   "cell_type": "code",
   "execution_count": 2,
   "outputs": [],
   "source": [
    "from pyexams.scan import find_qrs\n",
    "from pyexams.scan import is_marked"
   ],
   "metadata": {
    "collapsed": false,
    "ExecuteTime": {
     "end_time": "2023-05-07T11:32:19.827638793Z",
     "start_time": "2023-05-07T11:32:19.292102217Z"
    }
   }
  },
  {
   "cell_type": "code",
   "execution_count": 3,
   "outputs": [],
   "source": [
    "dpi = 300"
   ],
   "metadata": {
    "collapsed": false,
    "ExecuteTime": {
     "end_time": "2023-05-07T11:32:19.831852967Z",
     "start_time": "2023-05-07T11:32:19.828360542Z"
    }
   }
  },
  {
   "cell_type": "markdown",
   "source": [
    "Transformation function by pang"
   ],
   "metadata": {
    "collapsed": false
   }
  },
  {
   "cell_type": "code",
   "execution_count": 4,
   "outputs": [],
   "source": [
    "def rot(alpha):\n",
    "    '''clockwise rotation\n",
    "\n",
    "    :param: alpha in 360 degrees\n",
    "    '''\n",
    "    alpha_rad = alpha*np.pi/180\n",
    "    return np.array([\n",
    "        [np.cos(alpha_rad), np.sin(alpha_rad)],\n",
    "        [-np.sin(alpha_rad), np.cos(alpha_rad)]\n",
    "    ])"
   ],
   "metadata": {
    "collapsed": false,
    "ExecuteTime": {
     "end_time": "2023-05-07T11:32:19.836613326Z",
     "start_time": "2023-05-07T11:32:19.832340258Z"
    }
   }
  },
  {
   "cell_type": "code",
   "execution_count": 5,
   "outputs": [],
   "source": [
    "def trans(C1, C2):\n",
    "    def sq(xs):\n",
    "        x0, y0, scale, angle = xs\n",
    "        C1_trans = np.array([[x0,y0]]) + scale*C1@rot(angle)\n",
    "        return ((C1_trans - C2)**2).sum()\n",
    "    x0_guess, y0_guess = C2[0,:] - C1[0,:]\n",
    "    sol = sc.optimize.minimize(sq, (x0_guess, y0_guess, 1, 0), tol=1e-9, method='Powell')\n",
    "    if not sol['success']:\n",
    "        raise RuntimeError('Numerical error: could not find transformation matrix')\n",
    "    return tuple(sol['x'])"
   ],
   "metadata": {
    "collapsed": false,
    "ExecuteTime": {
     "end_time": "2023-05-07T11:32:19.844561650Z",
     "start_time": "2023-05-07T11:32:19.836264433Z"
    }
   }
  },
  {
   "cell_type": "markdown",
   "source": [
    "# Transformation functions\n",
    "\n",
    "- compare default coordinates with scan coordinates\n",
    "- get rotation and scale by comparing the vectors\n",
    "- get displacement by comparing the scan coordinates with the transformed (rotation and scale) default coordinates"
   ],
   "metadata": {
    "collapsed": false
   }
  },
  {
   "cell_type": "code",
   "execution_count": 6,
   "outputs": [],
   "source": [
    "def get_rotation(vector, vector_trans):\n",
    "    prod = vector[0] * vector_trans[0] + vector[1] * vector_trans[1]\n",
    "    d1 = math.sqrt(math.pow(vector[0], 2) + math.pow(vector[1], 2))\n",
    "    d2 = math.sqrt(math.pow(vector_trans[0], 2) + math.pow(vector_trans[1], 2))\n",
    "    cos = prod / (d1 * d2)\n",
    "    cross_prod = vector[0] * vector_trans[1] - vector[1] * vector_trans[0]\n",
    "    sin = cross_prod / (d1 * d2)\n",
    "    scale = d2 / d1\n",
    "    return (sin, cos), scale"
   ],
   "metadata": {
    "collapsed": false,
    "ExecuteTime": {
     "end_time": "2023-05-07T11:32:19.849684525Z",
     "start_time": "2023-05-07T11:32:19.845222129Z"
    }
   }
  },
  {
   "cell_type": "code",
   "execution_count": 7,
   "outputs": [],
   "source": [
    "def get_trans(points, points_trans):\n",
    "    num_points = points.__len__()\n",
    "    if not num_points == points_trans.__len__():\n",
    "        return ()\n",
    "    tr_cords = np.zeros((num_points,2))\n",
    "    alpha_final, sin_final, cos_final, scale_final, dist_final = [0] * 5\n",
    "    # find rotation alpha and scale\n",
    "    for i in range(num_points):\n",
    "        if i == num_points - 1:\n",
    "            vector = [points[0,0] - points[i,0], points[0,1] - points[i,1]]\n",
    "            vector_trans = [points_trans[0,0] - points_trans[i,0], points_trans[0,1] - points_trans[i,1]]\n",
    "        else:\n",
    "            vector = [points[i+1,0] - points[i,0], points[i+1,1] - points[i,1]]\n",
    "            vector_trans = [points_trans[i+1,0] - points_trans[i,0], points_trans[i+1,1] - points_trans[i,1]]\n",
    "        (sin, cos), scale = get_rotation(vector, vector_trans)\n",
    "        sin_final = sin_final + sin / num_points\n",
    "        cos_final = cos_final + cos / num_points\n",
    "        scale_final = scale_final + scale / num_points\n",
    "    alpha_final = math.atan2(sin_final, cos_final) * 180 / np.pi\n",
    "    # find translation\n",
    "    for i in range(num_points):\n",
    "        tr_cords[i] = scale_final * points[i] @ rot(alpha_final)\n",
    "        dist = points_trans[i] - tr_cords[i]\n",
    "        # print(dist)\n",
    "        dist_final = dist_final + dist / num_points\n",
    "    return dist_final, alpha_final, scale_final\n",
    "    # tr_cords + dist_final"
   ],
   "metadata": {
    "collapsed": false,
    "ExecuteTime": {
     "end_time": "2023-05-07T11:32:19.914105898Z",
     "start_time": "2023-05-07T11:32:19.853722715Z"
    }
   }
  },
  {
   "cell_type": "markdown",
   "source": [
    "Statement files, for default coordinates"
   ],
   "metadata": {
    "collapsed": false
   }
  },
  {
   "cell_type": "code",
   "execution_count": 8,
   "outputs": [],
   "source": [
    "st_file1 = 'question/question_11111.pdf'\n",
    "st_file2 = 'question/question_22222.pdf'\n",
    "st_file3 = 'question/question_33333.pdf'\n",
    "st_file4 = 'question/question_44444.pdf'"
   ],
   "metadata": {
    "collapsed": false,
    "ExecuteTime": {
     "end_time": "2023-05-07T11:32:19.914597800Z",
     "start_time": "2023-05-07T11:32:19.897269182Z"
    }
   }
  },
  {
   "cell_type": "markdown",
   "source": [
    "Solution files, for scanned coordinates"
   ],
   "metadata": {
    "collapsed": false
   }
  },
  {
   "cell_type": "code",
   "execution_count": 9,
   "outputs": [],
   "source": [
    "ex_file1 = 'scanned/scanned_11111.pdf'\n",
    "ex_file2 = 'scanned/scanned_22222.pdf'\n",
    "\n",
    "# filled ones should have the same coords\n",
    "ex_file3 = 'scanned/filled_33333.pdf'\n",
    "ex_file4 = 'scanned/filled_44444.pdf'\n",
    "\n",
    "# filled 3 rotated by 90º and 180º\n",
    "ex_file2_rot90 = 'scanned/scanned_22222_rot90.pdf'\n",
    "ex_file2_rot180 = 'scanned/scanned_22222_rot180.pdf'\n",
    "ex_file3_rot90 = 'scanned/filled_33333_rot90.pdf'\n",
    "ex_file3_rot180 = 'scanned/filled_33333_rot180.pdf'"
   ],
   "metadata": {
    "collapsed": false,
    "ExecuteTime": {
     "end_time": "2023-05-07T11:32:19.914834773Z",
     "start_time": "2023-05-07T11:32:19.897986111Z"
    }
   }
  },
  {
   "cell_type": "markdown",
   "source": [
    "# Test different angles of transformation for QR detection\n",
    "\n",
    "- Does OpenCV QR detection work with QRs with a significant angle?\n",
    "- Rotated filled_33333 and scanned_22222 by 90º and 180º with ilovepdf.com\n",
    "- QR detection still works\n",
    "- Check transformation with pang's function"
   ],
   "metadata": {
    "collapsed": false
   }
  },
  {
   "cell_type": "code",
   "execution_count": 10,
   "outputs": [],
   "source": [
    "qrs3 = find_qrs(ex_file3, dpi, False)\n",
    "qrs3_rot90 = find_qrs(ex_file3_rot90, dpi, False)\n",
    "qrs3_rot180 = find_qrs(ex_file3_rot180, dpi, False)"
   ],
   "metadata": {
    "collapsed": false,
    "ExecuteTime": {
     "end_time": "2023-05-07T11:32:34.338535318Z",
     "start_time": "2023-05-07T11:32:19.898409337Z"
    }
   }
  },
  {
   "cell_type": "code",
   "execution_count": 11,
   "outputs": [],
   "source": [
    "qr_cords3, qr_cords3_90, qr_cords3_180 = np.zeros((4,2)), np.zeros((4,2)), np.zeros((4,2))\n",
    "# qr_cords3, qr_cords3_90, qr_cords3_180 = np.zeros((12,2)), np.zeros((12,2)), np.zeros((12,2))\n",
    "for page in range(1):\n",
    "    for point in range(4):\n",
    "        qr_cords3[page*4+point] = (qrs3[page]['coordinates'][0][point])\n",
    "        qr_cords3_90[page*4+point] = (qrs3_rot90[page]['coordinates'][0][point])\n",
    "        qr_cords3_180[page*4+point] = (qrs3_rot180[page]['coordinates'][0][point])"
   ],
   "metadata": {
    "collapsed": false,
    "ExecuteTime": {
     "end_time": "2023-05-07T11:32:34.340432131Z",
     "start_time": "2023-05-07T11:32:34.338972179Z"
    }
   }
  },
  {
   "cell_type": "code",
   "execution_count": 12,
   "outputs": [
    {
     "name": "stdout",
     "output_type": "stream",
     "text": [
      "[[1950.00012207 3174.        ]\n",
      " [2107.         3174.        ]\n",
      " [2107.         3331.        ]\n",
      " [1950.00012207 3331.        ]]\n",
      "[[ 333. 1950.]\n",
      " [ 333. 2107.]\n",
      " [ 175. 2107.]\n",
      " [ 175. 1950.]]\n",
      "[[530. 333.]\n",
      " [372. 333.]\n",
      " [372. 175.]\n",
      " [530. 175.]]\n"
     ]
    }
   ],
   "source": [
    "print(qr_cords3)\n",
    "print(qr_cords3_90)\n",
    "print(qr_cords3_180)"
   ],
   "metadata": {
    "collapsed": false,
    "ExecuteTime": {
     "end_time": "2023-05-07T11:32:34.343751381Z",
     "start_time": "2023-05-07T11:32:34.339641688Z"
    }
   }
  },
  {
   "cell_type": "code",
   "execution_count": 13,
   "outputs": [],
   "source": [
    "qrs2 = find_qrs(ex_file2, dpi, False)\n",
    "qrs2_rot90 = find_qrs(ex_file2_rot90, dpi, False)\n",
    "qrs2_rot180 = find_qrs(ex_file2_rot180, dpi, False)"
   ],
   "metadata": {
    "collapsed": false,
    "ExecuteTime": {
     "end_time": "2023-05-07T11:32:56.142083027Z",
     "start_time": "2023-05-07T11:32:34.341310884Z"
    }
   }
  },
  {
   "cell_type": "code",
   "execution_count": 14,
   "outputs": [],
   "source": [
    "qr_cords2, qr_cords2_90, qr_cords2_180 = np.zeros((4,2)), np.zeros((4,2)), np.zeros((4,2))\n",
    "# qr_cords3, qr_cords3_90, qr_cords3_180 = np.zeros((12,2)), np.zeros((12,2)), np.zeros((12,2))\n",
    "for page in range(1):\n",
    "    for point in range(4):\n",
    "        qr_cords2[page*4+point] = (qrs2[page]['coordinates'][0][point])\n",
    "        qr_cords2_90[page*4+point] = (qrs2_rot90[page]['coordinates'][0][point])\n",
    "        qr_cords2_180[page*4+point] = (qrs2_rot180[page]['coordinates'][0][point])"
   ],
   "metadata": {
    "collapsed": false,
    "ExecuteTime": {
     "end_time": "2023-05-07T11:32:56.188880150Z",
     "start_time": "2023-05-07T11:32:56.188174013Z"
    }
   }
  },
  {
   "cell_type": "code",
   "execution_count": 15,
   "outputs": [
    {
     "name": "stdout",
     "output_type": "stream",
     "text": [
      "[[1891.         3100.11108398]\n",
      " [2042.72619629 3098.00390625]\n",
      " [2048.         3252.        ]\n",
      " [1893.         3252.        ]]\n",
      "[[3100.11108398  571.        ]\n",
      " [3098.00390625  419.27383423]\n",
      " [3252.          414.        ]\n",
      " [3252.          569.        ]]\n",
      "[[571.         333.8888855 ]\n",
      " [419.27383423 335.9961853 ]\n",
      " [414.         182.        ]\n",
      " [571.         182.        ]]\n"
     ]
    }
   ],
   "source": [
    "print(qr_cords2)\n",
    "print(qr_cords2_90)\n",
    "print(qr_cords2_180)"
   ],
   "metadata": {
    "collapsed": false,
    "ExecuteTime": {
     "end_time": "2023-05-07T11:32:56.190951542Z",
     "start_time": "2023-05-07T11:32:56.188526698Z"
    }
   }
  },
  {
   "cell_type": "code",
   "execution_count": 16,
   "outputs": [
    {
     "data": {
      "text/plain": "(array([3516.85954469,   -6.46104091]), 90.0, 1.0031851021350553)"
     },
     "execution_count": 16,
     "metadata": {},
     "output_type": "execute_result"
    }
   ],
   "source": [
    "get_trans(qr_cords3, qr_cords3_90)"
   ],
   "metadata": {
    "collapsed": false,
    "ExecuteTime": {
     "end_time": "2023-05-07T11:32:56.199045607Z",
     "start_time": "2023-05-07T11:32:56.189454241Z"
    }
   }
  },
  {
   "cell_type": "markdown",
   "source": [
    "# Tests to correct the coordinates of checkboxes to account for scanned exam displacement\n",
    "\n",
    "- Get default coordinates for the QR points (in OpenCV)"
   ],
   "metadata": {
    "collapsed": false
   }
  },
  {
   "cell_type": "code",
   "execution_count": 17,
   "outputs": [],
   "source": [
    "dpi = 300"
   ],
   "metadata": {
    "collapsed": false,
    "ExecuteTime": {
     "end_time": "2023-05-07T11:32:56.201279857Z",
     "start_time": "2023-05-07T11:32:56.190493570Z"
    }
   }
  },
  {
   "cell_type": "code",
   "execution_count": 18,
   "outputs": [
    {
     "data": {
      "text/plain": "[{'exam': 'test_qr',\n  'variant': '11111',\n  'page': '1',\n  'coordinates': array([[[1950.0001, 3174.    ],\n          [2107.    , 3174.    ],\n          [2107.    , 3331.    ],\n          [1950.0001, 3331.    ]]], dtype=float32)},\n {'exam': 'test_qr',\n  'variant': '11111',\n  'page': '2',\n  'coordinates': array([[[1950.0001, 3174.    ],\n          [2107.    , 3174.    ],\n          [2107.    , 3331.    ],\n          [1950.0001, 3331.    ]]], dtype=float32)},\n {'exam': 'test_qr',\n  'variant': '11111',\n  'page': '3',\n  'coordinates': array([[[1950.0001, 3174.    ],\n          [2107.    , 3174.    ],\n          [2107.    , 3331.    ],\n          [1950.0001, 3331.    ]]], dtype=float32)}]"
     },
     "execution_count": 18,
     "metadata": {},
     "output_type": "execute_result"
    }
   ],
   "source": [
    "qr_codes1 = find_qrs(st_file1, dpi, False)\n",
    "qr_codes1"
   ],
   "metadata": {
    "collapsed": false,
    "ExecuteTime": {
     "end_time": "2023-05-07T11:33:00.387009239Z",
     "start_time": "2023-05-07T11:32:56.191400433Z"
    }
   }
  },
  {
   "cell_type": "code",
   "execution_count": 19,
   "outputs": [
    {
     "data": {
      "text/plain": "array([[ 6.50000041, 10.58      ],\n       [ 7.02333333, 10.58      ],\n       [ 7.02333333, 11.10333333],\n       [ 6.50000041, 11.10333333]])"
     },
     "execution_count": 19,
     "metadata": {},
     "output_type": "execute_result"
    }
   ],
   "source": [
    "default_cords_qr = np.zeros((4,2))\n",
    "for page in range(1):\n",
    "    for point in range(4):\n",
    "        default_cords_qr[page * 4 + point] = (qr_codes1[page]['coordinates'][0][point])\n",
    "default_cords_qr/dpi"
   ],
   "metadata": {
    "collapsed": false,
    "ExecuteTime": {
     "end_time": "2023-05-07T11:33:00.434688058Z",
     "start_time": "2023-05-07T11:33:00.384605554Z"
    }
   }
  },
  {
   "cell_type": "markdown",
   "source": [
    "- Get coordinates of the QRs in the scans"
   ],
   "metadata": {
    "collapsed": false
   }
  },
  {
   "cell_type": "code",
   "execution_count": 20,
   "outputs": [
    {
     "data": {
      "text/plain": "[{'exam': 'test_qr',\n  'variant': '11111',\n  'page': '1',\n  'coordinates': array([[[1894.9999, 3098.0002],\n          [2046.6063, 3098.0002],\n          [2049.    , 3250.    ],\n          [1895.    , 3250.    ]]], dtype=float32)},\n {'exam': 'test_qr',\n  'variant': '11111',\n  'page': '2',\n  'coordinates': array([[[1928.    , 3060.    ],\n          [2078.945 , 3057.2483],\n          [2082.    , 3210.    ],\n          [1930.    , 3206.    ]]], dtype=float32)},\n {'exam': 'test_qr',\n  'variant': '11111',\n  'page': '3',\n  'coordinates': array([[[1893.    , 3099.    ],\n          [2045.    , 3099.    ],\n          [2045.0001, 3251.    ],\n          [1893.    , 3251.    ]]], dtype=float32)}]"
     },
     "execution_count": 20,
     "metadata": {},
     "output_type": "execute_result"
    },
    {
     "data": {
      "text/plain": "<Figure size 1296x432 with 3 Axes>",
      "image/png": "[encoded data removed]"
     },
     "metadata": {
      "needs_background": "light"
     },
     "output_type": "display_data"
    }
   ],
   "source": [
    "scan1_qrs = find_qrs(ex_file1, dpi)\n",
    "scan1_qrs"
   ],
   "metadata": {
    "collapsed": false,
    "ExecuteTime": {
     "end_time": "2023-05-07T11:33:07.884391036Z",
     "start_time": "2023-05-07T11:33:00.432800057Z"
    }
   }
  },
  {
   "cell_type": "code",
   "execution_count": 21,
   "outputs": [
    {
     "data": {
      "text/plain": "array([[1894.99987793, 3098.00024414],\n       [2046.60632324, 3098.00024414],\n       [2049.        , 3250.        ],\n       [1895.        , 3250.        ]])"
     },
     "execution_count": 21,
     "metadata": {},
     "output_type": "execute_result"
    }
   ],
   "source": [
    "scan1_1_cords_qr = np.zeros((4,2))\n",
    "scan1_2_cords_qr = np.zeros((4,2))\n",
    "scan1_3_cords_qr = np.zeros((4,2))\n",
    "for page in range(1):\n",
    "    for point in range(4):\n",
    "        scan1_1_cords_qr[page * 4 + point] = (scan1_qrs[0]['coordinates'][0][point])\n",
    "        scan1_2_cords_qr[page * 4 + point] = (scan1_qrs[1]['coordinates'][0][point])\n",
    "        scan1_3_cords_qr[page * 4 + point] = (scan1_qrs[2]['coordinates'][0][point])\n",
    "scan1_1_cords_qr"
   ],
   "metadata": {
    "collapsed": false,
    "ExecuteTime": {
     "end_time": "2023-05-07T11:33:07.891739707Z",
     "start_time": "2023-05-07T11:33:07.888043678Z"
    }
   }
  },
  {
   "cell_type": "markdown",
   "source": [
    "- OpenCV default to OpenCV scanned transformation, with pang's function"
   ],
   "metadata": {
    "collapsed": false
   }
  },
  {
   "cell_type": "code",
   "execution_count": 22,
   "outputs": [
    {
     "name": "stdout",
     "output_type": "stream",
     "text": [
      "(array([-10.16010102,  24.44317237]), -0.22556139687286506, 0.9707405114126232)\n",
      "(array([40.88153725, 28.92093948]), -0.3669457541787446, 0.9583104430084134)\n",
      "(array([ 5.10009225, 26.08134046]), -1.1503476496860642e-05, 0.968153437000137)\n"
     ]
    }
   ],
   "source": [
    "transform_scan1_1 = get_trans(default_cords_qr, scan1_1_cords_qr)\n",
    "transform_scan1_2 = get_trans(default_cords_qr, scan1_2_cords_qr)\n",
    "transform_scan1_3 = get_trans(default_cords_qr, scan1_3_cords_qr)\n",
    "print(transform_scan1_1)\n",
    "print(transform_scan1_2)\n",
    "print(transform_scan1_3)"
   ],
   "metadata": {
    "collapsed": false,
    "ExecuteTime": {
     "end_time": "2023-05-07T11:33:07.900039685Z",
     "start_time": "2023-05-07T11:33:07.893527321Z"
    }
   }
  },
  {
   "cell_type": "code",
   "execution_count": 23,
   "outputs": [
    {
     "data": {
      "text/plain": "array([[1894.89907503, 3098.09757707],\n       [2047.30403581, 3097.49758779],\n       [2047.90402555, 3249.90266707],\n       [1895.49906478, 3250.50265635]])"
     },
     "execution_count": 23,
     "metadata": {},
     "output_type": "execute_result"
    }
   ],
   "source": [
    "dist, alpha, scale = transform_scan1_1\n",
    "dist + scale * default_cords_qr @ rot(alpha)"
   ],
   "metadata": {
    "collapsed": false,
    "ExecuteTime": {
     "end_time": "2023-05-07T11:33:08.022312163Z",
     "start_time": "2023-05-07T11:33:07.902483140Z"
    }
   }
  },
  {
   "cell_type": "markdown",
   "source": [
    "- Get default coordinates of checkboxes in example exam (in pyPDF2 and OpenCV)"
   ],
   "metadata": {
    "collapsed": false
   }
  },
  {
   "cell_type": "code",
   "execution_count": 24,
   "outputs": [
    {
     "data": {
      "text/plain": "{'exam': 'test_qr',\n 'variant': '11111',\n 'num_boxes': 67,\n 'exercises': [{'exercise': 'vf1',\n   'checkboxes': [{'checkbox': '0,0',\n     'cords': [105.961, 383.659, 12.716, 12.716],\n     'page': 1},\n    {'checkbox': '0,1',\n     'cords': [105.961, 367.719, 12.716, 12.716],\n     'page': 1}]},\n  {'exercise': 'vf2',\n   'checkboxes': [{'checkbox': '1,0',\n     'cords': [105.961, 324.103, 12.716, 12.717],\n     'page': 1},\n    {'checkbox': '1,1',\n     'cords': [105.961, 308.163, 12.716, 12.716],\n     'page': 1}]},\n  {'exercise': 'vf3',\n   'checkboxes': [{'checkbox': '2,0',\n     'cords': [105.961, 265.739, 12.716, 12.716],\n     'page': 1},\n    {'checkbox': '2,1',\n     'cords': [105.961, 249.799, 12.716, 12.716],\n     'page': 1}]},\n  {'exercise': 'vf4',\n   'checkboxes': [{'checkbox': '3,0',\n     'cords': [105.961, 207.375, 12.716, 12.716],\n     'page': 1},\n    {'checkbox': '3,1',\n     'cords': [105.961, 191.434, 12.716, 12.717],\n     'page': 1}]},\n  {'exercise': 'vf5',\n   'checkboxes': [{'checkbox': '4,0',\n     'cords': [105.961, 148.459, 12.716, 12.716],\n     'page': 1},\n    {'checkbox': '4,1',\n     'cords': [105.961, 132.518, 12.716, 12.717],\n     'page': 1}]},\n  {'exercise': 'vf6',\n   'checkboxes': [{'checkbox': '5,0',\n     'cords': [105.961, 90.094, 12.716, 12.716],\n     'page': 1},\n    {'checkbox': '5,1',\n     'cords': [105.961, 74.154, 12.716, 12.716],\n     'page': 1}]},\n  {'exercise': 'mul1',\n   'checkboxes': [{'checkbox': '6,0',\n     'cords': [105.961, 713.121, 12.716, 12.717],\n     'page': 2},\n    {'checkbox': '6,1',\n     'cords': [105.961, 697.181, 12.716, 12.716],\n     'page': 2},\n    {'checkbox': '6,2',\n     'cords': [105.961, 681.241, 12.716, 12.716],\n     'page': 2},\n    {'checkbox': '6,3',\n     'cords': [105.961, 665.301, 12.716, 12.716],\n     'page': 2}]},\n  {'exercise': 'mul2',\n   'checkboxes': [{'checkbox': '7,0',\n     'cords': [105.961, 622.323, 12.716, 12.716],\n     'page': 2},\n    {'checkbox': '7,1',\n     'cords': [105.961, 606.383, 12.716, 12.716],\n     'page': 2},\n    {'checkbox': '7,2',\n     'cords': [105.961, 590.443, 12.716, 12.716],\n     'page': 2},\n    {'checkbox': '7,3',\n     'cords': [105.961, 574.502, 12.716, 12.717],\n     'page': 2}]},\n  {'exercise': 'mul3',\n   'checkboxes': [{'checkbox': '8,0',\n     'cords': [105.961, 531.303, 12.716, 12.716],\n     'page': 2},\n    {'checkbox': '8,1',\n     'cords': [105.961, 515.363, 12.716, 12.716],\n     'page': 2},\n    {'checkbox': '8,2',\n     'cords': [105.961, 499.423, 12.716, 12.716],\n     'page': 2},\n    {'checkbox': '8,3',\n     'cords': [105.961, 483.483, 12.716, 12.716],\n     'page': 2}]},\n  {'exercise': 'mul4',\n   'checkboxes': [{'checkbox': '9,0',\n     'cords': [105.961, 439.646, 12.716, 12.716],\n     'page': 2},\n    {'checkbox': '9,1',\n     'cords': [105.961, 423.706, 12.716, 12.716],\n     'page': 2},\n    {'checkbox': '9,2',\n     'cords': [105.961, 407.765, 12.716, 12.717],\n     'page': 2},\n    {'checkbox': '9,3',\n     'cords': [105.961, 391.825, 12.716, 12.716],\n     'page': 2}]},\n  {'exercise': 'mul5',\n   'checkboxes': [{'checkbox': '10,0',\n     'cords': [105.961, 347.989, 12.716, 12.716],\n     'page': 2},\n    {'checkbox': '10,1',\n     'cords': [105.961, 332.048, 12.716, 12.716],\n     'page': 2},\n    {'checkbox': '10,2',\n     'cords': [105.961, 316.108, 12.716, 12.716],\n     'page': 2}]},\n  {'exercise': 'mul6',\n   'checkboxes': [{'checkbox': '11,0',\n     'cords': [105.961, 272.271, 12.716, 12.717],\n     'page': 2},\n    {'checkbox': '11,1',\n     'cords': [105.961, 256.331, 12.716, 12.716],\n     'page': 2},\n    {'checkbox': '11,2',\n     'cords': [105.961, 240.391, 12.716, 12.716],\n     'page': 2},\n    {'checkbox': '11,3',\n     'cords': [105.961, 224.451, 12.716, 12.716],\n     'page': 2}]},\n  {'exercise': 'mul7',\n   'checkboxes': [{'checkbox': '12,0',\n     'cords': [105.961, 181.252, 12.716, 12.716],\n     'page': 2},\n    {'checkbox': '12,1',\n     'cords': [105.961, 165.311, 12.716, 12.717],\n     'page': 2},\n    {'checkbox': '12,2',\n     'cords': [105.961, 149.371, 12.716, 12.716],\n     'page': 2},\n    {'checkbox': '12,3',\n     'cords': [105.961, 133.431, 12.716, 12.716],\n     'page': 2}]},\n  {'exercise': 'mul8',\n   'checkboxes': [{'checkbox': '13,0',\n     'cords': [105.961, 713.121, 12.716, 12.717],\n     'page': 3},\n    {'checkbox': '13,1',\n     'cords': [105.961, 697.181, 12.716, 12.716],\n     'page': 3},\n    {'checkbox': '13,2',\n     'cords': [105.961, 681.241, 12.716, 12.716],\n     'page': 3},\n    {'checkbox': '13,3',\n     'cords': [105.961, 665.301, 12.716, 12.716],\n     'page': 3}]},\n  {'exercise': 'mul9',\n   'checkboxes': [{'checkbox': '14,0',\n     'cords': [105.961, 621.685, 12.716, 12.717],\n     'page': 3},\n    {'checkbox': '14,1',\n     'cords': [105.961, 605.745, 12.716, 12.716],\n     'page': 3},\n    {'checkbox': '14,2',\n     'cords': [105.961, 589.805, 12.716, 12.716],\n     'page': 3},\n    {'checkbox': '14,3',\n     'cords': [105.961, 573.865, 12.716, 12.716],\n     'page': 3}]},\n  {'exercise': 'mul10',\n   'checkboxes': [{'checkbox': '15,0',\n     'cords': [105.961, 529.475, 12.716, 12.716],\n     'page': 3},\n    {'checkbox': '15,1',\n     'cords': [105.961, 513.534, 12.716, 12.716],\n     'page': 3},\n    {'checkbox': '15,2',\n     'cords': [105.961, 497.594, 12.716, 12.716],\n     'page': 3},\n    {'checkbox': '15,3',\n     'cords': [105.961, 481.654, 12.716, 12.716],\n     'page': 3}]},\n  {'exercise': 'mul11',\n   'checkboxes': [{'checkbox': '16,0',\n     'cords': [105.961, 437.264, 12.716, 12.716],\n     'page': 3},\n    {'checkbox': '16,1',\n     'cords': [105.961, 421.323, 12.716, 12.717],\n     'page': 3},\n    {'checkbox': '16,2',\n     'cords': [105.961, 405.383, 12.716, 12.716],\n     'page': 3},\n    {'checkbox': '16,3',\n     'cords': [105.961, 389.443, 12.716, 12.716],\n     'page': 3}]},\n  {'exercise': 'mul12',\n   'checkboxes': [{'checkbox': '17,0',\n     'cords': [105.961, 345.053, 12.716, 12.716],\n     'page': 3},\n    {'checkbox': '17,1',\n     'cords': [105.961, 329.113, 12.716, 12.716],\n     'page': 3},\n    {'checkbox': '17,2',\n     'cords': [105.961, 313.172, 12.716, 12.717],\n     'page': 3},\n    {'checkbox': '17,3',\n     'cords': [105.961, 297.232, 12.716, 12.716],\n     'page': 3}]},\n  {'exercise': 'mul13',\n   'checkboxes': [{'checkbox': '18,0',\n     'cords': [105.961, 242.078, 12.716, 12.716],\n     'page': 3},\n    {'checkbox': '18,1',\n     'cords': [105.961, 226.138, 12.716, 12.716],\n     'page': 3},\n    {'checkbox': '18,2',\n     'cords': [105.961, 210.197, 12.716, 12.717],\n     'page': 3},\n    {'checkbox': '18,3',\n     'cords': [105.961, 194.257, 12.716, 12.716],\n     'page': 3}]},\n  {'exercise': 'mul14',\n   'checkboxes': [{'checkbox': '19,0',\n     'cords': [105.961, 151.612, 12.716, 12.716],\n     'page': 3},\n    {'checkbox': '19,1',\n     'cords': [105.961, 135.671, 12.716, 12.717],\n     'page': 3},\n    {'checkbox': '19,2',\n     'cords': [105.961, 119.731, 12.716, 12.716],\n     'page': 3},\n    {'checkbox': '19,3',\n     'cords': [105.961, 103.791, 12.716, 12.716],\n     'page': 3}]}]}"
     },
     "execution_count": 24,
     "metadata": {},
     "output_type": "execute_result"
    }
   ],
   "source": [
    "st_json_file1 = 'json/question_11111.json'\n",
    "with open(st_json_file1) as json_file:\n",
    "    data_st1 = json.load(json_file)\n",
    "data_st1"
   ],
   "metadata": {
    "collapsed": false,
    "ExecuteTime": {
     "end_time": "2023-05-07T11:33:08.024794536Z",
     "start_time": "2023-05-07T11:33:07.916389030Z"
    }
   }
  },
  {
   "cell_type": "code",
   "execution_count": 25,
   "outputs": [
    {
     "data": {
      "text/plain": "array([[105.961, 383.659],\n       [105.961, 367.719],\n       [105.961, 324.103],\n       [105.961, 308.163],\n       [105.961, 265.739],\n       [105.961, 249.799],\n       [105.961, 207.375],\n       [105.961, 191.434],\n       [105.961, 148.459],\n       [105.961, 132.518],\n       [105.961,  90.094],\n       [105.961,  74.154],\n       [105.961, 713.121],\n       [105.961, 697.181],\n       [105.961, 681.241],\n       [105.961, 665.301],\n       [105.961, 622.323],\n       [105.961, 606.383],\n       [105.961, 590.443],\n       [105.961, 574.502],\n       [105.961, 531.303],\n       [105.961, 515.363],\n       [105.961, 499.423],\n       [105.961, 483.483],\n       [105.961, 439.646],\n       [105.961, 423.706],\n       [105.961, 407.765],\n       [105.961, 391.825],\n       [105.961, 347.989],\n       [105.961, 332.048],\n       [105.961, 316.108],\n       [105.961, 272.271],\n       [105.961, 256.331],\n       [105.961, 240.391],\n       [105.961, 224.451],\n       [105.961, 181.252],\n       [105.961, 165.311],\n       [105.961, 149.371],\n       [105.961, 133.431],\n       [105.961, 713.121],\n       [105.961, 697.181],\n       [105.961, 681.241],\n       [105.961, 665.301],\n       [105.961, 621.685],\n       [105.961, 605.745],\n       [105.961, 589.805],\n       [105.961, 573.865],\n       [105.961, 529.475],\n       [105.961, 513.534],\n       [105.961, 497.594],\n       [105.961, 481.654],\n       [105.961, 437.264],\n       [105.961, 421.323],\n       [105.961, 405.383],\n       [105.961, 389.443],\n       [105.961, 345.053],\n       [105.961, 329.113],\n       [105.961, 313.172],\n       [105.961, 297.232],\n       [105.961, 242.078],\n       [105.961, 226.138],\n       [105.961, 210.197],\n       [105.961, 194.257],\n       [105.961, 151.612],\n       [105.961, 135.671],\n       [105.961, 119.731],\n       [105.961, 103.791]])"
     },
     "execution_count": 25,
     "metadata": {},
     "output_type": "execute_result"
    }
   ],
   "source": [
    "default_coords_pypdf_boxes = np.zeros((data_st1['num_boxes'],2))\n",
    "count_ex = 0\n",
    "count_box = 0\n",
    "for i in range(data_st1['num_boxes']):\n",
    "    if count_box == data_st1['exercises'][count_ex]['checkboxes'].__len__():\n",
    "        count_ex = count_ex + 1\n",
    "        count_box = 0\n",
    "    default_coords_pypdf_boxes[i] = data_st1['exercises'][count_ex]['checkboxes'][count_box]['cords'][0:2]\n",
    "    count_box = count_box + 1\n",
    "default_coords_pypdf_boxes"
   ],
   "metadata": {
    "collapsed": false,
    "ExecuteTime": {
     "end_time": "2023-05-07T11:33:08.025692676Z",
     "start_time": "2023-05-07T11:33:07.956298263Z"
    }
   }
  },
  {
   "cell_type": "markdown",
   "source": [
    "- checkbox coordinates with openCV\n",
    "- it seems to take one QR point as a checkbox, filter it out by removing marked boxes"
   ],
   "metadata": {
    "collapsed": false
   }
  },
  {
   "cell_type": "code",
   "execution_count": 29,
   "outputs": [],
   "source": [
    "dpi = 400"
   ],
   "metadata": {
    "collapsed": false,
    "ExecuteTime": {
     "end_time": "2023-05-07T11:39:39.977931916Z",
     "start_time": "2023-05-07T11:39:39.950808385Z"
    }
   }
  },
  {
   "cell_type": "code",
   "execution_count": 30,
   "outputs": [],
   "source": [
    "def is_valid_box(x, y, w, h, qr_points, line_min_width, a_height, stats):\n",
    "    inside_qr = (qr_points[0] - line_min_width < x < qr_points[1] + line_min_width and\n",
    "                 qr_points[2] - line_min_width < y < qr_points[3] + line_min_width)\n",
    "    if inside_qr:\n",
    "        return False\n",
    "    inside_header = (y < a_height * 0.1)\n",
    "    if inside_header:\n",
    "        return False\n",
    "    wrong_size = (w > line_min_width * 1.4 or h > line_min_width * 1.4 or\n",
    "                  w < line_min_width * 0.6 or h < line_min_width * 0.6)\n",
    "    if wrong_size:\n",
    "        return False\n",
    "    is_new = True\n",
    "    for box in stats:\n",
    "        if box[0] < x < (box[0] + box[2]) and box[1] < y < (box[1] + box[3]):\n",
    "            is_new = False\n",
    "        elif x < box[0] < (x + w) and y < box[1] < (y + h):\n",
    "            is_new = False\n",
    "    return is_new"
   ],
   "metadata": {
    "collapsed": false,
    "ExecuteTime": {
     "end_time": "2023-05-07T11:39:40.421547094Z",
     "start_time": "2023-05-07T11:39:40.398840363Z"
    }
   }
  },
  {
   "cell_type": "code",
   "execution_count": 31,
   "outputs": [],
   "source": [
    "def analyse_page(file, dpi, page, qr_coordinates):\n",
    "    img = cv2.imread(file)\n",
    "    line_min_width = int(dpi * 0.14)\n",
    "    a_height, a_width = dpi * 11.6, dpi * 8.3\n",
    "    data = {'page': page, 'boxes': []}\n",
    "    qr_points = [qr_coordinates[0][0][0], qr_coordinates[0][1][0], qr_coordinates[0][0][1], qr_coordinates[0][2][1]]\n",
    "    # grayscale, blur and sharpen\n",
    "    gray_scale = cv2.cvtColor(img, cv2.COLOR_BGR2GRAY)\n",
    "    blur = cv2.GaussianBlur(gray_scale, (5, 5), 0)\n",
    "    sharpen = cv2.filter2D(blur, -1, np.array([[-1, -1, -1], [-1, 9, -1], [-1, -1, -1]]))\n",
    "    _, img_bin = cv2.threshold(sharpen, 0, 225, cv2.THRESH_BINARY + cv2.THRESH_OTSU)\n",
    "    img_bin = ~img_bin\n",
    "    # filter the image to keep only horizontal and vertical lines of at least line_min_width\n",
    "    kernel_h = np.ones((1, line_min_width), np.uint8)\n",
    "    kernel_v = np.ones((line_min_width, 1), np.uint8)\n",
    "    img_bin_h = cv2.morphologyEx(img_bin, cv2.MORPH_OPEN, kernel_h)\n",
    "    img_bin_v = cv2.morphologyEx(img_bin, cv2.MORPH_OPEN, kernel_v)\n",
    "    img_bin_final = img_bin_h | img_bin_v\n",
    "    # find contours in the filtered image\n",
    "    contours, hierarchy = cv2.findContours(~img_bin_final, cv2.RETR_TREE, cv2.CHAIN_APPROX_SIMPLE)\n",
    "    contours = contours[::-1]  # [::-1] because the order is reversed\n",
    "    stats = []\n",
    "    for contour in contours:\n",
    "        x, y, w, h = cv2.boundingRect(contour)\n",
    "        if is_valid_box(x, y, w, h, qr_points, line_min_width, a_height, stats):\n",
    "            stats.append([x, y, w, h])\n",
    "    # check if the boxes are marked and store the data\n",
    "    for x, y, w, h in stats:\n",
    "        # get the inside of the box from the inverted grayscale image and check if it is marked\n",
    "        x2, y2 = x + w, y + h\n",
    "        box = {'stats': [x, y, w, h], 'page': page}\n",
    "        inner_box = img_bin[y:y2, x:x2]\n",
    "        box['is_marked'] = is_marked(inner_box, w, h)\n",
    "        data['boxes'].append(box)\n",
    "    return data"
   ],
   "metadata": {
    "collapsed": false,
    "ExecuteTime": {
     "end_time": "2023-05-07T11:39:40.973036677Z",
     "start_time": "2023-05-07T11:39:40.959437532Z"
    }
   }
  },
  {
   "cell_type": "code",
   "execution_count": 32,
   "outputs": [],
   "source": [
    "def analyse_scanned(file, dpi, qr_codes):\n",
    "    img_file = 'img_temp.png'\n",
    "    data = {'exam': qr_codes[0]['exam'], 'variant': qr_codes[0]['variant'], 'num_boxes': 0, 'boxes': []}\n",
    "    pages_data = []\n",
    "    pages = convert_from_path(file, dpi)\n",
    "    for i, page in enumerate(pages):\n",
    "        page.save(img_file)\n",
    "        pages_data.append(\n",
    "            analyse_page(img_file, dpi, qr_codes[i]['page'], qr_codes[i]['coordinates'])\n",
    "        )\n",
    "    pages_data.sort(key=lambda k: k['page'])\n",
    "    count = 0\n",
    "    for page in pages_data:\n",
    "        count = count + page['boxes'].__len__()\n",
    "        for box in page['boxes']:\n",
    "            data['boxes'].append(box)\n",
    "    data['num_boxes'] = count\n",
    "    return data"
   ],
   "metadata": {
    "collapsed": false,
    "ExecuteTime": {
     "end_time": "2023-05-07T11:39:41.650834706Z",
     "start_time": "2023-05-07T11:39:41.619716591Z"
    }
   }
  },
  {
   "cell_type": "code",
   "execution_count": 33,
   "outputs": [
    {
     "data": {
      "text/plain": "array([[ 524., 2481.],\n       [ 524., 2569.],\n       [ 524., 2811.],\n       [ 524., 2900.],\n       [ 524., 3136.],\n       [ 524., 3224.],\n       [ 524., 3460.],\n       [ 524., 3549.],\n       [ 524., 3787.],\n       [ 524., 3876.],\n       [ 524., 4112.],\n       [ 524., 4200.],\n       [ 524.,  650.],\n       [ 524.,  739.],\n       [ 524.,  827.],\n       [ 524.,  916.],\n       [ 524., 1155.],\n       [ 524., 1243.],\n       [ 524., 1332.],\n       [ 524., 1420.],\n       [ 524., 1660.],\n       [ 524., 1749.],\n       [ 524., 1837.],\n       [ 524., 1926.],\n       [ 524., 2170.],\n       [ 524., 2258.],\n       [ 524., 2347.],\n       [ 524., 2435.],\n       [ 524., 2679.],\n       [ 524., 2767.],\n       [ 524., 2856.],\n       [ 524., 3099.],\n       [ 524., 3188.],\n       [ 524., 3277.],\n       [ 524., 3365.],\n       [ 524., 3605.],\n       [ 524., 3694.],\n       [ 524., 3782.],\n       [ 524., 3871.],\n       [ 524.,  650.],\n       [ 524.,  739.],\n       [ 524.,  827.],\n       [ 524.,  916.],\n       [ 524., 1158.],\n       [ 524., 1247.],\n       [ 524., 1335.],\n       [ 524., 1424.],\n       [ 524., 1671.],\n       [ 524., 1759.],\n       [ 524., 1848.],\n       [ 524., 1936.],\n       [ 524., 2183.],\n       [ 524., 2271.],\n       [ 524., 2360.],\n       [ 524., 2448.],\n       [ 524., 2695.],\n       [ 524., 2784.],\n       [ 524., 2872.],\n       [ 524., 2961.],\n       [ 524., 3267.],\n       [ 524., 3356.],\n       [ 524., 3444.],\n       [ 524., 3533.],\n       [ 524., 3770.],\n       [ 524., 3858.],\n       [ 524., 3947.],\n       [ 524., 4035.]])"
     },
     "execution_count": 33,
     "metadata": {},
     "output_type": "execute_result"
    }
   ],
   "source": [
    "opencv_boxes = analyse_scanned('scanned/question_11111.pdf', dpi, qr_codes1)\n",
    "coords_opencv_boxes = np.zeros((data_st1['num_boxes'],2))\n",
    "count = 0\n",
    "for box in (opencv_boxes['boxes']):\n",
    "    if not box['is_marked']:\n",
    "        coords_opencv_boxes[count] = box['stats'][0:2]\n",
    "        count = count + 1\n",
    "coords_opencv_boxes"
   ],
   "metadata": {
    "collapsed": false,
    "ExecuteTime": {
     "end_time": "2023-05-07T11:39:45.184510361Z",
     "start_time": "2023-05-07T11:39:42.576369091Z"
    }
   }
  },
  {
   "cell_type": "markdown",
   "source": [
    "- pyPDF2 default to OpenCV default transformation, with pang's?"
   ],
   "metadata": {
    "collapsed": false
   }
  },
  {
   "cell_type": "code",
   "execution_count": null,
   "outputs": [],
   "source": [
    "transformations = []"
   ],
   "metadata": {
    "collapsed": false
   }
  },
  {
   "cell_type": "code",
   "execution_count": null,
   "outputs": [],
   "source": [
    "dist, alpha, scale = get_trans(default_coords_pypdf_boxes, coords_opencv_boxes)\n",
    "print(dist, alpha, scale)\n",
    "transformations.append((dpi, dist, alpha, scale))\n",
    "dist + scale * default_coords_pypdf_boxes @ rot(alpha)"
   ],
   "metadata": {
    "collapsed": false
   }
  },
  {
   "cell_type": "code",
   "execution_count": null,
   "outputs": [],
   "source": [
    "get_trans(np.array([[6.500,10.580], [7.025,10.580], [7.025,11.105], [6.500,11.105]]), scan1_1_cords_qr)"
   ],
   "metadata": {
    "collapsed": false
   }
  },
  {
   "cell_type": "code",
   "execution_count": null,
   "outputs": [],
   "source": [
    "(x0, y0), aplha, scale = get_trans(np.array([[6.500,10.580], [7.025,10.580], [7.025,11.105], [6.500,11.105]]), scan1_1_cords_qr)\n",
    "x0, y0, aplha, scale"
   ],
   "metadata": {
    "collapsed": false
   }
  },
  {
   "cell_type": "code",
   "execution_count": null,
   "outputs": [],
   "source": [
    "transformations"
   ],
   "metadata": {
    "collapsed": false
   }
  },
  {
   "cell_type": "code",
   "execution_count": null,
   "outputs": [],
   "source": [
    "dpi_list = [tr_i[0] for tr_i in transformations]\n",
    "x0_list = [tr_i[1][0] for tr_i in transformations]\n",
    "y0_list = [tr_i[1][1] for tr_i in transformations]\n",
    "alpha_list = [tr_i[2] for tr_i in transformations]\n",
    "scale_list = [tr_i[3] for tr_i in transformations]\n",
    "for i in zip(dpi_list, x0_list, y0_list, alpha_list, scale_list):\n",
    "    print(i[0], i[1]/i[0], i[2]/i[0], i[3], i[4]/i[0])"
   ],
   "metadata": {
    "collapsed": false
   }
  },
  {
   "cell_type": "code",
   "execution_count": null,
   "outputs": [],
   "source": [
    "coords_opencv_boxes - (dist + scale * default_coords_pypdf_boxes @ rot(alpha))"
   ],
   "metadata": {
    "collapsed": false
   }
  },
  {
   "cell_type": "markdown",
   "source": [
    "# Test checkbox detection directly with the coordinates (for each page)\n",
    "\n",
    "- get the transformation of the coordinates from the statement to the scanned version\n",
    "- look for the boxes within a range proportional to the min_width (dpi * 0.14)\n",
    "- look for contours within that range?"
   ],
   "metadata": {
    "collapsed": false
   }
  },
  {
   "cell_type": "code",
   "execution_count": null,
   "outputs": [],
   "source": [
    "dpi = 300"
   ],
   "metadata": {
    "collapsed": false
   }
  },
  {
   "cell_type": "code",
   "execution_count": null,
   "outputs": [],
   "source": [
    "\"\"\"x0_ini, y0_ini, alpha_ini, scale_ini = \"\"\"\n",
    "dpi * 2.78148, dpi * 11.52937, 180, dpi * 0.013887"
   ],
   "metadata": {
    "collapsed": false
   }
  },
  {
   "cell_type": "code",
   "execution_count": null,
   "outputs": [],
   "source": [
    "default_coords_pypdf_boxes[0:12], default_coords_pypdf_boxes[12:39], default_coords_pypdf_boxes[39:67]"
   ],
   "metadata": {
    "collapsed": false
   }
  },
  {
   "cell_type": "code",
   "execution_count": null,
   "outputs": [],
   "source": [
    "qr_codes_scan1 = find_qrs(ex_file1, 300)"
   ],
   "metadata": {
    "collapsed": false
   }
  },
  {
   "cell_type": "code",
   "execution_count": null,
   "outputs": [],
   "source": [
    "qr_codes_scan1"
   ],
   "metadata": {
    "collapsed": false
   }
  },
  {
   "cell_type": "code",
   "execution_count": null,
   "outputs": [],
   "source": [
    "default_cords_qr"
   ],
   "metadata": {
    "collapsed": false
   }
  },
  {
   "cell_type": "code",
   "execution_count": null,
   "outputs": [],
   "source": [
    "def anal_sc_test(file, dpi, qr_codes, statement_data):\n",
    "    img_file = 'img_temp.png'\n",
    "    data = {\n",
    "        'exam': qr_codes[0]['exam'],\n",
    "        'variant': qr_codes[0]['variant'],\n",
    "        'num_boxes': statement_data['num_boxes'],\n",
    "        'exercises': []\n",
    "    }\n",
    "    pages_data = []\n",
    "    pages = convert_from_path(file, dpi)\n",
    "    pages_st_data = split_pages(statement_data)\n",
    "    for i, page in enumerate(pages):\n",
    "        # get the data for the page indicated in the qr, in case the pages are out of order\n",
    "        if i < pages_st_data.__len__():\n",
    "            st_page = pages_st_data[qr_codes[i]['page']]\n",
    "        # in case the exam has more pages without checkboxes\n",
    "        else:\n",
    "            st_page = {'structure': [], 'coordinates': []}\n",
    "        page.save(img_file)\n",
    "        pages_data.append(\n",
    "            anal_p_test(img_file, dpi, qr_codes[i]['page'], qr_codes[i]['coordinates'][0], st_page['structure'],\n",
    "                         np.array(st_page['coordinates']))\n",
    "        )\n",
    "    # sorts the data by page number and appends it\n",
    "    pages_data.sort(key=lambda k: k['page'])\n",
    "    for page in pages_data:\n",
    "        data['exercises'].extend(page['exercises'])\n",
    "    return data"
   ],
   "metadata": {
    "collapsed": false
   }
  },
  {
   "cell_type": "code",
   "execution_count": null,
   "outputs": [],
   "source": [
    "np.array([[6.500,10.580], [7.025,10.580], [7.025,11.105], [6.500,11.105]]) * dpi"
   ],
   "metadata": {
    "collapsed": false
   }
  },
  {
   "cell_type": "markdown",
   "source": [
    "Qué pasa si no detecta ningun contorno valido donde deberia encontrar la caja?\n",
    "Cómo reconocer en el código cuando esto pasa"
   ],
   "metadata": {
    "collapsed": false
   }
  },
  {
   "cell_type": "code",
   "execution_count": null,
   "outputs": [],
   "source": [
    "a = [(0,0), (1,1), (2,2), (3,3), ()]\n",
    "for i in a:\n",
    "    if i:\n",
    "        a1, a2 = i\n",
    "        print(a1, a2)\n",
    "    else:\n",
    "        print(i)"
   ],
   "metadata": {
    "collapsed": false
   }
  },
  {
   "cell_type": "markdown",
   "source": [
    "transform json data to split the structural info from the coordinates, from the coordinates, and to split all data by the page it belongs to\n",
    "splitting by page is needed to check the boxes in each page\n",
    "splitting structure from coords is needed to transform the coords in"
   ],
   "metadata": {
    "collapsed": false
   }
  },
  {
   "cell_type": "code",
   "execution_count": null,
   "outputs": [],
   "source": [
    "data_st1"
   ],
   "metadata": {
    "collapsed": false
   }
  },
  {
   "cell_type": "code",
   "execution_count": null,
   "outputs": [],
   "source": [
    "def split_pages(data):\n",
    "    count_page = 1\n",
    "    pages = {'%i' % count_page: {'structure': [], 'coordinates': []}}\n",
    "    for exercise in (data['exercises']):\n",
    "        for checkbox in exercise['checkboxes']:\n",
    "            # in case the exam has pages without checkboxes\n",
    "            while checkbox['page'] > count_page:\n",
    "                count_page = count_page + 1\n",
    "                pages['%i' % count_page] = ({'structure': [], 'coordinates': []})\n",
    "            pages['%i' % count_page]['structure'].append({\n",
    "                'exercise': exercise['exercise'],\n",
    "                'checkbox': checkbox['checkbox']\n",
    "            })\n",
    "            pages['%i' % count_page]['coordinates'].append([\n",
    "                checkbox['cords'][0], checkbox['cords'][1]\n",
    "            ])\n",
    "    return pages"
   ],
   "metadata": {
    "collapsed": false
   }
  },
  {
   "cell_type": "code",
   "execution_count": null,
   "outputs": [],
   "source": [
    "split_data_st1 = split_pages(data_st1)\n",
    "split_data_st1"
   ],
   "metadata": {
    "collapsed": false
   }
  },
  {
   "cell_type": "code",
   "execution_count": null,
   "outputs": [],
   "source": [
    "np.array(split_data_st1[0]['coordinates'])"
   ],
   "metadata": {
    "collapsed": false
   }
  },
  {
   "cell_type": "code",
   "execution_count": null,
   "outputs": [],
   "source": [
    "split_data_st1[0]['structure']"
   ],
   "metadata": {
    "collapsed": false
   }
  },
  {
   "cell_type": "code",
   "execution_count": null,
   "outputs": [],
   "source": [
    "([[20, 20]] + [[12,12]] @ rot(180) * 0.5)"
   ],
   "metadata": {
    "collapsed": false
   }
  },
  {
   "cell_type": "code",
   "execution_count": null,
   "outputs": [],
   "source": [
    "import matplotlib.pyplot as plt"
   ],
   "metadata": {
    "collapsed": false
   }
  },
  {
   "cell_type": "code",
   "execution_count": null,
   "outputs": [],
   "source": [
    "def preprocess_img(img, line_min_width, circle_min_width):\n",
    "    gray_scale = cv2.cvtColor(img, cv2.COLOR_BGR2GRAY)\n",
    "    kernel = cv2.getStructuringElement(cv2.MORPH_RECT, (3,3))\n",
    "    morph = cv2.morphologyEx(~gray_scale, cv2.MORPH_CLOSE, kernel)\n",
    "    _, thresh = cv2.threshold(~morph, 0, 225, cv2.THRESH_BINARY + cv2.THRESH_OTSU)\n",
    "    img_bin = ~thresh\n",
    "\n",
    "    # filter the image to keep only horizontal and vertical lines of at least line_min_width\n",
    "    kernel_h = np.ones((1, line_min_width), np.uint8)\n",
    "    kernel_v = np.ones((line_min_width, 1), np.uint8)\n",
    "    img_bin_h = cv2.morphologyEx(img_bin, cv2.MORPH_OPEN, kernel_h)\n",
    "    img_bin_v = cv2.morphologyEx(img_bin, cv2.MORPH_OPEN, kernel_v)\n",
    "    img_bin_squares = img_bin_h | img_bin_v\n",
    "\n",
    "    # filter the image to keep only circles\n",
    "    kernel_circle = cv2.getStructuringElement(cv2.MORPH_ELLIPSE, (circle_min_width, circle_min_width))\n",
    "    img_bin_circles = cv2.morphologyEx(img_bin, cv2.MORPH_OPEN, kernel_circle)\n",
    "\n",
    "    return img_bin, img_bin_squares, img_bin_circles"
   ],
   "metadata": {
    "collapsed": false
   }
  },
  {
   "cell_type": "code",
   "execution_count": null,
   "outputs": [],
   "source": [
    "def find_amc_circles(amc_circles_expect, circle_min_width, img_bin_circle):\n",
    "    amc_circles = []\n",
    "    for circle in amc_circles_expect:\n",
    "        # get area where the circle should be\n",
    "        x_min, y_min= int(circle[0] - circle_min_width * 3), int(circle[1] - circle_min_width * 3)\n",
    "        x_max, y_max = int(circle[0] + circle_min_width * 3), int(circle[1] + circle_min_width * 3)\n",
    "        outer_box = img_bin_circle[y_min:y_max, x_min:x_max]\n",
    "        contours, _ = cv2.findContours(~outer_box, cv2.RETR_TREE, cv2.CHAIN_APPROX_SIMPLE)\n",
    "        contour = ()\n",
    "        for c in contours:\n",
    "            x, y, w, h = cv2.boundingRect(c)\n",
    "            x = x_min + x\n",
    "            y = y_min + y\n",
    "            if (circle_min_width < w < circle_min_width * 1.4) and (circle_min_width < h < circle_min_width * 1.4):\n",
    "                contour = (x, y, w, h)\n",
    "        if contour:\n",
    "            x, y, w, h = contour\n",
    "            amc_circles.append((x + w / 2,y + h / 2))\n",
    "    return amc_circles"
   ],
   "metadata": {
    "collapsed": false
   }
  },
  {
   "cell_type": "code",
   "execution_count": null,
   "outputs": [],
   "source": [
    "def find_checkbox(img_bin_squares, line_min_width, expected_x, expected_y):\n",
    "    # get area where the box should be\n",
    "    x_min, y_min= int(expected_x - line_min_width), int(expected_y - line_min_width)\n",
    "    x_max, y_max = int(expected_x + line_min_width), int(expected_y + line_min_width)\n",
    "    outer_box = img_bin_squares[y_min:y_max, x_min:x_max]\n",
    "    # look for contours inside the area and keep the best one\n",
    "    contours, hierarchy = cv2.findContours(~outer_box, cv2.RETR_TREE, cv2.CHAIN_APPROX_SIMPLE)\n",
    "    contour = ()\n",
    "    area_max = 0\n",
    "    for c in contours:\n",
    "        x, y, w, h = cv2.boundingRect(c)\n",
    "        if (line_min_width < w < line_min_width * 1.4) and (line_min_width < h < line_min_width * 1.4):\n",
    "            if w * h > area_max:\n",
    "                contour = (x, y, w, h)\n",
    "                area_max = w * h\n",
    "    # return checkbox location\n",
    "    if not contour:\n",
    "        # box not found, guess where it could be, less accurate\n",
    "        x, y = x_min, y_min# (expected_x - line_min_width * 0.4), (expected_y - line_min_width * 0.4)\n",
    "        # w = h = line_min_width\n",
    "        w = x_max - x_min\n",
    "        h = y_max - y_min\n",
    "    else:\n",
    "        x, y, w, h = contour\n",
    "        x = x_min + x\n",
    "        y = y_min + y\n",
    "    checkbox = ([x, y, w, h])\n",
    "    return checkbox"
   ],
   "metadata": {
    "collapsed": false
   }
  },
  {
   "cell_type": "code",
   "execution_count": null,
   "outputs": [],
   "source": [
    "def anal_p_test(file, dpi, page, qr_coordinates, st_structure, st_coordinates):\n",
    "    img = cv2.imread(file)\n",
    "    line_min_width = int(dpi * 0.17)\n",
    "    circle_min_width = int(dpi * 0.13)\n",
    "    data = {'page': page, 'exercises': []}\n",
    "    img_bin, img_bin_squares, img_bin_circles = preprocess_img(img, line_min_width, circle_min_width)\n",
    "\n",
    "    # values used to calculate the transformations\n",
    "    x0_ini, y0_ini, alpha_ini, scale_ini = dpi * 2.78148, dpi * 11.529371, 180, dpi * 0.013887\n",
    "    qr_default = np.array([[6.500,10.580], [7.025,10.580], [7.025,11.105], [6.500,11.105]]) * dpi\n",
    "    amc_circles_default = np.array([[1.05333, 0.97], [7.21, 0.97], [1.05333, 11.03], [7.21, 11.03]]) * dpi\n",
    "    (x0_scan, y0_scan), alpha_scan, scale_scan = get_trans(qr_default, qr_coordinates)\n",
    "\n",
    "    # find amc circles\n",
    "    amc_circles_expect = (x0_scan, y0_scan) + scale_scan * amc_circles_default @ rot(alpha_scan)+\\\n",
    "                         np.array([[circle_min_width/2, circle_min_width/2]]) @ rot(alpha_scan)\n",
    "    amc_circles = find_amc_circles(amc_circles_expect, circle_min_width, img_bin_circles)\n",
    "    # if it finds all 4 circles, update the transformation\n",
    "    if amc_circles.__len__() == 4:\n",
    "        circles = np.array(amc_circles)\n",
    "        (x0_scan, y0_scan), alpha_scan, scale_scan = get_trans(amc_circles_default, circles)\n",
    "        \"\"\"\"\"\"\n",
    "        for circle in circles:\n",
    "            x, y = int(circle[0]), int(circle[1])\n",
    "            d = int(circle_min_width / 2)\n",
    "            cv2.rectangle(img,(x - d, y - d),(x + d, y + d),(255,0,0),2)\n",
    "\n",
    "    # transform box coordinates from pyPDF2 to OpenCV, and correct for scan error\n",
    "    coords_boxes = (x0_ini, y0_ini) + scale_ini * st_coordinates @ rot(alpha_ini)\n",
    "    coords_boxes = (x0_scan, y0_scan) + scale_scan * coords_boxes @ rot(alpha_scan) +\\\n",
    "                   np.array([[line_min_width/2, line_min_width/2]]) @ rot(alpha_scan)\n",
    "\n",
    "    # check the expected coordinates of each box\n",
    "    stats = []\n",
    "    last_ex = ''\n",
    "    count_ex = -1\n",
    "    fig, ax = plt.subplots(int(coords_boxes.__len__()/4) + 1, 4, figsize=(20, int(coords_boxes.__len__()/4)*5))\n",
    "    count = 0\n",
    "    for box_data, box in zip(st_structure, coords_boxes):\n",
    "        i, j, = int(count/4), count%4\n",
    "        count = count + 1\n",
    "        exercise, checkbox = box_data['exercise'], box_data['checkbox']\n",
    "        if exercise != last_ex:\n",
    "            last_ex = exercise\n",
    "            count_ex = count_ex + 1\n",
    "            data['exercises'].append(\n",
    "                {\n",
    "                    'exercise': exercise,\n",
    "                    'checkboxes': [],\n",
    "                    'student_marked': []\n",
    "                }\n",
    "            )\n",
    "        x, y, w, h = find_checkbox(img_bin_squares, line_min_width, box[0], box[1])\n",
    "        x1, y1, x2, y2 = int(x), int(y), int(x + w), int(y + h)\n",
    "        inner_box = img_bin[y1:y2, x1:x2]\n",
    "        ax[i,j].imshow(inner_box)\n",
    "        marked = is_marked(inner_box, w, h)\n",
    "        ax[i,j].set_title(str(marked))\n",
    "        data['exercises'][count_ex]['checkboxes'].append(\n",
    "            {\n",
    "                'checkbox': checkbox,\n",
    "                'cords': [x, y, round(w), round(h)],\n",
    "                'page': page,\n",
    "                'is_marked': marked\n",
    "            }\n",
    "        )\n",
    "        if marked:\n",
    "            data['exercises'][count_ex]['student_marked'].append(checkbox)\n",
    "        cv2.rectangle(img,(x1, y1),(x2, y2),(0,255,0),2)\n",
    "\n",
    "    plt.show()\n",
    "\n",
    "    plt.figure(figsize=(20,20))\n",
    "    plt.imshow(img)\n",
    "    plt.show()\n",
    "\n",
    "    return data"
   ],
   "metadata": {
    "collapsed": false
   }
  },
  {
   "cell_type": "code",
   "execution_count": null,
   "outputs": [],
   "source": [
    "qrs2_400 = find_qrs(ex_file2, 400)"
   ],
   "metadata": {
    "collapsed": false
   }
  },
  {
   "cell_type": "code",
   "execution_count": null,
   "outputs": [],
   "source": [
    "qrs2_400"
   ],
   "metadata": {
    "collapsed": false
   }
  },
  {
   "cell_type": "code",
   "execution_count": null,
   "outputs": [],
   "source": [
    "anal_sc_test(ex_file2, 400, qrs2_400, data_st1)"
   ],
   "metadata": {
    "collapsed": false
   }
  },
  {
   "cell_type": "markdown",
   "source": [
    "Las coordenadas en pyPDF son la [x_min, y_min,"
   ],
   "metadata": {
    "collapsed": false
   }
  },
  {
   "cell_type": "code",
   "execution_count": null,
   "outputs": [],
   "source": [
    "pypdf.PdfFileReader(st_file1).getFields()"
   ],
   "metadata": {
    "collapsed": false
   }
  },
  {
   "cell_type": "code",
   "execution_count": null,
   "outputs": [],
   "source": [
    "anal_sc_test(ex_file2_rot90, 300, qrs2_rot90, data_st1)"
   ],
   "metadata": {
    "collapsed": false
   }
  },
  {
   "cell_type": "code",
   "execution_count": null,
   "outputs": [],
   "source": [
    "qrs2_rot180"
   ],
   "metadata": {
    "collapsed": false
   }
  },
  {
   "cell_type": "code",
   "execution_count": null,
   "outputs": [],
   "source": [
    "default_cords_qr, qr_cords2_180"
   ],
   "metadata": {
    "collapsed": false
   }
  },
  {
   "cell_type": "code",
   "execution_count": null,
   "outputs": [],
   "source": [
    "get_trans(default_cords_qr, qr_cords2_180)"
   ],
   "metadata": {
    "collapsed": false
   }
  },
  {
   "cell_type": "code",
   "execution_count": null,
   "outputs": [],
   "source": [
    "anal_sc_test(ex_file2_rot180, 300, qrs2_rot180, data_st1)"
   ],
   "metadata": {
    "collapsed": false
   }
  },
  {
   "cell_type": "code",
   "execution_count": null,
   "outputs": [],
   "source": [
    "qrs2_rot45 = find_qrs('scanned/scanned_22222_rot45.pdf', 300)"
   ],
   "metadata": {
    "collapsed": false
   }
  },
  {
   "cell_type": "code",
   "execution_count": null,
   "outputs": [],
   "source": [
    "qrs2_rot45"
   ],
   "metadata": {
    "collapsed": false
   }
  },
  {
   "cell_type": "code",
   "execution_count": null,
   "outputs": [],
   "source": [
    "anal_sc_test('scanned/scanned_22222_rot45.pdf', 300, qrs2_rot45, data_st1)"
   ],
   "metadata": {
    "collapsed": false
   }
  },
  {
   "cell_type": "code",
   "execution_count": null,
   "outputs": [],
   "source": [
    "qrs1 = find_qrs(ex_file1, dpi)\n",
    "qrs1_rot90 = find_qrs(ex_file1, dpi)\n",
    "qrs1_rot180 = find_qrs(ex_file1, dpi)"
   ],
   "metadata": {
    "collapsed": false
   }
  },
  {
   "cell_type": "code",
   "execution_count": null,
   "outputs": [],
   "source": [
    "anal_sc_test(ex_file1, 300, qrs1, data_st1)"
   ],
   "metadata": {
    "collapsed": false
   }
  },
  {
   "cell_type": "code",
   "execution_count": null,
   "outputs": [],
   "source": [
    "for filename in os.scandir('scanned'):\n",
    "    if filename.is_file():\n",
    "        file = filename.path\n",
    "        print(file, os.path.splitext(file))"
   ],
   "metadata": {
    "collapsed": false
   }
  },
  {
   "cell_type": "code",
   "execution_count": null,
   "outputs": [],
   "source": [],
   "metadata": {
    "collapsed": false
   }
  }
 ],
 "metadata": {
  "kernelspec": {
   "display_name": "Python 3",
   "language": "python",
   "name": "python3"
  },
  "language_info": {
   "codemirror_mode": {
    "name": "ipython",
    "version": 2
   },
   "file_extension": ".py",
   "mimetype": "text/x-python",
   "name": "python",
   "nbconvert_exporter": "python",
   "pygments_lexer": "ipython2",
   "version": "2.7.6"
  }
 },
 "nbformat": 4,
 "nbformat_minor": 0
}
