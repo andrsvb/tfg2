{
 "cells": [
  {
   "cell_type": "code",
   "execution_count": 22,
   "id": "3e565d5f-0946-4e06-a9f0-e61457c5b0de",
   "metadata": {
    "tags": []
   },
   "outputs": [],
   "source": [
    "import numpy as np\n",
    "import scipy as sc\n",
    "import scipy.optimize"
   ]
  },
  {
   "cell_type": "code",
   "execution_count": 34,
   "id": "cfad3944-35a6-49db-be4e-5eeaa393a4f1",
   "metadata": {
    "tags": []
   },
   "outputs": [],
   "source": [
    "C1 = np.array([\n",
    "    [0,1],\n",
    "    [1,1],\n",
    "    [1,0],\n",
    "    [0,0]\n",
    "])\n",
    "C2_xtra = np.array([\n",
    "    [0.5,1.2],\n",
    "    [1.5,1.2],\n",
    "    [1.5,0.2],\n",
    "    [0.5,0.2]\n",
    "])\n",
    "def rot(alpha):\n",
    "    '''clockwise rotation\n",
    "    \n",
    "    :param: alpha in 360 degrees\n",
    "    '''\n",
    "    alpha_rad = alpha*np.pi/180\n",
    "    return np.array([\n",
    "        [np.cos(alpha_rad), np.sin(alpha_rad)],\n",
    "        [-np.sin(alpha_rad), np.cos(alpha_rad)]\n",
    "    ])\n",
    "C3_rot = C1@rot(90)\n"
   ]
  },
  {
   "cell_type": "code",
   "execution_count": 35,
   "id": "66966468-ea0c-4af7-8fa7-4c64f056c70f",
   "metadata": {
    "tags": []
   },
   "outputs": [
    {
     "data": {
      "text/plain": "array([[-1.000000e+00,  6.123234e-17],\n       [-1.000000e+00,  1.000000e+00],\n       [ 6.123234e-17,  1.000000e+00],\n       [ 0.000000e+00,  0.000000e+00]])"
     },
     "execution_count": 35,
     "metadata": {},
     "output_type": "execute_result"
    }
   ],
   "source": [
    "C3_rot"
   ]
  },
  {
   "cell_type": "code",
   "execution_count": 36,
   "id": "a0e12df9-d1d8-4642-a973-9652a121aff7",
   "metadata": {
    "tags": []
   },
   "outputs": [
    {
     "data": {
      "text/plain": "array([[0., 0.],\n       [0., 0.],\n       [0., 0.],\n       [0., 0.]])"
     },
     "execution_count": 36,
     "metadata": {},
     "output_type": "execute_result"
    }
   ],
   "source": [
    "np.array([[0.5,0.2]]) +1*C1@rot(0)  - C2_xtra"
   ]
  },
  {
   "cell_type": "code",
   "execution_count": 37,
   "id": "c69b3905-ab41-4f26-83c7-fdb551350890",
   "metadata": {
    "tags": []
   },
   "outputs": [
    {
     "data": {
      "text/plain": "array([[-1.01727876e-02, -1.50785622e-08],\n       [-2.01728027e-02,  1.72772517e-04],\n       [-2.00000151e-02,  1.01727876e-02],\n       [-1.00000000e-02,  1.00000000e-02]])"
     },
     "execution_count": 37,
     "metadata": {},
     "output_type": "execute_result"
    }
   ],
   "source": [
    "np.array([[0.49,0.21]]) +.99*C1@rot(0.01)  - C2_xtra"
   ]
  },
  {
   "cell_type": "code",
   "execution_count": 38,
   "id": "0afe1fef-b422-46aa-8b71-ad90a04deb0d",
   "metadata": {
    "tags": []
   },
   "outputs": [
    {
     "data": {
      "text/plain": "array([[0.0001, 0.0441],\n       [0.0004, 0.0441],\n       [0.0004, 0.04  ],\n       [0.0001, 0.04  ]])"
     },
     "execution_count": 38,
     "metadata": {},
     "output_type": "execute_result"
    }
   ],
   "source": [
    "(np.array([[0.49,0]]) +0.99*C1  - C2_xtra)**2"
   ]
  },
  {
   "cell_type": "code",
   "execution_count": 39,
   "id": "139cafd3-070e-47bd-849a-a034b90fd518",
   "metadata": {
    "tags": []
   },
   "outputs": [
    {
     "data": {
      "text/plain": "0.1692"
     },
     "execution_count": 39,
     "metadata": {},
     "output_type": "execute_result"
    }
   ],
   "source": [
    "((np.array([[0.49,0]]) +0.99*C1  - C2_xtra)**2).sum()"
   ]
  },
  {
   "cell_type": "code",
   "execution_count": 40,
   "id": "07b84057-745f-4a92-9d04-af4ad47aaddc",
   "metadata": {
    "tags": []
   },
   "outputs": [],
   "source": [
    "def trans(C1, C2):\n",
    "    def sq(xs):\n",
    "        x0, y0, scale, angle = xs\n",
    "        C1_trans = np.array([[x0,y0]]) + scale*C1@rot(angle)\n",
    "        return ((C1_trans - C2)**2).sum()\n",
    "    x0_guess, y0_guess = C2[0,:] - C1[0,:]\n",
    "    sol = sc.optimize.minimize(sq, (x0_guess, y0_guess, 1, 0), tol=1e-9, method='Powell')\n",
    "    if not sol['success']:\n",
    "        raise RuntimeError('Numerical error: could not find transformation matrix')\n",
    "    return tuple(sol['x'])"
   ]
  },
  {
   "cell_type": "code",
   "execution_count": 41,
   "id": "bd0c16db-ec9c-4624-8fb1-3347835ed153",
   "metadata": {
    "tags": []
   },
   "outputs": [
    {
     "data": {
      "text/plain": "(0.5, 0.19999999999999996, 1.0, 0.0)"
     },
     "execution_count": 41,
     "metadata": {},
     "output_type": "execute_result"
    }
   ],
   "source": [
    "trans(C1, C2_xtra)"
   ]
  },
  {
   "cell_type": "code",
   "execution_count": 42,
   "id": "7540b48f-cc83-4540-821f-f295316569a9",
   "metadata": {
    "tags": []
   },
   "outputs": [
    {
     "data": {
      "text/plain": "(0.5005634236490347,\n 0.2002928460707557,\n 1.000384837419675,\n 0.020987542196671313)"
     },
     "execution_count": 42,
     "metadata": {},
     "output_type": "execute_result"
    }
   ],
   "source": [
    "trans(C1, C2_xtra + 1e-3*np.random.random((4,2)))"
   ]
  },
  {
   "cell_type": "code",
   "execution_count": 43,
   "id": "39ef00f8-ceaf-4577-a512-c7c3dfd47559",
   "metadata": {
    "tags": []
   },
   "outputs": [
    {
     "data": {
      "text/plain": "(-1.6510742998587072e-12,\n -1.1517537212075568e-12,\n 0.9999999999975262,\n 89.99999999986672)"
     },
     "execution_count": 43,
     "metadata": {},
     "output_type": "execute_result"
    }
   ],
   "source": [
    "trans(C1, C3_rot)"
   ]
  },
  {
   "cell_type": "code",
   "execution_count": 44,
   "id": "813f7f70-d484-46cd-a713-5dab86702ef2",
   "metadata": {
    "tags": []
   },
   "outputs": [
    {
     "data": {
      "text/plain": "(0.000255505195049494,\n 0.0004205054805855773,\n 0.9996934223721534,\n 89.98839069331599)"
     },
     "execution_count": 44,
     "metadata": {},
     "output_type": "execute_result"
    }
   ],
   "source": [
    "trans(C1, C3_rot + 1e-3*np.random.random((4,2)))"
   ]
  },
  {
   "cell_type": "code",
   "execution_count": 33,
   "id": "52c53d98-30ff-4036-a1e5-942c1ffad553",
   "metadata": {},
   "outputs": [],
   "source": []
  }
 ],
 "metadata": {
  "kernelspec": {
   "display_name": "Python 3",
   "language": "python",
   "name": "python3"
  },
  "language_info": {
   "codemirror_mode": {
    "name": "ipython",
    "version": 3
   },
   "file_extension": ".py",
   "mimetype": "text/x-python",
   "name": "python",
   "nbconvert_exporter": "python",
   "pygments_lexer": "ipython3",
   "version": "3.10.6"
  }
 },
 "nbformat": 4,
 "nbformat_minor": 5
}
