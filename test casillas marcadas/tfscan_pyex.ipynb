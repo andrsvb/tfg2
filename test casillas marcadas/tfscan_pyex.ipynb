{
 "cells": [
  {
   "cell_type": "markdown",
   "source": [
    "# tests de las funciones de 'escanear examenes' de pyexams"
   ],
   "metadata": {
    "collapsed": false
   }
  },
  {
   "cell_type": "code",
   "execution_count": 1,
   "outputs": [],
   "source": [
    "import PyPDF2 as pypdf\n",
    "import json\n",
    "import os\n",
    "from pdf2image import convert_from_path\n",
    "import numpy as np\n",
    "import cv2\n",
    "from functools import reduce\n",
    "import sys"
   ],
   "metadata": {
    "collapsed": false
   }
  },
  {
   "cell_type": "code",
   "execution_count": 2,
   "outputs": [],
   "source": [
    "import matplotlib.pyplot as plt\n",
    "debug = True"
   ],
   "metadata": {
    "collapsed": false
   }
  },
  {
   "cell_type": "code",
   "execution_count": 3,
   "metadata": {
    "collapsed": true
   },
   "outputs": [],
   "source": [
    "def detect_filled(boxes, exam, variant):\n",
    "    data = {'exam': exam,\n",
    "            'variant': variant,\n",
    "            'num_boxes': boxes.__len__(),\n",
    "            'exercises': []}\n",
    "    count_ex = -1\n",
    "    count_box = -1\n",
    "    count_page = 1\n",
    "    last_y = sys.float_info.max\n",
    "    for box in boxes:\n",
    "        exercise = box.split(sep=':')[2]\n",
    "        if not data['exercises'] or (data['exercises'][count_ex]['exercise'] != exercise):\n",
    "            count_ex = count_ex + 1\n",
    "            count_box = -1\n",
    "            data['exercises'].append(\n",
    "                {\n",
    "                    'exercise': exercise,\n",
    "                    'checkboxes': []\n",
    "                }\n",
    "            )\n",
    "            data['exercises'][count_ex]['student_marked'] = []\n",
    "        x1, y1, x2, y2 = [float(i) for i in boxes[box]['/Rect']]\n",
    "        if y1 > last_y:\n",
    "            count_page = count_page + 1\n",
    "        last_y = y1\n",
    "        count_box = count_box + 1\n",
    "        data['exercises'][count_ex]['checkboxes'].append(\n",
    "            {\n",
    "                'checkbox': str(count_ex) + ',' + str(count_box),\n",
    "                'cords': [x1, y1, round(x2 - x1, 3), round(y2 - y1, 3)],\n",
    "                'page': count_page\n",
    "            })\n",
    "        if boxes[box]['/V'] == '/Yes':\n",
    "            data['exercises'][count_ex]['student_marked'].append(str(count_ex) + ',' + str(count_box))\n",
    "    return data"
   ]
  },
  {
   "cell_type": "code",
   "execution_count": 4,
   "outputs": [],
   "source": [
    "def find_qrs(file, dpi):\n",
    "    # TODO: improve qr detection\n",
    "    pages = convert_from_path(file, dpi=dpi, thread_count=1, fmt='png')\n",
    "    img_file = 'img_temp.png'\n",
    "    qrs = []\n",
    "    for page in pages:\n",
    "        page.save(img_file)\n",
    "        img = cv2.imread(img_file)\n",
    "        qr_detect = cv2.QRCodeDetector()\n",
    "        # process the image\n",
    "        _, img_th = cv2.threshold(img, 120, 255, cv2.THRESH_BINARY)\n",
    "        # keep only black pixels\n",
    "        hsv_img = cv2.cvtColor(img_th, cv2.COLOR_BGR2HSV)\n",
    "        lower_values = np.array([0,0,0])\n",
    "        upper_values = np.array([180,255,30])\n",
    "        black_mask = cv2.inRange(hsv_img, lower_values, upper_values)\n",
    "        # blur, sharpen and recognize the qr\n",
    "        blur = cv2.GaussianBlur(black_mask, (3, 3), 0)\n",
    "        sharpen = cv2.filter2D(blur, -1, np.array([[-1, -1, -1], [-1, 9, -1], [-1, -1, -1]]))\n",
    "        value, coordinates, qr = qr_detect.detectAndDecode(~sharpen)\n",
    "        # if it doesn't find the qr, loop blur and sharpen until it does, up to 5 times\n",
    "        count = 0\n",
    "        while qr is None:\n",
    "            if count == 5:\n",
    "                print('Error: QR not found')\n",
    "                break\n",
    "            blur = cv2.GaussianBlur(sharpen, (3, 3), 0)\n",
    "            sharpen = cv2.filter2D(blur, -1, np.array([[-1, -1, -1], [-1, 9, -1], [-1, -1, -1]]))\n",
    "            value, coordinates, qr = qr_detect.detectAndDecode(~sharpen)\n",
    "            count = count + 1\n",
    "        exam, variant, page = '', '', ''\n",
    "        if value:\n",
    "            exam, variant, page = value.split(sep=',')\n",
    "        qrs.append({'exam': exam, 'variant': variant, 'page': page, 'coordinates': coordinates})\n",
    "    if os.path.exists(img_file):\n",
    "        os.remove(img_file)\n",
    "    return qrs"
   ],
   "metadata": {
    "collapsed": false
   }
  },
  {
   "cell_type": "code",
   "execution_count": 5,
   "outputs": [],
   "source": [
    "def analyse(file, sol_json=\"\", dpi=300):\n",
    "    # TODO: check if all qrs are from the same exam and variant\n",
    "    # TODO: deal with the JSON file parameter\n",
    "    # check if pyPDF2 can detect the boxes\n",
    "    boxes = pypdf.PdfFileReader(file).getFields()\n",
    "    # find qrs in the pdf\n",
    "    qr_codes = find_qrs(file, dpi)\n",
    "    exam, variant = qr_codes[0]['exam'], qr_codes[0]['variant']\n",
    "    if boxes:\n",
    "        # extract marked boxes with pyPDF2\n",
    "        data = detect_filled(boxes, exam, variant)\n",
    "    else:\n",
    "        # extract marked boxes with OpenCV\n",
    "        data = analyse_scanned(file, dpi, qr_codes)\n",
    "    # TODO: open JSON file\n",
    "    # TODO: compare with the data extracted from the pdf\n",
    "    # TODO: grade the exam and export the grade\n",
    "    return data"
   ],
   "metadata": {
    "collapsed": false
   }
  },
  {
   "cell_type": "code",
   "execution_count": 6,
   "outputs": [],
   "source": [
    "def analyse_scanned(file, dpi, qr_codes):\n",
    "    img_file = 'img_temp.png'\n",
    "    data = {'exam': qr_codes[0]['exam'], 'variant': qr_codes[0]['variant'], 'num_boxes': 0, 'boxes': []}\n",
    "    pages_data = []\n",
    "    pages = convert_from_path(file, dpi)\n",
    "    for i, page in enumerate(pages):\n",
    "        page.save(img_file)\n",
    "        pages_data.append(analyse_page(img_file, dpi, qr_codes[i]['page'], qr_codes[i]['coordinates']))\n",
    "    pages_data.sort(key=lambda k: k['page'])\n",
    "    # TODO: add 'num_boxes' value to dict\n",
    "    count = 0\n",
    "    for page in pages_data:\n",
    "        count = count + page['boxes'].__len__()\n",
    "        for box in page['boxes']:\n",
    "            data['boxes'].append(box)\n",
    "    data['num_boxes'] = count\n",
    "    return data"
   ],
   "metadata": {
    "collapsed": false
   }
  },
  {
   "cell_type": "markdown",
   "source": [
    "data = [{'exam': qr_codes[i]['exam'], 'variant': qr_codes[i]['variant'], 'page': qr_codes[i]['page'], 'boxes': page} for i, page in enumerate(boxes)]\n",
    "\n",
    "genera:\n",
    "\n",
    "[{'exam': 'test_qr',\n",
    "  'variant': '11111',\n",
    "  'page': '1',\n",
    "  'boxes': {'exam': 'test_qr',\n",
    "   'variant': '11111',\n",
    "   'page': '1',\n",
    "   'boxes': [{'stats': [400, 1840, 46, 48], 'is_marked': True},\n",
    "    {'stats': [400, 1905, 46, 47], 'is_marked': False},\n",
    "    {'stats': [400, 2079, 46, 47], 'is_marked': False},\n",
    "    {'stats': [400, 2142, 46, 47], 'is_marked': True},\n",
    "    {'stats': [400, 2311, 47, 48], 'is_marked': True},\n",
    "    {'stats': [400, 2376, 47, 46], 'is_marked': False},\n",
    "    {'stats': [400, 2542, 47, 49], 'is_marked': True},\n",
    "    {'stats': [400, 2607, 47, 47], 'is_marked': False},"
   ],
   "metadata": {
    "collapsed": false
   }
  },
  {
   "cell_type": "code",
   "execution_count": 7,
   "outputs": [],
   "source": [
    "def is_valid_box(x, y, w, h, qr_points, line_min_width, a_height, stats):\n",
    "    inside_qr = (qr_points[0] - line_min_width < x < qr_points[1] + line_min_width and\n",
    "                 qr_points[2] - line_min_width < y < qr_points[3] + line_min_width)\n",
    "    if inside_qr:\n",
    "        return False\n",
    "    inside_header = (y < a_height * 0.1)\n",
    "    if inside_header:\n",
    "        return False\n",
    "    wrong_size = (w > line_min_width * 1.4 or h > line_min_width * 1.4 or\n",
    "                  w < line_min_width * 0.6 or h < line_min_width * 0.6)\n",
    "    if wrong_size:\n",
    "        return False\n",
    "    is_new = True\n",
    "    for box in stats:\n",
    "        if box[0] < x < (box[0] + box[2]) and box[1] < y < (box[1] + box[3]):\n",
    "            is_new = False\n",
    "        elif x < box[0] < (x + w) and y < box[1] < (y + h):\n",
    "            is_new = False\n",
    "    return is_new"
   ],
   "metadata": {
    "collapsed": false
   }
  },
  {
   "cell_type": "code",
   "execution_count": 8,
   "outputs": [],
   "source": [
    "def analyse_page(file, dpi, page, qr_coordinates):\n",
    "    img = cv2.imread(file)\n",
    "    line_min_width = int(dpi * 0.14)\n",
    "    a_height, a_width = dpi * 11.6, dpi * 8.3\n",
    "    data = {'page': page, 'boxes': []}\n",
    "    qr_points = [qr_coordinates[0][0][0], qr_coordinates[0][1][0], qr_coordinates[0][0][1], qr_coordinates[0][2][1]]\n",
    "    # grayscale, blur and sharpen\n",
    "    gray_scale = cv2.cvtColor(img, cv2.COLOR_BGR2GRAY)\n",
    "    blur = cv2.GaussianBlur(gray_scale, (5, 5), 0)\n",
    "    sharpen = cv2.filter2D(blur, -1, np.array([[-1, -1, -1], [-1, 9, -1], [-1, -1, -1]]))\n",
    "    _, img_bin = cv2.threshold(sharpen, 0, 225, cv2.THRESH_BINARY + cv2.THRESH_OTSU)\n",
    "    img_bin = ~img_bin\n",
    "    # filter the image to keep only horizontal and vertical lines of at least line_min_width\n",
    "    kernel_h = np.ones((1, line_min_width), np.uint8)\n",
    "    kernel_v = np.ones((line_min_width, 1), np.uint8)\n",
    "    img_bin_h = cv2.morphologyEx(img_bin, cv2.MORPH_OPEN, kernel_h)\n",
    "    img_bin_v = cv2.morphologyEx(img_bin, cv2.MORPH_OPEN, kernel_v)\n",
    "    img_bin_final = img_bin_h | img_bin_v\n",
    "    # find contours in the filtered image\n",
    "    contours, hierarchy = cv2.findContours(~img_bin_final, cv2.RETR_TREE, cv2.CHAIN_APPROX_SIMPLE)\n",
    "    contours = contours[::-1]   # [::-1] because the order is reversed\n",
    "    stats = []\n",
    "    for contour in contours:\n",
    "        x, y, w, h = cv2.boundingRect(contour)\n",
    "        if is_valid_box(x,y,w,h,qr_points,line_min_width,a_height,stats):\n",
    "            stats.append([x, y, w, h])\n",
    "    if debug:\n",
    "        for x,y,w,h in stats:\n",
    "            cv2.rectangle(img,(x,y),(x+w,y+h),(0,255,0),1)\n",
    "        plt.figure(figsize=(20,20))\n",
    "        plt.imshow(img)\n",
    "    # check if the boxes are marked and store the data\n",
    "    for x, y, w, h in stats:\n",
    "        # get the inside of the box from the inverted grayscale image and check if it is marked\n",
    "        x2, y2 = x + w, y + h\n",
    "        box = {'stats': [x, y, w, h], 'page': page}\n",
    "        inner_box = img_bin[y:y2, x:x2]\n",
    "        box['is_marked'] = is_marked(inner_box, w, h)\n",
    "        data['boxes'].append(box)\n",
    "    return data"
   ],
   "metadata": {
    "collapsed": false
   }
  },
  {
   "cell_type": "code",
   "execution_count": 9,
   "outputs": [],
   "source": [
    "def is_marked(inner_box, width, height, b_th=0.1, validation_th = 0.1):\n",
    "    # ignore the pixels closest to the border, to avoid noise\n",
    "    x_min = int(width * b_th)\n",
    "    y_min = int(height * b_th)\n",
    "    x_max = width - x_min\n",
    "    y_max = height - y_min\n",
    "    area = x_max * y_max\n",
    "    inner_box = inner_box[y_min:y_max, x_min:x_max]\n",
    "    # get sum of colored pixels, box is considered full if sum is greater than 10% of area\n",
    "    bits_filled = [[(0 if i < 100 else 1) for i in j] for j in inner_box]\n",
    "    add = reduce(lambda a, b: a + b, [reduce(lambda c, d: c + d, row) for row in bits_filled])\n",
    "    return add > (area * validation_th)\n"
   ],
   "metadata": {
    "collapsed": false
   }
  },
  {
   "cell_type": "markdown",
   "source": [
    "## pruebas con examenes escaneados"
   ],
   "metadata": {
    "collapsed": false
   }
  },
  {
   "cell_type": "code",
   "execution_count": 10,
   "outputs": [
    {
     "data": {
      "text/plain": "{'exam': 'test_qr',\n 'variant': '11111',\n 'num_boxes': 67,\n 'boxes': [{'stats': [400, 1840, 46, 48], 'page': '1', 'is_marked': True},\n  {'stats': [400, 1905, 46, 47], 'page': '1', 'is_marked': False},\n  {'stats': [400, 2079, 46, 47], 'page': '1', 'is_marked': False},\n  {'stats': [400, 2142, 46, 47], 'page': '1', 'is_marked': True},\n  {'stats': [400, 2311, 47, 48], 'page': '1', 'is_marked': True},\n  {'stats': [400, 2376, 47, 46], 'page': '1', 'is_marked': False},\n  {'stats': [400, 2542, 47, 49], 'page': '1', 'is_marked': True},\n  {'stats': [400, 2607, 47, 47], 'page': '1', 'is_marked': False},\n  {'stats': [400, 2780, 47, 46], 'page': '1', 'is_marked': False},\n  {'stats': [400, 2843, 47, 48], 'page': '1', 'is_marked': True},\n  {'stats': [400, 3014, 47, 47], 'page': '1', 'is_marked': True},\n  {'stats': [400, 3077, 47, 47], 'page': '1', 'is_marked': False},\n  {'stats': [435, 496, 46, 47], 'page': '2', 'is_marked': False},\n  {'stats': [435, 560, 46, 46], 'page': '2', 'is_marked': True},\n  {'stats': [434, 623, 47, 47], 'page': '2', 'is_marked': False},\n  {'stats': [435, 687, 46, 47], 'page': '2', 'is_marked': False},\n  {'stats': [435, 860, 46, 48], 'page': '2', 'is_marked': False},\n  {'stats': [435, 926, 46, 47], 'page': '2', 'is_marked': True},\n  {'stats': [435, 990, 46, 46], 'page': '2', 'is_marked': False},\n  {'stats': [435, 1053, 46, 46], 'page': '2', 'is_marked': False},\n  {'stats': [435, 1224, 46, 45], 'page': '2', 'is_marked': False},\n  {'stats': [436, 1286, 46, 47], 'page': '2', 'is_marked': False},\n  {'stats': [436, 1350, 46, 45], 'page': '2', 'is_marked': False},\n  {'stats': [436, 1412, 46, 46], 'page': '2', 'is_marked': True},\n  {'stats': [436, 1587, 46, 45], 'page': '2', 'is_marked': False},\n  {'stats': [436, 1649, 47, 47], 'page': '2', 'is_marked': False},\n  {'stats': [436, 1714, 47, 46], 'page': '2', 'is_marked': True},\n  {'stats': [436, 1778, 47, 46], 'page': '2', 'is_marked': False},\n  {'stats': [437, 1952, 46, 46], 'page': '2', 'is_marked': True},\n  {'stats': [437, 2015, 46, 46], 'page': '2', 'is_marked': False},\n  {'stats': [437, 2078, 46, 46], 'page': '2', 'is_marked': False},\n  {'stats': [437, 2252, 46, 47], 'page': '2', 'is_marked': False},\n  {'stats': [437, 2316, 47, 47], 'page': '2', 'is_marked': False},\n  {'stats': [437, 2379, 47, 47], 'page': '2', 'is_marked': True},\n  {'stats': [437, 2443, 47, 46], 'page': '2', 'is_marked': False},\n  {'stats': [438, 2614, 46, 46], 'page': '2', 'is_marked': False},\n  {'stats': [438, 2678, 46, 46], 'page': '2', 'is_marked': False},\n  {'stats': [438, 2741, 46, 46], 'page': '2', 'is_marked': False},\n  {'stats': [438, 2804, 46, 47], 'page': '2', 'is_marked': True},\n  {'stats': [402, 525, 47, 47], 'page': '3', 'is_marked': False},\n  {'stats': [402, 588, 47, 48], 'page': '3', 'is_marked': False},\n  {'stats': [399, 649, 55, 54], 'page': '3', 'is_marked': True},\n  {'stats': [402, 715, 47, 47], 'page': '3', 'is_marked': False},\n  {'stats': [402, 888, 47, 47], 'page': '3', 'is_marked': False},\n  {'stats': [402, 952, 47, 47], 'page': '3', 'is_marked': False},\n  {'stats': [402, 1016, 47, 47], 'page': '3', 'is_marked': False},\n  {'stats': [399, 1077, 54, 53], 'page': '3', 'is_marked': True},\n  {'stats': [399, 1254, 54, 54], 'page': '3', 'is_marked': False},\n  {'stats': [402, 1320, 46, 47], 'page': '3', 'is_marked': True},\n  {'stats': [402, 1384, 47, 46], 'page': '3', 'is_marked': False},\n  {'stats': [402, 1447, 47, 46], 'page': '3', 'is_marked': False},\n  {'stats': [402, 1623, 47, 47], 'page': '3', 'is_marked': False},\n  {'stats': [402, 1687, 47, 46], 'page': '3', 'is_marked': False},\n  {'stats': [402, 1750, 46, 47], 'page': '3', 'is_marked': False},\n  {'stats': [402, 1814, 46, 47], 'page': '3', 'is_marked': True},\n  {'stats': [402, 1990, 47, 46], 'page': '3', 'is_marked': False},\n  {'stats': [402, 2053, 46, 46], 'page': '3', 'is_marked': True},\n  {'stats': [401, 2116, 47, 47], 'page': '3', 'is_marked': False},\n  {'stats': [401, 2179, 47, 47], 'page': '3', 'is_marked': False},\n  {'stats': [401, 2400, 47, 46], 'page': '3', 'is_marked': False},\n  {'stats': [401, 2463, 47, 47], 'page': '3', 'is_marked': False},\n  {'stats': [401, 2526, 47, 48], 'page': '3', 'is_marked': False},\n  {'stats': [401, 2591, 47, 46], 'page': '3', 'is_marked': True},\n  {'stats': [400, 2761, 47, 47], 'page': '3', 'is_marked': True},\n  {'stats': [400, 2825, 47, 47], 'page': '3', 'is_marked': False},\n  {'stats': [400, 2889, 47, 48], 'page': '3', 'is_marked': False},\n  {'stats': [399, 2954, 47, 46], 'page': '3', 'is_marked': False}]}"
     },
     "execution_count": 10,
     "metadata": {},
     "output_type": "execute_result"
    }
   ],
   "source": [
    "scan1x5 = analyse('scanned/scanned_11111.pdf')\n",
    "scan1x5"
   ],
   "metadata": {
    "collapsed": false
   }
  },
  {
   "cell_type": "markdown",
   "source": [
    "examen con paginas desordenadas: 1, 3, 2"
   ],
   "metadata": {
    "collapsed": false
   }
  },
  {
   "cell_type": "code",
   "execution_count": 11,
   "outputs": [
    {
     "data": {
      "text/plain": "{'exam': 'test_qr',\n 'variant': '11111',\n 'num_boxes': 67,\n 'boxes': [{'stats': [400, 1840, 46, 48], 'page': '1', 'is_marked': True},\n  {'stats': [400, 1905, 46, 47], 'page': '1', 'is_marked': False},\n  {'stats': [400, 2079, 46, 47], 'page': '1', 'is_marked': False},\n  {'stats': [400, 2142, 46, 47], 'page': '1', 'is_marked': True},\n  {'stats': [400, 2311, 47, 48], 'page': '1', 'is_marked': True},\n  {'stats': [400, 2376, 47, 46], 'page': '1', 'is_marked': False},\n  {'stats': [400, 2542, 47, 49], 'page': '1', 'is_marked': True},\n  {'stats': [400, 2607, 47, 47], 'page': '1', 'is_marked': False},\n  {'stats': [400, 2780, 47, 46], 'page': '1', 'is_marked': False},\n  {'stats': [400, 2843, 47, 48], 'page': '1', 'is_marked': True},\n  {'stats': [400, 3014, 47, 47], 'page': '1', 'is_marked': True},\n  {'stats': [400, 3077, 47, 47], 'page': '1', 'is_marked': False},\n  {'stats': [435, 496, 46, 47], 'page': '2', 'is_marked': False},\n  {'stats': [435, 560, 46, 46], 'page': '2', 'is_marked': True},\n  {'stats': [434, 623, 47, 47], 'page': '2', 'is_marked': False},\n  {'stats': [435, 687, 46, 47], 'page': '2', 'is_marked': False},\n  {'stats': [435, 860, 46, 48], 'page': '2', 'is_marked': False},\n  {'stats': [435, 926, 46, 47], 'page': '2', 'is_marked': True},\n  {'stats': [435, 990, 46, 46], 'page': '2', 'is_marked': False},\n  {'stats': [435, 1053, 46, 46], 'page': '2', 'is_marked': False},\n  {'stats': [435, 1224, 46, 45], 'page': '2', 'is_marked': False},\n  {'stats': [436, 1286, 46, 47], 'page': '2', 'is_marked': False},\n  {'stats': [436, 1350, 46, 45], 'page': '2', 'is_marked': False},\n  {'stats': [436, 1412, 46, 46], 'page': '2', 'is_marked': True},\n  {'stats': [436, 1587, 46, 45], 'page': '2', 'is_marked': False},\n  {'stats': [436, 1649, 47, 47], 'page': '2', 'is_marked': False},\n  {'stats': [436, 1714, 47, 46], 'page': '2', 'is_marked': True},\n  {'stats': [436, 1778, 47, 46], 'page': '2', 'is_marked': False},\n  {'stats': [437, 1952, 46, 46], 'page': '2', 'is_marked': True},\n  {'stats': [437, 2015, 46, 46], 'page': '2', 'is_marked': False},\n  {'stats': [437, 2078, 46, 46], 'page': '2', 'is_marked': False},\n  {'stats': [437, 2252, 46, 47], 'page': '2', 'is_marked': False},\n  {'stats': [437, 2316, 47, 47], 'page': '2', 'is_marked': False},\n  {'stats': [437, 2379, 47, 47], 'page': '2', 'is_marked': True},\n  {'stats': [437, 2443, 47, 46], 'page': '2', 'is_marked': False},\n  {'stats': [438, 2614, 46, 46], 'page': '2', 'is_marked': False},\n  {'stats': [438, 2678, 46, 46], 'page': '2', 'is_marked': False},\n  {'stats': [438, 2741, 46, 46], 'page': '2', 'is_marked': False},\n  {'stats': [438, 2804, 46, 47], 'page': '2', 'is_marked': True},\n  {'stats': [402, 525, 47, 47], 'page': '3', 'is_marked': False},\n  {'stats': [402, 588, 47, 48], 'page': '3', 'is_marked': False},\n  {'stats': [399, 649, 55, 54], 'page': '3', 'is_marked': True},\n  {'stats': [402, 715, 47, 47], 'page': '3', 'is_marked': False},\n  {'stats': [402, 888, 47, 47], 'page': '3', 'is_marked': False},\n  {'stats': [402, 952, 47, 47], 'page': '3', 'is_marked': False},\n  {'stats': [402, 1016, 47, 47], 'page': '3', 'is_marked': False},\n  {'stats': [399, 1077, 54, 53], 'page': '3', 'is_marked': True},\n  {'stats': [399, 1254, 54, 54], 'page': '3', 'is_marked': False},\n  {'stats': [402, 1320, 46, 47], 'page': '3', 'is_marked': True},\n  {'stats': [402, 1384, 47, 46], 'page': '3', 'is_marked': False},\n  {'stats': [402, 1447, 47, 46], 'page': '3', 'is_marked': False},\n  {'stats': [402, 1623, 47, 47], 'page': '3', 'is_marked': False},\n  {'stats': [402, 1687, 47, 46], 'page': '3', 'is_marked': False},\n  {'stats': [402, 1750, 46, 47], 'page': '3', 'is_marked': False},\n  {'stats': [402, 1814, 46, 47], 'page': '3', 'is_marked': True},\n  {'stats': [402, 1990, 47, 46], 'page': '3', 'is_marked': False},\n  {'stats': [402, 2053, 46, 46], 'page': '3', 'is_marked': True},\n  {'stats': [401, 2116, 47, 47], 'page': '3', 'is_marked': False},\n  {'stats': [401, 2179, 47, 47], 'page': '3', 'is_marked': False},\n  {'stats': [401, 2400, 47, 46], 'page': '3', 'is_marked': False},\n  {'stats': [401, 2463, 47, 47], 'page': '3', 'is_marked': False},\n  {'stats': [401, 2526, 47, 48], 'page': '3', 'is_marked': False},\n  {'stats': [401, 2591, 47, 46], 'page': '3', 'is_marked': True},\n  {'stats': [400, 2761, 47, 47], 'page': '3', 'is_marked': True},\n  {'stats': [400, 2825, 47, 47], 'page': '3', 'is_marked': False},\n  {'stats': [400, 2889, 47, 48], 'page': '3', 'is_marked': False},\n  {'stats': [399, 2954, 47, 46], 'page': '3', 'is_marked': False}]}"
     },
     "execution_count": 11,
     "metadata": {},
     "output_type": "execute_result"
    }
   ],
   "source": [
    "scan1x5_desorden = analyse('scanned/scanned_11111_desordenado.pdf')\n",
    "scan1x5_desorden"
   ],
   "metadata": {
    "collapsed": false
   }
  },
  {
   "cell_type": "code",
   "execution_count": 12,
   "outputs": [
    {
     "data": {
      "text/plain": "{'exam': 'test_qr',\n 'variant': '22222',\n 'num_boxes': 67,\n 'boxes': [{'stats': [397, 1839, 46, 47], 'page': '1', 'is_marked': True},\n  {'stats': [397, 1903, 46, 46], 'page': '1', 'is_marked': False},\n  {'stats': [397, 2076, 46, 47], 'page': '1', 'is_marked': True},\n  {'stats': [397, 2139, 47, 47], 'page': '1', 'is_marked': False},\n  {'stats': [397, 2308, 47, 47], 'page': '1', 'is_marked': True},\n  {'stats': [397, 2372, 47, 46], 'page': '1', 'is_marked': False},\n  {'stats': [397, 2540, 47, 49], 'page': '1', 'is_marked': True},\n  {'stats': [397, 2605, 46, 47], 'page': '1', 'is_marked': False},\n  {'stats': [397, 2778, 46, 47], 'page': '1', 'is_marked': True},\n  {'stats': [397, 2842, 46, 46], 'page': '1', 'is_marked': False},\n  {'stats': [396, 3012, 47, 46], 'page': '1', 'is_marked': True},\n  {'stats': [396, 3075, 47, 48], 'page': '1', 'is_marked': False},\n  {'stats': [435, 491, 47, 47], 'page': '2', 'is_marked': False},\n  {'stats': [435, 555, 46, 47], 'page': '2', 'is_marked': True},\n  {'stats': [435, 620, 46, 46], 'page': '2', 'is_marked': False},\n  {'stats': [435, 683, 46, 47], 'page': '2', 'is_marked': False},\n  {'stats': [434, 855, 47, 47], 'page': '2', 'is_marked': False},\n  {'stats': [434, 919, 47, 45], 'page': '2', 'is_marked': True},\n  {'stats': [434, 982, 46, 45], 'page': '2', 'is_marked': False},\n  {'stats': [434, 1045, 47, 46], 'page': '2', 'is_marked': False},\n  {'stats': [434, 1217, 46, 46], 'page': '2', 'is_marked': False},\n  {'stats': [434, 1281, 46, 46], 'page': '2', 'is_marked': False},\n  {'stats': [434, 1344, 46, 46], 'page': '2', 'is_marked': True},\n  {'stats': [434, 1407, 46, 46], 'page': '2', 'is_marked': False},\n  {'stats': [433, 1582, 47, 46], 'page': '2', 'is_marked': False},\n  {'stats': [434, 1645, 46, 46], 'page': '2', 'is_marked': False},\n  {'stats': [433, 1709, 47, 46], 'page': '2', 'is_marked': False},\n  {'stats': [433, 1772, 46, 46], 'page': '2', 'is_marked': True},\n  {'stats': [433, 1947, 47, 46], 'page': '2', 'is_marked': True},\n  {'stats': [434, 2010, 46, 47], 'page': '2', 'is_marked': False},\n  {'stats': [433, 2074, 47, 47], 'page': '2', 'is_marked': False},\n  {'stats': [433, 2249, 46, 46], 'page': '2', 'is_marked': False},\n  {'stats': [434, 2312, 45, 46], 'page': '2', 'is_marked': False},\n  {'stats': [433, 2375, 47, 46], 'page': '2', 'is_marked': True},\n  {'stats': [433, 2439, 46, 46], 'page': '2', 'is_marked': False},\n  {'stats': [433, 2609, 46, 46], 'page': '2', 'is_marked': False},\n  {'stats': [433, 2672, 46, 47], 'page': '2', 'is_marked': True},\n  {'stats': [433, 2736, 46, 46], 'page': '2', 'is_marked': False},\n  {'stats': [433, 2799, 46, 46], 'page': '2', 'is_marked': False},\n  {'stats': [398, 528, 47, 46], 'page': '3', 'is_marked': True},\n  {'stats': [398, 591, 47, 46], 'page': '3', 'is_marked': False},\n  {'stats': [398, 653, 47, 47], 'page': '3', 'is_marked': False},\n  {'stats': [398, 717, 47, 46], 'page': '3', 'is_marked': False},\n  {'stats': [398, 890, 47, 46], 'page': '3', 'is_marked': False},\n  {'stats': [398, 952, 47, 47], 'page': '3', 'is_marked': False},\n  {'stats': [398, 1016, 47, 46], 'page': '3', 'is_marked': False},\n  {'stats': [398, 1079, 47, 48], 'page': '3', 'is_marked': True},\n  {'stats': [398, 1258, 47, 47], 'page': '3', 'is_marked': True},\n  {'stats': [398, 1321, 47, 47], 'page': '3', 'is_marked': False},\n  {'stats': [398, 1385, 47, 47], 'page': '3', 'is_marked': False},\n  {'stats': [398, 1450, 47, 46], 'page': '3', 'is_marked': False},\n  {'stats': [399, 1625, 46, 47], 'page': '3', 'is_marked': False},\n  {'stats': [399, 1688, 46, 46], 'page': '3', 'is_marked': True},\n  {'stats': [399, 1751, 46, 47], 'page': '3', 'is_marked': False},\n  {'stats': [399, 1815, 47, 47], 'page': '3', 'is_marked': False},\n  {'stats': [399, 1992, 47, 47], 'page': '3', 'is_marked': False},\n  {'stats': [399, 2056, 47, 46], 'page': '3', 'is_marked': False},\n  {'stats': [399, 2119, 47, 47], 'page': '3', 'is_marked': False},\n  {'stats': [399, 2183, 47, 47], 'page': '3', 'is_marked': True},\n  {'stats': [400, 2402, 46, 46], 'page': '3', 'is_marked': False},\n  {'stats': [400, 2465, 46, 47], 'page': '3', 'is_marked': False},\n  {'stats': [400, 2528, 47, 48], 'page': '3', 'is_marked': True},\n  {'stats': [400, 2593, 47, 47], 'page': '3', 'is_marked': False},\n  {'stats': [400, 2763, 47, 47], 'page': '3', 'is_marked': False},\n  {'stats': [400, 2828, 47, 47], 'page': '3', 'is_marked': False},\n  {'stats': [400, 2892, 47, 47], 'page': '3', 'is_marked': False},\n  {'stats': [400, 2956, 46, 47], 'page': '3', 'is_marked': True}]}"
     },
     "execution_count": 12,
     "metadata": {},
     "output_type": "execute_result"
    }
   ],
   "source": [
    "scan2x5 = analyse('scanned/scanned_22222.pdf')\n",
    "scan2x5"
   ],
   "metadata": {
    "collapsed": false
   }
  },
  {
   "cell_type": "markdown",
   "source": [
    "## pruebas con examenes rellenados con editor pdf"
   ],
   "metadata": {
    "collapsed": false
   }
  },
  {
   "cell_type": "code",
   "execution_count": 13,
   "outputs": [
    {
     "data": {
      "text/plain": "{'exam': 'test_qr',\n 'variant': '11111',\n 'num_boxes': 67,\n 'exercises': [{'exercise': 'vf1',\n   'checkboxes': [{'checkbox': '0,0',\n     'cords': [93.245, 383.659, 12.716, 12.716],\n     'page': 1},\n    {'checkbox': '0,1',\n     'cords': [93.245, 367.719, 12.716, 12.716],\n     'page': 1}],\n   'student_marked': ['0,1']},\n  {'exercise': 'vf2',\n   'checkboxes': [{'checkbox': '1,0',\n     'cords': [93.245, 324.103, 12.716, 12.717],\n     'page': 1},\n    {'checkbox': '1,1',\n     'cords': [93.245, 308.163, 12.716, 12.716],\n     'page': 1}],\n   'student_marked': ['1,0']},\n  {'exercise': 'vf3',\n   'checkboxes': [{'checkbox': '2,0',\n     'cords': [93.245, 265.739, 12.716, 12.716],\n     'page': 1},\n    {'checkbox': '2,1',\n     'cords': [93.245, 249.799, 12.716, 12.716],\n     'page': 1}],\n   'student_marked': ['2,0']},\n  {'exercise': 'vf4',\n   'checkboxes': [{'checkbox': '3,0',\n     'cords': [93.245, 207.375, 12.716, 12.716],\n     'page': 1},\n    {'checkbox': '3,1',\n     'cords': [93.245, 191.434, 12.716, 12.717],\n     'page': 1}],\n   'student_marked': ['3,1']},\n  {'exercise': 'vf5',\n   'checkboxes': [{'checkbox': '4,0',\n     'cords': [93.245, 148.459, 12.716, 12.716],\n     'page': 1},\n    {'checkbox': '4,1',\n     'cords': [93.245, 132.518, 12.716, 12.717],\n     'page': 1}],\n   'student_marked': ['4,1']},\n  {'exercise': 'vf6',\n   'checkboxes': [{'checkbox': '5,0',\n     'cords': [93.245, 90.094, 12.716, 12.716],\n     'page': 1},\n    {'checkbox': '5,1', 'cords': [93.245, 74.154, 12.716, 12.716], 'page': 1}],\n   'student_marked': ['5,1']},\n  {'exercise': 'mul1',\n   'checkboxes': [{'checkbox': '6,0',\n     'cords': [93.245, 713.121, 12.716, 12.717],\n     'page': 2},\n    {'checkbox': '6,1', 'cords': [93.245, 697.181, 12.716, 12.716], 'page': 2},\n    {'checkbox': '6,2', 'cords': [93.245, 681.241, 12.716, 12.716], 'page': 2},\n    {'checkbox': '6,3',\n     'cords': [93.245, 665.301, 12.716, 12.716],\n     'page': 2}],\n   'student_marked': ['6,2']},\n  {'exercise': 'mul2',\n   'checkboxes': [{'checkbox': '7,0',\n     'cords': [93.245, 622.323, 12.716, 12.716],\n     'page': 2},\n    {'checkbox': '7,1', 'cords': [93.245, 606.383, 12.716, 12.716], 'page': 2},\n    {'checkbox': '7,2', 'cords': [93.245, 590.443, 12.716, 12.716], 'page': 2},\n    {'checkbox': '7,3',\n     'cords': [93.245, 574.502, 12.716, 12.717],\n     'page': 2}],\n   'student_marked': ['7,1']},\n  {'exercise': 'mul3',\n   'checkboxes': [{'checkbox': '8,0',\n     'cords': [93.245, 531.303, 12.716, 12.716],\n     'page': 2},\n    {'checkbox': '8,1', 'cords': [93.245, 515.363, 12.716, 12.716], 'page': 2},\n    {'checkbox': '8,2', 'cords': [93.245, 499.423, 12.716, 12.716], 'page': 2},\n    {'checkbox': '8,3',\n     'cords': [93.245, 483.483, 12.716, 12.716],\n     'page': 2}],\n   'student_marked': ['8,2']},\n  {'exercise': 'mul4',\n   'checkboxes': [{'checkbox': '9,0',\n     'cords': [93.245, 439.646, 12.716, 12.716],\n     'page': 2},\n    {'checkbox': '9,1', 'cords': [93.245, 423.706, 12.716, 12.716], 'page': 2},\n    {'checkbox': '9,2', 'cords': [93.245, 407.765, 12.716, 12.717], 'page': 2},\n    {'checkbox': '9,3',\n     'cords': [93.245, 391.825, 12.716, 12.716],\n     'page': 2}],\n   'student_marked': ['9,3']},\n  {'exercise': 'mul5',\n   'checkboxes': [{'checkbox': '10,0',\n     'cords': [93.245, 347.989, 12.716, 12.716],\n     'page': 2},\n    {'checkbox': '10,1',\n     'cords': [93.245, 332.048, 12.716, 12.716],\n     'page': 2},\n    {'checkbox': '10,2',\n     'cords': [93.245, 316.108, 12.716, 12.716],\n     'page': 2}],\n   'student_marked': ['10,2']},\n  {'exercise': 'mul6',\n   'checkboxes': [{'checkbox': '11,0',\n     'cords': [93.245, 272.271, 12.716, 12.717],\n     'page': 2},\n    {'checkbox': '11,1',\n     'cords': [93.245, 256.331, 12.716, 12.716],\n     'page': 2},\n    {'checkbox': '11,2',\n     'cords': [93.245, 240.391, 12.716, 12.716],\n     'page': 2},\n    {'checkbox': '11,3',\n     'cords': [93.245, 224.451, 12.716, 12.716],\n     'page': 2}],\n   'student_marked': ['11,1']},\n  {'exercise': 'mul7',\n   'checkboxes': [{'checkbox': '12,0',\n     'cords': [93.245, 181.252, 12.716, 12.716],\n     'page': 2},\n    {'checkbox': '12,1',\n     'cords': [93.245, 165.311, 12.716, 12.717],\n     'page': 2},\n    {'checkbox': '12,2',\n     'cords': [93.245, 149.371, 12.716, 12.716],\n     'page': 2},\n    {'checkbox': '12,3',\n     'cords': [93.245, 133.431, 12.716, 12.716],\n     'page': 2}],\n   'student_marked': ['12,2']},\n  {'exercise': 'mul8',\n   'checkboxes': [{'checkbox': '13,0',\n     'cords': [93.245, 713.121, 12.716, 12.717],\n     'page': 3},\n    {'checkbox': '13,1',\n     'cords': [93.245, 697.181, 12.716, 12.716],\n     'page': 3},\n    {'checkbox': '13,2',\n     'cords': [93.245, 681.241, 12.716, 12.716],\n     'page': 3},\n    {'checkbox': '13,3',\n     'cords': [93.245, 665.301, 12.716, 12.716],\n     'page': 3}],\n   'student_marked': ['13,3']},\n  {'exercise': 'mul9',\n   'checkboxes': [{'checkbox': '14,0',\n     'cords': [93.245, 621.685, 12.716, 12.717],\n     'page': 3},\n    {'checkbox': '14,1',\n     'cords': [93.245, 605.745, 12.716, 12.716],\n     'page': 3},\n    {'checkbox': '14,2',\n     'cords': [93.245, 589.805, 12.716, 12.716],\n     'page': 3},\n    {'checkbox': '14,3',\n     'cords': [93.245, 573.865, 12.716, 12.716],\n     'page': 3}],\n   'student_marked': ['14,0']},\n  {'exercise': 'mul10',\n   'checkboxes': [{'checkbox': '15,0',\n     'cords': [93.245, 529.475, 12.716, 12.716],\n     'page': 3},\n    {'checkbox': '15,1',\n     'cords': [93.245, 513.534, 12.716, 12.716],\n     'page': 3},\n    {'checkbox': '15,2',\n     'cords': [93.245, 497.594, 12.716, 12.716],\n     'page': 3},\n    {'checkbox': '15,3',\n     'cords': [93.245, 481.654, 12.716, 12.716],\n     'page': 3}],\n   'student_marked': ['15,0']},\n  {'exercise': 'mul11',\n   'checkboxes': [{'checkbox': '16,0',\n     'cords': [93.245, 437.264, 12.716, 12.716],\n     'page': 3},\n    {'checkbox': '16,1',\n     'cords': [93.245, 421.323, 12.716, 12.717],\n     'page': 3},\n    {'checkbox': '16,2',\n     'cords': [93.245, 405.383, 12.716, 12.716],\n     'page': 3},\n    {'checkbox': '16,3',\n     'cords': [93.245, 389.443, 12.716, 12.716],\n     'page': 3}],\n   'student_marked': ['16,1']},\n  {'exercise': 'mul12',\n   'checkboxes': [{'checkbox': '17,0',\n     'cords': [93.245, 345.053, 12.716, 12.716],\n     'page': 3},\n    {'checkbox': '17,1',\n     'cords': [93.245, 329.113, 12.716, 12.716],\n     'page': 3},\n    {'checkbox': '17,2',\n     'cords': [93.245, 313.172, 12.716, 12.717],\n     'page': 3},\n    {'checkbox': '17,3',\n     'cords': [93.245, 297.232, 12.716, 12.716],\n     'page': 3}],\n   'student_marked': ['17,3']},\n  {'exercise': 'mul13',\n   'checkboxes': [{'checkbox': '18,0',\n     'cords': [93.245, 242.078, 12.716, 12.716],\n     'page': 3},\n    {'checkbox': '18,1',\n     'cords': [93.245, 226.138, 12.716, 12.716],\n     'page': 3},\n    {'checkbox': '18,2',\n     'cords': [93.245, 210.197, 12.716, 12.717],\n     'page': 3},\n    {'checkbox': '18,3',\n     'cords': [93.245, 194.257, 12.716, 12.716],\n     'page': 3}],\n   'student_marked': ['18,2']},\n  {'exercise': 'mul14',\n   'checkboxes': [{'checkbox': '19,0',\n     'cords': [93.245, 151.612, 12.716, 12.716],\n     'page': 3},\n    {'checkbox': '19,1',\n     'cords': [93.245, 135.671, 12.716, 12.717],\n     'page': 3},\n    {'checkbox': '19,2',\n     'cords': [93.245, 119.731, 12.716, 12.716],\n     'page': 3},\n    {'checkbox': '19,3',\n     'cords': [93.245, 103.791, 12.716, 12.716],\n     'page': 3}],\n   'student_marked': ['19,3']}]}"
     },
     "execution_count": 13,
     "metadata": {},
     "output_type": "execute_result"
    }
   ],
   "source": [
    "filled1x5 = analyse('filled/question_11111.pdf')\n",
    "filled1x5"
   ],
   "metadata": {
    "collapsed": false
   }
  },
  {
   "cell_type": "code",
   "execution_count": 14,
   "outputs": [
    {
     "data": {
      "text/plain": "{'exam': 'test_qr',\n 'variant': '22222',\n 'num_boxes': 67,\n 'exercises': [{'exercise': 'vf1',\n   'checkboxes': [{'checkbox': '0,0',\n     'cords': [93.245, 383.659, 12.716, 12.716],\n     'page': 1},\n    {'checkbox': '0,1',\n     'cords': [93.245, 367.719, 12.716, 12.716],\n     'page': 1}],\n   'student_marked': ['0,0']},\n  {'exercise': 'vf2',\n   'checkboxes': [{'checkbox': '1,0',\n     'cords': [93.245, 324.103, 12.716, 12.717],\n     'page': 1},\n    {'checkbox': '1,1',\n     'cords': [93.245, 308.163, 12.716, 12.716],\n     'page': 1}],\n   'student_marked': ['1,0']},\n  {'exercise': 'vf3',\n   'checkboxes': [{'checkbox': '2,0',\n     'cords': [93.245, 265.739, 12.716, 12.716],\n     'page': 1},\n    {'checkbox': '2,1',\n     'cords': [93.245, 249.799, 12.716, 12.716],\n     'page': 1}],\n   'student_marked': ['2,0']},\n  {'exercise': 'vf4',\n   'checkboxes': [{'checkbox': '3,0',\n     'cords': [93.245, 207.375, 12.716, 12.716],\n     'page': 1},\n    {'checkbox': '3,1',\n     'cords': [93.245, 191.434, 12.716, 12.717],\n     'page': 1}],\n   'student_marked': ['3,0']},\n  {'exercise': 'vf5',\n   'checkboxes': [{'checkbox': '4,0',\n     'cords': [93.245, 148.459, 12.716, 12.716],\n     'page': 1},\n    {'checkbox': '4,1',\n     'cords': [93.245, 132.518, 12.716, 12.717],\n     'page': 1}],\n   'student_marked': ['4,0']},\n  {'exercise': 'vf6',\n   'checkboxes': [{'checkbox': '5,0',\n     'cords': [93.245, 90.094, 12.716, 12.716],\n     'page': 1},\n    {'checkbox': '5,1', 'cords': [93.245, 74.154, 12.716, 12.716], 'page': 1}],\n   'student_marked': ['5,0']},\n  {'exercise': 'mul1',\n   'checkboxes': [{'checkbox': '6,0',\n     'cords': [93.245, 713.121, 12.716, 12.717],\n     'page': 2},\n    {'checkbox': '6,1', 'cords': [93.245, 697.181, 12.716, 12.716], 'page': 2},\n    {'checkbox': '6,2', 'cords': [93.245, 681.241, 12.716, 12.716], 'page': 2},\n    {'checkbox': '6,3',\n     'cords': [93.245, 665.301, 12.716, 12.716],\n     'page': 2}],\n   'student_marked': ['6,0']},\n  {'exercise': 'mul2',\n   'checkboxes': [{'checkbox': '7,0',\n     'cords': [93.245, 622.323, 12.716, 12.716],\n     'page': 2},\n    {'checkbox': '7,1', 'cords': [93.245, 606.383, 12.716, 12.716], 'page': 2},\n    {'checkbox': '7,2', 'cords': [93.245, 590.443, 12.716, 12.716], 'page': 2},\n    {'checkbox': '7,3',\n     'cords': [93.245, 574.502, 12.716, 12.717],\n     'page': 2}],\n   'student_marked': ['7,0']},\n  {'exercise': 'mul3',\n   'checkboxes': [{'checkbox': '8,0',\n     'cords': [93.245, 531.303, 12.716, 12.716],\n     'page': 2},\n    {'checkbox': '8,1', 'cords': [93.245, 515.363, 12.716, 12.716], 'page': 2},\n    {'checkbox': '8,2', 'cords': [93.245, 499.423, 12.716, 12.716], 'page': 2},\n    {'checkbox': '8,3',\n     'cords': [93.245, 483.483, 12.716, 12.716],\n     'page': 2}],\n   'student_marked': ['8,0']},\n  {'exercise': 'mul4',\n   'checkboxes': [{'checkbox': '9,0',\n     'cords': [93.245, 439.646, 12.716, 12.716],\n     'page': 2},\n    {'checkbox': '9,1', 'cords': [93.245, 423.706, 12.716, 12.716], 'page': 2},\n    {'checkbox': '9,2', 'cords': [93.245, 407.765, 12.716, 12.717], 'page': 2},\n    {'checkbox': '9,3',\n     'cords': [93.245, 391.825, 12.716, 12.716],\n     'page': 2}],\n   'student_marked': ['9,0']},\n  {'exercise': 'mul5',\n   'checkboxes': [{'checkbox': '10,0',\n     'cords': [93.245, 347.989, 12.716, 12.716],\n     'page': 2},\n    {'checkbox': '10,1',\n     'cords': [93.245, 332.048, 12.716, 12.716],\n     'page': 2},\n    {'checkbox': '10,2',\n     'cords': [93.245, 316.108, 12.716, 12.716],\n     'page': 2}],\n   'student_marked': ['10,0']},\n  {'exercise': 'mul6',\n   'checkboxes': [{'checkbox': '11,0',\n     'cords': [93.245, 272.271, 12.716, 12.717],\n     'page': 2},\n    {'checkbox': '11,1',\n     'cords': [93.245, 256.331, 12.716, 12.716],\n     'page': 2},\n    {'checkbox': '11,2',\n     'cords': [93.245, 240.391, 12.716, 12.716],\n     'page': 2},\n    {'checkbox': '11,3',\n     'cords': [93.245, 224.451, 12.716, 12.716],\n     'page': 2}],\n   'student_marked': ['11,0']},\n  {'exercise': 'mul7',\n   'checkboxes': [{'checkbox': '12,0',\n     'cords': [93.245, 181.252, 12.716, 12.716],\n     'page': 2},\n    {'checkbox': '12,1',\n     'cords': [93.245, 165.311, 12.716, 12.717],\n     'page': 2},\n    {'checkbox': '12,2',\n     'cords': [93.245, 149.371, 12.716, 12.716],\n     'page': 2},\n    {'checkbox': '12,3',\n     'cords': [93.245, 133.431, 12.716, 12.716],\n     'page': 2}],\n   'student_marked': ['12,0']},\n  {'exercise': 'mul8',\n   'checkboxes': [{'checkbox': '13,0',\n     'cords': [93.245, 713.121, 12.716, 12.717],\n     'page': 3},\n    {'checkbox': '13,1',\n     'cords': [93.245, 697.181, 12.716, 12.716],\n     'page': 3},\n    {'checkbox': '13,2',\n     'cords': [93.245, 681.241, 12.716, 12.716],\n     'page': 3},\n    {'checkbox': '13,3',\n     'cords': [93.245, 665.301, 12.716, 12.716],\n     'page': 3}],\n   'student_marked': ['13,0']},\n  {'exercise': 'mul9',\n   'checkboxes': [{'checkbox': '14,0',\n     'cords': [93.245, 621.685, 12.716, 12.717],\n     'page': 3},\n    {'checkbox': '14,1',\n     'cords': [93.245, 605.745, 12.716, 12.716],\n     'page': 3},\n    {'checkbox': '14,2',\n     'cords': [93.245, 589.805, 12.716, 12.716],\n     'page': 3},\n    {'checkbox': '14,3',\n     'cords': [93.245, 573.865, 12.716, 12.716],\n     'page': 3}],\n   'student_marked': ['14,0']},\n  {'exercise': 'mul10',\n   'checkboxes': [{'checkbox': '15,0',\n     'cords': [93.245, 529.475, 12.716, 12.716],\n     'page': 3},\n    {'checkbox': '15,1',\n     'cords': [93.245, 513.534, 12.716, 12.716],\n     'page': 3},\n    {'checkbox': '15,2',\n     'cords': [93.245, 497.594, 12.716, 12.716],\n     'page': 3},\n    {'checkbox': '15,3',\n     'cords': [93.245, 481.654, 12.716, 12.716],\n     'page': 3}],\n   'student_marked': ['15,0']},\n  {'exercise': 'mul11',\n   'checkboxes': [{'checkbox': '16,0',\n     'cords': [93.245, 437.264, 12.716, 12.716],\n     'page': 3},\n    {'checkbox': '16,1',\n     'cords': [93.245, 421.323, 12.716, 12.717],\n     'page': 3},\n    {'checkbox': '16,2',\n     'cords': [93.245, 405.383, 12.716, 12.716],\n     'page': 3},\n    {'checkbox': '16,3',\n     'cords': [93.245, 389.443, 12.716, 12.716],\n     'page': 3}],\n   'student_marked': ['16,0']},\n  {'exercise': 'mul12',\n   'checkboxes': [{'checkbox': '17,0',\n     'cords': [93.245, 345.053, 12.716, 12.716],\n     'page': 3},\n    {'checkbox': '17,1',\n     'cords': [93.245, 329.113, 12.716, 12.716],\n     'page': 3},\n    {'checkbox': '17,2',\n     'cords': [93.245, 313.172, 12.716, 12.717],\n     'page': 3},\n    {'checkbox': '17,3',\n     'cords': [93.245, 297.232, 12.716, 12.716],\n     'page': 3}],\n   'student_marked': ['17,0']},\n  {'exercise': 'mul13',\n   'checkboxes': [{'checkbox': '18,0',\n     'cords': [93.245, 242.078, 12.716, 12.716],\n     'page': 3},\n    {'checkbox': '18,1',\n     'cords': [93.245, 226.138, 12.716, 12.716],\n     'page': 3},\n    {'checkbox': '18,2',\n     'cords': [93.245, 210.197, 12.716, 12.717],\n     'page': 3},\n    {'checkbox': '18,3',\n     'cords': [93.245, 194.257, 12.716, 12.716],\n     'page': 3}],\n   'student_marked': ['18,0']},\n  {'exercise': 'mul14',\n   'checkboxes': [{'checkbox': '19,0',\n     'cords': [93.245, 151.612, 12.716, 12.716],\n     'page': 3},\n    {'checkbox': '19,1',\n     'cords': [93.245, 135.671, 12.716, 12.717],\n     'page': 3},\n    {'checkbox': '19,2',\n     'cords': [93.245, 119.731, 12.716, 12.716],\n     'page': 3},\n    {'checkbox': '19,3',\n     'cords': [93.245, 103.791, 12.716, 12.716],\n     'page': 3}],\n   'student_marked': ['19,0']}]}"
     },
     "execution_count": 14,
     "metadata": {},
     "output_type": "execute_result"
    }
   ],
   "source": [
    "filled2x5 = analyse('filled/question_22222.pdf')\n",
    "filled2x5"
   ],
   "metadata": {
    "collapsed": false
   }
  },
  {
   "cell_type": "code",
   "execution_count": 15,
   "outputs": [],
   "source": [
    "def format_scan(sol_data, scan_data):\n",
    "    if not sol_data['num_boxes'] == scan_data['num_boxes']:\n",
    "        error = 'Number of boxes incorrect'\n",
    "        return {}\n",
    "    data = {'exam': scan_data['exam'],\n",
    "            'variant': scan_data['variant'],\n",
    "            'num_boxes': scan_data['num_boxes'],\n",
    "            'exercises': []\n",
    "            }\n",
    "    comparison = []\n",
    "    count_ex = 0\n",
    "    count_box = -1\n",
    "    for scan_box in scan_data['boxes']:\n",
    "        count_box = count_box + 1\n",
    "        if sol_data['exercises'][count_ex]['checkboxes'].__len__() == count_box:\n",
    "            count_box = 0\n",
    "            count_ex = count_ex + 1\n",
    "        if count_box == 0:\n",
    "            data['exercises'].append({'exercise': sol_data['exercises'][count_ex]['exercise'],\n",
    "                                      'checkboxes': [],\n",
    "                                      'student_marked': []\n",
    "                                      })\n",
    "        sol_box = sol_data['exercises'][count_ex]['checkboxes'][count_box]\n",
    "        data['exercises'][count_ex]['checkboxes'].append({'checkbox': sol_box['checkbox'],\n",
    "                                                         'stats': scan_box['stats'],\n",
    "                                                         'page': scan_box['page'],\n",
    "                                                         'is_marked': scan_box['is_marked'],\n",
    "                                                         })\n",
    "        if scan_box['is_marked']:\n",
    "            data['exercises'][count_ex]['student_marked'].append(sol_box['checkbox'])\n",
    "        st_x = sol_box['cords'][0]\n",
    "        st_y = sol_box['cords'][1]\n",
    "        sc_x = scan_box['stats'][0]\n",
    "        sc_y= scan_box['stats'][1]\n",
    "        factor_x = sc_x / st_x\n",
    "        factor_y = sc_y / st_y\n",
    "        comparison.append({'cords_st': (st_x, st_y),\n",
    "                           'cords_scan': (sc_x, sc_y),\n",
    "                           'factors': (factor_x, factor_y)\n",
    "                           })\n",
    "    return comparison, data"
   ],
   "metadata": {
    "collapsed": false
   }
  },
  {
   "cell_type": "code",
   "execution_count": 16,
   "outputs": [],
   "source": [
    "sol_file1 = 'json/solution_11111.json'\n",
    "sol_file2 = 'json/solution_22222.json'\n",
    "with open(sol_file1) as json_file:\n",
    "    data_sol1 = json.load(json_file)\n",
    "with open(sol_file2) as json_file:\n",
    "    data_sol2 = json.load(json_file)"
   ],
   "metadata": {
    "collapsed": false
   }
  },
  {
   "cell_type": "code",
   "execution_count": 17,
   "outputs": [
    {
     "data": {
      "text/plain": "{'exercise': 'vf6',\n 'checkboxes': [{'checkbox': '5,0',\n   'cords': [93.245, 107.707, 12.716, 12.717]},\n  {'checkbox': '5,1', 'cords': [93.245, 91.767, 12.716, 12.716]}],\n 'sol_marked': ['5,0']}"
     },
     "execution_count": 17,
     "metadata": {},
     "output_type": "execute_result"
    }
   ],
   "source": [
    "data_sol1['exercises'][5]"
   ],
   "metadata": {
    "collapsed": false
   }
  },
  {
   "cell_type": "code",
   "execution_count": 18,
   "outputs": [
    {
     "data": {
      "text/plain": "[{'cords_st': (93.245, 401.272),\n  'cords_scan': (400, 1840),\n  'factors': (4.28977425063006, 4.585418369584721)},\n {'cords_st': (93.245, 385.332),\n  'cords_scan': (400, 1905),\n  'factors': (4.28977425063006, 4.943788732832986)},\n {'cords_st': (93.245, 341.717),\n  'cords_scan': (400, 2079),\n  'factors': (4.28977425063006, 6.08398177439226)},\n {'cords_st': (93.245, 325.776),\n  'cords_scan': (400, 2142),\n  'factors': (4.28977425063006, 6.575069986739354)},\n {'cords_st': (93.245, 283.352),\n  'cords_scan': (400, 2311),\n  'factors': (4.28977425063006, 8.155933256161948)},\n {'cords_st': (93.245, 267.412),\n  'cords_scan': (400, 2376),\n  'factors': (4.28977425063006, 8.885165961138618)},\n {'cords_st': (93.245, 224.988),\n  'cords_scan': (400, 2542),\n  'factors': (4.28977425063006, 11.298380358063541)},\n {'cords_st': (93.245, 209.048),\n  'cords_scan': (400, 2607),\n  'factors': (4.28977425063006, 12.470820098733306)},\n {'cords_st': (93.245, 166.072),\n  'cords_scan': (400, 2780),\n  'factors': (4.28977425063006, 16.739727347174718)},\n {'cords_st': (93.245, 150.131),\n  'cords_scan': (400, 2843),\n  'factors': (4.28977425063006, 18.936795198859663)},\n {'cords_st': (93.245, 107.707),\n  'cords_scan': (400, 3014),\n  'factors': (4.28977425063006, 27.98332513207127)},\n {'cords_st': (93.245, 91.767),\n  'cords_scan': (400, 3077),\n  'factors': (4.28977425063006, 33.53057199211045)},\n {'cords_st': (93.245, 730.734),\n  'cords_scan': (435, 496),\n  'factors': (4.665129497560191, 0.6787695659432844)},\n {'cords_st': (93.245, 714.794),\n  'cords_scan': (435, 560),\n  'factors': (4.665129497560191, 0.7834425023153524)},\n {'cords_st': (93.245, 698.854),\n  'cords_scan': (434, 623),\n  'factors': (4.654405061933615, 0.891459446465213)},\n {'cords_st': (93.245, 682.914),\n  'cords_scan': (435, 687),\n  'factors': (4.665129497560191, 1.0059831838269533)},\n {'cords_st': (93.245, 639.936),\n  'cords_scan': (435, 860),\n  'factors': (4.665129497560191, 1.3438843884388438)},\n {'cords_st': (93.245, 623.996),\n  'cords_scan': (435, 926),\n  'factors': (4.665129497560191, 1.4839838716914853)},\n {'cords_st': (93.245, 608.056),\n  'cords_scan': (435, 990),\n  'factors': (4.665129497560191, 1.628139513465865)},\n {'cords_st': (93.245, 592.115),\n  'cords_scan': (435, 1053),\n  'factors': (4.665129497560191, 1.7783707556809065)},\n {'cords_st': (93.245, 548.916),\n  'cords_scan': (435, 1224),\n  'factors': (4.665129497560191, 2.229849375860787)},\n {'cords_st': (93.245, 532.976),\n  'cords_scan': (436, 1286),\n  'factors': (4.675853933186766, 2.412866620635826)},\n {'cords_st': (93.245, 517.036),\n  'cords_scan': (436, 1350),\n  'factors': (4.675853933186766, 2.611036755661115)},\n {'cords_st': (93.245, 501.096),\n  'cords_scan': (436, 1412),\n  'factors': (4.675853933186766, 2.8178233312578826)},\n {'cords_st': (93.245, 457.259),\n  'cords_scan': (436, 1587),\n  'factors': (4.675853933186766, 3.4706807301769893)},\n {'cords_st': (93.245, 441.319),\n  'cords_scan': (436, 1649),\n  'factors': (4.675853933186766, 3.736526186273421)},\n {'cords_st': (93.245, 425.379),\n  'cords_scan': (436, 1714),\n  'factors': (4.675853933186766, 4.029347946184461)},\n {'cords_st': (93.245, 409.438),\n  'cords_scan': (436, 1778),\n  'factors': (4.675853933186766, 4.3425378201339395)},\n {'cords_st': (93.245, 365.602),\n  'cords_scan': (437, 1952),\n  'factors': (4.686578368813341, 5.339139282607864)},\n {'cords_st': (93.245, 349.661),\n  'cords_scan': (437, 2015),\n  'factors': (4.686578368813341, 5.762724467412722)},\n {'cords_st': (93.245, 333.721),\n  'cords_scan': (437, 2078),\n  'factors': (4.686578368813341, 6.22675828012022)},\n {'cords_st': (93.245, 289.884),\n  'cords_scan': (437, 2252),\n  'factors': (4.686578368813341, 7.768624691255813)},\n {'cords_st': (93.245, 273.944),\n  'cords_scan': (437, 2316),\n  'factors': (4.686578368813341, 8.45428262710627)},\n {'cords_st': (93.245, 258.004),\n  'cords_scan': (437, 2379),\n  'factors': (4.686578368813341, 9.220787274615896)},\n {'cords_st': (93.245, 242.064),\n  'cords_scan': (437, 2443),\n  'factors': (4.686578368813341, 10.092372265186066)},\n {'cords_st': (93.245, 198.865),\n  'cords_scan': (438, 2614),\n  'factors': (4.697302804439916, 13.144595579916023)},\n {'cords_st': (93.245, 182.925),\n  'cords_scan': (438, 2678),\n  'factors': (4.697302804439916, 14.639879732130654)},\n {'cords_st': (93.245, 166.984),\n  'cords_scan': (438, 2741),\n  'factors': (4.697302804439916, 16.414746323001005)},\n {'cords_st': (93.245, 151.044),\n  'cords_scan': (438, 2804),\n  'factors': (4.697302804439916, 18.56412700934827)},\n {'cords_st': (93.245, 108.398),\n  'cords_scan': (402, 525),\n  'factors': (4.311223121883211, 4.843262790826399)},\n {'cords_st': (93.245, 92.458),\n  'cords_scan': (402, 588),\n  'factors': (4.311223121883211, 6.359644379069415)},\n {'cords_st': (93.245, 76.518),\n  'cords_scan': (399, 649),\n  'factors': (4.279049815003485, 8.481664444967198)},\n {'cords_st': (93.245, 60.578),\n  'cords_scan': (402, 715),\n  'factors': (4.311223121883211, 11.802964772689755)},\n {'cords_st': (93.245, 729.543),\n  'cords_scan': (402, 888),\n  'factors': (4.311223121883211, 1.2172003569357803)},\n {'cords_st': (93.245, 713.603),\n  'cords_scan': (402, 952),\n  'factors': (4.311223121883211, 1.334075108989172)},\n {'cords_st': (93.245, 697.663),\n  'cords_scan': (402, 1016),\n  'factors': (4.311223121883211, 1.456290501287871)},\n {'cords_st': (93.245, 681.723),\n  'cords_scan': (399, 1077),\n  'factors': (4.279049815003485, 1.5798205429477956)},\n {'cords_st': (93.245, 637.332),\n  'cords_scan': (399, 1254),\n  'factors': (4.279049815003485, 1.9675773380279038)},\n {'cords_st': (93.245, 621.392),\n  'cords_scan': (402, 1320),\n  'factors': (4.311223121883211, 2.124262945129644)},\n {'cords_st': (93.245, 605.452),\n  'cords_scan': (402, 1384),\n  'factors': (4.311223121883211, 2.2858954962573415)},\n {'cords_st': (93.245, 589.512),\n  'cords_scan': (402, 1447),\n  'factors': (4.311223121883211, 2.454572595638427)},\n {'cords_st': (93.245, 545.122),\n  'cords_scan': (402, 1623),\n  'factors': (4.311223121883211, 2.9773151698151974)},\n {'cords_st': (93.245, 529.181),\n  'cords_scan': (402, 1687),\n  'factors': (4.311223121883211, 3.1879451454228325)},\n {'cords_st': (93.245, 513.241),\n  'cords_scan': (402, 1750),\n  'factors': (4.311223121883211, 3.4097042130305257)},\n {'cords_st': (93.245, 497.301),\n  'cords_scan': (402, 1814),\n  'factors': (4.311223121883211, 3.647690231871643)},\n {'cords_st': (93.245, 452.911),\n  'cords_scan': (402, 1990),\n  'factors': (4.311223121883211, 4.393799223246951)},\n {'cords_st': (93.245, 436.971),\n  'cords_scan': (402, 2053),\n  'factors': (4.311223121883211, 4.698252286765025)},\n {'cords_st': (93.245, 421.03),\n  'cords_scan': (401, 2116),\n  'factors': (4.300498686256636, 5.025770135144764)},\n {'cords_st': (93.245, 405.09),\n  'cords_scan': (401, 2179),\n  'factors': (4.300498686256636, 5.379051568787183)},\n {'cords_st': (93.245, 349.936),\n  'cords_scan': (401, 2400),\n  'factors': (4.300498686256636, 6.858396964016277)},\n {'cords_st': (93.245, 333.996),\n  'cords_scan': (401, 2463),\n  'factors': (4.300498686256636, 7.3743398124528445)},\n {'cords_st': (93.245, 318.055),\n  'cords_scan': (401, 2526),\n  'factors': (4.300498686256636, 7.9420226061530235)},\n {'cords_st': (93.245, 302.115),\n  'cords_scan': (401, 2591),\n  'factors': (4.300498686256636, 8.576204425467123)},\n {'cords_st': (93.245, 259.47),\n  'cords_scan': (400, 2761),\n  'factors': (4.28977425063006, 10.640921879215323)},\n {'cords_st': (93.245, 243.529),\n  'cords_scan': (400, 2825),\n  'factors': (4.28977425063006, 11.600261159861864)},\n {'cords_st': (93.245, 227.589),\n  'cords_scan': (400, 2889),\n  'factors': (4.28977425063006, 12.693935119887165)},\n {'cords_st': (93.245, 211.649),\n  'cords_scan': (399, 2954),\n  'factors': (4.279049815003485, 13.957070432650283)}]"
     },
     "execution_count": 18,
     "metadata": {},
     "output_type": "execute_result"
    }
   ],
   "source": [
    "comp1, data_scan1 = format_scan(data_sol1, scan1x5)\n",
    "comp1"
   ],
   "metadata": {
    "collapsed": false
   }
  },
  {
   "cell_type": "code",
   "execution_count": 19,
   "outputs": [
    {
     "data": {
      "text/plain": "{'exam': 'test_qr',\n 'variant': '11111',\n 'num_boxes': 67,\n 'exercises': [{'exercise': 'vf1',\n   'checkboxes': [{'checkbox': '0,0',\n     'stats': [400, 1840, 46, 48],\n     'page': '1',\n     'is_marked': True},\n    {'checkbox': '0,1',\n     'stats': [400, 1905, 46, 47],\n     'page': '1',\n     'is_marked': False}],\n   'student_marked': ['0,0']},\n  {'exercise': 'vf2',\n   'checkboxes': [{'checkbox': '1,0',\n     'stats': [400, 2079, 46, 47],\n     'page': '1',\n     'is_marked': False},\n    {'checkbox': '1,1',\n     'stats': [400, 2142, 46, 47],\n     'page': '1',\n     'is_marked': True}],\n   'student_marked': ['1,1']},\n  {'exercise': 'vf3',\n   'checkboxes': [{'checkbox': '2,0',\n     'stats': [400, 2311, 47, 48],\n     'page': '1',\n     'is_marked': True},\n    {'checkbox': '2,1',\n     'stats': [400, 2376, 47, 46],\n     'page': '1',\n     'is_marked': False}],\n   'student_marked': ['2,0']},\n  {'exercise': 'vf4',\n   'checkboxes': [{'checkbox': '3,0',\n     'stats': [400, 2542, 47, 49],\n     'page': '1',\n     'is_marked': True},\n    {'checkbox': '3,1',\n     'stats': [400, 2607, 47, 47],\n     'page': '1',\n     'is_marked': False}],\n   'student_marked': ['3,0']},\n  {'exercise': 'vf5',\n   'checkboxes': [{'checkbox': '4,0',\n     'stats': [400, 2780, 47, 46],\n     'page': '1',\n     'is_marked': False},\n    {'checkbox': '4,1',\n     'stats': [400, 2843, 47, 48],\n     'page': '1',\n     'is_marked': True}],\n   'student_marked': ['4,1']},\n  {'exercise': 'vf6',\n   'checkboxes': [{'checkbox': '5,0',\n     'stats': [400, 3014, 47, 47],\n     'page': '1',\n     'is_marked': True},\n    {'checkbox': '5,1',\n     'stats': [400, 3077, 47, 47],\n     'page': '1',\n     'is_marked': False}],\n   'student_marked': ['5,0']},\n  {'exercise': 'mul1',\n   'checkboxes': [{'checkbox': '6,0',\n     'stats': [435, 496, 46, 47],\n     'page': '2',\n     'is_marked': False},\n    {'checkbox': '6,1',\n     'stats': [435, 560, 46, 46],\n     'page': '2',\n     'is_marked': True},\n    {'checkbox': '6,2',\n     'stats': [434, 623, 47, 47],\n     'page': '2',\n     'is_marked': False},\n    {'checkbox': '6,3',\n     'stats': [435, 687, 46, 47],\n     'page': '2',\n     'is_marked': False}],\n   'student_marked': ['6,1']},\n  {'exercise': 'mul2',\n   'checkboxes': [{'checkbox': '7,0',\n     'stats': [435, 860, 46, 48],\n     'page': '2',\n     'is_marked': False},\n    {'checkbox': '7,1',\n     'stats': [435, 926, 46, 47],\n     'page': '2',\n     'is_marked': True},\n    {'checkbox': '7,2',\n     'stats': [435, 990, 46, 46],\n     'page': '2',\n     'is_marked': False},\n    {'checkbox': '7,3',\n     'stats': [435, 1053, 46, 46],\n     'page': '2',\n     'is_marked': False}],\n   'student_marked': ['7,1']},\n  {'exercise': 'mul3',\n   'checkboxes': [{'checkbox': '8,0',\n     'stats': [435, 1224, 46, 45],\n     'page': '2',\n     'is_marked': False},\n    {'checkbox': '8,1',\n     'stats': [436, 1286, 46, 47],\n     'page': '2',\n     'is_marked': False},\n    {'checkbox': '8,2',\n     'stats': [436, 1350, 46, 45],\n     'page': '2',\n     'is_marked': False},\n    {'checkbox': '8,3',\n     'stats': [436, 1412, 46, 46],\n     'page': '2',\n     'is_marked': True}],\n   'student_marked': ['8,3']},\n  {'exercise': 'mul4',\n   'checkboxes': [{'checkbox': '9,0',\n     'stats': [436, 1587, 46, 45],\n     'page': '2',\n     'is_marked': False},\n    {'checkbox': '9,1',\n     'stats': [436, 1649, 47, 47],\n     'page': '2',\n     'is_marked': False},\n    {'checkbox': '9,2',\n     'stats': [436, 1714, 47, 46],\n     'page': '2',\n     'is_marked': True},\n    {'checkbox': '9,3',\n     'stats': [436, 1778, 47, 46],\n     'page': '2',\n     'is_marked': False}],\n   'student_marked': ['9,2']},\n  {'exercise': 'mul5',\n   'checkboxes': [{'checkbox': '10,0',\n     'stats': [437, 1952, 46, 46],\n     'page': '2',\n     'is_marked': True},\n    {'checkbox': '10,1',\n     'stats': [437, 2015, 46, 46],\n     'page': '2',\n     'is_marked': False},\n    {'checkbox': '10,2',\n     'stats': [437, 2078, 46, 46],\n     'page': '2',\n     'is_marked': False}],\n   'student_marked': ['10,0']},\n  {'exercise': 'mul6',\n   'checkboxes': [{'checkbox': '11,0',\n     'stats': [437, 2252, 46, 47],\n     'page': '2',\n     'is_marked': False},\n    {'checkbox': '11,1',\n     'stats': [437, 2316, 47, 47],\n     'page': '2',\n     'is_marked': False},\n    {'checkbox': '11,2',\n     'stats': [437, 2379, 47, 47],\n     'page': '2',\n     'is_marked': True},\n    {'checkbox': '11,3',\n     'stats': [437, 2443, 47, 46],\n     'page': '2',\n     'is_marked': False}],\n   'student_marked': ['11,2']},\n  {'exercise': 'mul7',\n   'checkboxes': [{'checkbox': '12,0',\n     'stats': [438, 2614, 46, 46],\n     'page': '2',\n     'is_marked': False},\n    {'checkbox': '12,1',\n     'stats': [438, 2678, 46, 46],\n     'page': '2',\n     'is_marked': False},\n    {'checkbox': '12,2',\n     'stats': [438, 2741, 46, 46],\n     'page': '2',\n     'is_marked': False},\n    {'checkbox': '12,3',\n     'stats': [438, 2804, 46, 47],\n     'page': '2',\n     'is_marked': True}],\n   'student_marked': ['12,3']},\n  {'exercise': 'mul8',\n   'checkboxes': [{'checkbox': '13,0',\n     'stats': [402, 525, 47, 47],\n     'page': '3',\n     'is_marked': False},\n    {'checkbox': '13,1',\n     'stats': [402, 588, 47, 48],\n     'page': '3',\n     'is_marked': False},\n    {'checkbox': '13,2',\n     'stats': [399, 649, 55, 54],\n     'page': '3',\n     'is_marked': True},\n    {'checkbox': '13,3',\n     'stats': [402, 715, 47, 47],\n     'page': '3',\n     'is_marked': False}],\n   'student_marked': ['13,2']},\n  {'exercise': 'mul9',\n   'checkboxes': [{'checkbox': '14,0',\n     'stats': [402, 888, 47, 47],\n     'page': '3',\n     'is_marked': False},\n    {'checkbox': '14,1',\n     'stats': [402, 952, 47, 47],\n     'page': '3',\n     'is_marked': False},\n    {'checkbox': '14,2',\n     'stats': [402, 1016, 47, 47],\n     'page': '3',\n     'is_marked': False},\n    {'checkbox': '14,3',\n     'stats': [399, 1077, 54, 53],\n     'page': '3',\n     'is_marked': True}],\n   'student_marked': ['14,3']},\n  {'exercise': 'mul10',\n   'checkboxes': [{'checkbox': '15,0',\n     'stats': [399, 1254, 54, 54],\n     'page': '3',\n     'is_marked': False},\n    {'checkbox': '15,1',\n     'stats': [402, 1320, 46, 47],\n     'page': '3',\n     'is_marked': True},\n    {'checkbox': '15,2',\n     'stats': [402, 1384, 47, 46],\n     'page': '3',\n     'is_marked': False},\n    {'checkbox': '15,3',\n     'stats': [402, 1447, 47, 46],\n     'page': '3',\n     'is_marked': False}],\n   'student_marked': ['15,1']},\n  {'exercise': 'mul11',\n   'checkboxes': [{'checkbox': '16,0',\n     'stats': [402, 1623, 47, 47],\n     'page': '3',\n     'is_marked': False},\n    {'checkbox': '16,1',\n     'stats': [402, 1687, 47, 46],\n     'page': '3',\n     'is_marked': False},\n    {'checkbox': '16,2',\n     'stats': [402, 1750, 46, 47],\n     'page': '3',\n     'is_marked': False},\n    {'checkbox': '16,3',\n     'stats': [402, 1814, 46, 47],\n     'page': '3',\n     'is_marked': True}],\n   'student_marked': ['16,3']},\n  {'exercise': 'mul12',\n   'checkboxes': [{'checkbox': '17,0',\n     'stats': [402, 1990, 47, 46],\n     'page': '3',\n     'is_marked': False},\n    {'checkbox': '17,1',\n     'stats': [402, 2053, 46, 46],\n     'page': '3',\n     'is_marked': True},\n    {'checkbox': '17,2',\n     'stats': [401, 2116, 47, 47],\n     'page': '3',\n     'is_marked': False},\n    {'checkbox': '17,3',\n     'stats': [401, 2179, 47, 47],\n     'page': '3',\n     'is_marked': False}],\n   'student_marked': ['17,1']},\n  {'exercise': 'mul13',\n   'checkboxes': [{'checkbox': '18,0',\n     'stats': [401, 2400, 47, 46],\n     'page': '3',\n     'is_marked': False},\n    {'checkbox': '18,1',\n     'stats': [401, 2463, 47, 47],\n     'page': '3',\n     'is_marked': False},\n    {'checkbox': '18,2',\n     'stats': [401, 2526, 47, 48],\n     'page': '3',\n     'is_marked': False},\n    {'checkbox': '18,3',\n     'stats': [401, 2591, 47, 46],\n     'page': '3',\n     'is_marked': True}],\n   'student_marked': ['18,3']},\n  {'exercise': 'mul14',\n   'checkboxes': [{'checkbox': '19,0',\n     'stats': [400, 2761, 47, 47],\n     'page': '3',\n     'is_marked': True},\n    {'checkbox': '19,1',\n     'stats': [400, 2825, 47, 47],\n     'page': '3',\n     'is_marked': False},\n    {'checkbox': '19,2',\n     'stats': [400, 2889, 47, 48],\n     'page': '3',\n     'is_marked': False},\n    {'checkbox': '19,3',\n     'stats': [399, 2954, 47, 46],\n     'page': '3',\n     'is_marked': False}],\n   'student_marked': ['19,0']}]}"
     },
     "execution_count": 19,
     "metadata": {},
     "output_type": "execute_result"
    }
   ],
   "source": [
    "data_scan1"
   ],
   "metadata": {
    "collapsed": false
   }
  },
  {
   "cell_type": "code",
   "execution_count": 14,
   "outputs": [],
   "source": [],
   "metadata": {
    "collapsed": false
   }
  }
 ],
 "metadata": {
  "kernelspec": {
   "display_name": "Python 3",
   "language": "python",
   "name": "python3"
  },
  "language_info": {
   "codemirror_mode": {
    "name": "ipython",
    "version": 2
   },
   "file_extension": ".py",
   "mimetype": "text/x-python",
   "name": "python",
   "nbconvert_exporter": "python",
   "pygments_lexer": "ipython2",
   "version": "2.7.6"
  }
 },
 "nbformat": 4,
 "nbformat_minor": 0
}
