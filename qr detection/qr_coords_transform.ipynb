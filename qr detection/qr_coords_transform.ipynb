{
 "cells": [
  {
   "cell_type": "code",
   "execution_count": 1,
   "metadata": {
    "collapsed": false
   },
   "outputs": [],
   "source": [
    "import math\n",
    "import numpy as np\n",
    "import scipy as sc\n",
    "import scipy.optimize\n",
    "import os\n",
    "from pdf2image import convert_from_path\n",
    "import cv2"
   ]
  },
  {
   "cell_type": "markdown",
   "metadata": {
    "collapsed": false
   },
   "source": [
    "Function 'find QRs' from pyexams.scan"
   ]
  },
  {
   "cell_type": "code",
   "execution_count": 2,
   "metadata": {
    "collapsed": false
   },
   "outputs": [],
   "source": [
    "def find_qrs(file, dpi):\n",
    "    # TODO: improve qr detection\n",
    "    pages = convert_from_path(file, dpi=dpi, thread_count=1, fmt='png')\n",
    "    img_file = 'img_temp.png'\n",
    "    qrs = []\n",
    "    for page in pages:\n",
    "        page.save(img_file)\n",
    "        img = cv2.imread(img_file)\n",
    "        qr_detect = cv2.QRCodeDetector()\n",
    "        # process the image\n",
    "        _, img_th = cv2.threshold(img, 120, 255, cv2.THRESH_BINARY)\n",
    "        # keep only black pixels\n",
    "        hsv_img = cv2.cvtColor(img_th, cv2.COLOR_BGR2HSV)\n",
    "        lower_values = np.array([0, 0, 0])\n",
    "        upper_values = np.array([180, 255, 30])\n",
    "        black_mask = cv2.inRange(hsv_img, lower_values, upper_values)\n",
    "        # blur, sharpen and recognize the qr\n",
    "        blur = cv2.GaussianBlur(black_mask, (3, 3), 0)\n",
    "        sharpen = cv2.filter2D(blur, -1, np.array([[-1, -1, -1], [-1, 9, -1], [-1, -1, -1]]))\n",
    "        value, coordinates, qr = qr_detect.detectAndDecode(~sharpen)\n",
    "        # if it doesn't find the qr, loop blur and sharpen until it does, up to 5 times\n",
    "        count = 0\n",
    "        while qr is None:\n",
    "            if count == 5:\n",
    "                # TODO: deal with QR not found error\n",
    "                # TODO: raise exception\n",
    "                error = 'Error: QR not found'\n",
    "                break\n",
    "            blur = cv2.GaussianBlur(sharpen, (3, 3), 0)\n",
    "            sharpen = cv2.filter2D(blur, -1, np.array([[-1, -1, -1], [-1, 9, -1], [-1, -1, -1]]))\n",
    "            value, coordinates, qr = qr_detect.detectAndDecode(~sharpen)\n",
    "            count = count + 1\n",
    "        exam, variant, page = '', '', ''\n",
    "        if value:\n",
    "            exam, variant, page = value.split(sep=',')\n",
    "        qrs.append({'exam': exam, 'variant': variant, 'page': page, 'coordinates': coordinates})\n",
    "    if os.path.exists(img_file):\n",
    "        os.remove(img_file)\n",
    "    return qrs"
   ]
  },
  {
   "cell_type": "code",
   "execution_count": 3,
   "metadata": {
    "collapsed": false
   },
   "outputs": [],
   "source": [
    "dpi = 300"
   ]
  },
  {
   "cell_type": "markdown",
   "metadata": {
    "collapsed": false
   },
   "source": [
    "pang's functions"
   ]
  },
  {
   "cell_type": "code",
   "execution_count": 4,
   "metadata": {
    "collapsed": false
   },
   "outputs": [],
   "source": [
    "def rot(alpha):\n",
    "    '''clockwise rotation\n",
    "\n",
    "    :param: alpha in 360 degrees\n",
    "    '''\n",
    "    alpha_rad = alpha*np.pi/180\n",
    "    return np.array([\n",
    "        [np.cos(alpha_rad), np.sin(alpha_rad)],\n",
    "        [-np.sin(alpha_rad), np.cos(alpha_rad)]\n",
    "    ])"
   ]
  },
  {
   "cell_type": "code",
   "execution_count": 54,
   "metadata": {
    "collapsed": false
   },
   "outputs": [],
   "source": [
    "def trans(C1, C2):\n",
    "    def sq(xs):\n",
    "        x0, y0, scale, angle = xs\n",
    "        C1_trans = np.array([[x0,y0]]) + scale*C1@rot(angle)\n",
    "        return ((C1_trans - C2)**2).sum()\n",
    "    x0_guess, y0_guess = C2[0,:] - C1[0,:]\n",
    "    sol = sc.optimize.minimize(sq, (x0_guess, y0_guess, 1, 0), tol=1e-9, method='Powell')\n",
    "    # if not sol['success']:\n",
    "      #   raise RuntimeError('Numerical error: could not find transformation matrix')\n",
    "    return tuple(sol['x'])"
   ]
  },
  {
   "cell_type": "markdown",
   "metadata": {
    "collapsed": false
   },
   "source": [
    "files with the exams"
   ]
  },
  {
   "cell_type": "code",
   "execution_count": 6,
   "metadata": {
    "collapsed": false
   },
   "outputs": [],
   "source": [
    "ex_file1 = '../multiple_choice_example/scanned/scanned_11111.pdf'\n",
    "ex_file2 = '../multiple_choice_example/scanned/scanned_22222.pdf'\n",
    "\n",
    "# filled ones should have the same coords\n",
    "ex_file3 = '../multiple_choice_example/filled/filled_33333.pdf'\n",
    "ex_file4 = '../multiple_choice_example/filled/filled_44444.pdf'\n",
    "\n",
    "# filled 3 rotated by 90º and 180º\n",
    "ex_file2_rot90 = '../multiple_choice_example/scanned/scanned_22222_rot90.pdf'\n",
    "ex_file2_rot180 = '../multiple_choice_example/scanned/scanned_22222_rot180.pdf'\n",
    "ex_file3_rot90 = '../multiple_choice_example/filled/filled_33333_rot90.pdf'\n",
    "ex_file3_rot180 = '../multiple_choice_example/filled/filled_33333_rot180.pdf'"
   ]
  },
  {
   "cell_type": "markdown",
   "metadata": {
    "collapsed": false
   },
   "source": [
    "get the qrs from filled3, should be the default coordinates"
   ]
  },
  {
   "cell_type": "code",
   "execution_count": null,
   "metadata": {
    "collapsed": false
   },
   "outputs": [],
   "source": [
    "qrs3 = find_qrs(ex_file3, dpi)"
   ]
  },
  {
   "cell_type": "code",
   "execution_count": 7,
   "metadata": {
    "collapsed": false
   },
   "outputs": [
    {
     "data": {
      "text/plain": [
       "array([[1950.00012207, 3174.        ],\n",
       "       [2107.        , 3174.        ],\n",
       "       [2107.        , 3331.        ],\n",
       "       [1950.00012207, 3331.        ]])"
      ]
     },
     "execution_count": 7,
     "metadata": {},
     "output_type": "execute_result"
    }
   ],
   "source": [
    "qr_cords3 = np.zeros((4,2))\n",
    "# qr_cords3, qr_cords3_90, qr_cords3_180 = np.zeros((12,2)), np.zeros((12,2)), np.zeros((12,2))\n",
    "for page in range(1):\n",
    "    for point in range(4):\n",
    "        qr_cords3[page*4+point] = (qrs3[page]['coordinates'][0][point])\n",
    "qr_cords3"
   ]
  },
  {
   "cell_type": "markdown",
   "metadata": {
    "collapsed": false
   },
   "source": [
    "get the qrs from the rotated scanned2 pdfs"
   ]
  },
  {
   "cell_type": "code",
   "execution_count": null,
   "metadata": {
    "collapsed": false
   },
   "outputs": [],
   "source": [
    "# qrs2 = find_qrs(ex_file2, dpi)\n",
    "qrs2_rot90 = find_qrs(ex_file2_rot90, dpi)\n",
    "# qrs2_rot180 = find_qrs(ex_file2_rot180, dpi)"
   ]
  },
  {
   "cell_type": "code",
   "execution_count": 9,
   "metadata": {
    "collapsed": false
   },
   "outputs": [
    {
     "data": {
      "text/plain": [
       "array([[3101.        ,  570.        ],\n",
       "       [3098.00390625,  419.27383423],\n",
       "       [3252.        ,  414.        ],\n",
       "       [3252.        ,  570.92858887]])"
      ]
     },
     "execution_count": 9,
     "metadata": {},
     "output_type": "execute_result"
    }
   ],
   "source": [
    "# qr_cords2_p1 = np.zeros((4,2))\n",
    "# qr_cords2_p2 = np.zeros((4,2))\n",
    "# qr_cords2_p3 = np.zeros((4,2))\n",
    "qr_cords2_90_p1 = np.zeros((4,2))\n",
    "qr_cords2_90_p2 = np.zeros((4,2))\n",
    "qr_cords2_90_p3 = np.zeros((4,2))\n",
    "# qr_cords2_180_p1 = np.zeros((4,2))\n",
    "# qr_cords2_180_p2 = np.zeros((4,2))\n",
    "# qr_cords2_180_p3 = np.zeros((4,2))\n",
    "for page in range(3):\n",
    "    for point in range(4):\n",
    "        if page == 0:\n",
    "            qr_cords2_90_p1[point] = (qrs2_rot90[page]['coordinates'][0][point])\n",
    "        elif page == 1:\n",
    "            qr_cords2_90_p2[point] = (qrs2_rot90[page]['coordinates'][0][point])\n",
    "        else:\n",
    "            qr_cords2_90_p3[point] = (qrs2_rot90[page]['coordinates'][0][point])\n",
    "qr_cords2_90_p1"
   ]
  },
  {
   "cell_type": "code",
   "execution_count": 55,
   "metadata": {
    "collapsed": false
   },
   "outputs": [
    {
     "data": {
      "text/plain": [
       "(2573.194992703396, 4.6128973057080955, 1.0246963698062097, 90.68653678679813)"
      ]
     },
     "execution_count": 55,
     "metadata": {},
     "output_type": "execute_result"
    }
   ],
   "source": [
    "trans(qr_cords2_90_p1, qr_cords3)"
   ]
  },
  {
   "cell_type": "code",
   "execution_count": 56,
   "metadata": {
    "collapsed": false
   },
   "outputs": [
    {
     "data": {
      "text/plain": [
       "(2381.4436705145554,\n",
       " 2786.4511493428336,\n",
       " 0.6329472983124579,\n",
       " -128.86905208897727)"
      ]
     },
     "execution_count": 56,
     "metadata": {},
     "output_type": "execute_result"
    }
   ],
   "source": [
    "trans(qr_cords3, qr_cords2_90_p1)"
   ]
  },
  {
   "cell_type": "code",
   "execution_count": 57,
   "metadata": {
    "collapsed": false
   },
   "outputs": [
    {
     "data": {
      "text/plain": [
       "(2524.315722002431, -38.34697309151104, 1.0511263923004655, 90.13630513396531)"
      ]
     },
     "execution_count": 57,
     "metadata": {},
     "output_type": "execute_result"
    }
   ],
   "source": [
    "trans(qr_cords2_90_p2, qr_cords3)"
   ]
  },
  {
   "cell_type": "code",
   "execution_count": 58,
   "metadata": {
    "collapsed": false
   },
   "outputs": [
    {
     "data": {
      "text/plain": [
       "(2359.2610313199343,\n",
       " 2544.301171960416,\n",
       " 0.5788193258940987,\n",
       " -127.58906165592911)"
      ]
     },
     "execution_count": 58,
     "metadata": {},
     "output_type": "execute_result"
    }
   ],
   "source": [
    "trans(qr_cords3, qr_cords2_90_p2)"
   ]
  },
  {
   "cell_type": "code",
   "execution_count": 59,
   "metadata": {
    "collapsed": false
   },
   "outputs": [
    {
     "data": {
      "text/plain": [
       "(2551.8734027807623, -26.666768871652682, 1.0342671724712933, 90.2850213725594)"
      ]
     },
     "execution_count": 59,
     "metadata": {},
     "output_type": "execute_result"
    }
   ],
   "source": [
    "trans(qr_cords2_90_p3, qr_cords3)"
   ]
  },
  {
   "cell_type": "code",
   "execution_count": 60,
   "metadata": {
    "collapsed": false
   },
   "outputs": [
    {
     "data": {
      "text/plain": [
       "(2384.911691975397, 2673.3933096615574, 0.6053845270428454, -128.1279298943979)"
      ]
     },
     "execution_count": 60,
     "metadata": {},
     "output_type": "execute_result"
    }
   ],
   "source": [
    "trans(qr_cords3, qr_cords2_90_p3)"
   ]
  },
  {
   "cell_type": "markdown",
   "metadata": {
    "collapsed": false
   },
   "source": [
    "doesn't always work"
   ]
  },
  {
   "cell_type": "markdown",
   "metadata": {
    "collapsed": false
   },
   "source": [
    "# Defined a new function:\n",
    "\n",
    "- get_rotation: compares two vectors and returns the angle they form and the difference in scale between them\n",
    "- get_trans:\n",
    "- 1: calls get_rotation with each two vectors made by joining each point with the next for both point arrays\n",
    "- 2: finds the average of all angle/scale found\n",
    "- 3:"
   ]
  },
  {
   "cell_type": "code",
   "execution_count": 40,
   "metadata": {
    "collapsed": false
   },
   "outputs": [],
   "source": [
    "def get_rotation(vector, vector_trans):\n",
    "    prod = vector[0] * vector_trans[0] + vector[1] * vector_trans[1]\n",
    "    d1 = math.sqrt(math.pow(vector[0], 2) + math.pow(vector[1], 2))\n",
    "    d2 = math.sqrt(math.pow(vector_trans[0], 2) + math.pow(vector_trans[1], 2))\n",
    "    cos = prod / (d1 * d2)\n",
    "    cross_prod = vector[0] * vector_trans[1] - vector[1] * vector_trans[0]\n",
    "    sign = 1 if cross_prod >= 0 else -1\n",
    "    scale = d2 / d1\n",
    "    return sign * math.acos(cos) * 180 / np.pi, scale"
   ]
  },
  {
   "cell_type": "code",
   "execution_count": 61,
   "metadata": {
    "collapsed": false
   },
   "outputs": [],
   "source": [
    "def get_trans(points, points_trans):\n",
    "    num_points = points.__len__()\n",
    "    if not num_points == points_trans.__len__():\n",
    "        return ()\n",
    "    tr_cords = np.zeros((4,2))\n",
    "    alpha_final, scale_final, dist_final = 0, 0, 0\n",
    "    # find rotation alpha and scale\n",
    "    for i in range(num_points):\n",
    "        if i == num_points - 1:\n",
    "            vector = [points[0,0] - points[i,0], points[0,1] - points[i,1]]\n",
    "            vector_trans = [points_trans[0,0] - points_trans[i,0], points_trans[0,1] - points_trans[i,1]]\n",
    "        else:\n",
    "            vector = [points[i+1,0] - points[i,0], points[i+1,1] - points[i,1]]\n",
    "            vector_trans = [points_trans[i+1,0] - points_trans[i,0], points_trans[i+1,1] - points_trans[i,1]]\n",
    "        alpha, scale = get_rotation(vector, vector_trans)\n",
    "        # print(alpha, scale)\n",
    "        alpha_final = alpha_final + alpha / num_points\n",
    "        scale_final = scale_final + scale / num_points\n",
    "    # find translation\n",
    "    for i in range(num_points):\n",
    "        tr_cords[i] = scale_final * qr_cords3[i] @ rot(alpha_final)\n",
    "        dist = qr_cords2_90_p1[i] - tr_cords[i]\n",
    "        # print(dist)\n",
    "        dist_final = dist_final + dist / num_points\n",
    "    print(dist_final, alpha_final, scale_final)\n",
    "    return tr_cords + dist_final"
   ]
  },
  {
   "cell_type": "code",
   "execution_count": 49,
   "metadata": {
    "collapsed": false
   },
   "outputs": [
    {
     "name": "stdout",
     "output_type": "stream",
     "text": [
      "[  26.06753721 2510.77703129] -90.68695862866194 0.9757547714679142\n"
     ]
    },
    {
     "data": {
      "text/plain": [
       "array([[3100.07808099,  571.06013963],\n",
       "       [3098.24138387,  417.87777046],\n",
       "       [3251.42387214,  416.04107192],\n",
       "       [3253.26056925,  569.22344108]])"
      ]
     },
     "execution_count": 49,
     "metadata": {},
     "output_type": "execute_result"
    }
   ],
   "source": [
    "get_trans(qr_cords3, qr_cords2_90_p1)"
   ]
  },
  {
   "cell_type": "code",
   "execution_count": 43,
   "metadata": {
    "collapsed": false
   },
   "outputs": [
    {
     "data": {
      "text/plain": [
       "array([[3101.        ,  570.        ],\n",
       "       [3098.00390625,  419.27383423],\n",
       "       [3252.        ,  414.        ],\n",
       "       [3252.        ,  570.92858887]])"
      ]
     },
     "execution_count": 43,
     "metadata": {},
     "output_type": "execute_result"
    }
   ],
   "source": [
    "qr_cords2_90_p1"
   ]
  },
  {
   "cell_type": "code",
   "execution_count": 62,
   "metadata": {
    "collapsed": false
   },
   "outputs": [
    {
     "name": "stdout",
     "output_type": "stream",
     "text": [
      "[  86.2575113  2430.41796271] -90.13372761525127 0.9512699983867006\n"
     ]
    },
    {
     "data": {
      "text/plain": [
       "array([[3101.25077457,  568.39932881],\n",
       "       [3100.9021956 ,  419.05046198],\n",
       "       [3250.25117855,  418.70188273],\n",
       "       [3250.59975753,  568.05074957]])"
      ]
     },
     "execution_count": 62,
     "metadata": {},
     "output_type": "execute_result"
    }
   ],
   "source": [
    "get_trans(qr_cords3, qr_cords2_90_p2)"
   ]
  },
  {
   "cell_type": "code",
   "execution_count": 63,
   "metadata": {
    "collapsed": false
   },
   "outputs": [
    {
     "data": {
      "text/plain": [
       "array([[3059.        ,  539.        ],\n",
       "       [3056.60205078,  389.        ],\n",
       "       [3205.97680664,  389.        ],\n",
       "       [3206.        ,  540.        ]])"
      ]
     },
     "execution_count": 63,
     "metadata": {},
     "output_type": "execute_result"
    }
   ],
   "source": [
    "qr_cords2_90_p2"
   ]
  },
  {
   "cell_type": "code",
   "execution_count": 64,
   "metadata": {
    "collapsed": false
   },
   "outputs": [
    {
     "name": "stdout",
     "output_type": "stream",
     "text": [
      "[  41.31270448 2470.07575117] -90.28413336980311 0.9667029678149448\n"
     ]
    },
    {
     "data": {
      "text/plain": [
       "array([[3100.24204921,  569.81211945],\n",
       "       [3099.48940418,  418.04173771],\n",
       "       [3251.25990392,  417.2890921 ],\n",
       "       [3252.01254894,  569.05947383]])"
      ]
     },
     "execution_count": 64,
     "metadata": {},
     "output_type": "execute_result"
    }
   ],
   "source": [
    "get_trans(qr_cords3, qr_cords2_90_p3)"
   ]
  },
  {
   "cell_type": "code",
   "execution_count": 65,
   "metadata": {
    "collapsed": false
   },
   "outputs": [
    {
     "data": {
      "text/plain": [
       "array([[3098.        ,  567.        ],\n",
       "       [3096.        ,  416.01947021],\n",
       "       [3251.        ,  413.        ],\n",
       "       [3247.        ,  565.        ]])"
      ]
     },
     "execution_count": 65,
     "metadata": {},
     "output_type": "execute_result"
    }
   ],
   "source": [
    "qr_cords2_90_p3"
   ]
  },
  {
   "cell_type": "code",
   "execution_count": null,
   "metadata": {
    "collapsed": false
   },
   "outputs": [],
   "source": []
  }
 ],
 "metadata": {
  "kernelspec": {
   "display_name": "Python 3",
   "language": "python",
   "name": "python3"
  },
  "language_info": {
   "codemirror_mode": {
    "name": "ipython",
    "version": 2
   },
   "file_extension": ".py",
   "mimetype": "text/x-python",
   "name": "python",
   "nbconvert_exporter": "python",
   "pygments_lexer": "ipython2",
   "version": "2.7.6"
  }
 },
 "nbformat": 4,
 "nbformat_minor": 0
}
