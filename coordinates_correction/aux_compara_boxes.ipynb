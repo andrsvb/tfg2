{
 "cells": [
  {
   "cell_type": "markdown",
   "metadata": {},
   "source": [
    "# Comparacion de coordenadas de las casillas"
   ]
  },
  {
   "cell_type": "code",
   "execution_count": null,
   "metadata": {},
   "outputs": [],
   "source": [
    "import numpy as np\n",
    "import json\n",
    "\n",
    "from my_functions import get_trans #, get_rotation # called by get_trans\n",
    "from pyex_scan import find_qrs_v1"
   ]
  },
  {
   "cell_type": "markdown",
   "metadata": {},
   "source": [
    "# Files used\n",
    "\n",
    "Base directory"
   ]
  },
  {
   "cell_type": "code",
   "execution_count": null,
   "metadata": {},
   "outputs": [],
   "source": [
    "base_dir = '../multiple_choice_example/'"
   ]
  },
  {
   "cell_type": "markdown",
   "metadata": {},
   "source": [
    "Statement files, for default coordinates"
   ]
  },
  {
   "cell_type": "code",
   "execution_count": null,
   "metadata": {},
   "outputs": [],
   "source": [
    "st_file1 = base_dir + 'question/question_11111.pdf'\n",
    "st_file2 = base_dir + 'question/question_22222.pdf'\n",
    "st_file3 = base_dir + 'question/question_33333.pdf'\n",
    "st_file4 = base_dir + 'question/question_44444.pdf'"
   ]
  },
  {
   "cell_type": "markdown",
   "metadata": {},
   "source": [
    "JSON files"
   ]
  },
  {
   "cell_type": "code",
   "execution_count": null,
   "metadata": {},
   "outputs": [],
   "source": [
    "st_json_file1 = base_dir + 'json/question_11111.json'\n",
    "\n",
    "filled_json_file3 = base_dir + 'json/scan_33333.json'"
   ]
  },
  {
   "cell_type": "markdown",
   "metadata": {},
   "source": [
    "Solution files, for scanned coordinates"
   ]
  },
  {
   "cell_type": "code",
   "execution_count": null,
   "metadata": {},
   "outputs": [],
   "source": [
    "# scanned exams 1 and 2\n",
    "ex_file1 = base_dir + 'scanned/scanned_11111.pdf'\n",
    "ex_file2 = base_dir + 'scanned/scanned_22222.pdf'\n",
    "\n",
    "# scanned 2 rotated by 45º, 90º and 180º\n",
    "ex_file2_rot45 = base_dir + 'scanned/scanned_22222_rot45.pdf'\n",
    "ex_file2_rot90 = base_dir + 'scanned/scanned_22222_rot90.pdf'\n",
    "ex_file2_rot180 = base_dir + 'scanned/scanned_22222_rot180.pdf'\n",
    "\n",
    "# filled exams 3 and 4\n",
    "ex_file3 = base_dir + 'filled/filled_33333.pdf'\n",
    "ex_file4 = base_dir + 'filled/filled_44444.pdf'\n",
    "\n",
    "# filled 3 rotated by 90º and 180º\n",
    "ex_file3_rot90 = base_dir + 'filled/filled_33333_rot90.pdf'\n",
    "ex_file3_rot180 = base_dir + 'filled/filled_33333_rot180.pdf'"
   ]
  },
  {
   "cell_type": "markdown",
   "metadata": {},
   "source": [
    "Dots per inch used"
   ]
  },
  {
   "cell_type": "code",
   "execution_count": null,
   "metadata": {},
   "outputs": [],
   "source": [
    "dpi = 300"
   ]
  },
  {
   "cell_type": "markdown",
   "metadata": {},
   "source": [
    "## Coordinates comparison of the checkboxes"
   ]
  },
  {
   "cell_type": "code",
   "execution_count": null,
   "metadata": {},
   "outputs": [],
   "source": [
    "def get_coords_json(json_data):\n",
    "    coords = np.zeros((json_data['num_boxes'],2))\n",
    "    count_ex = 0\n",
    "    count_box = 0\n",
    "    for i in range(json_data['num_boxes']):\n",
    "        if count_box == json_data['exercises'][count_ex]['checkboxes'].__len__():\n",
    "            count_ex = count_ex + 1\n",
    "            count_box = 0\n",
    "        coords[i] = json_data['exercises'][count_ex]['checkboxes'][count_box]['cords'][0:2]\n",
    "        count_box = count_box + 1\n",
    "    return coords"
   ]
  },
  {
   "cell_type": "code",
   "execution_count": null,
   "metadata": {},
   "outputs": [
    {
     "data": {
      "text/plain": [
       "array([[105.961, 383.659],\n",
       "       [105.961, 367.719],\n",
       "       [105.961, 324.103],\n",
       "       [105.961, 308.163],\n",
       "       [105.961, 265.739],\n",
       "       [105.961, 249.799],\n",
       "       [105.961, 207.375],\n",
       "       [105.961, 191.434],\n",
       "       [105.961, 148.459],\n",
       "       [105.961, 132.518],\n",
       "       [105.961,  90.094],\n",
       "       [105.961,  74.154],\n",
       "       [105.961, 713.121],\n",
       "       [105.961, 697.181],\n",
       "       [105.961, 681.241],\n",
       "       [105.961, 665.301],\n",
       "       [105.961, 622.323],\n",
       "       [105.961, 606.383],\n",
       "       [105.961, 590.443],\n",
       "       [105.961, 574.502],\n",
       "       [105.961, 531.303],\n",
       "       [105.961, 515.363],\n",
       "       [105.961, 499.423],\n",
       "       [105.961, 483.483],\n",
       "       [105.961, 439.646],\n",
       "       [105.961, 423.706],\n",
       "       [105.961, 407.765],\n",
       "       [105.961, 391.825],\n",
       "       [105.961, 347.989],\n",
       "       [105.961, 332.048],\n",
       "       [105.961, 316.108],\n",
       "       [105.961, 272.271],\n",
       "       [105.961, 256.331],\n",
       "       [105.961, 240.391],\n",
       "       [105.961, 224.451],\n",
       "       [105.961, 181.252],\n",
       "       [105.961, 165.311],\n",
       "       [105.961, 149.371],\n",
       "       [105.961, 133.431],\n",
       "       [105.961, 713.121],\n",
       "       [105.961, 697.181],\n",
       "       [105.961, 681.241],\n",
       "       [105.961, 665.301],\n",
       "       [105.961, 621.685],\n",
       "       [105.961, 605.745],\n",
       "       [105.961, 589.805],\n",
       "       [105.961, 573.865],\n",
       "       [105.961, 529.475],\n",
       "       [105.961, 513.534],\n",
       "       [105.961, 497.594],\n",
       "       [105.961, 481.654],\n",
       "       [105.961, 437.264],\n",
       "       [105.961, 421.323],\n",
       "       [105.961, 405.383],\n",
       "       [105.961, 389.443],\n",
       "       [105.961, 345.053],\n",
       "       [105.961, 329.113],\n",
       "       [105.961, 313.172],\n",
       "       [105.961, 297.232],\n",
       "       [105.961, 242.078],\n",
       "       [105.961, 226.138],\n",
       "       [105.961, 210.197],\n",
       "       [105.961, 194.257],\n",
       "       [105.961, 151.612],\n",
       "       [105.961, 135.671],\n",
       "       [105.961, 119.731],\n",
       "       [105.961, 103.791]])"
      ]
     },
     "metadata": {},
     "output_type": "display_data"
    }
   ],
   "source": [
    "with open(st_json_file1) as json_file:\n",
    "    pypdf_coords = get_coords_json(json.load(json_file))\n",
    "pypdf_coords"
   ]
  },
  {
   "cell_type": "code",
   "execution_count": null,
   "metadata": {},
   "outputs": [
    {
     "data": {
      "text/plain": [
       "array([[ 517., 2474.],\n",
       "       [ 517., 2563.],\n",
       "       [ 517., 2805.],\n",
       "       [ 517., 2893.],\n",
       "       [ 517., 3129.],\n",
       "       [ 517., 3218.],\n",
       "       [ 517., 3453.],\n",
       "       [ 517., 3542.],\n",
       "       [ 517., 3781.],\n",
       "       [ 517., 3869.],\n",
       "       [ 517., 4105.],\n",
       "       [ 517., 4194.],\n",
       "       [ 517.,  644.],\n",
       "       [ 517.,  732.],\n",
       "       [ 517.,  821.],\n",
       "       [ 517.,  909.],\n",
       "       [ 517., 1148.],\n",
       "       [ 517., 1237.],\n",
       "       [ 517., 1325.],\n",
       "       [ 517., 1414.],\n",
       "       [ 517., 1654.],\n",
       "       [ 517., 1742.],\n",
       "       [ 517., 1831.],\n",
       "       [ 517., 1919.],\n",
       "       [ 517., 2163.],\n",
       "       [ 517., 2252.],\n",
       "       [ 517., 2340.],\n",
       "       [ 517., 2429.],\n",
       "       [ 517., 2672.],\n",
       "       [ 517., 2761.],\n",
       "       [ 517., 2849.],\n",
       "       [ 517., 3093.],\n",
       "       [ 517., 3181.],\n",
       "       [ 517., 3270.],\n",
       "       [ 517., 3359.],\n",
       "       [ 517., 3599.],\n",
       "       [ 517., 3687.],\n",
       "       [ 517., 3776.],\n",
       "       [ 517., 3864.],\n",
       "       [ 517.,  644.],\n",
       "       [ 517.,  732.],\n",
       "       [ 517.,  821.],\n",
       "       [ 517.,  909.],\n",
       "       [ 517., 1152.],\n",
       "       [ 517., 1240.],\n",
       "       [ 517., 1329.],\n",
       "       [ 517., 1417.],\n",
       "       [ 517., 1664.],\n",
       "       [ 517., 1753.],\n",
       "       [ 517., 1841.],\n",
       "       [ 517., 1930.],\n",
       "       [ 517., 2176.],\n",
       "       [ 517., 2265.],\n",
       "       [ 517., 2353.],\n",
       "       [ 517., 2442.],\n",
       "       [ 517., 2689.],\n",
       "       [ 517., 2777.],\n",
       "       [ 517., 2866.],\n",
       "       [ 517., 2954.],\n",
       "       [ 517., 3261.],\n",
       "       [ 517., 3349.],\n",
       "       [ 517., 3438.],\n",
       "       [ 517., 3526.],\n",
       "       [ 517., 3763.],\n",
       "       [ 517., 3852.],\n",
       "       [ 517., 3940.],\n",
       "       [ 517., 4029.]])"
      ]
     },
     "metadata": {},
     "output_type": "display_data"
    }
   ],
   "source": [
    "with open(filled_json_file3) as json_file:\n",
    "    opencv_base_coords = get_coords_json(json.load(json_file))\n",
    "opencv_base_coords"
   ]
  },
  {
   "cell_type": "code",
   "execution_count": null,
   "metadata": {},
   "outputs": [],
   "source": [
    "qrs1 = find_qrs_v1(st_file1)"
   ]
  },
  {
   "cell_type": "code",
   "execution_count": null,
   "metadata": {},
   "outputs": [
    {
     "data": {
      "text/plain": [
       "array([[ 105.961,  383.659,  517.   , 2474.   ],\n",
       "       [ 105.961,  367.719,  517.   , 2563.   ],\n",
       "       [ 105.961,  324.103,  517.   , 2805.   ],\n",
       "       [ 105.961,  308.163,  517.   , 2893.   ],\n",
       "       [ 105.961,  265.739,  517.   , 3129.   ],\n",
       "       [ 105.961,  249.799,  517.   , 3218.   ],\n",
       "       [ 105.961,  207.375,  517.   , 3453.   ],\n",
       "       [ 105.961,  191.434,  517.   , 3542.   ],\n",
       "       [ 105.961,  148.459,  517.   , 3781.   ],\n",
       "       [ 105.961,  132.518,  517.   , 3869.   ]])"
      ]
     },
     "metadata": {},
     "output_type": "display_data"
    }
   ],
   "source": [
    "a = [[105.961,383.659,517.000,2474.000],\n",
    "     [105.961,367.719,517.000,2563.000],\n",
    "     [105.961,324.103,517.000,2805.000],\n",
    "     [105.961,308.163,517.000,2893.000],\n",
    "     [105.961,265.739,517.000,3129.000],\n",
    "     [105.961,249.799,517.000,3218.000],\n",
    "     [105.961,207.375,517.000,3453.000],\n",
    "     [105.961,191.434,517.000,3542.000],\n",
    "     [105.961,148.459,517.000,3781.000],\n",
    "     [105.961,132.518,517.000,3869.000]]\n",
    "np.array(a)"
   ]
  },
  {
   "cell_type": "code",
   "execution_count": null,
   "metadata": {},
   "outputs": [
    {
     "name": "stdout",
     "output_type": "stream",
     "text": [
      "| box | x - pyPDF | y - pyPDF | x - OpenCV | y - OpenCV |\n",
      "| --- | --- | --- | --- | --- |\n",
      "|  1 | 105.96 | 383.66 | 383.66 | 517.00 |\n",
      "|  2 | 105.96 | 367.72 | 367.72 | 517.00 |\n",
      "|  3 | 105.96 | 324.10 | 324.10 | 517.00 |\n",
      "|  4 | 105.96 | 308.16 | 308.16 | 517.00 |\n",
      "|  5 | 105.96 | 265.74 | 265.74 | 517.00 |\n",
      "|  6 | 105.96 | 249.80 | 249.80 | 517.00 |\n",
      "|  7 | 105.96 | 207.38 | 207.38 | 517.00 |\n",
      "|  8 | 105.96 | 191.43 | 191.43 | 517.00 |\n",
      "|  9 | 105.96 | 148.46 | 148.46 | 517.00 |\n",
      "|  10 | 105.96 | 132.52 | 132.52 | 517.00 |\n"
     ]
    }
   ],
   "source": [
    "print(\"| box | x - pyPDF | y - pyPDF | x - OpenCV | y - OpenCV |\")\n",
    "print(\"| --- | --- | --- | --- | --- |\")\n",
    "for i, row in enumerate(np.array(a)):\n",
    "    print(\"|  %i | %.2f | %.2f | %.2f | %.2f |\" % (i+1, row[0], row[1], row[2], row[3]))"
   ]
  },
  {
   "cell_type": "code",
   "execution_count": null,
   "metadata": {},
   "outputs": [
    {
     "name": "stdout",
     "output_type": "stream",
     "text": [
      "[1105.52613529 4604.98183947  180.            5.55417687]\n",
      "[ 2.76381534 11.5124546   0.45        0.01388544]\n"
     ]
    }
   ],
   "source": [
    "trans_ppdf_opencv = get_trans(pypdf_coords, opencv_base_coords)\n",
    "print(np.array([trans_ppdf_opencv[0][0], trans_ppdf_opencv[0][1], trans_ppdf_opencv[1], trans_ppdf_opencv[2]]))\n",
    "print(np.array([trans_ppdf_opencv[0][0], trans_ppdf_opencv[0][1], trans_ppdf_opencv[1], trans_ppdf_opencv[2]])/400)"
   ]
  },
  {
   "cell_type": "code",
   "execution_count": null,
   "metadata": {},
   "outputs": [],
   "source": []
  }
 ],
 "metadata": {
  "language_info": {
   "name": "python"
  }
 },
 "nbformat": 4,
 "nbformat_minor": 2
}
