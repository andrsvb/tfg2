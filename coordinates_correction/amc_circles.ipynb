{
 "cells": [
  {
   "cell_type": "markdown",
   "metadata": {},
   "source": [
    "# Comparación de coordenadas de los puntos AMC\n",
    "\n",
    "Entre las coordenadas por defecto / de los exámenes sin alteraciones y de los exámenes escaneados"
   ]
  },
  {
   "cell_type": "code",
   "execution_count": null,
   "metadata": {},
   "outputs": [],
   "source": [
    "import numpy as np\n",
    "import json\n",
    "\n",
    "from my_functions import get_trans #, get_rotation # called by get_trans\n",
    "from pyex_scan import find_qrs_v1"
   ]
  },
  {
   "cell_type": "markdown",
   "metadata": {},
   "source": [
    "## Ficheros\n",
    "\n",
    "Base directory"
   ]
  },
  {
   "cell_type": "code",
   "execution_count": null,
   "metadata": {},
   "outputs": [],
   "source": [
    "base_dir = '../multiple_choice_example/'"
   ]
  },
  {
   "cell_type": "markdown",
   "metadata": {},
   "source": [
    "Enunciados, para las coordenadas por defecto"
   ]
  },
  {
   "cell_type": "code",
   "execution_count": null,
   "metadata": {},
   "outputs": [],
   "source": [
    "st_file1 = base_dir + 'question/question_11111.pdf'\n",
    "st_file2 = base_dir + 'question/question_22222.pdf'\n",
    "st_file3 = base_dir + 'question/question_33333.pdf'\n",
    "st_file4 = base_dir + 'question/question_44444.pdf'"
   ]
  },
  {
   "cell_type": "markdown",
   "metadata": {},
   "source": [
    "Archivos JSON"
   ]
  },
  {
   "cell_type": "code",
   "execution_count": null,
   "metadata": {},
   "outputs": [],
   "source": [
    "st_json_file1 = base_dir + 'json/question_11111.json'\n",
    "\n",
    "filled_json_file3 = base_dir + 'json/scan_33333.json'"
   ]
  },
  {
   "cell_type": "markdown",
   "metadata": {},
   "source": [
    "Examenes rellenados y escaneados"
   ]
  },
  {
   "cell_type": "code",
   "execution_count": null,
   "metadata": {},
   "outputs": [],
   "source": [
    "# scanned exams 1 and 2\n",
    "ex_file1 = base_dir + 'scanned/scanned_11111.pdf'\n",
    "ex_file2 = base_dir + 'scanned/scanned_22222.pdf'\n",
    "\n",
    "# scanned 2 rotated by 45º, 90º and 180º\n",
    "ex_file2_rot45 = base_dir + 'scanned/scanned_22222_rot45.pdf'\n",
    "ex_file2_rot90 = base_dir + 'scanned/scanned_22222_rot90.pdf'\n",
    "ex_file2_rot180 = base_dir + 'scanned/scanned_22222_rot180.pdf'\n",
    "\n",
    "# filled exams 3 and 4\n",
    "ex_file3 = base_dir + 'filled/filled_33333.pdf'\n",
    "ex_file4 = base_dir + 'filled/filled_44444.pdf'\n",
    "\n",
    "# filled 3 rotated by 90º and 180º\n",
    "ex_file3_rot90 = base_dir + 'filled/filled_33333_rot90.pdf'\n",
    "ex_file3_rot180 = base_dir + 'filled/filled_33333_rot180.pdf'"
   ]
  },
  {
   "cell_type": "markdown",
   "metadata": {},
   "source": [
    "## Default values"
   ]
  },
  {
   "cell_type": "markdown",
   "metadata": {},
   "source": [
    "Dots per inch"
   ]
  },
  {
   "cell_type": "code",
   "execution_count": null,
   "metadata": {},
   "outputs": [],
   "source": [
    "dpi = 300"
   ]
  },
  {
   "cell_type": "markdown",
   "metadata": {},
   "source": [
    "Transformaciones\n",
    "\n",
    "las de qr_codes"
   ]
  },
  {
   "cell_type": "code",
   "execution_count": null,
   "metadata": {},
   "outputs": [],
   "source": []
  },
  {
   "cell_type": "markdown",
   "metadata": {},
   "source": [
    "Coordenadas por defecto de los puntos AMC"
   ]
  },
  {
   "cell_type": "code",
   "execution_count": null,
   "metadata": {},
   "outputs": [],
   "source": []
  }
 ],
 "metadata": {
  "language_info": {
   "name": "python"
  }
 },
 "nbformat": 4,
 "nbformat_minor": 2
}
