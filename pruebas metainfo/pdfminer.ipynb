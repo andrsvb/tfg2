{
 "cells": [
  {
   "cell_type": "markdown",
   "metadata": {},
   "source": [
    "# Pruebas con pdfminer"
   ]
  },
  {
   "cell_type": "code",
   "execution_count": 1,
   "metadata": {
    "collapsed": true
   },
   "outputs": [
    {
     "name": "stdout",
     "output_type": "stream",
     "text": [
      "Defaulting to user installation because normal site-packages is not writeable\n",
      "Collecting pdfminer.six\n",
      "  Downloading pdfminer.six-20231228-py3-none-any.whl (5.6 MB)\n",
      "     ---------------------------------------- 5.6/5.6 MB 253.8 kB/s eta 0:00:00\n",
      "Requirement already satisfied: charset-normalizer>=2.0.0 in c:\\programdata\\anaconda3\\lib\\site-packages (from pdfminer.six) (2.0.4)\n",
      "Requirement already satisfied: cryptography>=36.0.0 in c:\\programdata\\anaconda3\\lib\\site-packages (from pdfminer.six) (37.0.1)\n",
      "Requirement already satisfied: cffi>=1.12 in c:\\programdata\\anaconda3\\lib\\site-packages (from cryptography>=36.0.0->pdfminer.six) (1.15.1)\n",
      "Requirement already satisfied: pycparser in c:\\programdata\\anaconda3\\lib\\site-packages (from cffi>=1.12->cryptography>=36.0.0->pdfminer.six) (2.21)\n",
      "Installing collected packages: pdfminer.six\n",
      "Successfully installed pdfminer.six-20231228\n",
      "Note: you may need to restart the kernel to use updated packages.\n"
     ]
    }
   ],
   "source": [
    "import numpy as np\n",
    "%pip install pdfminer.six"
   ]
  },
  {
   "cell_type": "code",
   "execution_count": 2,
   "metadata": {
    "collapsed": false
   },
   "outputs": [
    {
     "name": "stdout",
     "output_type": "stream",
     "text": [
      "<LTTextBoxHorizontal(0) 268.162,788.783,327.113,798.746 'Correction\\n'>\n",
      "<LTTextBoxHorizontal(1) 172.569,707.410,197.470,719.365 'Test\\n'>\n",
      "<LTTextBoxHorizontal(2) 280.089,722.919,354.559,732.882 'Nom et pr´enom :\\n'>\n",
      "<LTTextBoxHorizontal(3) 281.990,696.791,490.790,706.754 '. . . . . . . . . . . . . . . . . . . . . . . . . . . . . . . . . . . . . . . . . . . . . . . .\\n'>\n",
      "<LTTextBoxHorizontal(4) 85.039,660.457,492.939,682.655 'Illustration of amc2moodle capabilities. All these questions can be converted automatically to\\nmoodle with the same layout.\\n'>\n",
      "<LTTextBoxHorizontal(5) 119.754,636.767,475.528,651.113 'Multiple choice tests using AMC Latex Format\\n'>\n",
      "<LTTextBoxHorizontal(6) 85.039,605.001,149.851,626.919 'Question 1\\nWhat is 8 + 2?\\n'>\n",
      "<LTTextBoxHorizontal(7) 102.583,581.909,107.564,591.872 '0\\n'>\n",
      "<LTTextBoxHorizontal(8) 102.583,565.664,107.564,575.627 '0\\n'>\n",
      "<LTTextBoxHorizontal(9) 124.262,581.909,129.243,591.872 '1\\n'>\n",
      "<LTTextBoxHorizontal(10) 124.262,565.664,129.243,575.627 '1\\n'>\n",
      "<LTTextBoxHorizontal(11) 145.950,581.909,150.931,591.872 '2\\n'>\n",
      "<LTTextBoxHorizontal(12) 145.950,565.664,150.931,575.627 '2\\n'>\n",
      "<LTTextBoxHorizontal(13) 167.629,581.909,172.610,591.872 '3\\n'>\n",
      "<LTTextBoxHorizontal(14) 167.629,565.664,172.610,575.627 '3\\n'>\n",
      "<LTTextBoxHorizontal(15) 189.317,581.909,194.299,591.872 '4\\n'>\n",
      "<LTTextBoxHorizontal(16) 189.317,565.664,194.299,575.627 '4\\n'>\n",
      "<LTTextBoxHorizontal(17) 210.996,581.909,215.977,591.872 '5\\n'>\n",
      "<LTTextBoxHorizontal(18) 210.996,565.664,215.977,575.627 '5\\n'>\n",
      "<LTTextBoxHorizontal(19) 232.675,581.909,237.656,591.872 '6\\n'>\n",
      "<LTTextBoxHorizontal(20) 232.675,565.664,237.656,575.627 '6\\n'>\n",
      "<LTTextBoxHorizontal(21) 254.363,581.909,259.345,591.872 '7\\n'>\n",
      "<LTTextBoxHorizontal(22) 254.363,565.664,259.345,575.627 '7\\n'>\n",
      "<LTTextBoxHorizontal(23) 276.042,581.909,281.023,591.872 '8\\n'>\n",
      "<LTTextBoxHorizontal(24) 276.042,565.664,281.023,575.627 '8\\n'>\n",
      "<LTTextBoxHorizontal(25) 297.730,581.909,302.712,591.872 '9\\n'>\n",
      "<LTTextBoxHorizontal(26) 297.730,565.664,302.712,575.627 '9\\n'>\n",
      "<LTTextBoxHorizontal(27) 85.039,518.953,274.018,540.871 'Question 2\\nWhat is the first derivative of f = sin (8x)?\\n'>\n",
      "<LTTextBoxHorizontal(28) 109.946,499.028,167.165,508.991 '8 cos (8x) + 8\\n'>\n",
      "<LTTextBoxHorizontal(29) 109.946,483.087,154.992,493.050 '64 cos (8x)\\n'>\n",
      "<LTTextBoxHorizontal(30) 109.946,467.147,143.369,477.110 'cos (8x)\\n'>\n",
      "<LTTextBoxHorizontal(31) 109.946,451.207,150.011,461.170 '8 cos (8x)\\n'>\n",
      "<LTTextBoxHorizontal(32) 85.039,431.282,463.503,441.245 'Explication : Use the chain rule: f (x) = g(h(x)), where h(x) = 8x and g(y) = sin(y).\\n'>\n",
      "<LTLine 273.380,734.959,499.395,734.959>\n",
      "<LTLine 273.580,692.701,273.580,734.959>\n",
      "<LTLine 499.196,692.701,499.196,734.959>\n",
      "<LTLine 273.380,692.701,499.395,692.701>\n",
      "<LTRect 87.874,562.893,305.696,595.839>\n",
      "<LTRect 85.039,595.839,308.531,598.674>\n",
      "<LTRect 85.039,561.476,87.874,597.256>\n",
      "<LTRect 305.696,561.476,308.531,597.256>\n",
      "<LTRect 85.039,560.058,308.531,562.893>\n"
     ]
    }
   ],
   "source": [
    "from pdfminer.high_level import extract_pages\n",
    "for page_layout in extract_pages(\"..\\pyexams examples\\en\\solution\\solution_12345.pdf\"):\n",
    "    for element in page_layout:\n",
    "        print(element)"
   ]
  }
 ],
 "metadata": {
  "kernelspec": {
   "display_name": "Python 3",
   "language": "python",
   "name": "python3"
  },
  "language_info": {
   "codemirror_mode": {
    "name": "ipython",
    "version": 3
   },
   "file_extension": ".py",
   "mimetype": "text/x-python",
   "name": "python",
   "nbconvert_exporter": "python",
   "pygments_lexer": "ipython3",
   "version": "2022.10.-1"
  }
 },
 "nbformat": 4,
 "nbformat_minor": 0
}
