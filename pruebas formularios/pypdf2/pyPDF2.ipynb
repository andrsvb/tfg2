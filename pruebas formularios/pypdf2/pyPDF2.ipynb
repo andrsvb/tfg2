{
 "cells": [
  {
   "cell_type": "markdown",
   "metadata": {},
   "source": [
    "# Pruebas pyPDF2\n",
    "\n",
    "## Version original 2.11.2\n",
    "\n",
    "Explorando distintas funciones de la librería"
   ]
  },
  {
   "cell_type": "code",
   "execution_count": 1,
   "metadata": {
    "collapsed": false
   },
   "outputs": [
    {
     "name": "stdout",
     "output_type": "stream",
     "text": [
      "Defaulting to user installation because normal site-packages is not writeable\n",
      "Requirement already satisfied: PyPDF2==2.11.2 in c:\\users\\andres\\appdata\\roaming\\python\\python39\\site-packages (2.11.2)\n",
      "Requirement already satisfied: typing_extensions>=3.10.0.0 in c:\\programdata\\anaconda3\\lib\\site-packages (from PyPDF2==2.11.2) (4.3.0)\n",
      "Note: you may need to restart the kernel to use updated packages.\n"
     ]
    }
   ],
   "source": [
    "%pip install PyPDF2==2.11.2"
   ]
  },
  {
   "cell_type": "code",
   "execution_count": 2,
   "metadata": {
    "collapsed": false
   },
   "outputs": [],
   "source": [
    "from PyPDF2 import PdfReader\n",
    "import pandas as pd\n",
    "\n",
    "reader = PdfReader(\"../../pyexams examples/en/solution/solution_12345.pdf\")\n",
    "page = reader.pages[0]\n",
    "a = [[],[],[]]\n",
    "\n",
    "def visitor_body(text, cm, tm, fontDict, fontSize):\n",
    "    a.append([text, tm[4], tm[5]])\n",
    "\n",
    "page.extract_text(visitor_text=visitor_body)\n",
    "pd.DataFrame(a).to_csv('pypdf2_visitor_export.csv')"
   ]
  },
  {
   "cell_type": "code",
   "execution_count": 3,
   "metadata": {
    "collapsed": false
   },
   "outputs": [
    {
     "name": "stdout",
     "output_type": "stream",
     "text": [
      "{'subtype': '/Widget', 'location': [89.867, 581.13, 102.583, 593.846]}\n",
      "{'subtype': '/Widget', 'location': [111.549, 581.13, 124.265, 593.846]}\n",
      "{'subtype': '/Widget', 'location': [133.232, 581.13, 145.948, 593.846]}\n",
      "{'subtype': '/Widget', 'location': [154.914, 581.13, 167.631, 593.846]}\n",
      "{'subtype': '/Widget', 'location': [176.597, 581.13, 189.313, 593.846]}\n",
      "{'subtype': '/Widget', 'location': [198.28, 581.13, 210.996, 593.846]}\n",
      "{'subtype': '/Widget', 'location': [219.962, 581.13, 232.678, 593.846]}\n",
      "{'subtype': '/Widget', 'location': [241.645, 581.13, 254.361, 593.846]}\n",
      "{'subtype': '/Widget', 'location': [263.327, 581.13, 276.044, 593.846]}\n",
      "{'subtype': '/Widget', 'location': [285.01, 581.13, 297.726, 593.846]}\n",
      "{'subtype': '/Widget', 'location': [89.867, 564.885, 102.583, 577.602]}\n",
      "{'subtype': '/Widget', 'location': [111.549, 564.885, 124.265, 577.602]}\n",
      "{'subtype': '/Widget', 'location': [133.232, 564.885, 145.948, 577.602]}\n",
      "{'subtype': '/Widget', 'location': [154.914, 564.885, 167.631, 577.602]}\n",
      "{'subtype': '/Widget', 'location': [176.597, 564.885, 189.313, 577.602]}\n",
      "{'subtype': '/Widget', 'location': [198.28, 564.885, 210.996, 577.602]}\n",
      "{'subtype': '/Widget', 'location': [219.962, 564.885, 232.678, 577.602]}\n",
      "{'subtype': '/Widget', 'location': [241.645, 564.885, 254.361, 577.602]}\n",
      "{'subtype': '/Widget', 'location': [263.327, 564.885, 276.044, 577.602]}\n",
      "{'subtype': '/Widget', 'location': [285.01, 564.885, 297.726, 577.602]}\n",
      "{'subtype': '/Widget', 'location': [93.245, 498.248, 105.961, 510.965]}\n",
      "{'subtype': '/Widget', 'location': [93.245, 482.308, 105.961, 495.024]}\n",
      "{'subtype': '/Widget', 'location': [93.245, 466.368, 105.961, 479.084]}\n",
      "{'subtype': '/Widget', 'location': [93.245, 450.428, 105.961, 463.144]}\n"
     ]
    }
   ],
   "source": [
    "from PyPDF2 import PdfReader\n",
    "\n",
    "reader = PdfReader(\"../../pyexams examples/en/solution/solution_12345.pdf\")\n",
    "\n",
    "for page in reader.pages:\n",
    "    if \"/Annots\" in page:\n",
    "        for annot in page[\"/Annots\"]:\n",
    "            obj = annot.get_object()\n",
    "            annotation = {\"subtype\": obj[\"/Subtype\"], \"location\": obj[\"/Rect\"]}\n",
    "            print(annotation)"
   ]
  },
  {
   "cell_type": "code",
   "execution_count": 4,
   "metadata": {
    "collapsed": false
   },
   "outputs": [
    {
     "name": "stdout",
     "output_type": "stream",
     "text": [
      "Defaulting to user installation because normal site-packages is not writeable\n",
      "Requirement already satisfied: svgwrite in c:\\users\\andres\\appdata\\roaming\\python\\python39\\site-packages (1.4.3)\n",
      "Note: you may need to restart the kernel to use updated packages.\n"
     ]
    }
   ],
   "source": [
    "%pip install svgwrite"
   ]
  },
  {
   "cell_type": "code",
   "execution_count": 5,
   "metadata": {
    "collapsed": false
   },
   "outputs": [],
   "source": [
    "from PyPDF2 import PdfReader\n",
    "import svgwrite\n",
    "\n",
    "reader = PdfReader(\"../../pyexams examples/en/solution/solution_12345.pdf\")\n",
    "page = reader.pages[0]\n",
    "\n",
    "dwg = svgwrite.Drawing(\"pypdf2_draw.svg\", profile=\"tiny\")\n",
    "\n",
    "\n",
    "def visitor_svg_rect(op, args, cm, tm):\n",
    "    if op == b\"re\":\n",
    "        (x, y, w, h) = (args[i].as_numeric() for i in range(4))\n",
    "        dwg.add(dwg.rect((x, y), (w, h), stroke=\"red\", fill_opacity=0.05))\n",
    "\n",
    "\n",
    "def visitor_svg_text(text, cm, tm, fontDict, fontSize):\n",
    "    (x, y) = (tm[4], tm[5])\n",
    "    dwg.add(dwg.text(text, insert=(x, y), fill=\"blue\"))\n",
    "\n",
    "\n",
    "page.extract_text(\n",
    "    visitor_operand_before=visitor_svg_rect, visitor_text=visitor_svg_text\n",
    ")\n",
    "dwg.save()"
   ]
  },
  {
   "cell_type": "markdown",
   "metadata": {},
   "source": [
    "función que obtiene las casillas"
   ]
  },
  {
   "cell_type": "code",
   "execution_count": 6,
   "metadata": {
    "collapsed": false
   },
   "outputs": [],
   "source": [
    "import PyPDF2 as pypdf"
   ]
  },
  {
   "cell_type": "code",
   "execution_count": 7,
   "metadata": {},
   "outputs": [
    {
     "data": {
      "text/plain": [
       "dict_values([True, None, {(0, 96): {'/Type': '/XRef', '/Index': [0, 97], '/Size': 97, '/W': [1, 3, 1], '/Root': IndirectObject(94, 0, 1752272259920), '/Info': IndirectObject(95, 0, 1752272259920), '/ID': ['°ÊµÜ¾õŽvÃ\\x0cíÿîÄ©þ', '°ÊµÜ¾õŽvÃ\\x0cíÿîÄ©þ'], '/Filter': '/FlateDecode'}}, 0, None, {0: {2: 102826, 7: 15, 10: 269, 13: 623, 40: 979, 62: 2160, 64: 12506, 66: 19968, 68: 29087, 70: 40469, 72: 48481, 74: 66099, 76: 74059, 78: 83572, 80: 92754, 82: 94624, 83: 95445, 84: 96266, 85: 97099, 86: 97890, 87: 98666, 88: 99485, 89: 100305, 90: 101135, 91: 101887, 95: 102497, 96: 106674}}, {}, {1: (2, 0), 3: (2, 4), 4: (2, 5), 5: (2, 6), 6: (2, 7), 8: (2, 1), 9: (2, 64), 11: (2, 2), 12: (2, 61), 14: (2, 3), 15: (2, 8), 16: (2, 9), 17: (2, 10), 18: (2, 11), 19: (2, 12), 20: (2, 13), 21: (2, 14), 22: (2, 15), 23: (2, 16), 24: (2, 17), 25: (2, 18), 26: (2, 19), 27: (2, 20), 28: (2, 21), 29: (2, 22), 30: (2, 23), 31: (2, 24), 32: (2, 25), 33: (2, 26), 34: (2, 27), 35: (2, 28), 36: (2, 29), 37: (2, 30), 38: (2, 31), 39: (2, 33), 41: (2, 58), 42: (2, 32), 43: (2, 56), 44: (2, 60), 45: (2, 63), 46: (2, 62), 47: (2, 55), 48: (2, 59), 49: (2, 57), 50: (2, 65), 51: (2, 34), 52: (2, 35), 53: (2, 36), 54: (2, 37), 55: (2, 38), 56: (2, 39), 57: (2, 40), 58: (2, 41), 59: (2, 42), 60: (2, 43), 61: (2, 44), 63: (2, 45), 65: (2, 46), 67: (2, 47), 69: (2, 48), 71: (2, 49), 73: (2, 50), 75: (2, 51), 77: (2, 52), 79: (2, 53), 81: (2, 54), 92: (2, 66), 93: (2, 67), 94: (2, 68)}, {'/Root': IndirectObject(94, 0, 1752272259920), '/Info': IndirectObject(95, 0, 1752272259920), '/ID': ['°ÊµÜ¾õŽvÃ\\x0cíÿîÄ©þ', '°ÊµÜ¾õŽvÃ\\x0cíÿîÄ©þ']}, <_io.BufferedReader name='../../pyexams examples/en/solution/solution_12345.pdf'>, False, None])"
      ]
     },
     "execution_count": 7,
     "metadata": {},
     "output_type": "execute_result"
    }
   ],
   "source": [
    "pdfobject=open('../../pyexams examples/en/solution/solution_12345.pdf','rb')\n",
    "pdf = pypdf.PdfFileReader(pdfobject).__dict__\n",
    "pdf.values()"
   ]
  },
  {
   "cell_type": "code",
   "execution_count": 8,
   "metadata": {},
   "outputs": [
    {
     "name": "stdout",
     "output_type": "stream",
     "text": [
      "{'1:case:basic-adittion:1,1': {'/T': '1:case:basic-adittion:1,1', '/FT': '/Btn', '/V': '/Off'}, '1:case:basic-adittion:1,2': {'/T': '1:case:basic-adittion:1,2', '/FT': '/Btn', '/V': '/Yes'}, '1:case:basic-adittion:1,3': {'/T': '1:case:basic-adittion:1,3', '/FT': '/Btn', '/V': '/Off'}, '1:case:basic-adittion:1,4': {'/T': '1:case:basic-adittion:1,4', '/FT': '/Btn', '/V': '/Off'}, '1:case:basic-adittion:1,5': {'/T': '1:case:basic-adittion:1,5', '/FT': '/Btn', '/V': '/Off'}, '1:case:basic-adittion:1,6': {'/T': '1:case:basic-adittion:1,6', '/FT': '/Btn', '/V': '/Off'}, '1:case:basic-adittion:1,7': {'/T': '1:case:basic-adittion:1,7', '/FT': '/Btn', '/V': '/Off'}, '1:case:basic-adittion:1,8': {'/T': '1:case:basic-adittion:1,8', '/FT': '/Btn', '/V': '/Off'}, '1:case:basic-adittion:1,9': {'/T': '1:case:basic-adittion:1,9', '/FT': '/Btn', '/V': '/Off'}, '1:case:basic-adittion:1,10': {'/T': '1:case:basic-adittion:1,10', '/FT': '/Btn', '/V': '/Off'}, '1:case:basic-adittion:1,11': {'/T': '1:case:basic-adittion:1,11', '/FT': '/Btn', '/V': '/Yes'}, '1:case:basic-adittion:1,12': {'/T': '1:case:basic-adittion:1,12', '/FT': '/Btn', '/V': '/Off'}, '1:case:basic-adittion:1,13': {'/T': '1:case:basic-adittion:1,13', '/FT': '/Btn', '/V': '/Off'}, '1:case:basic-adittion:1,14': {'/T': '1:case:basic-adittion:1,14', '/FT': '/Btn', '/V': '/Off'}, '1:case:basic-adittion:1,15': {'/T': '1:case:basic-adittion:1,15', '/FT': '/Btn', '/V': '/Off'}, '1:case:basic-adittion:1,16': {'/T': '1:case:basic-adittion:1,16', '/FT': '/Btn', '/V': '/Off'}, '1:case:basic-adittion:1,17': {'/T': '1:case:basic-adittion:1,17', '/FT': '/Btn', '/V': '/Off'}, '1:case:basic-adittion:1,18': {'/T': '1:case:basic-adittion:1,18', '/FT': '/Btn', '/V': '/Off'}, '1:case:basic-adittion:1,19': {'/T': '1:case:basic-adittion:1,19', '/FT': '/Btn', '/V': '/Off'}, '1:case:basic-adittion:1,20': {'/T': '1:case:basic-adittion:1,20', '/FT': '/Btn', '/V': '/Off'}, '1:case:derivativesin:2,4': {'/T': '1:case:derivativesin:2,4', '/FT': '/Btn', '/V': '/Off'}, '1:case:derivativesin:2,2': {'/T': '1:case:derivativesin:2,2', '/FT': '/Btn', '/V': '/Off'}, '1:case:derivativesin:2,3': {'/T': '1:case:derivativesin:2,3', '/FT': '/Btn', '/V': '/Off'}, '1:case:derivativesin:2,1': {'/T': '1:case:derivativesin:2,1', '/FT': '/Btn', '/V': '/Yes'}}\n"
     ]
    }
   ],
   "source": [
    "pdfobject=open('../../pyexams examples/en/solution/solution_12345.pdf','rb')\n",
    "pdf = pypdf.PdfFileReader(pdfobject)\n",
    "var = pdf.getFields()\n",
    "print(var)"
   ]
  },
  {
   "cell_type": "markdown",
   "metadata": {},
   "source": [
    "pero no obtiene las coordenadas,\n",
    "explorando con debugger (pip install pudb) pang encuentra un atributo /Rect con las coordenadas, y crea un parche para sacarlas"
   ]
  },
  {
   "cell_type": "markdown",
   "metadata": {},
   "source": [
    "## Versión modificada de pyPDF2\n",
    "\n",
    "\n",
    "Buscar la dirección de instalación de pyPDF2:"
   ]
  },
  {
   "cell_type": "code",
   "execution_count": 9,
   "metadata": {},
   "outputs": [
    {
     "name": "stdout",
     "output_type": "stream",
     "text": [
      "Name: PyPDF2\n",
      "Version: 2.11.2\n",
      "Summary: A pure-python PDF library capable of splitting, merging, cropping, and transforming PDF files\n",
      "Home-page: \n",
      "Author: \n",
      "Author-email: Mathieu Fenniak <biziqe@mathieu.fenniak.net>\n",
      "License: \n",
      "Location: c:\\users\\andres\\appdata\\roaming\\python\\python39\\site-packages\n",
      "Requires: typing_extensions\n",
      "Required-by: \n",
      "Note: you may need to restart the kernel to use updated packages.\n"
     ]
    }
   ],
   "source": [
    "%pip show pypdf2"
   ]
  },
  {
   "cell_type": "markdown",
   "metadata": {},
   "source": [
    "aplico los cambios a mano, cambiando a otra carpeta con nombre PyPDF2patched"
   ]
  },
  {
   "cell_type": "code",
   "execution_count": 10,
   "metadata": {
    "collapsed": false
   },
   "outputs": [],
   "source": [
    "import PyPDF2patched as pypdf_patched"
   ]
  },
  {
   "cell_type": "code",
   "execution_count": 11,
   "metadata": {},
   "outputs": [
    {
     "name": "stdout",
     "output_type": "stream",
     "text": [
      "{'1:case:basic-adittion:1,1': {'/T': '1:case:basic-adittion:1,1', '/FT': '/Btn', '/V': '/Off', '/Rect': [89.867, 581.13, 102.583, 593.846]}, '1:case:basic-adittion:1,2': {'/T': '1:case:basic-adittion:1,2', '/FT': '/Btn', '/V': '/Yes', '/Rect': [111.549, 581.13, 124.265, 593.846]}, '1:case:basic-adittion:1,3': {'/T': '1:case:basic-adittion:1,3', '/FT': '/Btn', '/V': '/Off', '/Rect': [133.232, 581.13, 145.948, 593.846]}, '1:case:basic-adittion:1,4': {'/T': '1:case:basic-adittion:1,4', '/FT': '/Btn', '/V': '/Off', '/Rect': [154.914, 581.13, 167.631, 593.846]}, '1:case:basic-adittion:1,5': {'/T': '1:case:basic-adittion:1,5', '/FT': '/Btn', '/V': '/Off', '/Rect': [176.597, 581.13, 189.313, 593.846]}, '1:case:basic-adittion:1,6': {'/T': '1:case:basic-adittion:1,6', '/FT': '/Btn', '/V': '/Off', '/Rect': [198.28, 581.13, 210.996, 593.846]}, '1:case:basic-adittion:1,7': {'/T': '1:case:basic-adittion:1,7', '/FT': '/Btn', '/V': '/Off', '/Rect': [219.962, 581.13, 232.678, 593.846]}, '1:case:basic-adittion:1,8': {'/T': '1:case:basic-adittion:1,8', '/FT': '/Btn', '/V': '/Off', '/Rect': [241.645, 581.13, 254.361, 593.846]}, '1:case:basic-adittion:1,9': {'/T': '1:case:basic-adittion:1,9', '/FT': '/Btn', '/V': '/Off', '/Rect': [263.327, 581.13, 276.044, 593.846]}, '1:case:basic-adittion:1,10': {'/T': '1:case:basic-adittion:1,10', '/FT': '/Btn', '/V': '/Off', '/Rect': [285.01, 581.13, 297.726, 593.846]}, '1:case:basic-adittion:1,11': {'/T': '1:case:basic-adittion:1,11', '/FT': '/Btn', '/V': '/Yes', '/Rect': [89.867, 564.885, 102.583, 577.602]}, '1:case:basic-adittion:1,12': {'/T': '1:case:basic-adittion:1,12', '/FT': '/Btn', '/V': '/Off', '/Rect': [111.549, 564.885, 124.265, 577.602]}, '1:case:basic-adittion:1,13': {'/T': '1:case:basic-adittion:1,13', '/FT': '/Btn', '/V': '/Off', '/Rect': [133.232, 564.885, 145.948, 577.602]}, '1:case:basic-adittion:1,14': {'/T': '1:case:basic-adittion:1,14', '/FT': '/Btn', '/V': '/Off', '/Rect': [154.914, 564.885, 167.631, 577.602]}, '1:case:basic-adittion:1,15': {'/T': '1:case:basic-adittion:1,15', '/FT': '/Btn', '/V': '/Off', '/Rect': [176.597, 564.885, 189.313, 577.602]}, '1:case:basic-adittion:1,16': {'/T': '1:case:basic-adittion:1,16', '/FT': '/Btn', '/V': '/Off', '/Rect': [198.28, 564.885, 210.996, 577.602]}, '1:case:basic-adittion:1,17': {'/T': '1:case:basic-adittion:1,17', '/FT': '/Btn', '/V': '/Off', '/Rect': [219.962, 564.885, 232.678, 577.602]}, '1:case:basic-adittion:1,18': {'/T': '1:case:basic-adittion:1,18', '/FT': '/Btn', '/V': '/Off', '/Rect': [241.645, 564.885, 254.361, 577.602]}, '1:case:basic-adittion:1,19': {'/T': '1:case:basic-adittion:1,19', '/FT': '/Btn', '/V': '/Off', '/Rect': [263.327, 564.885, 276.044, 577.602]}, '1:case:basic-adittion:1,20': {'/T': '1:case:basic-adittion:1,20', '/FT': '/Btn', '/V': '/Off', '/Rect': [285.01, 564.885, 297.726, 577.602]}, '1:case:derivativesin:2,4': {'/T': '1:case:derivativesin:2,4', '/FT': '/Btn', '/V': '/Off', '/Rect': [93.245, 498.248, 105.961, 510.965]}, '1:case:derivativesin:2,2': {'/T': '1:case:derivativesin:2,2', '/FT': '/Btn', '/V': '/Off', '/Rect': [93.245, 482.308, 105.961, 495.024]}, '1:case:derivativesin:2,3': {'/T': '1:case:derivativesin:2,3', '/FT': '/Btn', '/V': '/Off', '/Rect': [93.245, 466.368, 105.961, 479.084]}, '1:case:derivativesin:2,1': {'/T': '1:case:derivativesin:2,1', '/FT': '/Btn', '/V': '/Yes', '/Rect': [93.245, 450.428, 105.961, 463.144]}}\n"
     ]
    }
   ],
   "source": [
    "pdfobject=open('../../pyexams examples/en/solution/solution_12345.pdf','rb')\n",
    "pdf = pypdf_patched.PdfFileReader(pdfobject)\n",
    "var = pdf.getFields()\n",
    "print(var)"
   ]
  },
  {
   "cell_type": "code",
   "execution_count": 12,
   "metadata": {},
   "outputs": [],
   "source": [
    "import numpy as np"
   ]
  },
  {
   "cell_type": "code",
   "execution_count": 13,
   "metadata": {
    "collapsed": false
   },
   "outputs": [
    {
     "data": {
      "text/plain": [
       "[{'/T': '1:case:basic-adittion:1,1',\n",
       "  '/FT': '/Btn',\n",
       "  '/V': '/Off',\n",
       "  '/Rect': [89.867, 581.13, 102.583, 593.846]},\n",
       " {'/T': '1:case:basic-adittion:1,2',\n",
       "  '/FT': '/Btn',\n",
       "  '/V': '/Yes',\n",
       "  '/Rect': [111.549, 581.13, 124.265, 593.846]},\n",
       " {'/T': '1:case:basic-adittion:1,3',\n",
       "  '/FT': '/Btn',\n",
       "  '/V': '/Off',\n",
       "  '/Rect': [133.232, 581.13, 145.948, 593.846]},\n",
       " {'/T': '1:case:basic-adittion:1,4',\n",
       "  '/FT': '/Btn',\n",
       "  '/V': '/Off',\n",
       "  '/Rect': [154.914, 581.13, 167.631, 593.846]},\n",
       " {'/T': '1:case:basic-adittion:1,5',\n",
       "  '/FT': '/Btn',\n",
       "  '/V': '/Off',\n",
       "  '/Rect': [176.597, 581.13, 189.313, 593.846]},\n",
       " {'/T': '1:case:basic-adittion:1,6',\n",
       "  '/FT': '/Btn',\n",
       "  '/V': '/Off',\n",
       "  '/Rect': [198.28, 581.13, 210.996, 593.846]},\n",
       " {'/T': '1:case:basic-adittion:1,7',\n",
       "  '/FT': '/Btn',\n",
       "  '/V': '/Off',\n",
       "  '/Rect': [219.962, 581.13, 232.678, 593.846]},\n",
       " {'/T': '1:case:basic-adittion:1,8',\n",
       "  '/FT': '/Btn',\n",
       "  '/V': '/Off',\n",
       "  '/Rect': [241.645, 581.13, 254.361, 593.846]},\n",
       " {'/T': '1:case:basic-adittion:1,9',\n",
       "  '/FT': '/Btn',\n",
       "  '/V': '/Off',\n",
       "  '/Rect': [263.327, 581.13, 276.044, 593.846]},\n",
       " {'/T': '1:case:basic-adittion:1,10',\n",
       "  '/FT': '/Btn',\n",
       "  '/V': '/Off',\n",
       "  '/Rect': [285.01, 581.13, 297.726, 593.846]},\n",
       " {'/T': '1:case:basic-adittion:1,11',\n",
       "  '/FT': '/Btn',\n",
       "  '/V': '/Yes',\n",
       "  '/Rect': [89.867, 564.885, 102.583, 577.602]},\n",
       " {'/T': '1:case:basic-adittion:1,12',\n",
       "  '/FT': '/Btn',\n",
       "  '/V': '/Off',\n",
       "  '/Rect': [111.549, 564.885, 124.265, 577.602]},\n",
       " {'/T': '1:case:basic-adittion:1,13',\n",
       "  '/FT': '/Btn',\n",
       "  '/V': '/Off',\n",
       "  '/Rect': [133.232, 564.885, 145.948, 577.602]},\n",
       " {'/T': '1:case:basic-adittion:1,14',\n",
       "  '/FT': '/Btn',\n",
       "  '/V': '/Off',\n",
       "  '/Rect': [154.914, 564.885, 167.631, 577.602]},\n",
       " {'/T': '1:case:basic-adittion:1,15',\n",
       "  '/FT': '/Btn',\n",
       "  '/V': '/Off',\n",
       "  '/Rect': [176.597, 564.885, 189.313, 577.602]},\n",
       " {'/T': '1:case:basic-adittion:1,16',\n",
       "  '/FT': '/Btn',\n",
       "  '/V': '/Off',\n",
       "  '/Rect': [198.28, 564.885, 210.996, 577.602]},\n",
       " {'/T': '1:case:basic-adittion:1,17',\n",
       "  '/FT': '/Btn',\n",
       "  '/V': '/Off',\n",
       "  '/Rect': [219.962, 564.885, 232.678, 577.602]},\n",
       " {'/T': '1:case:basic-adittion:1,18',\n",
       "  '/FT': '/Btn',\n",
       "  '/V': '/Off',\n",
       "  '/Rect': [241.645, 564.885, 254.361, 577.602]},\n",
       " {'/T': '1:case:basic-adittion:1,19',\n",
       "  '/FT': '/Btn',\n",
       "  '/V': '/Off',\n",
       "  '/Rect': [263.327, 564.885, 276.044, 577.602]},\n",
       " {'/T': '1:case:basic-adittion:1,20',\n",
       "  '/FT': '/Btn',\n",
       "  '/V': '/Off',\n",
       "  '/Rect': [285.01, 564.885, 297.726, 577.602]},\n",
       " {'/T': '1:case:derivativesin:2,4',\n",
       "  '/FT': '/Btn',\n",
       "  '/V': '/Off',\n",
       "  '/Rect': [93.245, 498.248, 105.961, 510.965]},\n",
       " {'/T': '1:case:derivativesin:2,2',\n",
       "  '/FT': '/Btn',\n",
       "  '/V': '/Off',\n",
       "  '/Rect': [93.245, 482.308, 105.961, 495.024]},\n",
       " {'/T': '1:case:derivativesin:2,3',\n",
       "  '/FT': '/Btn',\n",
       "  '/V': '/Off',\n",
       "  '/Rect': [93.245, 466.368, 105.961, 479.084]},\n",
       " {'/T': '1:case:derivativesin:2,1',\n",
       "  '/FT': '/Btn',\n",
       "  '/V': '/Yes',\n",
       "  '/Rect': [93.245, 450.428, 105.961, 463.144]}]"
      ]
     },
     "execution_count": 13,
     "metadata": {},
     "output_type": "execute_result"
    }
   ],
   "source": [
    "boxes = []\n",
    "for key, value in var.items():\n",
    "    for i in range(value['/Rect'].__len__()):\n",
    "        value['/Rect'][i] = np.float64(value['/Rect'][i])\n",
    "    boxes.append(value)\n",
    "boxes"
   ]
  },
  {
   "cell_type": "code",
   "execution_count": 14,
   "metadata": {},
   "outputs": [],
   "source": [
    "import json\n",
    "with open('pyPDF2_coords.json', 'w') as fp:\n",
    "    json.dump(boxes, fp)"
   ]
  },
  {
   "cell_type": "code",
   "execution_count": null,
   "metadata": {},
   "outputs": [],
   "source": []
  }
 ],
 "metadata": {
  "kernelspec": {
   "display_name": "Python 3",
   "language": "python",
   "name": "python3"
  },
  "language_info": {
   "codemirror_mode": {
    "name": "ipython",
    "version": 3
   },
   "file_extension": ".py",
   "mimetype": "text/x-python",
   "name": "python",
   "nbconvert_exporter": "python",
   "pygments_lexer": "ipython3",
   "version": "3.9.13"
  }
 },
 "nbformat": 4,
 "nbformat_minor": 0
}
