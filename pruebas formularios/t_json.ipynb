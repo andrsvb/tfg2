{
 "cells": [
  {
   "cell_type": "code",
   "execution_count": 13,
   "outputs": [],
   "source": [
    "import json"
   ],
   "metadata": {
    "collapsed": false
   }
  },
  {
   "cell_type": "markdown",
   "source": [
    "# Formato JSON\n",
    "\n",
    "Ya que los datos obtenidos de PyPDF2 getFields() son:\n",
    "\n",
    "\"1:case:basic-adittion:1,1\",/Btn,/Off,\"[89.867, 581.13, 102.583, 593.846]\"\n",
    "\"1:case:basic-adittion:1,2\",/Btn,/Yes,\"[111.549, 581.13, 124.265, 593.846]\"\n",
    "\"1:case:basic-adittion:1,3\",/Btn,/Off,\"[133.232, 581.13, 145.948, 593.846]\"\n",
    "...\n",
    "\n",
    "se podria guardar con el formato:\n",
    "\n",
    "data1 = { \"checkboxes\" : [\n",
    "    { \"exercise\" :  \"basic-adittion\",\n",
    "      \"state\" : \"Off\",\n",
    "      \"coords\" : [89.867, 581.13] },\n",
    "    { \"exercise\" :  \"basic-adittion\",\n",
    "      \"state\" : \"Yes\",\n",
    "      \"coords\" : [111.549, 581.13] },\n",
    "    ...\n",
    "] }\n",
    "\n",
    "o de la forma:\n",
    "\n",
    "data2 = { \"exam\" : [\n",
    "    { \"exercise\" :  \"basic-adittion\",\n",
    "      \"checkboxes\" : [\n",
    "          { \"coords\" : [89.867, 581.13] ,\n",
    "            \"state\" : \"Off\" },\n",
    "          { \"coords\" : [111.549, 581.13] ,\n",
    "            \"state\" : \"Yes\" },\n",
    "          ...\n",
    "      ] }\n",
    "] }\n",
    "\n",
    "La primera forma es mas facil de iterar, mientras q la segunda es mas compacta\n",
    "\n",
    "Cuidado al usar diccionarios, en versiones de python anteriores a 3.6 no son ordenados, es decir, no mantienen el orden en el que son introducidos\n",
    "(https://realpython.com/iterate-through-dictionary-python/)\n",
    "\n",
    "enlaces utiles:\n",
    "(1): (el de arriba tambien)\n",
    "(2): https://www.guru99.com/python-dictionary-append.html\n",
    "(3): https://stackabuse.com/reading-and-writing-json-to-a-file-in-python/\n",
    "\n"
   ],
   "metadata": {
    "collapsed": false
   }
  },
  {
   "cell_type": "code",
   "execution_count": 28,
   "metadata": {
    "collapsed": true
   },
   "outputs": [
    {
     "data": {
      "text/plain": "{'checkboxes': [{'exercise': 'basic-adittion',\n   'state': 'Off',\n   'coords': [89.867, 581.13]},\n  {'exercise': 'basic-adittion', 'state': 'Yes', 'coords': [111.549, 581.13]}]}"
     },
     "execution_count": 28,
     "metadata": {},
     "output_type": "execute_result"
    }
   ],
   "source": [
    "data1 = { \"checkboxes\" : [\n",
    "    { \"exercise\" :  \"basic-adittion\",\n",
    "      \"state\" : \"Off\",\n",
    "      \"coords\" : [89.867, 581.13] },\n",
    "    { \"exercise\" :  \"basic-adittion\",\n",
    "      \"state\" : \"Yes\",\n",
    "      \"coords\" : [111.549, 581.13] }\n",
    "] }\n",
    "data1"
   ]
  },
  {
   "cell_type": "code",
   "execution_count": 29,
   "outputs": [
    {
     "data": {
      "text/plain": "{'exam': [{'exercise': 'basic-adittion',\n   'checkboxes': [{'coords': [89.867, 581.13], 'state': 'Off'},\n    {'coords': [111.549, 581.13], 'state': 'Yes'}]}]}"
     },
     "execution_count": 29,
     "metadata": {},
     "output_type": "execute_result"
    }
   ],
   "source": [
    "data2 = { \"exam\" : [\n",
    "    { \"exercise\" :  \"basic-adittion\",\n",
    "      \"checkboxes\" : [\n",
    "          { \"coords\" : [89.867, 581.13] ,\n",
    "            \"state\" : \"Off\" },\n",
    "          { \"coords\" : [111.549, 581.13] ,\n",
    "            \"state\" : \"Yes\" }\n",
    "      ] }\n",
    "] }\n",
    "data2"
   ],
   "metadata": {
    "collapsed": false
   }
  },
  {
   "cell_type": "code",
   "execution_count": 30,
   "outputs": [
    {
     "name": "stdout",
     "output_type": "stream",
     "text": [
      "{\n",
      "    \"checkboxes\": [\n",
      "        {\n",
      "            \"exercise\": \"basic-adittion\",\n",
      "            \"state\": \"Off\",\n",
      "            \"coords\": [\n",
      "                89.867,\n",
      "                581.13\n",
      "            ]\n",
      "        },\n",
      "        {\n",
      "            \"exercise\": \"basic-adittion\",\n",
      "            \"state\": \"Yes\",\n",
      "            \"coords\": [\n",
      "                111.549,\n",
      "                581.13\n",
      "            ]\n",
      "        }\n",
      "    ]\n",
      "}\n",
      "{\n",
      "    \"exam\": [\n",
      "        {\n",
      "            \"exercise\": \"basic-adittion\",\n",
      "            \"checkboxes\": [\n",
      "                {\n",
      "                    \"coords\": [\n",
      "                        89.867,\n",
      "                        581.13\n",
      "                    ],\n",
      "                    \"state\": \"Off\"\n",
      "                },\n",
      "                {\n",
      "                    \"coords\": [\n",
      "                        111.549,\n",
      "                        581.13\n",
      "                    ],\n",
      "                    \"state\": \"Yes\"\n",
      "                }\n",
      "            ]\n",
      "        }\n",
      "    ]\n",
      "}\n"
     ]
    }
   ],
   "source": [
    "data_string1 = json.dumps(data1, indent=4)\n",
    "data_string2 = json.dumps(data2, indent=4)\n",
    "print(data_string1)\n",
    "print(data_string2)"
   ],
   "metadata": {
    "collapsed": false
   }
  },
  {
   "cell_type": "markdown",
   "source": [
    "Forma de iterar el diccionario 1"
   ],
   "metadata": {
    "collapsed": false
   }
  },
  {
   "cell_type": "code",
   "execution_count": 31,
   "outputs": [
    {
     "name": "stdout",
     "output_type": "stream",
     "text": [
      "0 {'exercise': 'basic-adittion', 'state': 'Off', 'coords': [89.867, 581.13]}\n",
      "1 {'exercise': 'basic-adittion', 'state': 'Yes', 'coords': [111.549, 581.13]}\n"
     ]
    }
   ],
   "source": [
    "for i, data in enumerate(data1[\"checkboxes\"]):\n",
    "    print(i,data)"
   ],
   "metadata": {
    "collapsed": false
   }
  },
  {
   "cell_type": "markdown",
   "source": [
    "Forma de añadir datos al diccionario 1"
   ],
   "metadata": {
    "collapsed": false
   }
  },
  {
   "cell_type": "code",
   "execution_count": 32,
   "outputs": [
    {
     "data": {
      "text/plain": "{'checkboxes': [{'exercise': 'basic-adittion',\n   'state': 'Off',\n   'coords': [89.867, 581.13]},\n  {'exercise': 'basic-adittion', 'state': 'Yes', 'coords': [111.549, 581.13]},\n  {'exercise': 'basic-adittion', 'state': 'Off', 'coords': [133.232, 581.13]}]}"
     },
     "execution_count": 32,
     "metadata": {},
     "output_type": "execute_result"
    }
   ],
   "source": [
    "data1[\"checkboxes\"].append({ \"exercise\" :  \"basic-adittion\",\n",
    "                             \"state\" : \"Off\",\n",
    "                             \"coords\" : [133.232, 581.13] })\n",
    "data1"
   ],
   "metadata": {
    "collapsed": false
   }
  },
  {
   "cell_type": "markdown",
   "source": [
    "Escribir el diccionario en un fichero (3)"
   ],
   "metadata": {
    "collapsed": false
   }
  },
  {
   "cell_type": "code",
   "execution_count": 33,
   "outputs": [],
   "source": [
    "# Using a JSON string\n",
    "with open('json_data1.json', 'w') as outfile:\n",
    "    outfile.write(data_string1)\n",
    "\n",
    "# Directly from dictionary\n",
    "with open('json_data2.json', 'w') as outfile:\n",
    "    json.dump(data1, outfile, indent=4)"
   ],
   "metadata": {
    "collapsed": false
   }
  },
  {
   "cell_type": "markdown",
   "source": [
    "Leer del fichero JSON"
   ],
   "metadata": {
    "collapsed": false
   }
  },
  {
   "cell_type": "code",
   "execution_count": 14,
   "outputs": [
    {
     "data": {
      "text/plain": "{'checkboxes': [{'checkbox': 'basic-adittion 1,1',\n   'state': '/Off',\n   'cords': [89.867, 581.13]},\n  {'checkbox': 'basic-adittion 1,2',\n   'state': '/Yes',\n   'cords': [111.549, 581.13]},\n  {'checkbox': 'basic-adittion 1,3',\n   'state': '/Off',\n   'cords': [133.232, 581.13]},\n  {'checkbox': 'basic-adittion 1,4',\n   'state': '/Off',\n   'cords': [154.914, 581.13]},\n  {'checkbox': 'basic-adittion 1,5',\n   'state': '/Off',\n   'cords': [176.597, 581.13]},\n  {'checkbox': 'basic-adittion 1,6',\n   'state': '/Off',\n   'cords': [198.28, 581.13]},\n  {'checkbox': 'basic-adittion 1,7',\n   'state': '/Off',\n   'cords': [219.962, 581.13]},\n  {'checkbox': 'basic-adittion 1,8',\n   'state': '/Off',\n   'cords': [241.645, 581.13]},\n  {'checkbox': 'basic-adittion 1,9',\n   'state': '/Off',\n   'cords': [263.327, 581.13]},\n  {'checkbox': 'basic-adittion 1,10',\n   'state': '/Off',\n   'cords': [285.01, 581.13]},\n  {'checkbox': 'basic-adittion 1,11',\n   'state': '/Off',\n   'cords': [89.867, 564.885]},\n  {'checkbox': 'basic-adittion 1,12',\n   'state': '/Off',\n   'cords': [111.549, 564.885]},\n  {'checkbox': 'basic-adittion 1,13',\n   'state': '/Off',\n   'cords': [133.232, 564.885]},\n  {'checkbox': 'basic-adittion 1,14',\n   'state': '/Yes',\n   'cords': [154.914, 564.885]},\n  {'checkbox': 'basic-adittion 1,15',\n   'state': '/Off',\n   'cords': [176.597, 564.885]},\n  {'checkbox': 'basic-adittion 1,16',\n   'state': '/Off',\n   'cords': [198.28, 564.885]},\n  {'checkbox': 'basic-adittion 1,17',\n   'state': '/Off',\n   'cords': [219.962, 564.885]},\n  {'checkbox': 'basic-adittion 1,18',\n   'state': '/Off',\n   'cords': [241.645, 564.885]},\n  {'checkbox': 'basic-adittion 1,19',\n   'state': '/Off',\n   'cords': [263.327, 564.885]},\n  {'checkbox': 'basic-adittion 1,20',\n   'state': '/Off',\n   'cords': [285.01, 564.885]},\n  {'checkbox': 'derivativesin 2,4',\n   'state': '/Off',\n   'cords': [93.245, 498.248]},\n  {'checkbox': 'derivativesin 2,2',\n   'state': '/Off',\n   'cords': [93.245, 482.308]},\n  {'checkbox': 'derivativesin 2,3',\n   'state': '/Off',\n   'cords': [93.245, 466.368]},\n  {'checkbox': 'derivativesin 2,1',\n   'state': '/Yes',\n   'cords': [93.245, 450.428]}]}"
     },
     "execution_count": 14,
     "metadata": {},
     "output_type": "execute_result"
    }
   ],
   "source": [
    "with open('json/sol_11111.json') as json_file:\n",
    "    data = json.load(json_file)\n",
    "data"
   ],
   "metadata": {
    "collapsed": false
   }
  },
  {
   "cell_type": "code",
   "execution_count": 15,
   "outputs": [
    {
     "data": {
      "text/plain": "{'checkboxes': [{'x': 320,\n   'y': 920,\n   'w': 36,\n   'h': 36,\n   'a': 1296,\n   'is_checked': 'False'},\n  {'x': 395, 'y': 921, 'w': 37, 'h': 36, 'a': 658, 'is_checked': 'True'},\n  {'x': 470, 'y': 921, 'w': 37, 'h': 37, 'a': 1318, 'is_checked': 'False'},\n  {'x': 545, 'y': 922, 'w': 37, 'h': 36, 'a': 1284, 'is_checked': 'False'},\n  {'x': 621, 'y': 923, 'w': 36, 'h': 36, 'a': 1296, 'is_checked': 'False'},\n  {'x': 696, 'y': 923, 'w': 36, 'h': 36, 'a': 1296, 'is_checked': 'False'},\n  {'x': 771, 'y': 924, 'w': 37, 'h': 37, 'a': 1322, 'is_checked': 'False'},\n  {'x': 846, 'y': 924, 'w': 37, 'h': 37, 'a': 1349, 'is_checked': 'False'},\n  {'x': 922, 'y': 925, 'w': 36, 'h': 37, 'a': 1304, 'is_checked': 'False'},\n  {'x': 997, 'y': 926, 'w': 36, 'h': 36, 'a': 1296, 'is_checked': 'False'},\n  {'x': 319, 'y': 976, 'w': 37, 'h': 37, 'a': 1336, 'is_checked': 'False'},\n  {'x': 394, 'y': 977, 'w': 37, 'h': 36, 'a': 714, 'is_checked': 'True'},\n  {'x': 470, 'y': 978, 'w': 36, 'h': 36, 'a': 1296, 'is_checked': 'False'},\n  {'x': 545, 'y': 978, 'w': 36, 'h': 37, 'a': 1306, 'is_checked': 'False'},\n  {'x': 620, 'y': 979, 'w': 37, 'h': 36, 'a': 1302, 'is_checked': 'False'},\n  {'x': 695, 'y': 979, 'w': 37, 'h': 37, 'a': 1319, 'is_checked': 'False'},\n  {'x': 770, 'y': 980, 'w': 37, 'h': 37, 'a': 1348, 'is_checked': 'False'},\n  {'x': 846, 'y': 981, 'w': 36, 'h': 36, 'a': 1296, 'is_checked': 'False'},\n  {'x': 921, 'y': 981, 'w': 36, 'h': 37, 'a': 1305, 'is_checked': 'False'},\n  {'x': 996, 'y': 982, 'w': 36, 'h': 37, 'a': 1311, 'is_checked': 'False'},\n  {'x': 329, 'y': 1208, 'w': 36, 'h': 36, 'a': 687, 'is_checked': 'True'},\n  {'x': 328, 'y': 1263, 'w': 37, 'h': 36, 'a': 692, 'is_checked': 'True'},\n  {'x': 328, 'y': 1318, 'w': 37, 'h': 37, 'a': 1315, 'is_checked': 'False'},\n  {'x': 327, 'y': 1373, 'w': 37, 'h': 37, 'a': 1316, 'is_checked': 'False'}]}"
     },
     "execution_count": 15,
     "metadata": {},
     "output_type": "execute_result"
    }
   ],
   "source": [
    "with open('json/scan_11111.json') as json_file:\n",
    "    data = json.load(json_file)\n",
    "data"
   ],
   "metadata": {
    "collapsed": false
   }
  },
  {
   "cell_type": "markdown",
   "source": [
    "mini ejemplo de match con 2 ejercicios de 2 casillas"
   ],
   "metadata": {
    "collapsed": false
   }
  },
  {
   "cell_type": "code",
   "execution_count": 8,
   "outputs": [],
   "source": [
    "data_sol = {'checkboxes' : [\n",
    "    {\n",
    "        \"checkbox\": \"basic-adittion 1,1\",\n",
    "        \"state\": \"/Off\",\n",
    "        \"cords\": [\n",
    "            89.867,\n",
    "            581.13\n",
    "        ]\n",
    "    },\n",
    "    {\n",
    "        \"checkbox\": \"basic-adittion 1,2\",\n",
    "        \"state\": \"/Yes\",\n",
    "        \"cords\": [\n",
    "            111.549,\n",
    "            581.13\n",
    "        ]\n",
    "    },\n",
    "    {\n",
    "        \"checkbox\": \"not-basic-adittion 1,3\",\n",
    "        \"state\": \"/Off\",\n",
    "        \"cords\": [\n",
    "            133.232,\n",
    "            581.13\n",
    "        ]\n",
    "    },\n",
    "    {\n",
    "        \"checkbox\": \"not-basic-adittion 1,4\",\n",
    "        \"state\": \"/Yes\",\n",
    "        \"cords\": [\n",
    "            154.914,\n",
    "            581.13\n",
    "        ]\n",
    "    }\n",
    "]}\n",
    "\n",
    "data_scan = {'checkboxes' : [\n",
    "    {\n",
    "        \"x\": 320,\n",
    "        \"y\": 920,\n",
    "        \"w\": 36,\n",
    "        \"h\": 36,\n",
    "        \"a\": 1296,\n",
    "        \"is_checked\": \"False\"\n",
    "    },\n",
    "    {\n",
    "        \"x\": 395,\n",
    "        \"y\": 921,\n",
    "        \"w\": 37,\n",
    "        \"h\": 36,\n",
    "        \"a\": 658,\n",
    "        \"is_checked\": \"True\"\n",
    "    },\n",
    "    {\n",
    "        \"x\": 470,\n",
    "        \"y\": 921,\n",
    "        \"w\": 37,\n",
    "        \"h\": 37,\n",
    "        \"a\": 1318,\n",
    "        \"is_checked\": \"True\"\n",
    "    },\n",
    "    {\n",
    "        \"x\": 545,\n",
    "        \"y\": 922,\n",
    "        \"w\": 37,\n",
    "        \"h\": 36,\n",
    "        \"a\": 1284,\n",
    "        \"is_checked\": \"False\"\n",
    "    }\n",
    "]}"
   ],
   "metadata": {
    "collapsed": false
   }
  },
  {
   "cell_type": "code",
   "execution_count": 11,
   "outputs": [
    {
     "name": "stdout",
     "output_type": "stream",
     "text": [
      "{'examen': [{'ejercicio': 'basic-adittion', 'num_boxes': 2, 'marked_sol': [2], 'marked_scan': [2]}, {'ejercicio': 'not-basic-adittion', 'num_boxes': 2, 'marked_sol': [2], 'marked_scan': [1]}]}\n"
     ]
    }
   ],
   "source": [
    "comparacion = {'examen': []}\n",
    "\n",
    "i = 0   #to iterate the exercises\n",
    "j = 0   #to iterate the boxes in each exercise\n",
    "#read the data from the solutions\n",
    "for box in data_sol['checkboxes']:\n",
    "\n",
    "    #if it is the first box to be read (i, j already = 0)\n",
    "    if not comparacion['examen']:\n",
    "        comparacion['examen'].append(\n",
    "            {\n",
    "                'ejercicio': box['checkbox'].split()[0],\n",
    "                'num_boxes': 0,\n",
    "                'marked_sol': [],\n",
    "                'marked_scan': []\n",
    "            }\n",
    "        )\n",
    "\n",
    "    #if it is a box that is from the same exercise as the previous box read (i =, j ++)\n",
    "    elif comparacion['examen'][i]['ejercicio'] == box['checkbox'].split()[0]:\n",
    "        j = j + 1\n",
    "\n",
    "    #if it is a box that is from a different exercise than the previous box read (i ++, j = 0)\n",
    "    else:\n",
    "        j = 0\n",
    "        i = i + 1\n",
    "        comparacion['examen'].append(\n",
    "            {\n",
    "                'ejercicio': box['checkbox'].split()[0],\n",
    "                'num_boxes': 0,\n",
    "                'marked_sol': [],\n",
    "                'marked_scan': []\n",
    "            }\n",
    "        )\n",
    "\n",
    "    #update the number of boxes in the current exercise\n",
    "    comparacion['examen'][i]['num_boxes'] = j + 1\n",
    "\n",
    "    #check if the box is marked on the solution, and append to the dict if so\n",
    "    if box['state'] == '/Yes':\n",
    "        comparacion['examen'][i]['marked_sol'].append(j+1)\n",
    "\n",
    "i = 0\n",
    "j = 0\n",
    "j_max = 0\n",
    "#read the data from the scans\n",
    "for box in data_scan['checkboxes']:\n",
    "    #if it is the first box to be read\n",
    "    if j_max == 0:\n",
    "        j_max = comparacion['examen'][i]['num_boxes']\n",
    "\n",
    "    #if all the boxes for the exercise 'i' have already been read\n",
    "    if j == j_max:\n",
    "        j = 0\n",
    "        i = i + 1\n",
    "        j_max = comparacion['examen'][i]['num_boxes']\n",
    "\n",
    "    #check if the box is marked on the scan, and append to the dict if so\n",
    "    if box['is_checked'] == 'True':\n",
    "        comparacion['examen'][i]['marked_scan'].append(j+1)\n",
    "\n",
    "    #update j to next box\n",
    "    j = j + 1\n",
    "\n",
    "print(comparacion)"
   ],
   "metadata": {
    "collapsed": false
   }
  },
  {
   "cell_type": "code",
   "execution_count": null,
   "outputs": [],
   "source": [],
   "metadata": {
    "collapsed": false
   }
  }
 ],
 "metadata": {
  "kernelspec": {
   "display_name": "Python 3",
   "language": "python",
   "name": "python3"
  },
  "language_info": {
   "codemirror_mode": {
    "name": "ipython",
    "version": 2
   },
   "file_extension": ".py",
   "mimetype": "text/x-python",
   "name": "python",
   "nbconvert_exporter": "python",
   "pygments_lexer": "ipython2",
   "version": "2.7.6"
  }
 },
 "nbformat": 4,
 "nbformat_minor": 0
}
