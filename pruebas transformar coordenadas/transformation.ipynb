{
 "cells": [
  {
   "cell_type": "markdown",
   "id": "511f8825",
   "metadata": {},
   "source": [
    "# Funciones de transformacion de coordenadas\n",
    "\n",
    "Para encontrar las transformaciones de coordenadas, diseñamos pang y luego yo funciones de transformacion"
   ]
  },
  {
   "cell_type": "code",
   "execution_count": 1,
   "id": "3e565d5f-0946-4e06-a9f0-e61457c5b0de",
   "metadata": {
    "tags": []
   },
   "outputs": [],
   "source": [
    "import numpy as np"
   ]
  },
  {
   "cell_type": "markdown",
   "id": "e36242fb",
   "metadata": {},
   "source": [
    "## Funciones de pang"
   ]
  },
  {
   "cell_type": "code",
   "execution_count": 2,
   "id": "fe97c2a0",
   "metadata": {},
   "outputs": [],
   "source": [
    "from pang_functions import rot, trans"
   ]
  },
  {
   "cell_type": "markdown",
   "id": "441de637",
   "metadata": {},
   "source": [
    "## Mis funciones"
   ]
  },
  {
   "cell_type": "code",
   "execution_count": 3,
   "id": "711585d1",
   "metadata": {},
   "outputs": [],
   "source": [
    "from my_functions import get_trans"
   ]
  },
  {
   "cell_type": "markdown",
   "id": "f303e6e0",
   "metadata": {},
   "source": [
    "## Puntos de ejemplo:\n",
    "\n",
    "* C1: puntos base\n",
    "* C2: C1 desplazado [0.5, 0.2]\n",
    "* C3: C1 rotado 90 grados"
   ]
  },
  {
   "cell_type": "code",
   "execution_count": 4,
   "id": "cfad3944-35a6-49db-be4e-5eeaa393a4f1",
   "metadata": {
    "tags": []
   },
   "outputs": [],
   "source": [
    "C1 = np.array([\n",
    "    [0,1],\n",
    "    [1,1],\n",
    "    [1,0],\n",
    "    [0,0]\n",
    "])\n",
    "C2 = np.array([\n",
    "    [0.5,1.2],\n",
    "    [1.5,1.2],\n",
    "    [1.5,0.2],\n",
    "    [0.5,0.2]\n",
    "])\n",
    "C3 = C1@rot(90)\n"
   ]
  },
  {
   "cell_type": "code",
   "execution_count": 5,
   "id": "66966468-ea0c-4af7-8fa7-4c64f056c70f",
   "metadata": {
    "tags": []
   },
   "outputs": [
    {
     "data": {
      "text/plain": [
       "array([[-1.000000e+00,  6.123234e-17],\n",
       "       [-1.000000e+00,  1.000000e+00],\n",
       "       [ 6.123234e-17,  1.000000e+00],\n",
       "       [ 0.000000e+00,  0.000000e+00]])"
      ]
     },
     "execution_count": 5,
     "metadata": {},
     "output_type": "execute_result"
    }
   ],
   "source": [
    "C3"
   ]
  },
  {
   "cell_type": "code",
   "execution_count": 6,
   "id": "c69b3905-ab41-4f26-83c7-fdb551350890",
   "metadata": {
    "tags": []
   },
   "outputs": [
    {
     "data": {
      "text/plain": [
       "array([[0.48982721, 1.19999998],\n",
       "       [1.4798272 , 1.20017277],\n",
       "       [1.47999998, 0.21017279],\n",
       "       [0.49      , 0.21      ]])"
      ]
     },
     "execution_count": 6,
     "metadata": {},
     "output_type": "execute_result"
    }
   ],
   "source": [
    "C2_2 = np.array([[0.49,0.21]]) +.99*C1@rot(0.01)\n",
    "C2_2"
   ]
  },
  {
   "cell_type": "markdown",
   "id": "86ce893c",
   "metadata": {},
   "source": [
    "### Transformaciones entre los puntos de ejemplo con las funciones de pang\n",
    "\n",
    "pruebo a calcular las transformaciones de los 4 puntos con las funciones de pang"
   ]
  },
  {
   "cell_type": "code",
   "execution_count": 7,
   "id": "bd0c16db-ec9c-4624-8fb1-3347835ed153",
   "metadata": {
    "tags": []
   },
   "outputs": [
    {
     "data": {
      "text/plain": [
       "(0.49999982689853045,\n",
       " 0.20000015661946832,\n",
       " 4.474357422748938e-06,\n",
       " 1.0000000121424764)"
      ]
     },
     "execution_count": 7,
     "metadata": {},
     "output_type": "execute_result"
    }
   ],
   "source": [
    "trans(C1, C2)"
   ]
  },
  {
   "cell_type": "code",
   "execution_count": 8,
   "id": "98bcc3e1",
   "metadata": {},
   "outputs": [
    {
     "data": {
      "text/plain": [
       "(0.48999982732506014,\n",
       " 0.2100001537130941,\n",
       " 0.010004681442302238,\n",
       " 0.9900000303760956)"
      ]
     },
     "execution_count": 8,
     "metadata": {},
     "output_type": "execute_result"
    }
   ],
   "source": [
    "trans(C1, C2_2)"
   ]
  },
  {
   "cell_type": "code",
   "execution_count": 9,
   "id": "d576fa2e",
   "metadata": {},
   "outputs": [
    {
     "data": {
      "text/plain": [
       "(-5.253071776056878e-07,\n",
       " -2.1821786672631713e-06,\n",
       " 90.0002170593302,\n",
       " 1.0000004143534542)"
      ]
     },
     "execution_count": 9,
     "metadata": {},
     "output_type": "execute_result"
    }
   ],
   "source": [
    "trans(C1, C3)"
   ]
  },
  {
   "cell_type": "code",
   "execution_count": 10,
   "id": "da872965",
   "metadata": {},
   "outputs": [
    {
     "data": {
      "text/plain": [
       "(0.19999777060220467,\n",
       " -0.49999736897434177,\n",
       " 90.00006046477937,\n",
       " 0.999999483702028)"
      ]
     },
     "execution_count": 10,
     "metadata": {},
     "output_type": "execute_result"
    }
   ],
   "source": [
    "trans(C2, C3)"
   ]
  },
  {
   "cell_type": "markdown",
   "id": "5fb98b92",
   "metadata": {},
   "source": [
    "Dan valores aceptables, pero con diferencias decimales\n",
    "\n",
    "### Transformaciones entre los puntos de ejemplo con mis funciones\n",
    "\n",
    "Ahora pruebo a hallar las transformaciones con mis funciones"
   ]
  },
  {
   "cell_type": "code",
   "execution_count": 11,
   "id": "95876442",
   "metadata": {},
   "outputs": [
    {
     "data": {
      "text/plain": [
       "(array([0.5, 0.2]), 0.0, 1.0)"
      ]
     },
     "execution_count": 11,
     "metadata": {},
     "output_type": "execute_result"
    }
   ],
   "source": [
    "get_trans(C1, C2)"
   ]
  },
  {
   "cell_type": "code",
   "execution_count": 12,
   "id": "a388ee5d",
   "metadata": {},
   "outputs": [
    {
     "data": {
      "text/plain": [
       "(array([0.49, 0.21]), 0.01000000000000394, 0.99)"
      ]
     },
     "execution_count": 12,
     "metadata": {},
     "output_type": "execute_result"
    }
   ],
   "source": [
    "get_trans(C1, C2_2)"
   ]
  },
  {
   "cell_type": "code",
   "execution_count": 13,
   "id": "53c1fd20",
   "metadata": {},
   "outputs": [
    {
     "data": {
      "text/plain": [
       "(array([0., 0.]), 90.0, 1.0)"
      ]
     },
     "execution_count": 13,
     "metadata": {},
     "output_type": "execute_result"
    }
   ],
   "source": [
    "get_trans(C1, C3)"
   ]
  },
  {
   "cell_type": "code",
   "execution_count": 14,
   "id": "478e06d8",
   "metadata": {},
   "outputs": [
    {
     "data": {
      "text/plain": [
       "(array([ 0.2, -0.5]), 90.0, 1.0)"
      ]
     },
     "execution_count": 14,
     "metadata": {},
     "output_type": "execute_result"
    }
   ],
   "source": [
    "get_trans(C2, C3)"
   ]
  },
  {
   "cell_type": "markdown",
   "id": "e9404131",
   "metadata": {},
   "source": [
    "Dan los valores exactos, sin decimales\n",
    "\n",
    "## Mas puntos de referencia, para probar las funciones con mas variacion\n",
    "\n",
    "Uso las coordenadas de las casillas en distintas transformaciones: el sistema de referencia de pyPDF2, el de OpenCV de un examen escaneado y el de OpenCV de nuevo pero girado 90 grados"
   ]
  },
  {
   "cell_type": "code",
   "execution_count": 15,
   "id": "cd608e88",
   "metadata": {},
   "outputs": [],
   "source": [
    "from example_boxes import boxes_pypdf, boxes_scan, boxes_scan90"
   ]
  },
  {
   "cell_type": "markdown",
   "id": "68018aca",
   "metadata": {},
   "source": [
    "### Con las funciones de pang"
   ]
  },
  {
   "cell_type": "code",
   "execution_count": 16,
   "id": "d5503338",
   "metadata": {},
   "outputs": [
    {
     "data": {
      "text/plain": [
       "(1101.425542993863, 4477.201640347557, 0.26211627308819774, -5.331970072284408)"
      ]
     },
     "execution_count": 16,
     "metadata": {},
     "output_type": "execute_result"
    }
   ],
   "source": [
    "trans(boxes_pypdf, boxes_scan)"
   ]
  },
  {
   "cell_type": "code",
   "execution_count": 17,
   "id": "5cc96487",
   "metadata": {},
   "outputs": [
    {
     "data": {
      "text/plain": [
       "(0.204136504872387, 3213.8805786800995, -90.0093047734473, 0.9998787554866239)"
      ]
     },
     "execution_count": 17,
     "metadata": {},
     "output_type": "execute_result"
    }
   ],
   "source": [
    "trans(boxes_scan, boxes_scan90)"
   ]
  },
  {
   "cell_type": "code",
   "execution_count": 18,
   "id": "c407edb5",
   "metadata": {},
   "outputs": [
    {
     "data": {
      "text/plain": [
       "(4476.672104425484, 2111.873408232511, 90.25303490178466, 5.331286896402964)"
      ]
     },
     "execution_count": 18,
     "metadata": {},
     "output_type": "execute_result"
    }
   ],
   "source": [
    "trans(boxes_pypdf, boxes_scan90)"
   ]
  },
  {
   "cell_type": "markdown",
   "id": "89920322",
   "metadata": {},
   "source": [
    "la transformación de pyPDF2 a la escaneada sin girar es extraña, en vez de invertir las coordenadas con el giro las invierte con la escala\n",
    "\n",
    "### Con mis funciones"
   ]
  },
  {
   "cell_type": "code",
   "execution_count": 19,
   "id": "7ae02292",
   "metadata": {},
   "outputs": [
    {
     "data": {
      "text/plain": [
       "(array([1107.87317626, 4468.27709427]), -179.96980467172529, 5.314611082531149)"
      ]
     },
     "execution_count": 19,
     "metadata": {},
     "output_type": "execute_result"
    }
   ],
   "source": [
    "get_trans(boxes_pypdf, boxes_scan)"
   ]
  },
  {
   "cell_type": "code",
   "execution_count": 20,
   "id": "a3ca46e8",
   "metadata": {},
   "outputs": [
    {
     "data": {
      "text/plain": [
       "(array([-2.61704650e-01,  3.21388533e+03]),\n",
       " -90.00706051964781,\n",
       " 1.000061688956147)"
      ]
     },
     "execution_count": 20,
     "metadata": {},
     "output_type": "execute_result"
    }
   ],
   "source": [
    "get_trans(boxes_scan, boxes_scan90)"
   ]
  },
  {
   "cell_type": "code",
   "execution_count": 21,
   "id": "1abdcf86",
   "metadata": {},
   "outputs": [
    {
     "data": {
      "text/plain": [
       "(array([4468.21125099, 2105.37823331]), 90.02315408130032, 5.315086476944962)"
      ]
     },
     "execution_count": 21,
     "metadata": {},
     "output_type": "execute_result"
    }
   ],
   "source": [
    "get_trans(boxes_pypdf, boxes_scan90)"
   ]
  },
  {
   "cell_type": "markdown",
   "id": "de6f87c0",
   "metadata": {},
   "source": [
    "ambas funciones dan resultados similares, pero prefiero las mias por como tratan invertir el ángulo"
   ]
  },
  {
   "cell_type": "markdown",
   "id": "5d533114",
   "metadata": {},
   "source": []
  }
 ],
 "metadata": {
  "kernelspec": {
   "display_name": "Python 3",
   "language": "python",
   "name": "python3"
  },
  "language_info": {
   "codemirror_mode": {
    "name": "ipython",
    "version": 3
   },
   "file_extension": ".py",
   "mimetype": "text/x-python",
   "name": "python",
   "nbconvert_exporter": "python",
   "pygments_lexer": "ipython3",
   "version": "3.10.12"
  }
 },
 "nbformat": 4,
 "nbformat_minor": 5
}
