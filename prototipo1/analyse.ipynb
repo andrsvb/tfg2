{
 "cells": [
  {
   "cell_type": "code",
   "execution_count": 1,
   "metadata": {},
   "outputs": [],
   "source": [
    "import json"
   ]
  },
  {
   "cell_type": "code",
   "execution_count": 2,
   "metadata": {},
   "outputs": [],
   "source": [
    "file_filled = '../pyexams examples/en/filled/fill_11111.pdf'\n",
    "file_scanned = '../pyexams examples/en/scanned/scanned_11111.pdf'\n",
    "\n",
    "json_question = 'json/st_Prototipo.json'\n",
    "json_filled = 'json/fill_Prototipo.json'\n",
    "json_scanned = 'json/scan_Prototipo.json'"
   ]
  },
  {
   "cell_type": "markdown",
   "metadata": {},
   "source": [
    "# Analyse\n",
    "\n",
    "If the exam is filled with pdf editor, extract with pyPDF2\n",
    "\n",
    "If not, extract with OpenCV\n",
    "\n",
    "\n",
    "Regardless of extraction method, generate json with defined format, similar to statement and solution json"
   ]
  },
  {
   "cell_type": "code",
   "execution_count": 3,
   "metadata": {},
   "outputs": [
    {
     "data": {
      "text/plain": [
       "{'exam': 'Multiple choice',\n",
       " 'student': 11111,\n",
       " 'num_boxes': 4,\n",
       " 'exercises': [{'exercise': 'basic-adittion',\n",
       "   'checkboxes': [{'checkbox': '0,0',\n",
       "     'cords': [89.867, 563.517, 12.715999999999994, 12.715999999999894]},\n",
       "    {'checkbox': '0,1',\n",
       "     'cords': [111.549, 563.517, 12.715999999999994, 12.715999999999894]}],\n",
       "   'scan_marked': ['0,1']},\n",
       "  {'exercise': 'derivativesin',\n",
       "   'checkboxes': [{'checkbox': '1,0',\n",
       "     'cords': [93.245, 480.635, 12.715999999999994, 12.716999999999985]},\n",
       "    {'checkbox': '1,1',\n",
       "     'cords': [93.245, 464.695, 12.715999999999994, 12.716000000000008]}],\n",
       "   'scan_marked': ['0,1']}]}"
      ]
     },
     "execution_count": 3,
     "metadata": {},
     "output_type": "execute_result"
    }
   ],
   "source": [
    "s_scan = {\"exam\": \"Multiple choice\",\n",
    "          \"student\": 11111,                                 # new key to store the student id\n",
    "          \"num_boxes\": 4,\n",
    "          \"exercises\": [\n",
    "              {\"exercise\": \"basic-adittion\",\n",
    "               \"checkboxes\": [\n",
    "                   {\n",
    "                       \"checkbox\": \"0,0\",\n",
    "                       \"cords\": [\n",
    "                           89.867,\n",
    "                           563.517,\n",
    "                           12.715999999999994,\n",
    "                           12.715999999999894\n",
    "                       ]\n",
    "                   },\n",
    "                   {\n",
    "                       \"checkbox\": \"0,1\",\n",
    "                       \"cords\": [\n",
    "                           111.549,\n",
    "                           563.517,\n",
    "                           12.715999999999994,\n",
    "                           12.715999999999894\n",
    "                       ]\n",
    "                   }],\n",
    "               \"scan_marked\": [\"0,1\"] },                    # new array to store the marked checkboxes in the scanned exam\n",
    "              {\"exercise\": \"derivativesin\",\n",
    "               \"checkboxes\": [\n",
    "                   {\n",
    "                       \"checkbox\": \"1,0\",\n",
    "                       \"cords\": [\n",
    "                           93.245,\n",
    "                           480.635,\n",
    "                           12.715999999999994,\n",
    "                           12.716999999999985\n",
    "                       ]\n",
    "                   },\n",
    "                   {\n",
    "                       \"checkbox\": \"1,1\",\n",
    "                       \"cords\": [\n",
    "                           93.245,\n",
    "                           464.695,\n",
    "                           12.715999999999994,\n",
    "                           12.716000000000008\n",
    "                       ]\n",
    "                   }],\n",
    "               \"scan_marked\": [\"0,1\"] },\n",
    "          ]}\n",
    "s_scan"
   ]
  },
  {
   "cell_type": "markdown",
   "metadata": {},
   "source": [
    "## Analyse Filled\n",
    "\n",
    "Like with statement and solution, new function that given a pdf file with the filled exam and the exam id, detects the exam structure, exercises, checkboxes and the marked boxes:"
   ]
  },
  {
   "cell_type": "code",
   "execution_count": 4,
   "metadata": {},
   "outputs": [],
   "source": [
    "from scan import detect_fill"
   ]
  },
  {
   "cell_type": "code",
   "execution_count": 5,
   "metadata": {},
   "outputs": [
    {
     "data": {
      "text/plain": [
       "{'exam': 'Prototipo',\n",
       " 'num_boxes': 24,\n",
       " 'exercises': [{'exercise': 'basic-adittion',\n",
       "   'checkboxes': [{'checkbox': '0,1',\n",
       "     'cords': [89.867, 563.517, 12.716, 12.716]},\n",
       "    {'checkbox': '0,2', 'cords': [111.549, 563.517, 12.716, 12.716]},\n",
       "    {'checkbox': '0,3', 'cords': [133.232, 563.517, 12.716, 12.716]},\n",
       "    {'checkbox': '0,4', 'cords': [154.914, 563.517, 12.717, 12.716]},\n",
       "    {'checkbox': '0,5', 'cords': [176.597, 563.517, 12.716, 12.716]},\n",
       "    {'checkbox': '0,6', 'cords': [198.28, 563.517, 12.716, 12.716]},\n",
       "    {'checkbox': '0,7', 'cords': [219.962, 563.517, 12.716, 12.716]},\n",
       "    {'checkbox': '0,8', 'cords': [241.645, 563.517, 12.716, 12.716]},\n",
       "    {'checkbox': '0,9', 'cords': [263.327, 563.517, 12.717, 12.716]},\n",
       "    {'checkbox': '0,10', 'cords': [285.01, 563.517, 12.716, 12.716]},\n",
       "    {'checkbox': '0,11', 'cords': [89.867, 547.272, 12.716, 12.716]},\n",
       "    {'checkbox': '0,12', 'cords': [111.549, 547.272, 12.716, 12.716]},\n",
       "    {'checkbox': '0,13', 'cords': [133.232, 547.272, 12.716, 12.716]},\n",
       "    {'checkbox': '0,14', 'cords': [154.914, 547.272, 12.717, 12.716]},\n",
       "    {'checkbox': '0,15', 'cords': [176.597, 547.272, 12.716, 12.716]},\n",
       "    {'checkbox': '0,16', 'cords': [198.28, 547.272, 12.716, 12.716]},\n",
       "    {'checkbox': '0,17', 'cords': [219.962, 547.272, 12.716, 12.716]},\n",
       "    {'checkbox': '0,18', 'cords': [241.645, 547.272, 12.716, 12.716]},\n",
       "    {'checkbox': '0,19', 'cords': [263.327, 547.272, 12.717, 12.716]},\n",
       "    {'checkbox': '0,20', 'cords': [285.01, 547.272, 12.716, 12.716]}],\n",
       "   'student_marked': ['0,0', '0,13']},\n",
       "  {'exercise': 'derivativesin',\n",
       "   'checkboxes': [{'checkbox': '1,1',\n",
       "     'cords': [93.245, 480.635, 12.716, 12.717]},\n",
       "    {'checkbox': '1,2', 'cords': [93.245, 464.695, 12.716, 12.716]},\n",
       "    {'checkbox': '1,3', 'cords': [93.245, 448.755, 12.716, 12.716]},\n",
       "    {'checkbox': '1,4', 'cords': [93.245, 432.815, 12.716, 12.716]}],\n",
       "   'student_marked': ['1,3']}],\n",
       " 'variant': '11111'}"
      ]
     },
     "execution_count": 5,
     "metadata": {},
     "output_type": "execute_result"
    }
   ],
   "source": [
    "detect_fill(file_filled, json_question, '11111')\n",
    "\n",
    "with open(json_filled) as jf:\n",
    "    data = json.load(jf)\n",
    "data"
   ]
  },
  {
   "cell_type": "markdown",
   "metadata": {},
   "source": [
    "## Analyse Scanned\n",
    "\n",
    "First we need to get the checkbox info from the pdf with OpenCV, so made function ***find_cboxes_img*** (Based on https://towardsdatascience.com/checkbox-table-cell-detection-using-opencv-python-332c57d25171).\n",
    "\n",
    "\n",
    "However, this function uses a png file as an input, and we have a pdf.\n",
    "We have to divide it into pages, export those pages to png, and process each page, with function ***find_cboxes***\n"
   ]
  },
  {
   "cell_type": "code",
   "execution_count": 6,
   "metadata": {},
   "outputs": [],
   "source": [
    "from scan import find_cboxes\n",
    "from scan import find_cboxes_img # not needed, find_cboxes calls find_cboxes_img"
   ]
  },
  {
   "cell_type": "code",
   "execution_count": 7,
   "metadata": {},
   "outputs": [
    {
     "data": {
      "text/plain": [
       "[array([[ 324,  914,   37,   37,  704],\n",
       "        [ 399,  915,   37,   37, 1325],\n",
       "        [ 475,  916,   36,   37, 1318],\n",
       "        [ 550,  918,   36,   36, 1296],\n",
       "        [ 625,  919,   37,   37, 1326],\n",
       "        [ 700,  920,   37,   37, 1324],\n",
       "        [ 775,  922,   37,   36, 1302],\n",
       "        [ 850,  923,   37,   37, 1307],\n",
       "        [ 926,  924,   37,   37, 1347],\n",
       "        [1001,  926,   37,   36, 1310],\n",
       "        [ 323,  970,   37,   37, 1317],\n",
       "        [ 398,  971,   37,   37, 1332],\n",
       "        [ 474,  973,   36,   36, 1296],\n",
       "        [ 549,  974,   36,   37,  688],\n",
       "        [ 624,  975,   37,   37, 1326],\n",
       "        [ 699,  977,   37,   36, 1311],\n",
       "        [ 775,  978,   36,   37, 1299],\n",
       "        [ 850,  979,   36,   37, 1298],\n",
       "        [ 925,  981,   37,   36, 1306],\n",
       "        [1000,  982,   37,   37, 1309],\n",
       "        [ 331, 1202,   37,   36, 1309],\n",
       "        [ 330, 1257,   37,   37, 1340],\n",
       "        [ 329, 1312,   37,   37, 1326],\n",
       "        [ 328, 1367,   37,   37,  745]], dtype=int32)]"
      ]
     },
     "execution_count": 7,
     "metadata": {},
     "output_type": "execute_result"
    }
   ],
   "source": [
    "cboxes = find_cboxes(file_scanned, '11111')\n",
    "cboxes"
   ]
  },
  {
   "cell_type": "markdown",
   "metadata": {},
   "source": [
    "### Identify marked boxes\n",
    "\n",
    "Now we have all of the exams's checkboxes.\n",
    "The function returns a list of arrays like [x, y, w, h, a].\n",
    "These values are the coordinates (x, y), the width and height of the boxes, and an area.\n",
    "\n",
    "\n",
    "This area is the amount of empty pixels inside the checkbox, so it is close to the area of the square when the box is not filled, and smaller when it is filled.\n",
    "We use this to know when the box is filled, with function ***is_marked***"
   ]
  },
  {
   "cell_type": "code",
   "execution_count": 8,
   "metadata": {},
   "outputs": [],
   "source": [
    "from scan import is_marked"
   ]
  },
  {
   "cell_type": "markdown",
   "metadata": {},
   "source": [
    "to test the function:"
   ]
  },
  {
   "cell_type": "code",
   "execution_count": 9,
   "metadata": {},
   "outputs": [
    {
     "name": "stdout",
     "output_type": "stream",
     "text": [
      "The box:  [324 914  37  37 704]  is marked\n",
      "The box:  [549 974  36  37 688]  is marked\n",
      "The box:  [ 328 1367   37   37  745]  is marked\n"
     ]
    }
   ],
   "source": [
    "for box in cboxes[0]:\n",
    "    if is_marked(box):\n",
    "        print(\"The box: \", box, \" is marked\")"
   ]
  },
  {
   "cell_type": "markdown",
   "metadata": {},
   "source": [
    "### Asociation of statement boxes with scanned boxes\n",
    "\n",
    "We also need to check whether the scanned exam matches the structure of the statement.\n",
    "That means it needs to have the same number of checkboxes, and they need to be positioned in a similar structure.\n",
    "For this we will use a function that compares the coordinates of the checkboxes on an exercise: ***is_same_exercise***\n",
    "\n",
    "\n",
    "The x and y coordinates differ in a matter of scale: the (w, h) of the boxes in the coordinates form pyPDF2 are around (13, 13), while in the coordinates from OpenCV they are around (37, 37). Also, the y coordinates are inverted in pyPDF2 when compared to in OpenCV, so it is better to compare distances than coordinates directly.\n",
    "So, we compare the distances from the first checkbox to the rest of the checkboxes, modifying them for scale."
   ]
  },
  {
   "cell_type": "code",
   "execution_count": 10,
   "metadata": {},
   "outputs": [],
   "source": [
    "from scan import is_same_exercise"
   ]
  },
  {
   "cell_type": "markdown",
   "metadata": {},
   "source": [
    "test for the is_same_exercise function:"
   ]
  },
  {
   "cell_type": "code",
   "execution_count": 11,
   "metadata": {},
   "outputs": [
    {
     "data": {
      "text/plain": [
       "{'exam': 'Multiple choice',\n",
       " 'num_boxes': 4,\n",
       " 'exercises': [{'exercise': 'basic-adittion',\n",
       "   'checkboxes': [{'checkbox': '0,0',\n",
       "     'cords': [89.867, 563.517, 12.715999999999994, 12.715999999999894]},\n",
       "    {'checkbox': '0,1',\n",
       "     'cords': [111.549, 563.517, 12.715999999999994, 12.715999999999894]}]},\n",
       "  {'exercise': 'derivativesin',\n",
       "   'checkboxes': [{'checkbox': '1,0',\n",
       "     'cords': [93.245, 480.635, 12.715999999999994, 12.716999999999985]},\n",
       "    {'checkbox': '1,1',\n",
       "     'cords': [93.245, 464.695, 12.715999999999994, 12.716000000000008]}]}]}"
      ]
     },
     "execution_count": 11,
     "metadata": {},
     "output_type": "execute_result"
    }
   ],
   "source": [
    "s_statement = {\"exam\": \"Multiple choice\",\n",
    "               \"num_boxes\": 4,\n",
    "               \"exercises\": [\n",
    "                   {\"exercise\": \"basic-adittion\",\n",
    "                    \"checkboxes\": [\n",
    "                        {\n",
    "                            \"checkbox\": \"0,0\",\n",
    "                            \"cords\": [\n",
    "                                89.867,\n",
    "                                563.517,\n",
    "                                12.715999999999994,\n",
    "                                12.715999999999894\n",
    "                            ]\n",
    "                        },\n",
    "                        {\n",
    "                            \"checkbox\": \"0,1\",\n",
    "                            \"cords\": [\n",
    "                                111.549,\n",
    "                                563.517,\n",
    "                                12.715999999999994,\n",
    "                                12.715999999999894\n",
    "                            ]\n",
    "                        }\n",
    "                    ]},\n",
    "                   {\"exercise\": \"derivativesin\",\n",
    "                    \"checkboxes\": [\n",
    "                        {\n",
    "                            \"checkbox\": \"1,0\",\n",
    "                            \"cords\": [\n",
    "                                93.245,\n",
    "                                480.635,\n",
    "                                12.715999999999994,\n",
    "                                12.716999999999985\n",
    "                            ]\n",
    "                        },\n",
    "                        {\n",
    "                            \"checkbox\": \"1,1\",\n",
    "                            \"cords\": [\n",
    "                                93.245,\n",
    "                                464.695,\n",
    "                                12.715999999999994,\n",
    "                                12.716000000000008\n",
    "                            ]\n",
    "                        }\n",
    "                    ]}\n",
    "               ]}\n",
    "s_statement"
   ]
  },
  {
   "cell_type": "code",
   "execution_count": 12,
   "metadata": {},
   "outputs": [],
   "source": [
    "# s_statement['exercises']\n",
    "test_scan_boxes = [[ 324,  914,   37,   37,  704],\n",
    "                   [ 399,  915,   37,   37, 1325],\n",
    "                   [ 331, 1202,   37,   36, 1309],\n",
    "                   [ 330, 1257,   37,   37, 1340]]\n",
    "count_b1 = 0\n",
    "count_b2 = 0\n",
    "for exercise in s_statement['exercises']:\n",
    "    count_b2 = count_b2 + exercise['checkboxes'].__len__()\n",
    "    if not is_same_exercise(exercise['checkboxes'], test_scan_boxes[count_b1:count_b2]):\n",
    "        print(\"Error, estructura de casillas no encaja\")\n",
    "    count_b1 = count_b2"
   ]
  },
  {
   "cell_type": "markdown",
   "metadata": {},
   "source": [
    "### Global function\n",
    "\n",
    "we need a global function that takes the scanned pdf, finds the checkboxes, sees if they are marked, checks that the exams fits the statement, and exports a json file with the info on the marked boxes."
   ]
  },
  {
   "cell_type": "code",
   "execution_count": 13,
   "metadata": {},
   "outputs": [],
   "source": [
    "from scan import analyse"
   ]
  },
  {
   "cell_type": "markdown",
   "metadata": {},
   "source": [
    "example execution of analyse scan"
   ]
  },
  {
   "cell_type": "code",
   "execution_count": 14,
   "metadata": {},
   "outputs": [
    {
     "data": {
      "text/plain": [
       "{'exam': 'Prototipo',\n",
       " 'num_boxes': 24,\n",
       " 'exercises': [{'exercise': 'basic-adittion',\n",
       "   'checkboxes': [{'checkbox': '0,1',\n",
       "     'cords': [89.867, 563.517, 12.716, 12.716]},\n",
       "    {'checkbox': '0,2', 'cords': [111.549, 563.517, 12.716, 12.716]},\n",
       "    {'checkbox': '0,3', 'cords': [133.232, 563.517, 12.716, 12.716]},\n",
       "    {'checkbox': '0,4', 'cords': [154.914, 563.517, 12.717, 12.716]},\n",
       "    {'checkbox': '0,5', 'cords': [176.597, 563.517, 12.716, 12.716]},\n",
       "    {'checkbox': '0,6', 'cords': [198.28, 563.517, 12.716, 12.716]},\n",
       "    {'checkbox': '0,7', 'cords': [219.962, 563.517, 12.716, 12.716]},\n",
       "    {'checkbox': '0,8', 'cords': [241.645, 563.517, 12.716, 12.716]},\n",
       "    {'checkbox': '0,9', 'cords': [263.327, 563.517, 12.717, 12.716]},\n",
       "    {'checkbox': '0,10', 'cords': [285.01, 563.517, 12.716, 12.716]},\n",
       "    {'checkbox': '0,11', 'cords': [89.867, 547.272, 12.716, 12.716]},\n",
       "    {'checkbox': '0,12', 'cords': [111.549, 547.272, 12.716, 12.716]},\n",
       "    {'checkbox': '0,13', 'cords': [133.232, 547.272, 12.716, 12.716]},\n",
       "    {'checkbox': '0,14', 'cords': [154.914, 547.272, 12.717, 12.716]},\n",
       "    {'checkbox': '0,15', 'cords': [176.597, 547.272, 12.716, 12.716]},\n",
       "    {'checkbox': '0,16', 'cords': [198.28, 547.272, 12.716, 12.716]},\n",
       "    {'checkbox': '0,17', 'cords': [219.962, 547.272, 12.716, 12.716]},\n",
       "    {'checkbox': '0,18', 'cords': [241.645, 547.272, 12.716, 12.716]},\n",
       "    {'checkbox': '0,19', 'cords': [263.327, 547.272, 12.717, 12.716]},\n",
       "    {'checkbox': '0,20', 'cords': [285.01, 547.272, 12.716, 12.716]}],\n",
       "   'student_marked': ['0,0', '0,13']},\n",
       "  {'exercise': 'derivativesin',\n",
       "   'checkboxes': [{'checkbox': '1,1',\n",
       "     'cords': [93.245, 480.635, 12.716, 12.717]},\n",
       "    {'checkbox': '1,2', 'cords': [93.245, 464.695, 12.716, 12.716]},\n",
       "    {'checkbox': '1,3', 'cords': [93.245, 448.755, 12.716, 12.716]},\n",
       "    {'checkbox': '1,4', 'cords': [93.245, 432.815, 12.716, 12.716]}],\n",
       "   'student_marked': ['1,3']}],\n",
       " 'student': '11111'}"
      ]
     },
     "execution_count": 14,
     "metadata": {},
     "output_type": "execute_result"
    }
   ],
   "source": [
    "analyse(file_scanned, json_question, '11111')\n",
    "\n",
    "with open(json_scanned) as jf:\n",
    "    data = json.load(jf)\n",
    "data"
   ]
  },
  {
   "cell_type": "code",
   "execution_count": null,
   "metadata": {},
   "outputs": [],
   "source": []
  }
 ],
 "metadata": {
  "kernelspec": {
   "display_name": "Python 3",
   "language": "python",
   "name": "python3"
  },
  "language_info": {
   "codemirror_mode": {
    "name": "ipython",
    "version": 3
   },
   "file_extension": ".py",
   "mimetype": "text/x-python",
   "name": "python",
   "nbconvert_exporter": "python",
   "pygments_lexer": "ipython3",
   "version": "3.10.12"
  }
 },
 "nbformat": 4,
 "nbformat_minor": 2
}
