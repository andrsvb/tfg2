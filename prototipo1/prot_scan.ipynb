{
 "cells": [
  {
   "cell_type": "code",
   "execution_count": 1,
   "metadata": {
    "collapsed": false
   },
   "outputs": [],
   "source": [
    "import csv\n",
    "import PyPDF2 as pypdf\n",
    "import json\n",
    "import os\n",
    "from pdf2image import convert_from_path\n",
    "import numpy as np\n",
    "import cv2"
   ]
  },
  {
   "cell_type": "markdown",
   "metadata": {
    "collapsed": false
   },
   "source": [
    "# Detect Statement\n",
    "\n",
    "First lets take a look at the data extracted with pyPDF2 from the statement:"
   ]
  },
  {
   "cell_type": "code",
   "execution_count": 2,
   "metadata": {
    "collapsed": false
   },
   "outputs": [
    {
     "name": "stdout",
     "output_type": "stream",
     "text": [
      "{'1:case:basic-adittion:1,1': {'/T': '1:case:basic-adittion:1,1', '/FT': '/Btn', '/V': '/Off', '/Rect': [89.867, 563.517, 102.583, 576.233]}, '1:case:basic-adittion:1,2': {'/T': '1:case:basic-adittion:1,2', '/FT': '/Btn', '/V': '/Off', '/Rect': [111.549, 563.517, 124.265, 576.233]}, '1:case:basic-adittion:1,3': {'/T': '1:case:basic-adittion:1,3', '/FT': '/Btn', '/V': '/Off', '/Rect': [133.232, 563.517, 145.948, 576.233]}, '1:case:basic-adittion:1,4': {'/T': '1:case:basic-adittion:1,4', '/FT': '/Btn', '/V': '/Off', '/Rect': [154.914, 563.517, 167.631, 576.233]}, '1:case:basic-adittion:1,5': {'/T': '1:case:basic-adittion:1,5', '/FT': '/Btn', '/V': '/Off', '/Rect': [176.597, 563.517, 189.313, 576.233]}, '1:case:basic-adittion:1,6': {'/T': '1:case:basic-adittion:1,6', '/FT': '/Btn', '/V': '/Off', '/Rect': [198.28, 563.517, 210.996, 576.233]}, '1:case:basic-adittion:1,7': {'/T': '1:case:basic-adittion:1,7', '/FT': '/Btn', '/V': '/Off', '/Rect': [219.962, 563.517, 232.678, 576.233]}, '1:case:basic-adittion:1,8': {'/T': '1:case:basic-adittion:1,8', '/FT': '/Btn', '/V': '/Off', '/Rect': [241.645, 563.517, 254.361, 576.233]}, '1:case:basic-adittion:1,9': {'/T': '1:case:basic-adittion:1,9', '/FT': '/Btn', '/V': '/Off', '/Rect': [263.327, 563.517, 276.044, 576.233]}, '1:case:basic-adittion:1,10': {'/T': '1:case:basic-adittion:1,10', '/FT': '/Btn', '/V': '/Off', '/Rect': [285.01, 563.517, 297.726, 576.233]}, '1:case:basic-adittion:1,11': {'/T': '1:case:basic-adittion:1,11', '/FT': '/Btn', '/V': '/Off', '/Rect': [89.867, 547.272, 102.583, 559.988]}, '1:case:basic-adittion:1,12': {'/T': '1:case:basic-adittion:1,12', '/FT': '/Btn', '/V': '/Off', '/Rect': [111.549, 547.272, 124.265, 559.988]}, '1:case:basic-adittion:1,13': {'/T': '1:case:basic-adittion:1,13', '/FT': '/Btn', '/V': '/Off', '/Rect': [133.232, 547.272, 145.948, 559.988]}, '1:case:basic-adittion:1,14': {'/T': '1:case:basic-adittion:1,14', '/FT': '/Btn', '/V': '/Off', '/Rect': [154.914, 547.272, 167.631, 559.988]}, '1:case:basic-adittion:1,15': {'/T': '1:case:basic-adittion:1,15', '/FT': '/Btn', '/V': '/Off', '/Rect': [176.597, 547.272, 189.313, 559.988]}, '1:case:basic-adittion:1,16': {'/T': '1:case:basic-adittion:1,16', '/FT': '/Btn', '/V': '/Off', '/Rect': [198.28, 547.272, 210.996, 559.988]}, '1:case:basic-adittion:1,17': {'/T': '1:case:basic-adittion:1,17', '/FT': '/Btn', '/V': '/Off', '/Rect': [219.962, 547.272, 232.678, 559.988]}, '1:case:basic-adittion:1,18': {'/T': '1:case:basic-adittion:1,18', '/FT': '/Btn', '/V': '/Off', '/Rect': [241.645, 547.272, 254.361, 559.988]}, '1:case:basic-adittion:1,19': {'/T': '1:case:basic-adittion:1,19', '/FT': '/Btn', '/V': '/Off', '/Rect': [263.327, 547.272, 276.044, 559.988]}, '1:case:basic-adittion:1,20': {'/T': '1:case:basic-adittion:1,20', '/FT': '/Btn', '/V': '/Off', '/Rect': [285.01, 547.272, 297.726, 559.988]}, '1:case:derivativesin:2,4': {'/T': '1:case:derivativesin:2,4', '/FT': '/Btn', '/V': '/Off', '/Rect': [93.245, 480.635, 105.961, 493.352]}, '1:case:derivativesin:2,2': {'/T': '1:case:derivativesin:2,2', '/FT': '/Btn', '/V': '/Off', '/Rect': [93.245, 464.695, 105.961, 477.411]}, '1:case:derivativesin:2,3': {'/T': '1:case:derivativesin:2,3', '/FT': '/Btn', '/V': '/Off', '/Rect': [93.245, 448.755, 105.961, 461.471]}, '1:case:derivativesin:2,1': {'/T': '1:case:derivativesin:2,1', '/FT': '/Btn', '/V': '/Off', '/Rect': [93.245, 432.815, 105.961, 445.531]}}\n"
     ]
    }
   ],
   "source": [
    "var = pypdf.PdfFileReader(open('pdf/statement_11111.pdf', 'rb')).getFields()\n",
    "print(var)"
   ]
  },
  {
   "cell_type": "markdown",
   "metadata": {
    "collapsed": false
   },
   "source": [
    "The extracted data is a dictionary, and the keys are a string which contains the exercise name and two numbers. Those two numbers seem to be the exercise number and box number, but when looking at the boxes in the second exercise they appear to be out of order.\n",
    "\n",
    "The value of each key is another dictionary, with the following keys:\n",
    "&emsp;'/T': contains the same string as the original key\n",
    "&emsp;'/FT': all have the value '/Btn\n",
    "&emsp;'/V': stores whether the box is marked. As this is the statement pdf, none of them are marked\n",
    "&emsp;'/Rect': has the coordinates of the box\n",
    "\n",
    "### JSON format for statement"
   ]
  },
  {
   "cell_type": "code",
   "execution_count": 3,
   "metadata": {
    "collapsed": false
   },
   "outputs": [
    {
     "data": {
      "text/plain": [
       "{'exam': 'Multiple choice',\n",
       " 'num_boxes': 4,\n",
       " 'exercises': [{'exercise': 'basic-adittion',\n",
       "   'checkboxes': [{'checkbox': '0,0',\n",
       "     'cords': [89.867, 563.517, 12.715999999999994, 12.715999999999894]},\n",
       "    {'checkbox': '0,1',\n",
       "     'cords': [111.549, 563.517, 12.715999999999994, 12.715999999999894]}]},\n",
       "  {'exercise': 'derivativesin',\n",
       "   'checkboxes': [{'checkbox': '1,0',\n",
       "     'cords': [93.245, 480.635, 12.715999999999994, 12.716999999999985]},\n",
       "    {'checkbox': '1,1',\n",
       "     'cords': [93.245, 464.695, 12.715999999999994, 12.716000000000008]}]}]}"
      ]
     },
     "execution_count": 3,
     "metadata": {},
     "output_type": "execute_result"
    }
   ],
   "source": [
    "s_statement = {\"exam\": \"Multiple choice\",\n",
    "               \"num_boxes\": 4,\n",
    "               \"exercises\": [\n",
    "                   {\"exercise\": \"basic-adittion\",\n",
    "                    \"checkboxes\": [\n",
    "                        {\n",
    "                            \"checkbox\": \"0,0\",\n",
    "                            \"cords\": [\n",
    "                                89.867,\n",
    "                                563.517,\n",
    "                                12.715999999999994,\n",
    "                                12.715999999999894\n",
    "                            ]\n",
    "                        },\n",
    "                        {\n",
    "                            \"checkbox\": \"0,1\",\n",
    "                            \"cords\": [\n",
    "                                111.549,\n",
    "                                563.517,\n",
    "                                12.715999999999994,\n",
    "                                12.715999999999894\n",
    "                            ]\n",
    "                        }\n",
    "                    ]},\n",
    "                   {\"exercise\": \"derivativesin\",\n",
    "                    \"checkboxes\": [\n",
    "                        {\n",
    "                            \"checkbox\": \"1,0\",\n",
    "                            \"cords\": [\n",
    "                                93.245,\n",
    "                                480.635,\n",
    "                                12.715999999999994,\n",
    "                                12.716999999999985\n",
    "                            ]\n",
    "                        },\n",
    "                        {\n",
    "                            \"checkbox\": \"1,1\",\n",
    "                            \"cords\": [\n",
    "                                93.245,\n",
    "                                464.695,\n",
    "                                12.715999999999994,\n",
    "                                12.716000000000008\n",
    "                            ]\n",
    "                        }\n",
    "                    ]}\n",
    "               ]}\n",
    "s_statement"
   ]
  },
  {
   "cell_type": "markdown",
   "metadata": {
    "collapsed": false
   },
   "source": [
    "Function that, given a pdf file with the statement and the exam id, detects the statement structure, exercises and checkboxes:"
   ]
  },
  {
   "cell_type": "code",
   "execution_count": 4,
   "metadata": {
    "collapsed": false
   },
   "outputs": [],
   "source": [
    "def detect_st(st_file, id_exam):\n",
    "    # open the pdf file with the exam statement ?- check whether file exists\n",
    "    # get the checkboxes from the modified pyPDF2 version\n",
    "    var = pypdf.PdfFileReader(st_file).getFields()\n",
    "\n",
    "    # process and store the checkbox information on the json files\n",
    "    #   data stores the information to be stored\n",
    "    #   count_ex iterates the exercises\n",
    "    #   count_box iterates the checkboxes for each exercise\n",
    "    data = {'exam': id_exam,\n",
    "            'num_boxes': var.__len__(),\n",
    "            'exercises' : []}\n",
    "\n",
    "    count_ex = -1\n",
    "    count_box = -1\n",
    "    for box in var:                 # example of content in box: 1:case:basic-adittion:1,1\n",
    "        exercise = box.split(sep=':')[2]\n",
    "        # if it is the first box to be read, or if the new box being read is from a next exercise --> append exercise\n",
    "        if not data['exercises'] or (data['exercises'][count_ex]['exercise'] != exercise):\n",
    "            count_ex = count_ex + 1\n",
    "            count_box = 0\n",
    "            data['exercises'].append(\n",
    "                {\n",
    "                    'exercise': exercise,\n",
    "                    'checkboxes': []\n",
    "                }\n",
    "            )\n",
    "        # append checkbox\n",
    "        count_box = count_box + 1\n",
    "        data['exercises'][count_ex]['checkboxes'].append(\n",
    "            {\n",
    "                'checkbox' : str(count_ex) + ',' + str(count_box),\n",
    "                'cords' : [ float(var[box]['/Rect'][0]),\n",
    "                            float(var[box]['/Rect'][1]),\n",
    "                            round(float(var[box]['/Rect'][2]) - float(var[box]['/Rect'][0]), 3),\n",
    "                            round(float(var[box]['/Rect'][3]) - float(var[box]['/Rect'][1]), 3) ]\n",
    "            })\n",
    "    # write the JSON file\n",
    "    jf_name = 'json/st_' + id_exam + '.json'\n",
    "    os.makedirs(os.path.dirname(jf_name), exist_ok=True)\n",
    "    with open(jf_name, 'w') as outfile:\n",
    "        json.dump(data, outfile, indent=4)"
   ]
  },
  {
   "cell_type": "markdown",
   "metadata": {
    "collapsed": false
   },
   "source": [
    "test behaviour:"
   ]
  },
  {
   "cell_type": "code",
   "execution_count": 5,
   "metadata": {
    "collapsed": false
   },
   "outputs": [],
   "source": [
    "detect_st('pdf/statement_11111.pdf', \"Test\")"
   ]
  },
  {
   "cell_type": "markdown",
   "metadata": {
    "collapsed": false
   },
   "source": [
    "# Detect Solution\n",
    "\n",
    "First let's take a look at the data extracted with pyPDF2 from the solution:"
   ]
  },
  {
   "cell_type": "code",
   "execution_count": 6,
   "metadata": {
    "collapsed": false
   },
   "outputs": [
    {
     "name": "stdout",
     "output_type": "stream",
     "text": [
      "{'1:case:basic-adittion:1,1': {'/T': '1:case:basic-adittion:1,1', '/FT': '/Btn', '/V': '/Off', '/Rect': [89.867, 581.13, 102.583, 593.846]}, '1:case:basic-adittion:1,2': {'/T': '1:case:basic-adittion:1,2', '/FT': '/Btn', '/V': '/Yes', '/Rect': [111.549, 581.13, 124.265, 593.846]}, '1:case:basic-adittion:1,3': {'/T': '1:case:basic-adittion:1,3', '/FT': '/Btn', '/V': '/Off', '/Rect': [133.232, 581.13, 145.948, 593.846]}, '1:case:basic-adittion:1,4': {'/T': '1:case:basic-adittion:1,4', '/FT': '/Btn', '/V': '/Off', '/Rect': [154.914, 581.13, 167.631, 593.846]}, '1:case:basic-adittion:1,5': {'/T': '1:case:basic-adittion:1,5', '/FT': '/Btn', '/V': '/Off', '/Rect': [176.597, 581.13, 189.313, 593.846]}, '1:case:basic-adittion:1,6': {'/T': '1:case:basic-adittion:1,6', '/FT': '/Btn', '/V': '/Off', '/Rect': [198.28, 581.13, 210.996, 593.846]}, '1:case:basic-adittion:1,7': {'/T': '1:case:basic-adittion:1,7', '/FT': '/Btn', '/V': '/Off', '/Rect': [219.962, 581.13, 232.678, 593.846]}, '1:case:basic-adittion:1,8': {'/T': '1:case:basic-adittion:1,8', '/FT': '/Btn', '/V': '/Off', '/Rect': [241.645, 581.13, 254.361, 593.846]}, '1:case:basic-adittion:1,9': {'/T': '1:case:basic-adittion:1,9', '/FT': '/Btn', '/V': '/Off', '/Rect': [263.327, 581.13, 276.044, 593.846]}, '1:case:basic-adittion:1,10': {'/T': '1:case:basic-adittion:1,10', '/FT': '/Btn', '/V': '/Off', '/Rect': [285.01, 581.13, 297.726, 593.846]}, '1:case:basic-adittion:1,11': {'/T': '1:case:basic-adittion:1,11', '/FT': '/Btn', '/V': '/Off', '/Rect': [89.867, 564.885, 102.583, 577.602]}, '1:case:basic-adittion:1,12': {'/T': '1:case:basic-adittion:1,12', '/FT': '/Btn', '/V': '/Off', '/Rect': [111.549, 564.885, 124.265, 577.602]}, '1:case:basic-adittion:1,13': {'/T': '1:case:basic-adittion:1,13', '/FT': '/Btn', '/V': '/Off', '/Rect': [133.232, 564.885, 145.948, 577.602]}, '1:case:basic-adittion:1,14': {'/T': '1:case:basic-adittion:1,14', '/FT': '/Btn', '/V': '/Yes', '/Rect': [154.914, 564.885, 167.631, 577.602]}, '1:case:basic-adittion:1,15': {'/T': '1:case:basic-adittion:1,15', '/FT': '/Btn', '/V': '/Off', '/Rect': [176.597, 564.885, 189.313, 577.602]}, '1:case:basic-adittion:1,16': {'/T': '1:case:basic-adittion:1,16', '/FT': '/Btn', '/V': '/Off', '/Rect': [198.28, 564.885, 210.996, 577.602]}, '1:case:basic-adittion:1,17': {'/T': '1:case:basic-adittion:1,17', '/FT': '/Btn', '/V': '/Off', '/Rect': [219.962, 564.885, 232.678, 577.602]}, '1:case:basic-adittion:1,18': {'/T': '1:case:basic-adittion:1,18', '/FT': '/Btn', '/V': '/Off', '/Rect': [241.645, 564.885, 254.361, 577.602]}, '1:case:basic-adittion:1,19': {'/T': '1:case:basic-adittion:1,19', '/FT': '/Btn', '/V': '/Off', '/Rect': [263.327, 564.885, 276.044, 577.602]}, '1:case:basic-adittion:1,20': {'/T': '1:case:basic-adittion:1,20', '/FT': '/Btn', '/V': '/Off', '/Rect': [285.01, 564.885, 297.726, 577.602]}, '1:case:derivativesin:2,4': {'/T': '1:case:derivativesin:2,4', '/FT': '/Btn', '/V': '/Off', '/Rect': [93.245, 498.248, 105.961, 510.965]}, '1:case:derivativesin:2,2': {'/T': '1:case:derivativesin:2,2', '/FT': '/Btn', '/V': '/Off', '/Rect': [93.245, 482.308, 105.961, 495.024]}, '1:case:derivativesin:2,3': {'/T': '1:case:derivativesin:2,3', '/FT': '/Btn', '/V': '/Off', '/Rect': [93.245, 466.368, 105.961, 479.084]}, '1:case:derivativesin:2,1': {'/T': '1:case:derivativesin:2,1', '/FT': '/Btn', '/V': '/Yes', '/Rect': [93.245, 450.428, 105.961, 463.144]}}\n"
     ]
    }
   ],
   "source": [
    "var = pypdf.PdfFileReader(open('pdf/solution_11111.pdf', 'rb')).getFields()\n",
    "print(var)"
   ]
  },
  {
   "cell_type": "markdown",
   "metadata": {
    "collapsed": false
   },
   "source": [
    "### JSON format for solution\n",
    "\n",
    "Following the same pattern of statement, we add data for the variant id and which checkboxes are marked on each exercise\n",
    "\n",
    "\n",
    "\n",
    "-------------------------------------------------------------\n",
    "IMPORTANTE\n",
    "-------------------------------------------------------------\n",
    "\n",
    "AÑADIR IS_MARKED AL JSON EN CADA CASILLA\n"
   ]
  },
  {
   "cell_type": "code",
   "execution_count": 7,
   "metadata": {
    "collapsed": false
   },
   "outputs": [
    {
     "data": {
      "text/plain": [
       "{'exam': 'Multiple choice',\n",
       " 'variant': 11111,\n",
       " 'num_boxes': 4,\n",
       " 'exercises': [{'exercise': 'basic-adittion',\n",
       "   'checkboxes': [{'checkbox': '0,0',\n",
       "     'cords': [89.867, 563.517, 12.715999999999994, 12.715999999999894]},\n",
       "    {'checkbox': '0,1',\n",
       "     'cords': [111.549, 563.517, 12.715999999999994, 12.715999999999894]}],\n",
       "   'sol_marked': ['0,1']},\n",
       "  {'exercise': 'derivativesin',\n",
       "   'checkboxes': [{'checkbox': '1,0',\n",
       "     'cords': [93.245, 480.635, 12.715999999999994, 12.716999999999985]},\n",
       "    {'checkbox': '1,1',\n",
       "     'cords': [93.245, 464.695, 12.715999999999994, 12.716000000000008]}],\n",
       "   'sol_marked': ['0,0']}]}"
      ]
     },
     "execution_count": 7,
     "metadata": {},
     "output_type": "execute_result"
    }
   ],
   "source": [
    "s_solution = {\"exam\": \"Multiple choice\",\n",
    "              \"variant\": 11111,                             # new key to save the variant id\n",
    "               \"num_boxes\": 4,\n",
    "               \"exercises\": [\n",
    "                   {\"exercise\": \"basic-adittion\",\n",
    "                    \"checkboxes\": [\n",
    "                        {\n",
    "                            \"checkbox\": \"0,0\",\n",
    "                            \"cords\": [\n",
    "                                89.867,\n",
    "                                563.517,\n",
    "                                12.715999999999994,\n",
    "                                12.715999999999894\n",
    "                            ]\n",
    "                        },\n",
    "                        {\n",
    "                            \"checkbox\": \"0,1\",\n",
    "                            \"cords\": [\n",
    "                                111.549,\n",
    "                                563.517,\n",
    "                                12.715999999999994,\n",
    "                                12.715999999999894\n",
    "                            ]\n",
    "                        }],\n",
    "                    \"sol_marked\": [\"0,1\"] },                # new array to store the marked checkboxes in the solution\n",
    "                   {\"exercise\": \"derivativesin\",\n",
    "                    \"checkboxes\": [\n",
    "                        {\n",
    "                            \"checkbox\": \"1,0\",\n",
    "                            \"cords\": [\n",
    "                                93.245,\n",
    "                                480.635,\n",
    "                                12.715999999999994,\n",
    "                                12.716999999999985\n",
    "                            ]\n",
    "                        },\n",
    "                        {\n",
    "                            \"checkbox\": \"1,1\",\n",
    "                            \"cords\": [\n",
    "                                93.245,\n",
    "                                464.695,\n",
    "                                12.715999999999994,\n",
    "                                12.716000000000008\n",
    "                            ]\n",
    "                        }],\n",
    "                    \"sol_marked\": [\"0,0\"] },\n",
    "               ]}\n",
    "s_solution"
   ]
  },
  {
   "cell_type": "code",
   "execution_count": 8,
   "metadata": {
    "collapsed": false
   },
   "outputs": [],
   "source": [
    "def detect_sol(sol_file, st_json, id_variant):\n",
    "    # open the pdf file with the exam solution ?- check whether file exists\n",
    "    # get the checkboxes from the modified pyPDF2 version\n",
    "    var = pypdf.PdfFileReader(sol_file).getFields()\n",
    "\n",
    "    # open and read the statement JSON\n",
    "    with open(st_json) as json_file:\n",
    "        data = json.load(json_file)\n",
    "\n",
    "    # process the solution pdf into the dictionary\n",
    "    # check if it has the same number of checkboxes? or assume correct?\n",
    "    data['variant'] = id_variant\n",
    "    count_ex = -1\n",
    "    count_box = -1\n",
    "    st_exercise = ''\n",
    "    for box in var:                 # example of content in box: 1:case:basic-adittion:1,1\n",
    "        sol_exercise = box.split(sep=':')[2]\n",
    "        # if it is the first box to be read, or if the current box is in a new exercise --> update st_exercise and add 'sol_marked' key to dict\n",
    "        # check if the current box is in the same exercise. assumes the exercise names are the same and in the same order\n",
    "        if not sol_exercise == st_exercise:\n",
    "            count_ex = count_ex + 1\n",
    "            count_box = -1\n",
    "            st_exercise = data['exercises'][count_ex]['exercise']\n",
    "            data['exercises'][count_ex]['sol_marked'] = []\n",
    "        # check if the current box is marked. appends if marked\n",
    "        count_box = count_box + 1\n",
    "        if var[box]['/V'] == '/Yes':\n",
    "            data['exercises'][count_ex]['sol_marked'].append(str(count_ex) + ',' + str(count_box))\n",
    "\n",
    "    # write the JSON file\n",
    "    jf_name = 'json/sol_' + id_variant+ '.json'\n",
    "    os.makedirs(os.path.dirname(jf_name), exist_ok=True)\n",
    "    with open(jf_name, 'w') as outfile:\n",
    "        json.dump(data, outfile, indent=4)"
   ]
  },
  {
   "cell_type": "code",
   "execution_count": 9,
   "metadata": {
    "collapsed": false
   },
   "outputs": [],
   "source": [
    "detect_sol('pdf/solution_11111.pdf','json/st_Test.json', '11111')"
   ]
  },
  {
   "cell_type": "markdown",
   "metadata": {
    "collapsed": false
   },
   "source": [
    "# Analyse Scan\n",
    "\n",
    "First we need to get the checkbox info from the pdf with OpenCV\n",
    "Based on https://towardsdatascience.com/checkbox-table-cell-detection-using-opencv-python-332c57d25171"
   ]
  },
  {
   "cell_type": "code",
   "execution_count": 10,
   "metadata": {
    "collapsed": false
   },
   "outputs": [],
   "source": [
    "def find_cboxes_img(png_file):\n",
    "    img = cv2.imread(png_file)\n",
    "    gray_scale = cv2.cvtColor(img, cv2.COLOR_BGR2GRAY)\n",
    "    th1, img_bin = cv2.threshold(gray_scale, 150, 225, cv2.THRESH_BINARY)\n",
    "    img_bin = ~img_bin\n",
    "\n",
    "    # set min width of lines for the rectangle: 20 pixels\n",
    "    line_min_width = 20\n",
    "    kernel_h = np.ones((1, line_min_width), np.uint8)\n",
    "    kernel_v = np.ones((line_min_width, 1), np.uint8)\n",
    "\n",
    "    # find horizontal and vertical lines and join them\n",
    "    img_bin_h = cv2.morphologyEx(img_bin, cv2.MORPH_OPEN, kernel_h)\n",
    "    img_bin_v = cv2.morphologyEx(img_bin, cv2.MORPH_OPEN, kernel_v)\n",
    "    img_bin_final = img_bin_h | img_bin_v\n",
    "\n",
    "    # find conected lines that form a box\n",
    "    _, labels, stats, _ = cv2.connectedComponentsWithStats(~img_bin_final, connectivity=8, ltype=cv2.CV_32S)\n",
    "    # stats: (x, y, w, h, a) * num_boxes\n",
    "    # first two rows of stats are the background and residue pixel bounding boxes, which we dont need\n",
    "    return stats[2:]"
   ]
  },
  {
   "cell_type": "markdown",
   "metadata": {
    "collapsed": false
   },
   "source": [
    "However, this function uses a png file as an input, and we have a pdf\n",
    "We have to divide it into pages, export those pages to png, and process each page"
   ]
  },
  {
   "cell_type": "code",
   "execution_count": 11,
   "metadata": {
    "collapsed": false
   },
   "outputs": [],
   "source": [
    "def find_cboxes(pdf_file, id_student):\n",
    "    boxes = []\n",
    "    # export the pdf's pages to png with 250 dots per inch (dpi)\n",
    "    pages = convert_from_path(pdf_file, 250)\n",
    "    # create the directory png\n",
    "    if not os.path.exists('png'):\n",
    "        os.mkdir('png')\n",
    "    # iterate the pages\n",
    "    for i, page in enumerate(pages):\n",
    "        # save each page in a png file\n",
    "        im_file = 'png/' + id_student + '_page' + str(i) + '.png'\n",
    "        page.save(im_file)\n",
    "\n",
    "        # add the checkboxes to the list\n",
    "        boxes.append(find_cboxes_img(im_file))\n",
    "    return boxes"
   ]
  },
  {
   "cell_type": "markdown",
   "metadata": {
    "collapsed": false
   },
   "source": [
    "Now we have the checkboxes. The function returns a list of arrays like [x, y, w, h, a].\n",
    "These values are the coordinates (x, y), the width and height of the boxes, and an area.\n",
    "This area is close to the area of the square when the box is not filled, and smaller when it is filled"
   ]
  },
  {
   "cell_type": "code",
   "execution_count": 12,
   "metadata": {
    "collapsed": false
   },
   "outputs": [
    {
     "data": {
      "text/plain": [
       "[array([[ 324,  914,   37,   37,  704],\n",
       "        [ 399,  915,   37,   37, 1325],\n",
       "        [ 475,  916,   36,   37, 1318],\n",
       "        [ 550,  918,   36,   36, 1296],\n",
       "        [ 625,  919,   37,   37, 1326],\n",
       "        [ 700,  920,   37,   37, 1324],\n",
       "        [ 775,  922,   37,   36, 1302],\n",
       "        [ 850,  923,   37,   37, 1307],\n",
       "        [ 926,  924,   37,   37, 1347],\n",
       "        [1001,  926,   37,   36, 1310],\n",
       "        [ 323,  970,   37,   37, 1317],\n",
       "        [ 398,  971,   37,   37, 1332],\n",
       "        [ 474,  973,   36,   36, 1296],\n",
       "        [ 549,  974,   36,   37,  688],\n",
       "        [ 624,  975,   37,   37, 1326],\n",
       "        [ 699,  977,   37,   36, 1311],\n",
       "        [ 775,  978,   36,   37, 1299],\n",
       "        [ 850,  979,   36,   37, 1298],\n",
       "        [ 925,  981,   37,   36, 1306],\n",
       "        [1000,  982,   37,   37, 1309],\n",
       "        [ 331, 1202,   37,   36, 1309],\n",
       "        [ 330, 1257,   37,   37, 1340],\n",
       "        [ 329, 1312,   37,   37, 1326],\n",
       "        [ 328, 1367,   37,   37,  745]], dtype=int32)]"
      ]
     },
     "execution_count": 12,
     "metadata": {},
     "output_type": "execute_result"
    }
   ],
   "source": [
    "cboxes = find_cboxes('pdf/scanned_11111.pdf', '11111')\n",
    "cboxes"
   ]
  },
  {
   "cell_type": "markdown",
   "metadata": {
    "collapsed": false
   },
   "source": [
    "### JSON format for scan\n",
    "\n",
    "Following the same pattern of statement and solution, we add data for the student id and which checkboxes are marked on each exercise\n",
    "\n",
    "\n",
    "\n",
    "-------------------------------------------------------------\n",
    "IMPORTANTE\n",
    "-------------------------------------------------------------\n",
    "\n",
    "AÑADIR IS_MARKED AL JSON EN CADA CASILLA"
   ]
  },
  {
   "cell_type": "code",
   "execution_count": 13,
   "metadata": {
    "collapsed": false
   },
   "outputs": [
    {
     "data": {
      "text/plain": [
       "{'exam': 'Multiple choice',\n",
       " 'student': 11111,\n",
       " 'num_boxes': 4,\n",
       " 'exercises': [{'exercise': 'basic-adittion',\n",
       "   'checkboxes': [{'checkbox': '0,0',\n",
       "     'cords': [89.867, 563.517, 12.715999999999994, 12.715999999999894]},\n",
       "    {'checkbox': '0,1',\n",
       "     'cords': [111.549, 563.517, 12.715999999999994, 12.715999999999894]}],\n",
       "   'scan_marked': ['0,1']},\n",
       "  {'exercise': 'derivativesin',\n",
       "   'checkboxes': [{'checkbox': '1,0',\n",
       "     'cords': [93.245, 480.635, 12.715999999999994, 12.716999999999985]},\n",
       "    {'checkbox': '1,1',\n",
       "     'cords': [93.245, 464.695, 12.715999999999994, 12.716000000000008]}],\n",
       "   'scan_marked': ['0,1']}]}"
      ]
     },
     "execution_count": 13,
     "metadata": {},
     "output_type": "execute_result"
    }
   ],
   "source": [
    "s_scan = {\"exam\": \"Multiple choice\",\n",
    "          \"student\": 11111,                                 # new key to store the student id\n",
    "          \"num_boxes\": 4,\n",
    "          \"exercises\": [\n",
    "              {\"exercise\": \"basic-adittion\",\n",
    "               \"checkboxes\": [\n",
    "                   {\n",
    "                       \"checkbox\": \"0,0\",\n",
    "                       \"cords\": [\n",
    "                           89.867,\n",
    "                           563.517,\n",
    "                           12.715999999999994,\n",
    "                           12.715999999999894\n",
    "                       ]\n",
    "                   },\n",
    "                   {\n",
    "                       \"checkbox\": \"0,1\",\n",
    "                       \"cords\": [\n",
    "                           111.549,\n",
    "                           563.517,\n",
    "                           12.715999999999994,\n",
    "                           12.715999999999894\n",
    "                       ]\n",
    "                   }],\n",
    "               \"scan_marked\": [\"0,1\"] },                    # new array to store the marked checkboxes in the scanned exam\n",
    "              {\"exercise\": \"derivativesin\",\n",
    "               \"checkboxes\": [\n",
    "                   {\n",
    "                       \"checkbox\": \"1,0\",\n",
    "                       \"cords\": [\n",
    "                           93.245,\n",
    "                           480.635,\n",
    "                           12.715999999999994,\n",
    "                           12.716999999999985\n",
    "                       ]\n",
    "                   },\n",
    "                   {\n",
    "                       \"checkbox\": \"1,1\",\n",
    "                       \"cords\": [\n",
    "                           93.245,\n",
    "                           464.695,\n",
    "                           12.715999999999994,\n",
    "                           12.716000000000008\n",
    "                       ]\n",
    "                   }],\n",
    "               \"scan_marked\": [\"0,1\"] },\n",
    "          ]}\n",
    "s_scan"
   ]
  },
  {
   "cell_type": "code",
   "execution_count": 14,
   "metadata": {
    "collapsed": false
   },
   "outputs": [
    {
     "name": "stdout",
     "output_type": "stream",
     "text": [
      "{'exercise': 'basic-adittion', 'checkboxes': [{'checkbox': '0,0', 'cords': [89.867, 563.517, 12.715999999999994, 12.715999999999894]}, {'checkbox': '0,1', 'cords': [111.549, 563.517, 12.715999999999994, 12.715999999999894]}], 'scan_marked': ['0,1']}\n",
      "{'exercise': 'derivativesin', 'checkboxes': [{'checkbox': '1,0', 'cords': [93.245, 480.635, 12.715999999999994, 12.716999999999985]}, {'checkbox': '1,1', 'cords': [93.245, 464.695, 12.715999999999994, 12.716000000000008]}], 'scan_marked': ['0,1']}\n"
     ]
    }
   ],
   "source": [
    "for i in range(s_scan['exercises'].__len__()):\n",
    "    print(s_scan['exercises'][i])"
   ]
  },
  {
   "cell_type": "markdown",
   "metadata": {
    "collapsed": false
   },
   "source": [
    "Now we need to make a function that receives the scanned pdf, the json file with the statement data, and the student id; and generates a json file with the structure mentioned.\n",
    "We already have a function that returns the array with information on the checkboxes, now we need to transform it to fit the structure. That includes transforming the extracted data into a binary decision, of whether the checkbox is marked or not, for each checkbox. For that we will use a function:"
   ]
  },
  {
   "cell_type": "code",
   "execution_count": 15,
   "metadata": {
    "collapsed": false
   },
   "outputs": [],
   "source": [
    "def is_marked(box):\n",
    "    x, y, w, h, a = box\n",
    "    # for now, checks if the area extracted is smaller than 80% of the rectangle's area\n",
    "    return a < (w * h) * 0.8"
   ]
  },
  {
   "cell_type": "markdown",
   "metadata": {
    "collapsed": false
   },
   "source": [
    "to test the function:"
   ]
  },
  {
   "cell_type": "code",
   "execution_count": 16,
   "metadata": {
    "collapsed": false
   },
   "outputs": [
    {
     "name": "stdout",
     "output_type": "stream",
     "text": [
      "The box:  [324 914  37  37 704]  is marked\n",
      "The box:  [549 974  36  37 688]  is marked\n",
      "The box:  [ 328 1367   37   37  745]  is marked\n"
     ]
    }
   ],
   "source": [
    "for box in cboxes[0]:\n",
    "    if is_marked(box):\n",
    "        print(\"The box: \", box, \" is marked\")"
   ]
  },
  {
   "cell_type": "markdown",
   "metadata": {
    "collapsed": false
   },
   "source": [
    "We also need to check whether the scanned exam matches the structure of the statement. That means it needs to have the same number of checkboxes, and they need to be positioned in a similar structure. For this we will use a function that compares the coordinates of the checkboxes on an exercise.\n",
    "The x and y coordinates differ in a matter of scale: the (w, h) of the boxes in the coordinates form pyPDF2 are around (13, 13), while in the coordinates from OpenCV they are around (37, 37). Also, the y coordinates are inverted in pyPDF2 when compared to in OpenCV, so it is better to compare distances than coordinates directly.\n",
    "So, we compare the distances from the first checkbox to the rest of the checkboxes, modifying them for scale."
   ]
  },
  {
   "cell_type": "code",
   "execution_count": 17,
   "metadata": {
    "collapsed": false
   },
   "outputs": [],
   "source": [
    "def is_same_exercise(st_checkboxes, scan_checkboxes):       # assumes st_checkboxes and scan_checkboxes of same length\n",
    "    st_init_x = st_checkboxes[0]['cords'][0]\n",
    "    st_init_y = st_checkboxes[0]['cords'][1]\n",
    "    st_init_w = st_checkboxes[0]['cords'][2]\n",
    "    scan_init_x = scan_checkboxes[0][0]\n",
    "    scan_init_y = scan_checkboxes[0][1]\n",
    "    scan_init_w = scan_checkboxes[0][2]\n",
    "    factor = scan_init_w / st_init_w                        # different scale between the coordinates\n",
    "    is_same = True\n",
    "    for i in range(1, st_checkboxes.__len__()):\n",
    "        st_x = st_checkboxes[i]['cords'][0]\n",
    "        st_y = st_checkboxes[i]['cords'][1]\n",
    "        st_dx_t = abs(st_x - st_init_x) * factor\n",
    "        st_dy_t = abs(st_y - st_init_y) * factor\n",
    "        scan_x = scan_checkboxes[i][0]\n",
    "        scan_y = scan_checkboxes[i][1]\n",
    "        scan_dx_t = abs(scan_x - scan_init_x)\n",
    "        scan_dy_t = abs(scan_y - scan_init_y)\n",
    "        # the difference in distance gets bigger as the distance grows, so increase the range proportionally to distance\n",
    "        # also, to avoid issues with alignment, increase by flat amount relative to box size\n",
    "        d_range = (scan_dx_t + scan_dy_t) * 0.2 + scan_init_w\n",
    "        if st_dx_t < scan_dx_t - d_range or st_dx_t > scan_dx_t + d_range or st_dy_t < scan_dy_t - d_range or st_dy_t > scan_dy_t + d_range:\n",
    "            is_same = False\n",
    "            # print('st_dx_t: ', st_dx_t, 'scan_dx_t: ', scan_dx_t, 'st_dy_t: ', st_dy_t, 'scan_dy_t: ', scan_dy_t)\n",
    "    return is_same"
   ]
  },
  {
   "cell_type": "markdown",
   "metadata": {
    "collapsed": false
   },
   "source": [
    "test for the is_same_exercise function:"
   ]
  },
  {
   "cell_type": "code",
   "execution_count": 18,
   "metadata": {
    "collapsed": false
   },
   "outputs": [],
   "source": [
    "# s_statement['exercises']\n",
    "test_scan_boxes = [[ 324,  914,   37,   37,  704],\n",
    "                   [ 399,  915,   37,   37, 1325],\n",
    "                   [ 331, 1202,   37,   36, 1309],\n",
    "                   [ 330, 1257,   37,   37, 1340]]\n",
    "count_b1 = 0\n",
    "count_b2 = 0\n",
    "for exercise in s_statement['exercises']:\n",
    "    count_b2 = count_b2 + exercise['checkboxes'].__len__()\n",
    "    if not is_same_exercise(exercise['checkboxes'], test_scan_boxes[count_b1:count_b2]):\n",
    "        print(\"Error, estructura de casillas no encaja\")\n",
    "    count_b1 = count_b2"
   ]
  },
  {
   "cell_type": "markdown",
   "metadata": {
    "collapsed": false
   },
   "source": [
    "analyse function: takes the scanned pdf, finds the checkboxes, checks that the exams fits the statement, and exports a json file with the info on the marked boxes"
   ]
  },
  {
   "cell_type": "code",
   "execution_count": 19,
   "metadata": {
    "collapsed": false
   },
   "outputs": [],
   "source": [
    "def analyse(scan_file, st_json, id_student):\n",
    "    # get the checkbox data\n",
    "    scan_boxes = find_cboxes(scan_file, id_student)\n",
    "    # open and read the statement JSON\n",
    "    with open(st_json) as json_file:\n",
    "        data = json.load(json_file)\n",
    "    # check if the same exam: check number of boxes\n",
    "    if data['num_boxes'] != scan_boxes[0].__len__():\n",
    "        print(data['num_boxes'], scan_boxes[0].__len__())\n",
    "        print(\"Error, numero de casillas distinto\")\n",
    "    else:\n",
    "        # modify st_json with the data from the checkboxes\n",
    "        data['student'] = id_student\n",
    "        # to group the boxes from the scanned pdf into exercises\n",
    "        count_boxes1 = 0\n",
    "        count_boxes2 = 0\n",
    "        # iterate through the exercises in the statement dict\n",
    "        for i, exercise in enumerate(data['exercises']):\n",
    "            count_boxes2 = count_boxes2 + exercise['checkboxes'].__len__()\n",
    "            # check if the same exam: check structure of boxes within exercises\n",
    "            if not is_same_exercise(exercise['checkboxes'], scan_boxes[0][count_boxes1:count_boxes2]):\n",
    "                print(\"Error, estructura de casillas no encaja\")\n",
    "            # check each box in the exercise for if they're marked\n",
    "            data['exercises'][i]['scan_marked'] = []\n",
    "            for j in range(count_boxes1, count_boxes2):\n",
    "                if is_marked(scan_boxes[0][j]):\n",
    "                    data['exercises'][i]['scan_marked'].append(str(i) + ',' + str(j-count_boxes1))\n",
    "            count_boxes1 = count_boxes2\n",
    "\n",
    "    # write the JSON file\n",
    "    jf_name = 'json/scan_' + id_student+ '.json'\n",
    "    os.makedirs(os.path.dirname(jf_name), exist_ok=True)\n",
    "    with open(jf_name, 'w') as outfile:\n",
    "        json.dump(data, outfile, indent=4)"
   ]
  },
  {
   "cell_type": "markdown",
   "metadata": {
    "collapsed": false
   },
   "source": [
    "example execution of analyse scan"
   ]
  },
  {
   "cell_type": "code",
   "execution_count": 20,
   "metadata": {
    "collapsed": false
   },
   "outputs": [],
   "source": [
    "analyse('pdf/scanned_11111.pdf', 'json/st_Test.json', '11111')"
   ]
  },
  {
   "cell_type": "markdown",
   "metadata": {
    "collapsed": false
   },
   "source": [
    "# Match\n",
    "for now, just compares the marked checkboxes on both solution and scanned jsons"
   ]
  },
  {
   "cell_type": "code",
   "execution_count": 21,
   "metadata": {
    "collapsed": false
   },
   "outputs": [],
   "source": [
    "def match(sol_json, scan_json):\n",
    "    # open solution json\n",
    "    with open(sol_json) as json_file:\n",
    "        data_sol = json.load(json_file)\n",
    "    # open scan json\n",
    "    with open(scan_json) as json_file:\n",
    "        data_scan = json.load(json_file)\n",
    "    # check if same exam\n",
    "    if data_scan['exam'] != data_sol['exam'] or data_scan['num_boxes'] != data_sol['num_boxes'] or data_scan['exercises'].__len__() != data_sol['exercises'].__len__():\n",
    "        print('Error, solution y scanned no coinciden')\n",
    "    count = 0\n",
    "    for i, exercise in enumerate(data_sol['exercises']):\n",
    "        if exercise['sol_marked'] == data_scan['exercises'][i]['scan_marked']:\n",
    "            count = count + 1\n",
    "\n",
    "    # print('Grade: ', 10*count/data_scan['exercises'].__len__())\n",
    "    return {'num_correct': count, 'total_exercises': data_scan['exercises'].__len__()}"
   ]
  },
  {
   "cell_type": "markdown",
   "metadata": {
    "collapsed": false
   },
   "source": [
    "example execution of match"
   ]
  },
  {
   "cell_type": "code",
   "execution_count": 22,
   "metadata": {
    "collapsed": false
   },
   "outputs": [
    {
     "data": {
      "text/plain": [
       "{'num_correct': 1, 'total_exercises': 2}"
      ]
     },
     "execution_count": 22,
     "metadata": {},
     "output_type": "execute_result"
    }
   ],
   "source": [
    "match('json/sol_11111.json', 'json/scan_11111.json')"
   ]
  },
  {
   "cell_type": "markdown",
   "metadata": {
    "collapsed": false
   },
   "source": [
    "# Global test"
   ]
  },
  {
   "cell_type": "markdown",
   "metadata": {
    "collapsed": false
   },
   "source": [
    "test with just one exam and student"
   ]
  },
  {
   "cell_type": "code",
   "execution_count": 23,
   "metadata": {
    "collapsed": false
   },
   "outputs": [
    {
     "data": {
      "text/plain": [
       "{'num_correct': 1, 'total_exercises': 2}"
      ]
     },
     "execution_count": 23,
     "metadata": {},
     "output_type": "execute_result"
    }
   ],
   "source": [
    "detect_st(\"pdf/statement_11111.pdf\", \"Test\")\n",
    "detect_sol(\"pdf/solution_11111.pdf\", \"json/st_Test.json\", '1')\n",
    "analyse(\"pdf/scanned_11111.pdf\", \"json/st_Test.json\", '2')\n",
    "match(\"json/sol_11111.json\", \"json/scan_11111.json\")"
   ]
  },
  {
   "cell_type": "markdown",
   "metadata": {
    "collapsed": false
   },
   "source": [
    "test with all exams, reading the student list from students.csv"
   ]
  },
  {
   "cell_type": "code",
   "execution_count": 24,
   "metadata": {
    "collapsed": false
   },
   "outputs": [
    {
     "name": "stdout",
     "output_type": "stream",
     "text": [
      "[{'student': '12345', 'grade': {'num_correct': 0, 'total_exercises': 2}}, {'student': '31416', 'grade': {'num_correct': 1, 'total_exercises': 2}}, {'student': '271828', 'grade': {'num_correct': 2, 'total_exercises': 2}}, {'student': '11111', 'grade': {'num_correct': 1, 'total_exercises': 2}}, {'student': '22222', 'grade': {'num_correct': 0, 'total_exercises': 2}}, {'student': '33333', 'grade': {'num_correct': 1, 'total_exercises': 2}}, {'student': '44444', 'grade': {'num_correct': 2, 'total_exercises': 2}}, {'student': '55555', 'grade': {'num_correct': 2, 'total_exercises': 2}}, {'student': '666666', 'grade': {'num_correct': 2, 'total_exercises': 2}}]\n"
     ]
    }
   ],
   "source": [
    "#set up the csv reader to get the id of each student\n",
    "st_reader = csv.reader(open(\"students.csv\"))\n",
    "header = next(st_reader)\n",
    "\n",
    "exam = \"TestGlobal\"\n",
    "st_file = \"pdf/st/question_\"\n",
    "sol_file = \"pdf/sol/solution_\"\n",
    "scan_file = \"pdf/scan/scanned_\"\n",
    "\n",
    "st_json = \"json/st_\" + exam + \".json\"\n",
    "sol_json = \"json/sol_\"\n",
    "scan_json = \"json/scan_\"\n",
    "\n",
    "student = next(st_reader)[2]\n",
    "detect_st(st_file + student + \".pdf\", exam)\n",
    "detect_sol(sol_file + student + \".pdf\", st_json, student)\n",
    "analyse(scan_file + student + \".pdf\", st_json, student)\n",
    "\n",
    "grades = [{'student': student, 'grade': {}}]\n",
    "grades[0]['grade'] = match(sol_json + student + \".json\", scan_json + student + \".json\")\n",
    "\n",
    "for row in st_reader:\n",
    "    student = row[2]\n",
    "    detect_sol(sol_file + student + \".pdf\", st_json, student)\n",
    "    analyse(scan_file + student + \".pdf\", st_json, student)\n",
    "    grades.append({\n",
    "        'student': student,\n",
    "        'grade': match(sol_json + student + \".json\", scan_json + student + \".json\")\n",
    "    })\n",
    "\n",
    "print(grades)"
   ]
  },
  {
   "cell_type": "code",
   "execution_count": 24,
   "metadata": {
    "collapsed": false
   },
   "outputs": [],
   "source": []
  }
 ],
 "metadata": {
  "kernelspec": {
   "display_name": "Python 3",
   "language": "python",
   "name": "python3"
  },
  "language_info": {
   "codemirror_mode": {
    "name": "ipython",
    "version": 2
   },
   "file_extension": ".py",
   "mimetype": "text/x-python",
   "name": "python",
   "nbconvert_exporter": "python",
   "pygments_lexer": "ipython2",
   "version": "2.7.6"
  }
 },
 "nbformat": 4,
 "nbformat_minor": 0
}
