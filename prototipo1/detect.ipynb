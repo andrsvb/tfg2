{
 "cells": [
  {
   "cell_type": "code",
   "execution_count": 1,
   "metadata": {},
   "outputs": [],
   "source": [
    "import PyPDF2 as pypdf\n",
    "import json"
   ]
  },
  {
   "cell_type": "code",
   "execution_count": 2,
   "metadata": {},
   "outputs": [],
   "source": [
    "file_question = '../pyexams examples/en/question/question_11111.pdf'\n",
    "file_solution = '../pyexams examples/en/solution/solution_11111.pdf'\n",
    "\n",
    "json_question = 'json/st_Prototipo.json'\n",
    "json_solution = 'json/sol_Prototipo.json'"
   ]
  },
  {
   "cell_type": "markdown",
   "metadata": {},
   "source": [
    "# Detect Statement\n",
    "\n",
    "First lets take a look at the data extracted with pyPDF2 from the statement:"
   ]
  },
  {
   "cell_type": "code",
   "execution_count": 3,
   "metadata": {},
   "outputs": [
    {
     "name": "stdout",
     "output_type": "stream",
     "text": [
      "{'1:case:basic-adittion:1,1': {'/T': '1:case:basic-adittion:1,1', '/FT': '/Btn', '/V': '/Off', '/Rect': [89.867, 563.517, 102.583, 576.233]}, '1:case:basic-adittion:1,2': {'/T': '1:case:basic-adittion:1,2', '/FT': '/Btn', '/V': '/Off', '/Rect': [111.549, 563.517, 124.265, 576.233]}, '1:case:basic-adittion:1,3': {'/T': '1:case:basic-adittion:1,3', '/FT': '/Btn', '/V': '/Off', '/Rect': [133.232, 563.517, 145.948, 576.233]}, '1:case:basic-adittion:1,4': {'/T': '1:case:basic-adittion:1,4', '/FT': '/Btn', '/V': '/Off', '/Rect': [154.914, 563.517, 167.631, 576.233]}, '1:case:basic-adittion:1,5': {'/T': '1:case:basic-adittion:1,5', '/FT': '/Btn', '/V': '/Off', '/Rect': [176.597, 563.517, 189.313, 576.233]}, '1:case:basic-adittion:1,6': {'/T': '1:case:basic-adittion:1,6', '/FT': '/Btn', '/V': '/Off', '/Rect': [198.28, 563.517, 210.996, 576.233]}, '1:case:basic-adittion:1,7': {'/T': '1:case:basic-adittion:1,7', '/FT': '/Btn', '/V': '/Off', '/Rect': [219.962, 563.517, 232.678, 576.233]}, '1:case:basic-adittion:1,8': {'/T': '1:case:basic-adittion:1,8', '/FT': '/Btn', '/V': '/Off', '/Rect': [241.645, 563.517, 254.361, 576.233]}, '1:case:basic-adittion:1,9': {'/T': '1:case:basic-adittion:1,9', '/FT': '/Btn', '/V': '/Off', '/Rect': [263.327, 563.517, 276.044, 576.233]}, '1:case:basic-adittion:1,10': {'/T': '1:case:basic-adittion:1,10', '/FT': '/Btn', '/V': '/Off', '/Rect': [285.01, 563.517, 297.726, 576.233]}, '1:case:basic-adittion:1,11': {'/T': '1:case:basic-adittion:1,11', '/FT': '/Btn', '/V': '/Off', '/Rect': [89.867, 547.272, 102.583, 559.988]}, '1:case:basic-adittion:1,12': {'/T': '1:case:basic-adittion:1,12', '/FT': '/Btn', '/V': '/Off', '/Rect': [111.549, 547.272, 124.265, 559.988]}, '1:case:basic-adittion:1,13': {'/T': '1:case:basic-adittion:1,13', '/FT': '/Btn', '/V': '/Off', '/Rect': [133.232, 547.272, 145.948, 559.988]}, '1:case:basic-adittion:1,14': {'/T': '1:case:basic-adittion:1,14', '/FT': '/Btn', '/V': '/Off', '/Rect': [154.914, 547.272, 167.631, 559.988]}, '1:case:basic-adittion:1,15': {'/T': '1:case:basic-adittion:1,15', '/FT': '/Btn', '/V': '/Off', '/Rect': [176.597, 547.272, 189.313, 559.988]}, '1:case:basic-adittion:1,16': {'/T': '1:case:basic-adittion:1,16', '/FT': '/Btn', '/V': '/Off', '/Rect': [198.28, 547.272, 210.996, 559.988]}, '1:case:basic-adittion:1,17': {'/T': '1:case:basic-adittion:1,17', '/FT': '/Btn', '/V': '/Off', '/Rect': [219.962, 547.272, 232.678, 559.988]}, '1:case:basic-adittion:1,18': {'/T': '1:case:basic-adittion:1,18', '/FT': '/Btn', '/V': '/Off', '/Rect': [241.645, 547.272, 254.361, 559.988]}, '1:case:basic-adittion:1,19': {'/T': '1:case:basic-adittion:1,19', '/FT': '/Btn', '/V': '/Off', '/Rect': [263.327, 547.272, 276.044, 559.988]}, '1:case:basic-adittion:1,20': {'/T': '1:case:basic-adittion:1,20', '/FT': '/Btn', '/V': '/Off', '/Rect': [285.01, 547.272, 297.726, 559.988]}, '1:case:derivativesin:2,4': {'/T': '1:case:derivativesin:2,4', '/FT': '/Btn', '/V': '/Off', '/Rect': [93.245, 480.635, 105.961, 493.352]}, '1:case:derivativesin:2,2': {'/T': '1:case:derivativesin:2,2', '/FT': '/Btn', '/V': '/Off', '/Rect': [93.245, 464.695, 105.961, 477.411]}, '1:case:derivativesin:2,3': {'/T': '1:case:derivativesin:2,3', '/FT': '/Btn', '/V': '/Off', '/Rect': [93.245, 448.755, 105.961, 461.471]}, '1:case:derivativesin:2,1': {'/T': '1:case:derivativesin:2,1', '/FT': '/Btn', '/V': '/Off', '/Rect': [93.245, 432.815, 105.961, 445.531]}}\n"
     ]
    }
   ],
   "source": [
    "var = pypdf.PdfFileReader(open(file_question, 'rb')).getFields()\n",
    "print(var)"
   ]
  },
  {
   "cell_type": "markdown",
   "metadata": {},
   "source": [
    "The extracted data is a dictionary, and the keys are a string which contains the exercise name and two numbers. Those two numbers seem to be the exercise number and box number, but when looking at the boxes in the second exercise they appear to be out of order.\n",
    "\n",
    "The value of each key is another dictionary, with the following keys:\n",
    "&emsp;'/T': contains the same string as the original key\n",
    "&emsp;'/FT': all have the value '/Btn\n",
    "&emsp;'/V': stores whether the box is marked. As this is the statement pdf, none of them are marked\n",
    "&emsp;'/Rect': has the coordinates of the box\n",
    "\n",
    "### JSON format for statement"
   ]
  },
  {
   "cell_type": "code",
   "execution_count": 4,
   "metadata": {},
   "outputs": [
    {
     "data": {
      "text/plain": [
       "{'exam': 'Multiple choice',\n",
       " 'num_boxes': 4,\n",
       " 'exercises': [{'exercise': 'basic-adittion',\n",
       "   'checkboxes': [{'checkbox': '0,0',\n",
       "     'cords': [89.867, 563.517, 12.715999999999994, 12.715999999999894]},\n",
       "    {'checkbox': '0,1',\n",
       "     'cords': [111.549, 563.517, 12.715999999999994, 12.715999999999894]}]},\n",
       "  {'exercise': 'derivativesin',\n",
       "   'checkboxes': [{'checkbox': '1,0',\n",
       "     'cords': [93.245, 480.635, 12.715999999999994, 12.716999999999985]},\n",
       "    {'checkbox': '1,1',\n",
       "     'cords': [93.245, 464.695, 12.715999999999994, 12.716000000000008]}]}]}"
      ]
     },
     "execution_count": 4,
     "metadata": {},
     "output_type": "execute_result"
    }
   ],
   "source": [
    "s_statement = {\"exam\": \"Multiple choice\",\n",
    "               \"num_boxes\": 4,\n",
    "               \"exercises\": [\n",
    "                   {\"exercise\": \"basic-adittion\",\n",
    "                    \"checkboxes\": [\n",
    "                        {\n",
    "                            \"checkbox\": \"0,0\",\n",
    "                            \"cords\": [\n",
    "                                89.867,\n",
    "                                563.517,\n",
    "                                12.715999999999994,\n",
    "                                12.715999999999894\n",
    "                            ]\n",
    "                        },\n",
    "                        {\n",
    "                            \"checkbox\": \"0,1\",\n",
    "                            \"cords\": [\n",
    "                                111.549,\n",
    "                                563.517,\n",
    "                                12.715999999999994,\n",
    "                                12.715999999999894\n",
    "                            ]\n",
    "                        }\n",
    "                    ]},\n",
    "                   {\"exercise\": \"derivativesin\",\n",
    "                    \"checkboxes\": [\n",
    "                        {\n",
    "                            \"checkbox\": \"1,0\",\n",
    "                            \"cords\": [\n",
    "                                93.245,\n",
    "                                480.635,\n",
    "                                12.715999999999994,\n",
    "                                12.716999999999985\n",
    "                            ]\n",
    "                        },\n",
    "                        {\n",
    "                            \"checkbox\": \"1,1\",\n",
    "                            \"cords\": [\n",
    "                                93.245,\n",
    "                                464.695,\n",
    "                                12.715999999999994,\n",
    "                                12.716000000000008\n",
    "                            ]\n",
    "                        }\n",
    "                    ]}\n",
    "               ]}\n",
    "s_statement"
   ]
  },
  {
   "cell_type": "markdown",
   "metadata": {},
   "source": [
    "Function that, given a pdf file with the statement and the exam id, detects the statement structure, exercises and checkboxes:"
   ]
  },
  {
   "cell_type": "code",
   "execution_count": 5,
   "metadata": {},
   "outputs": [],
   "source": [
    "from scan import detect_st"
   ]
  },
  {
   "cell_type": "markdown",
   "metadata": {},
   "source": [
    "test behaviour:"
   ]
  },
  {
   "cell_type": "code",
   "execution_count": 6,
   "metadata": {},
   "outputs": [
    {
     "data": {
      "text/plain": [
       "{'exam': 'Prototipo',\n",
       " 'num_boxes': 24,\n",
       " 'exercises': [{'exercise': 'basic-adittion',\n",
       "   'checkboxes': [{'checkbox': '0,1',\n",
       "     'cords': [89.867, 563.517, 12.716, 12.716]},\n",
       "    {'checkbox': '0,2', 'cords': [111.549, 563.517, 12.716, 12.716]},\n",
       "    {'checkbox': '0,3', 'cords': [133.232, 563.517, 12.716, 12.716]},\n",
       "    {'checkbox': '0,4', 'cords': [154.914, 563.517, 12.717, 12.716]},\n",
       "    {'checkbox': '0,5', 'cords': [176.597, 563.517, 12.716, 12.716]},\n",
       "    {'checkbox': '0,6', 'cords': [198.28, 563.517, 12.716, 12.716]},\n",
       "    {'checkbox': '0,7', 'cords': [219.962, 563.517, 12.716, 12.716]},\n",
       "    {'checkbox': '0,8', 'cords': [241.645, 563.517, 12.716, 12.716]},\n",
       "    {'checkbox': '0,9', 'cords': [263.327, 563.517, 12.717, 12.716]},\n",
       "    {'checkbox': '0,10', 'cords': [285.01, 563.517, 12.716, 12.716]},\n",
       "    {'checkbox': '0,11', 'cords': [89.867, 547.272, 12.716, 12.716]},\n",
       "    {'checkbox': '0,12', 'cords': [111.549, 547.272, 12.716, 12.716]},\n",
       "    {'checkbox': '0,13', 'cords': [133.232, 547.272, 12.716, 12.716]},\n",
       "    {'checkbox': '0,14', 'cords': [154.914, 547.272, 12.717, 12.716]},\n",
       "    {'checkbox': '0,15', 'cords': [176.597, 547.272, 12.716, 12.716]},\n",
       "    {'checkbox': '0,16', 'cords': [198.28, 547.272, 12.716, 12.716]},\n",
       "    {'checkbox': '0,17', 'cords': [219.962, 547.272, 12.716, 12.716]},\n",
       "    {'checkbox': '0,18', 'cords': [241.645, 547.272, 12.716, 12.716]},\n",
       "    {'checkbox': '0,19', 'cords': [263.327, 547.272, 12.717, 12.716]},\n",
       "    {'checkbox': '0,20', 'cords': [285.01, 547.272, 12.716, 12.716]}]},\n",
       "  {'exercise': 'derivativesin',\n",
       "   'checkboxes': [{'checkbox': '1,1',\n",
       "     'cords': [93.245, 480.635, 12.716, 12.717]},\n",
       "    {'checkbox': '1,2', 'cords': [93.245, 464.695, 12.716, 12.716]},\n",
       "    {'checkbox': '1,3', 'cords': [93.245, 448.755, 12.716, 12.716]},\n",
       "    {'checkbox': '1,4', 'cords': [93.245, 432.815, 12.716, 12.716]}]}]}"
      ]
     },
     "execution_count": 6,
     "metadata": {},
     "output_type": "execute_result"
    }
   ],
   "source": [
    "detect_st(file_question, \"Prototipo\")\n",
    "\n",
    "with open(json_question) as jf:\n",
    "    data = json.load(jf)\n",
    "data"
   ]
  },
  {
   "cell_type": "markdown",
   "metadata": {},
   "source": [
    "# Detect Solution\n",
    "\n",
    "First let's take a look at the data extracted with pyPDF2 from the solution:"
   ]
  },
  {
   "cell_type": "code",
   "execution_count": 7,
   "metadata": {},
   "outputs": [
    {
     "name": "stdout",
     "output_type": "stream",
     "text": [
      "{'1:case:basic-adittion:1,1': {'/T': '1:case:basic-adittion:1,1', '/FT': '/Btn', '/V': '/Off', '/Rect': [89.867, 581.13, 102.583, 593.846]}, '1:case:basic-adittion:1,2': {'/T': '1:case:basic-adittion:1,2', '/FT': '/Btn', '/V': '/Yes', '/Rect': [111.549, 581.13, 124.265, 593.846]}, '1:case:basic-adittion:1,3': {'/T': '1:case:basic-adittion:1,3', '/FT': '/Btn', '/V': '/Off', '/Rect': [133.232, 581.13, 145.948, 593.846]}, '1:case:basic-adittion:1,4': {'/T': '1:case:basic-adittion:1,4', '/FT': '/Btn', '/V': '/Off', '/Rect': [154.914, 581.13, 167.631, 593.846]}, '1:case:basic-adittion:1,5': {'/T': '1:case:basic-adittion:1,5', '/FT': '/Btn', '/V': '/Off', '/Rect': [176.597, 581.13, 189.313, 593.846]}, '1:case:basic-adittion:1,6': {'/T': '1:case:basic-adittion:1,6', '/FT': '/Btn', '/V': '/Off', '/Rect': [198.28, 581.13, 210.996, 593.846]}, '1:case:basic-adittion:1,7': {'/T': '1:case:basic-adittion:1,7', '/FT': '/Btn', '/V': '/Off', '/Rect': [219.962, 581.13, 232.678, 593.846]}, '1:case:basic-adittion:1,8': {'/T': '1:case:basic-adittion:1,8', '/FT': '/Btn', '/V': '/Off', '/Rect': [241.645, 581.13, 254.361, 593.846]}, '1:case:basic-adittion:1,9': {'/T': '1:case:basic-adittion:1,9', '/FT': '/Btn', '/V': '/Off', '/Rect': [263.327, 581.13, 276.044, 593.846]}, '1:case:basic-adittion:1,10': {'/T': '1:case:basic-adittion:1,10', '/FT': '/Btn', '/V': '/Off', '/Rect': [285.01, 581.13, 297.726, 593.846]}, '1:case:basic-adittion:1,11': {'/T': '1:case:basic-adittion:1,11', '/FT': '/Btn', '/V': '/Off', '/Rect': [89.867, 564.885, 102.583, 577.602]}, '1:case:basic-adittion:1,12': {'/T': '1:case:basic-adittion:1,12', '/FT': '/Btn', '/V': '/Off', '/Rect': [111.549, 564.885, 124.265, 577.602]}, '1:case:basic-adittion:1,13': {'/T': '1:case:basic-adittion:1,13', '/FT': '/Btn', '/V': '/Off', '/Rect': [133.232, 564.885, 145.948, 577.602]}, '1:case:basic-adittion:1,14': {'/T': '1:case:basic-adittion:1,14', '/FT': '/Btn', '/V': '/Yes', '/Rect': [154.914, 564.885, 167.631, 577.602]}, '1:case:basic-adittion:1,15': {'/T': '1:case:basic-adittion:1,15', '/FT': '/Btn', '/V': '/Off', '/Rect': [176.597, 564.885, 189.313, 577.602]}, '1:case:basic-adittion:1,16': {'/T': '1:case:basic-adittion:1,16', '/FT': '/Btn', '/V': '/Off', '/Rect': [198.28, 564.885, 210.996, 577.602]}, '1:case:basic-adittion:1,17': {'/T': '1:case:basic-adittion:1,17', '/FT': '/Btn', '/V': '/Off', '/Rect': [219.962, 564.885, 232.678, 577.602]}, '1:case:basic-adittion:1,18': {'/T': '1:case:basic-adittion:1,18', '/FT': '/Btn', '/V': '/Off', '/Rect': [241.645, 564.885, 254.361, 577.602]}, '1:case:basic-adittion:1,19': {'/T': '1:case:basic-adittion:1,19', '/FT': '/Btn', '/V': '/Off', '/Rect': [263.327, 564.885, 276.044, 577.602]}, '1:case:basic-adittion:1,20': {'/T': '1:case:basic-adittion:1,20', '/FT': '/Btn', '/V': '/Off', '/Rect': [285.01, 564.885, 297.726, 577.602]}, '1:case:derivativesin:2,4': {'/T': '1:case:derivativesin:2,4', '/FT': '/Btn', '/V': '/Off', '/Rect': [93.245, 498.248, 105.961, 510.965]}, '1:case:derivativesin:2,2': {'/T': '1:case:derivativesin:2,2', '/FT': '/Btn', '/V': '/Off', '/Rect': [93.245, 482.308, 105.961, 495.024]}, '1:case:derivativesin:2,3': {'/T': '1:case:derivativesin:2,3', '/FT': '/Btn', '/V': '/Off', '/Rect': [93.245, 466.368, 105.961, 479.084]}, '1:case:derivativesin:2,1': {'/T': '1:case:derivativesin:2,1', '/FT': '/Btn', '/V': '/Yes', '/Rect': [93.245, 450.428, 105.961, 463.144]}}\n"
     ]
    }
   ],
   "source": [
    "var = pypdf.PdfFileReader(open(file_solution, 'rb')).getFields()\n",
    "print(var)"
   ]
  },
  {
   "cell_type": "markdown",
   "metadata": {},
   "source": [
    "### JSON format for solution\n",
    "\n",
    "Following the same pattern of statement, we add data for the variant id and which checkboxes are marked on each exercise"
   ]
  },
  {
   "cell_type": "code",
   "execution_count": 8,
   "metadata": {},
   "outputs": [
    {
     "data": {
      "text/plain": [
       "{'exam': 'Multiple choice',\n",
       " 'variant': 11111,\n",
       " 'num_boxes': 4,\n",
       " 'exercises': [{'exercise': 'basic-adittion',\n",
       "   'checkboxes': [{'checkbox': '0,0',\n",
       "     'cords': [89.867, 563.517, 12.715999999999994, 12.715999999999894]},\n",
       "    {'checkbox': '0,1',\n",
       "     'cords': [111.549, 563.517, 12.715999999999994, 12.715999999999894]}],\n",
       "   'sol_marked': ['0,1']},\n",
       "  {'exercise': 'derivativesin',\n",
       "   'checkboxes': [{'checkbox': '1,0',\n",
       "     'cords': [93.245, 480.635, 12.715999999999994, 12.716999999999985]},\n",
       "    {'checkbox': '1,1',\n",
       "     'cords': [93.245, 464.695, 12.715999999999994, 12.716000000000008]}],\n",
       "   'sol_marked': ['0,0']}]}"
      ]
     },
     "execution_count": 8,
     "metadata": {},
     "output_type": "execute_result"
    }
   ],
   "source": [
    "s_solution = {\"exam\": \"Multiple choice\",\n",
    "              \"variant\": 11111,                             # new key to save the variant id\n",
    "               \"num_boxes\": 4,\n",
    "               \"exercises\": [\n",
    "                   {\"exercise\": \"basic-adittion\",\n",
    "                    \"checkboxes\": [\n",
    "                        {\n",
    "                            \"checkbox\": \"0,0\",\n",
    "                            \"cords\": [\n",
    "                                89.867,\n",
    "                                563.517,\n",
    "                                12.715999999999994,\n",
    "                                12.715999999999894\n",
    "                            ]\n",
    "                        },\n",
    "                        {\n",
    "                            \"checkbox\": \"0,1\",\n",
    "                            \"cords\": [\n",
    "                                111.549,\n",
    "                                563.517,\n",
    "                                12.715999999999994,\n",
    "                                12.715999999999894\n",
    "                            ]\n",
    "                        }],\n",
    "                    \"sol_marked\": [\"0,1\"] },                # new array to store the marked checkboxes in the solution\n",
    "                   {\"exercise\": \"derivativesin\",\n",
    "                    \"checkboxes\": [\n",
    "                        {\n",
    "                            \"checkbox\": \"1,0\",\n",
    "                            \"cords\": [\n",
    "                                93.245,\n",
    "                                480.635,\n",
    "                                12.715999999999994,\n",
    "                                12.716999999999985\n",
    "                            ]\n",
    "                        },\n",
    "                        {\n",
    "                            \"checkbox\": \"1,1\",\n",
    "                            \"cords\": [\n",
    "                                93.245,\n",
    "                                464.695,\n",
    "                                12.715999999999994,\n",
    "                                12.716000000000008\n",
    "                            ]\n",
    "                        }],\n",
    "                    \"sol_marked\": [\"0,0\"] },\n",
    "               ]}\n",
    "s_solution"
   ]
  },
  {
   "cell_type": "markdown",
   "metadata": {},
   "source": [
    "Function that, given a pdf file with the explanation and the exam id, detects the exam structure, exercises, checkboxes and the marked boxes in the solution:"
   ]
  },
  {
   "cell_type": "code",
   "execution_count": 9,
   "metadata": {},
   "outputs": [],
   "source": [
    "from scan import detect_sol"
   ]
  },
  {
   "cell_type": "code",
   "execution_count": 10,
   "metadata": {},
   "outputs": [
    {
     "data": {
      "text/plain": [
       "{'exam': 'Prototipo',\n",
       " 'num_boxes': 24,\n",
       " 'exercises': [{'exercise': 'basic-adittion',\n",
       "   'checkboxes': [{'checkbox': '0,1',\n",
       "     'cords': [89.867, 563.517, 12.716, 12.716]},\n",
       "    {'checkbox': '0,2', 'cords': [111.549, 563.517, 12.716, 12.716]},\n",
       "    {'checkbox': '0,3', 'cords': [133.232, 563.517, 12.716, 12.716]},\n",
       "    {'checkbox': '0,4', 'cords': [154.914, 563.517, 12.717, 12.716]},\n",
       "    {'checkbox': '0,5', 'cords': [176.597, 563.517, 12.716, 12.716]},\n",
       "    {'checkbox': '0,6', 'cords': [198.28, 563.517, 12.716, 12.716]},\n",
       "    {'checkbox': '0,7', 'cords': [219.962, 563.517, 12.716, 12.716]},\n",
       "    {'checkbox': '0,8', 'cords': [241.645, 563.517, 12.716, 12.716]},\n",
       "    {'checkbox': '0,9', 'cords': [263.327, 563.517, 12.717, 12.716]},\n",
       "    {'checkbox': '0,10', 'cords': [285.01, 563.517, 12.716, 12.716]},\n",
       "    {'checkbox': '0,11', 'cords': [89.867, 547.272, 12.716, 12.716]},\n",
       "    {'checkbox': '0,12', 'cords': [111.549, 547.272, 12.716, 12.716]},\n",
       "    {'checkbox': '0,13', 'cords': [133.232, 547.272, 12.716, 12.716]},\n",
       "    {'checkbox': '0,14', 'cords': [154.914, 547.272, 12.717, 12.716]},\n",
       "    {'checkbox': '0,15', 'cords': [176.597, 547.272, 12.716, 12.716]},\n",
       "    {'checkbox': '0,16', 'cords': [198.28, 547.272, 12.716, 12.716]},\n",
       "    {'checkbox': '0,17', 'cords': [219.962, 547.272, 12.716, 12.716]},\n",
       "    {'checkbox': '0,18', 'cords': [241.645, 547.272, 12.716, 12.716]},\n",
       "    {'checkbox': '0,19', 'cords': [263.327, 547.272, 12.717, 12.716]},\n",
       "    {'checkbox': '0,20', 'cords': [285.01, 547.272, 12.716, 12.716]}],\n",
       "   'sol_marked': ['0,1', '0,13']},\n",
       "  {'exercise': 'derivativesin',\n",
       "   'checkboxes': [{'checkbox': '1,1',\n",
       "     'cords': [93.245, 480.635, 12.716, 12.717]},\n",
       "    {'checkbox': '1,2', 'cords': [93.245, 464.695, 12.716, 12.716]},\n",
       "    {'checkbox': '1,3', 'cords': [93.245, 448.755, 12.716, 12.716]},\n",
       "    {'checkbox': '1,4', 'cords': [93.245, 432.815, 12.716, 12.716]}],\n",
       "   'sol_marked': ['1,3']}],\n",
       " 'variant': '11111'}"
      ]
     },
     "execution_count": 10,
     "metadata": {},
     "output_type": "execute_result"
    }
   ],
   "source": [
    "detect_sol(file_solution, json_question, '11111')\n",
    "\n",
    "with open(json_solution) as jf:\n",
    "    data = json.load(jf)\n",
    "data"
   ]
  }
 ],
 "metadata": {
  "kernelspec": {
   "display_name": "Python 3",
   "language": "python",
   "name": "python3"
  },
  "language_info": {
   "codemirror_mode": {
    "name": "ipython",
    "version": 3
   },
   "file_extension": ".py",
   "mimetype": "text/x-python",
   "name": "python",
   "nbconvert_exporter": "python",
   "pygments_lexer": "ipython3",
   "version": "3.10.12"
  }
 },
 "nbformat": 4,
 "nbformat_minor": 2
}
